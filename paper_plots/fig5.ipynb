{
 "cells": [
  {
   "cell_type": "code",
   "execution_count": 1,
   "metadata": {},
   "outputs": [],
   "source": [
    "import sys\n",
    "sys.path.append('../')"
   ]
  },
  {
   "cell_type": "code",
   "execution_count": 171,
   "metadata": {},
   "outputs": [],
   "source": [
    "import numpy as np\n",
    "import rebound\n",
    "import matplotlib.pyplot as plt\n",
    "import matplotlib\n",
    "import random\n",
    "import dill\n",
    "import sys\n",
    "import pandas as pd\n",
    "import spock\n",
    "from spock import StabilityRegression\n",
    "\n",
    "try:\n",
    "    plt.style.use('paper')\n",
    "except:\n",
    "    pass\n",
    "\n",
    "spockoutfile = 'alysa-datafiles/spockprobstesttrio.npz'\n",
    "\n",
    "stride = 1\n",
    "nsim_list = np.arange(0, 17500)"
   ]
  },
  {
   "cell_type": "code",
   "execution_count": 172,
   "metadata": {},
   "outputs": [],
   "source": [
    "all_parts = []\n",
    "\n",
    "for i in range(40): \n",
    "    start = i * 437\n",
    "    end = (i+1)*437\n",
    "    \n",
    "    spockoutfile = 'alysa-datafiles/spockprobstesttrio{}_to_{}_v3.npz'.format(start, end)\n",
    "    \n",
    "    part = [\n",
    "        np.load(spockoutfile)['nsim_list'],\n",
    "        10**np.average(np.log10(np.load(spockoutfile)['probs']), 1),\n",
    "        10**np.percentile(np.log10(np.load(spockoutfile)['probs']), (100-68)/2, 1),\n",
    "        10**np.percentile(np.log10(np.load(spockoutfile)['probs']), 100-(100-68)/2, 1)\n",
    "    ]\n",
    "    all_parts.append(np.array(part))\n",
    "    \n",
    "all_parts = np.concatenate(all_parts, 1)"
   ]
  },
  {
   "cell_type": "code",
   "execution_count": 173,
   "metadata": {},
   "outputs": [
    {
     "data": {
      "text/plain": [
       "(4, 1760)"
      ]
     },
     "execution_count": 173,
     "metadata": {},
     "output_type": "execute_result"
    }
   ],
   "source": [
    "all_parts.shape"
   ]
  },
  {
   "cell_type": "code",
   "execution_count": 174,
   "metadata": {},
   "outputs": [],
   "source": [
    "used_axes = np.argwhere(np.sum(all_parts[0].astype(np.int)[:, None] - nsim_list[None] == 0, axis=0))[:, 0]"
   ]
  },
  {
   "cell_type": "code",
   "execution_count": 175,
   "metadata": {},
   "outputs": [
    {
     "data": {
      "text/plain": [
       "array([    0,    10,    20, ..., 17453, 17463, 17473])"
      ]
     },
     "execution_count": 175,
     "metadata": {},
     "output_type": "execute_result"
    }
   ],
   "source": [
    "used_axes"
   ]
  },
  {
   "cell_type": "code",
   "execution_count": 176,
   "metadata": {},
   "outputs": [],
   "source": [
    "nsim_list = nsim_list[used_axes]"
   ]
  },
  {
   "cell_type": "code",
   "execution_count": 177,
   "metadata": {},
   "outputs": [],
   "source": [
    "#######################################################################\n",
    "## read initial condition file\n",
    "\n",
    "infile_delta_2_to_10 = 'alysa-datafiles/initial_conditions_delta_2_to_10.npz'\n",
    "infile_delta_10_to_13 = 'alysa-datafiles/initial_conditions_delta_10_to_13.npz'\n",
    "\n",
    "ic1 = np.load(infile_delta_2_to_10)\n",
    "ic2 = np.load(infile_delta_10_to_13)\n",
    "\n",
    "m_star = ic1['m_star'] # mass of star\n",
    "m_planet = ic1['m_planet'] # mass of planets\n",
    "rh = (m_planet/3.) ** (1./3.)\n",
    "\n",
    "Nbody = ic1['Nbody'] # number of planets\n",
    "year = 2.*np.pi # One year in units where G=1\n",
    "tf = ic1['tf'] # end time in years\n",
    "\n",
    "a_init = np.concatenate([ic1['a'], ic2['a']], axis=1) # array containing initial semimajor axis for each delta,planet\n",
    "f_init = np.concatenate([ic1['f'], ic2['f']], axis=1) # array containing intial longitudinal position for each delta, planet, run\n",
    "\n",
    "#######################################################################\n",
    "## create rebound simulation and predict stability for each system in nsim_list"
   ]
  },
  {
   "cell_type": "code",
   "execution_count": 178,
   "metadata": {},
   "outputs": [
    {
     "data": {
      "text/html": [
       "<div>\n",
       "<style scoped>\n",
       "    .dataframe tbody tr th:only-of-type {\n",
       "        vertical-align: middle;\n",
       "    }\n",
       "\n",
       "    .dataframe tbody tr th {\n",
       "        vertical-align: top;\n",
       "    }\n",
       "\n",
       "    .dataframe thead th {\n",
       "        text-align: right;\n",
       "    }\n",
       "</style>\n",
       "<table border=\"1\" class=\"dataframe\">\n",
       "  <thead>\n",
       "    <tr style=\"text-align: right;\">\n",
       "      <th></th>\n",
       "      <th>nsim</th>\n",
       "      <th>delta</th>\n",
       "      <th>t_exit</th>\n",
       "    </tr>\n",
       "  </thead>\n",
       "  <tbody>\n",
       "    <tr>\n",
       "      <th>0</th>\n",
       "      <td>0.0</td>\n",
       "      <td>2.000573</td>\n",
       "      <td>1.522785</td>\n",
       "    </tr>\n",
       "    <tr>\n",
       "      <th>1</th>\n",
       "      <td>10.0</td>\n",
       "      <td>2.007646</td>\n",
       "      <td>8.882910</td>\n",
       "    </tr>\n",
       "    <tr>\n",
       "      <th>2</th>\n",
       "      <td>20.0</td>\n",
       "      <td>2.015118</td>\n",
       "      <td>9.035188</td>\n",
       "    </tr>\n",
       "    <tr>\n",
       "      <th>3</th>\n",
       "      <td>30.0</td>\n",
       "      <td>2.018451</td>\n",
       "      <td>3.553164</td>\n",
       "    </tr>\n",
       "    <tr>\n",
       "      <th>4</th>\n",
       "      <td>40.0</td>\n",
       "      <td>2.024270</td>\n",
       "      <td>9.695062</td>\n",
       "    </tr>\n",
       "  </tbody>\n",
       "</table>\n",
       "</div>"
      ],
      "text/plain": [
       "   nsim     delta    t_exit\n",
       "0   0.0  2.000573  1.522785\n",
       "1  10.0  2.007646  8.882910\n",
       "2  20.0  2.015118  9.035188\n",
       "3  30.0  2.018451  3.553164\n",
       "4  40.0  2.024270  9.695062"
      ]
     },
     "execution_count": 178,
     "metadata": {},
     "output_type": "execute_result"
    }
   ],
   "source": [
    "infile_delta_2_to_10 = 'alysa-datafiles/initial_conditions_delta_2_to_10.npz'\n",
    "infile_delta_10_to_13 = 'alysa-datafiles/initial_conditions_delta_10_to_13.npz'\n",
    "\n",
    "outfile_nbody_delta_2_to_10 = 'alysa-datafiles/merged_output_files_delta_2_to_10.npz'\n",
    "outfile_nbody_delta_10_to_13 = 'alysa-datafiles/merged_output_files_delta_10_to_13.npz'\n",
    "\n",
    "## load hill spacing\n",
    "\n",
    "ic_delta_2_to_10 = np.load(infile_delta_2_to_10)\n",
    "ic_delta_10_to_13 = np.load(infile_delta_10_to_13)\n",
    "\n",
    "delta_2_to_10 = ic_delta_2_to_10['delta']\n",
    "delta_10_to_13 = ic_delta_10_to_13['delta']\n",
    "\n",
    "delta = np.hstack((delta_2_to_10, delta_10_to_13))\n",
    "delta=delta[used_axes]\n",
    "\n",
    "## load rebound simulation first close encounter times\n",
    "\n",
    "nbody_delta_2_to_10 = np.load(outfile_nbody_delta_2_to_10)\n",
    "nbody_delta_10_to_13 = np.load(outfile_nbody_delta_10_to_13)\n",
    "\n",
    "t_exit_delta_2_to_10 = nbody_delta_2_to_10['t_exit']/(0.99)**(3./2)\n",
    "t_exit_delta_10_to_13 = nbody_delta_10_to_13['t_exit']/(0.99)**(3./2)\n",
    "\n",
    "t_exit = np.hstack((t_exit_delta_2_to_10, t_exit_delta_10_to_13))\n",
    "t_exit = t_exit[used_axes]\n",
    "\n",
    "df = pd.DataFrame(np.array([nsim_list, delta, t_exit]).T, columns=['nsim', 'delta', 't_exit'])\n",
    "df.head()"
   ]
  },
  {
   "cell_type": "code",
   "execution_count": 179,
   "metadata": {},
   "outputs": [],
   "source": [
    "\n",
    "model = StabilityRegression()\n",
    "\n",
    "\n",
    "def pred(nsim):\n",
    "    sim = rebound.Simulation()\n",
    "    sim.add(m=m_star)\n",
    "    sim.G = 4*np.pi**2\n",
    "    for i in range(Nbody): # add the planets\n",
    "        sim.add(m=m_planet, a=a_init[i, nsim], f=f_init[i, nsim])\n",
    "        print(a_init[i, nsim])\n",
    "    sim.move_to_com()\n",
    "    sim.init_megno(seed=0)\n",
    "    sim.integrator=\"whfast\"\n",
    "    sim.dt = 0.07*sim.particles[1].P\n",
    "    prob = 10**np.average(np.log10(model.predict(sim, samples=10000)))\n",
    "    print('Done', flush=True)\n",
    "    return prob"
   ]
  },
  {
   "cell_type": "code",
   "execution_count": 180,
   "metadata": {},
   "outputs": [],
   "source": [
    "# from multiprocessing import Pool\n",
    "# pool = Pool(processes=5)"
   ]
  },
  {
   "cell_type": "code",
   "execution_count": 181,
   "metadata": {},
   "outputs": [],
   "source": [
    "# nsim_list"
   ]
  },
  {
   "cell_type": "code",
   "execution_count": 182,
   "metadata": {},
   "outputs": [],
   "source": [
    "# for q in map(pred, nsim_list[:5]):\n",
    "#     print(q)"
   ]
  },
  {
   "cell_type": "code",
   "execution_count": 183,
   "metadata": {},
   "outputs": [
    {
     "data": {
      "text/plain": [
       "4"
      ]
     },
     "execution_count": 183,
     "metadata": {},
     "output_type": "execute_result"
    }
   ],
   "source": [
    "len(nsim_list)//10//40"
   ]
  },
  {
   "cell_type": "code",
   "execution_count": 184,
   "metadata": {},
   "outputs": [],
   "source": [
    "# %%time\n",
    "# res = pool.map(pred, nsim_list[:5])"
   ]
  },
  {
   "cell_type": "code",
   "execution_count": 185,
   "metadata": {},
   "outputs": [
    {
     "data": {
      "text/plain": [
       "'alysa-datafiles/spockprobstesttrio17043_to_17480_v3.npz'"
      ]
     },
     "execution_count": 185,
     "metadata": {},
     "output_type": "execute_result"
    }
   ],
   "source": [
    "spockoutfile"
   ]
  },
  {
   "cell_type": "code",
   "execution_count": 186,
   "metadata": {},
   "outputs": [],
   "source": [
    "# np.savez(spockoutfile, nsim_list=nsim_list, probs=np.array(res))"
   ]
  },
  {
   "cell_type": "code",
   "execution_count": 187,
   "metadata": {},
   "outputs": [
    {
     "data": {
      "text/plain": [
       "(1760,)"
      ]
     },
     "execution_count": 187,
     "metadata": {},
     "output_type": "execute_result"
    }
   ],
   "source": [
    "infile_delta_2_to_10 = 'alysa-datafiles/initial_conditions_delta_2_to_10.npz'\n",
    "infile_delta_10_to_13 = 'alysa-datafiles/initial_conditions_delta_10_to_13.npz'\n",
    "\n",
    "outfile_nbody_delta_2_to_10 = 'alysa-datafiles/merged_output_files_delta_2_to_10.npz'\n",
    "outfile_nbody_delta_10_to_13 = 'alysa-datafiles/merged_output_files_delta_10_to_13.npz'\n",
    "\n",
    "spockoutfile_ml_probs = 'alysa-datafiles/stability-probs-sims-spockalltrios.npz'\n",
    "\n",
    "## load hill spacing\n",
    "\n",
    "ic_delta_2_to_10 = np.load(infile_delta_2_to_10)\n",
    "ic_delta_10_to_13 = np.load(infile_delta_10_to_13)\n",
    "\n",
    "delta_2_to_10 = ic_delta_2_to_10['delta']\n",
    "delta_10_to_13 = ic_delta_10_to_13['delta']\n",
    "\n",
    "delta = np.hstack((delta_2_to_10, delta_10_to_13))\n",
    "delta=delta[used_axes]\n",
    "\n",
    "## load rebound simulation first close encounter times\n",
    "\n",
    "nbody_delta_2_to_10 = np.load(outfile_nbody_delta_2_to_10)\n",
    "nbody_delta_10_to_13 = np.load(outfile_nbody_delta_10_to_13)\n",
    "\n",
    "t_exit_delta_2_to_10 = nbody_delta_2_to_10['t_exit']/(0.99)**(3./2)\n",
    "t_exit_delta_10_to_13 = nbody_delta_10_to_13['t_exit']/(0.99)**(3./2)\n",
    "\n",
    "t_exit = np.hstack((t_exit_delta_2_to_10, t_exit_delta_10_to_13))\n",
    "t_exit = t_exit[used_axes]\n",
    "\n",
    "log_t_exit = np.log10(t_exit)\n",
    "\n",
    "spockprobs = np.log10(all_parts[1])#spockml_data['probs']\n",
    "\n",
    "delta.shape"
   ]
  },
  {
   "cell_type": "code",
   "execution_count": 188,
   "metadata": {},
   "outputs": [
    {
     "data": {
      "text/plain": [
       "array([4.        , 4.        , 4.        , ..., 9.27570492, 9.26118771,\n",
       "       9.30405364])"
      ]
     },
     "execution_count": 188,
     "metadata": {},
     "output_type": "execute_result"
    }
   ],
   "source": [
    "spockprobs"
   ]
  },
  {
   "cell_type": "markdown",
   "metadata": {},
   "source": [
    "#  TPR"
   ]
  },
  {
   "cell_type": "code",
   "execution_count": 189,
   "metadata": {},
   "outputs": [],
   "source": [
    "# surv"
   ]
  },
  {
   "cell_type": "code",
   "execution_count": 190,
   "metadata": {},
   "outputs": [],
   "source": [
    "# thresh = 0.79\n",
    "# (spockprobs[survival_true] > thresh).sum()/survival_true.sum()"
   ]
  },
  {
   "cell_type": "markdown",
   "metadata": {},
   "source": [
    "# FPR"
   ]
  },
  {
   "cell_type": "code",
   "execution_count": 191,
   "metadata": {},
   "outputs": [],
   "source": [
    "# (spockprobs[survival_false] > thresh).sum()/survival_false.sum()"
   ]
  },
  {
   "cell_type": "code",
   "execution_count": 192,
   "metadata": {},
   "outputs": [],
   "source": [
    "# survival_false.sum()"
   ]
  },
  {
   "cell_type": "code",
   "execution_count": 193,
   "metadata": {},
   "outputs": [
    {
     "data": {
      "text/plain": [
       "array([0.18263847, 0.35872973, 1.14799698, ..., 9.27570492, 9.26118771,\n",
       "       9.30405364])"
      ]
     },
     "execution_count": 193,
     "metadata": {},
     "output_type": "execute_result"
    }
   ],
   "source": [
    "tmp"
   ]
  },
  {
   "cell_type": "code",
   "execution_count": null,
   "metadata": {},
   "outputs": [],
   "source": []
  },
  {
   "cell_type": "code",
   "execution_count": 194,
   "metadata": {},
   "outputs": [
    {
     "data": {
      "text/plain": [
       "array([[-0.        , -0.        , -0.        , ..., -1.15503201,\n",
       "        -1.16116937, -1.14364589],\n",
       "       [ 0.        ,  0.        ,  0.        , ..., -1.14677296,\n",
       "        -1.18193615, -1.14771694]])"
      ]
     },
     "execution_count": 194,
     "metadata": {},
     "output_type": "execute_result"
    }
   ],
   "source": [
    "errs"
   ]
  },
  {
   "cell_type": "code",
   "execution_count": 195,
   "metadata": {},
   "outputs": [
    {
     "data": {
      "text/plain": [
       "array([[0.18263847, 0.35872973, 1.14799698, ..., 9.27570492, 9.26118771,\n",
       "        9.30405364]])"
      ]
     },
     "execution_count": 195,
     "metadata": {},
     "output_type": "execute_result"
    }
   ],
   "source": [
    "tmp[None]"
   ]
  },
  {
   "cell_type": "code",
   "execution_count": 216,
   "metadata": {},
   "outputs": [
    {
     "data": {
      "image/png": "[encoded data removed]",
      "text/plain": [
       "<Figure size 1152x288 with 1 Axes>"
      ]
     },
     "metadata": {
      "needs_background": "light"
     },
     "output_type": "display_data"
    }
   ],
   "source": [
    "# from matplotlib.lines import Line2D\n",
    "\n",
    "fig, axarr = plt.subplots(1, 1, figsize=(16,4), sharex=True)\n",
    "# plt.subplots_adjust(hspace=0, wspace=0)\n",
    "\n",
    "ms=5*2\n",
    "\n",
    "stride = 4\n",
    "# axarr[0].plot([np.min(delta), np.max(delta)], [9,9], '--k')\n",
    "# axarr[0].plot(delta[survival_true][::stride],log_t_exit[survival_true][::stride],'ob', alpha=0.2, markersize=ms,rasterized=True,label='Stable', zorder=0)\n",
    "# axarr[0].plot(delta[survival_false][::stride],log_t_exit[survival_false][::stride],'or', alpha=0.2, markersize=ms,rasterized=True,label='Unstable', zorder=0)\n",
    "\n",
    "# axarr[1].plot(delta[survival_true][::stride], spockprobs[survival_true][::stride],'ob', alpha=0.2, markersize=ms*2,rasterized=True, zorder=0)\n",
    "# axarr[1].plot(delta[survival_false][::stride], spockprobs[survival_false][::stride],'or', alpha=0.2, markersize=ms, rasterized=True, zorder=0)\n",
    "\n",
    "plt.scatter(delta, log_t_exit, color='b', alpha=0.2, s=ms,rasterized=True,zorder=0, label='True')\n",
    "tmp = spockprobs - spockprobs * (spockprobs <= 4) + log_t_exit * (spockprobs <= 4)\n",
    "errs = -(np.log10(all_parts[2:]) - tmp[None])\n",
    "errs[:, spockprobs<=4] = 0.0\n",
    "errs[0] *= -1\n",
    "\n",
    "error_bars = True\n",
    "\n",
    "if error_bars:\n",
    "    tmp2 = np.log10(all_parts[2:])\n",
    "    tmp2[:, spockprobs<=4] = log_t_exit[spockprobs<=4]\n",
    "    plt.fill_between(delta, tmp2[0], tmp2[1], color='r', alpha=0.2, label='SPOCK-Bayes Predicted')\n",
    "#     plt.scatter(delta, tmp, color='r', alpha=0.2, s=ms, zorder=0, label='SPOCK-Bayes Predicted')\n",
    "#     plt.errorbar(delta[::5], tmp[::5], yerr=errs[:, ::5], fmt='or', alpha=0.2, ms=3, zorder=0, label='SPOCK-Bayes Predicted')\n",
    "else:\n",
    "    plt.scatter(delta, tmp, color='r', alpha=0.2, s=ms, zorder=0, label='SPOCK-Bayes Predicted')\n",
    "\n",
    "    \n",
    "plt.xlabel(\"Interplanetary Separation (Hill radii)\", fontsize=18)\n",
    "plt.xlim([1.9, 13.1])\n",
    "\n",
    "plt.ylabel(\"Instability Time\", fontsize=18)\n",
    "\n",
    "\n",
    "plt.plot([np.min(delta)-0.2, np.max(delta)+0.2], [4,4], '--k')\n",
    "plt.text(10, 4-1, 'Numerical Integrator Used', fontsize=14)\n",
    "\n",
    "\n",
    "plt.plot([np.min(delta)-0.2, np.max(delta)+0.2], [9,9], '--k')\n",
    "plt.text(6, 9+0.5, 'No Training Data', fontsize=14)\n",
    "\n",
    "# axarr[0].legend(loc=2, markerscale=3)\n",
    "\n",
    "# legend_elements = [Line2D([0], [0], marker='o', lw=0, c='b', markerfacecolor='b', label='Stable', markersize=10),\n",
    "#                    Line2D([0], [0], marker='o', lw=0, c='r', markerfacecolor='r', label='Unstable', markersize=10)]\n",
    "plt.legend(loc='upper left', fontsize=16)\n",
    "\n",
    "plt.xlim(delta.min()-0.2, delta.max()+0.2)\n",
    "\n",
    "if error_bars:\n",
    "#     plt.savefig('cranmer_min_err.pdf',bbox_inches='tight')\n",
    "    ...\n",
    "else:\n",
    "    plt.savefig('cranmer_min.pdf',bbox_inches='tight')\n",
    "\n"
   ]
  },
  {
   "cell_type": "code",
   "execution_count": null,
   "metadata": {},
   "outputs": [],
   "source": []
  },
  {
   "cell_type": "code",
   "execution_count": null,
   "metadata": {},
   "outputs": [],
   "source": []
  },
  {
   "cell_type": "code",
   "execution_count": null,
   "metadata": {},
   "outputs": [],
   "source": []
  },
  {
   "cell_type": "code",
   "execution_count": null,
   "metadata": {},
   "outputs": [],
   "source": []
  },
  {
   "cell_type": "code",
   "execution_count": null,
   "metadata": {},
   "outputs": [],
   "source": []
  }
 ],
 "metadata": {
  "kernelspec": {
   "display_name": "Python 3",
   "language": "python",
   "name": "python3"
  },
  "language_info": {
   "codemirror_mode": {
    "name": "ipython",
    "version": 3
   },
   "file_extension": ".py",
   "mimetype": "text/x-python",
   "name": "python",
   "nbconvert_exporter": "python",
   "pygments_lexer": "ipython3",
   "version": "3.7.6"
  }
 },
 "nbformat": 4,
 "nbformat_minor": 4
}

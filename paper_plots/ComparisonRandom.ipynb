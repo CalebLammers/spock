{
 "cells": [
  {
   "cell_type": "code",
   "execution_count": 1,
   "metadata": {},
   "outputs": [],
   "source": [
    "import numpy as np\n",
    "import matplotlib.pyplot as plt\n",
    "import matplotlib\n",
    "import random\n",
    "import dill\n",
    "import sys\n",
    "sys.path.append('../spock/')\n",
    "from modelfitting import ROC_curve\n",
    "try:\n",
    "    plt.style.use('paper')\n",
    "except:\n",
    "    pass\n",
    "import pandas as pd\n",
    "import matplotlib.gridspec as gridspec\n",
    "from matplotlib.lines import Line2D\n",
    "from sklearn.metrics import roc_curve, auc \n",
    "from sklearn import metrics\n",
    "from xgboost import XGBClassifier\n",
    "sys.path.append('../../PlanetSysSurvivalTime/modules/')\n",
    "import survivaltime as st\n",
    "\n",
    "%matplotlib inline"
   ]
  },
  {
   "cell_type": "code",
   "execution_count": 2,
   "metadata": {},
   "outputs": [
    {
     "data": {
      "text/html": [
       "<div>\n",
       "<style scoped>\n",
       "    .dataframe tbody tr th:only-of-type {\n",
       "        vertical-align: middle;\n",
       "    }\n",
       "\n",
       "    .dataframe tbody tr th {\n",
       "        vertical-align: top;\n",
       "    }\n",
       "\n",
       "    .dataframe thead th {\n",
       "        text-align: right;\n",
       "    }\n",
       "</style>\n",
       "<table border=\"1\" class=\"dataframe\">\n",
       "  <thead>\n",
       "    <tr style=\"text-align: right;\">\n",
       "      <th></th>\n",
       "      <th>EMfracstdnear</th>\n",
       "      <th>EPstdnear</th>\n",
       "      <th>AMDfracnear</th>\n",
       "      <th>MMRstrengthnear</th>\n",
       "      <th>betanear</th>\n",
       "      <th>AMDcritnear</th>\n",
       "      <th>EMcrossnear</th>\n",
       "      <th>jnear</th>\n",
       "      <th>knear</th>\n",
       "      <th>EMfracstdfar</th>\n",
       "      <th>...</th>\n",
       "      <th>Z07Stable_avg</th>\n",
       "      <th>Z07Stable_worstpair</th>\n",
       "      <th>deltaQ11inner</th>\n",
       "      <th>deltaQ11outer</th>\n",
       "      <th>deltaQ11avg</th>\n",
       "      <th>Q11log_instability_time_inner</th>\n",
       "      <th>Q11log_instability_time_outer</th>\n",
       "      <th>Q11log_instability_time_avg</th>\n",
       "      <th>Q11Stable_avg</th>\n",
       "      <th>Q11Stable_worstpair</th>\n",
       "    </tr>\n",
       "  </thead>\n",
       "  <tbody>\n",
       "    <tr>\n",
       "      <th>0</th>\n",
       "      <td>0.017511</td>\n",
       "      <td>0.002935</td>\n",
       "      <td>0.178882</td>\n",
       "      <td>0.104761</td>\n",
       "      <td>5.899524</td>\n",
       "      <td>1.528816e-06</td>\n",
       "      <td>0.221502</td>\n",
       "      <td>4.0</td>\n",
       "      <td>1.0</td>\n",
       "      <td>0.085965</td>\n",
       "      <td>...</td>\n",
       "      <td>False</td>\n",
       "      <td>False</td>\n",
       "      <td>0.181336</td>\n",
       "      <td>0.231297</td>\n",
       "      <td>0.206317</td>\n",
       "      <td>6.199812</td>\n",
       "      <td>8.474201</td>\n",
       "      <td>7.234686</td>\n",
       "      <td>False</td>\n",
       "      <td>False</td>\n",
       "    </tr>\n",
       "    <tr>\n",
       "      <th>1</th>\n",
       "      <td>0.072425</td>\n",
       "      <td>0.011408</td>\n",
       "      <td>18.030819</td>\n",
       "      <td>0.031489</td>\n",
       "      <td>5.822156</td>\n",
       "      <td>2.887466e-08</td>\n",
       "      <td>0.190647</td>\n",
       "      <td>4.0</td>\n",
       "      <td>1.0</td>\n",
       "      <td>0.005881</td>\n",
       "      <td>...</td>\n",
       "      <td>False</td>\n",
       "      <td>False</td>\n",
       "      <td>0.160121</td>\n",
       "      <td>0.287636</td>\n",
       "      <td>0.223878</td>\n",
       "      <td>6.210605</td>\n",
       "      <td>8.176953</td>\n",
       "      <td>7.589789</td>\n",
       "      <td>False</td>\n",
       "      <td>False</td>\n",
       "    </tr>\n",
       "    <tr>\n",
       "      <th>2</th>\n",
       "      <td>0.034442</td>\n",
       "      <td>0.001506</td>\n",
       "      <td>0.762864</td>\n",
       "      <td>0.326185</td>\n",
       "      <td>2.399923</td>\n",
       "      <td>1.618682e-06</td>\n",
       "      <td>0.125660</td>\n",
       "      <td>6.0</td>\n",
       "      <td>1.0</td>\n",
       "      <td>0.016461</td>\n",
       "      <td>...</td>\n",
       "      <td>False</td>\n",
       "      <td>False</td>\n",
       "      <td>0.111632</td>\n",
       "      <td>0.418793</td>\n",
       "      <td>0.265212</td>\n",
       "      <td>2.888476</td>\n",
       "      <td>9.623663</td>\n",
       "      <td>7.075861</td>\n",
       "      <td>False</td>\n",
       "      <td>False</td>\n",
       "    </tr>\n",
       "    <tr>\n",
       "      <th>3</th>\n",
       "      <td>0.008561</td>\n",
       "      <td>0.002451</td>\n",
       "      <td>0.822371</td>\n",
       "      <td>0.012940</td>\n",
       "      <td>12.836670</td>\n",
       "      <td>6.619971e-08</td>\n",
       "      <td>0.216684</td>\n",
       "      <td>4.0</td>\n",
       "      <td>1.0</td>\n",
       "      <td>0.003955</td>\n",
       "      <td>...</td>\n",
       "      <td>False</td>\n",
       "      <td>False</td>\n",
       "      <td>0.178094</td>\n",
       "      <td>0.190585</td>\n",
       "      <td>0.184339</td>\n",
       "      <td>9.248119</td>\n",
       "      <td>9.342286</td>\n",
       "      <td>9.613325</td>\n",
       "      <td>True</td>\n",
       "      <td>True</td>\n",
       "    </tr>\n",
       "    <tr>\n",
       "      <th>4</th>\n",
       "      <td>0.551761</td>\n",
       "      <td>0.002103</td>\n",
       "      <td>9.891405</td>\n",
       "      <td>NaN</td>\n",
       "      <td>2.030812</td>\n",
       "      <td>3.426953e-10</td>\n",
       "      <td>0.024455</td>\n",
       "      <td>28.0</td>\n",
       "      <td>1.0</td>\n",
       "      <td>0.361442</td>\n",
       "      <td>...</td>\n",
       "      <td>False</td>\n",
       "      <td>False</td>\n",
       "      <td>0.032936</td>\n",
       "      <td>0.023871</td>\n",
       "      <td>0.028404</td>\n",
       "      <td>4.979716</td>\n",
       "      <td>2.579815</td>\n",
       "      <td>3.439946</td>\n",
       "      <td>False</td>\n",
       "      <td>False</td>\n",
       "    </tr>\n",
       "  </tbody>\n",
       "</table>\n",
       "<p>5 rows × 52 columns</p>\n",
       "</div>"
      ],
      "text/plain": [
       "   EMfracstdnear  EPstdnear  AMDfracnear  MMRstrengthnear   betanear  \\\n",
       "0       0.017511   0.002935     0.178882         0.104761   5.899524   \n",
       "1       0.072425   0.011408    18.030819         0.031489   5.822156   \n",
       "2       0.034442   0.001506     0.762864         0.326185   2.399923   \n",
       "3       0.008561   0.002451     0.822371         0.012940  12.836670   \n",
       "4       0.551761   0.002103     9.891405              NaN   2.030812   \n",
       "\n",
       "    AMDcritnear  EMcrossnear  jnear  knear  EMfracstdfar  ...  Z07Stable_avg  \\\n",
       "0  1.528816e-06     0.221502    4.0    1.0      0.085965  ...          False   \n",
       "1  2.887466e-08     0.190647    4.0    1.0      0.005881  ...          False   \n",
       "2  1.618682e-06     0.125660    6.0    1.0      0.016461  ...          False   \n",
       "3  6.619971e-08     0.216684    4.0    1.0      0.003955  ...          False   \n",
       "4  3.426953e-10     0.024455   28.0    1.0      0.361442  ...          False   \n",
       "\n",
       "   Z07Stable_worstpair  deltaQ11inner  deltaQ11outer  deltaQ11avg  \\\n",
       "0                False       0.181336       0.231297     0.206317   \n",
       "1                False       0.160121       0.287636     0.223878   \n",
       "2                False       0.111632       0.418793     0.265212   \n",
       "3                False       0.178094       0.190585     0.184339   \n",
       "4                False       0.032936       0.023871     0.028404   \n",
       "\n",
       "   Q11log_instability_time_inner  Q11log_instability_time_outer  \\\n",
       "0                       6.199812                       8.474201   \n",
       "1                       6.210605                       8.176953   \n",
       "2                       2.888476                       9.623663   \n",
       "3                       9.248119                       9.342286   \n",
       "4                       4.979716                       2.579815   \n",
       "\n",
       "   Q11log_instability_time_avg  Q11Stable_avg  Q11Stable_worstpair  \n",
       "0                     7.234686          False                False  \n",
       "1                     7.589789          False                False  \n",
       "2                     7.075861          False                False  \n",
       "3                     9.613325           True                 True  \n",
       "4                     3.439946          False                False  \n",
       "\n",
       "[5 rows x 52 columns]"
      ]
     },
     "execution_count": 2,
     "metadata": {},
     "output_type": "execute_result"
    }
   ],
   "source": [
    "df = pd.read_csv('../training_data/random/additional_featuresNorbits10000.0Nout80trio/trainingdata.csv', index_col=0)\n",
    "labels = pd.read_csv('../training_data/random/additional_featuresNorbits10000.0Nout80trio/labels.csv', index_col=0)\n",
    "df.head()"
   ]
  },
  {
   "cell_type": "code",
   "execution_count": 3,
   "metadata": {},
   "outputs": [
    {
     "data": {
      "text/html": [
       "<div>\n",
       "<style scoped>\n",
       "    .dataframe tbody tr th:only-of-type {\n",
       "        vertical-align: middle;\n",
       "    }\n",
       "\n",
       "    .dataframe tbody tr th {\n",
       "        vertical-align: top;\n",
       "    }\n",
       "\n",
       "    .dataframe thead th {\n",
       "        text-align: right;\n",
       "    }\n",
       "</style>\n",
       "<table border=\"1\" class=\"dataframe\">\n",
       "  <thead>\n",
       "    <tr style=\"text-align: right;\">\n",
       "      <th></th>\n",
       "      <th>runstring</th>\n",
       "      <th>instability_time</th>\n",
       "      <th>shadow_instability_time</th>\n",
       "      <th>Stable</th>\n",
       "      <th>Pratio21</th>\n",
       "      <th>Pratio32</th>\n",
       "      <th>beta12</th>\n",
       "      <th>beta23</th>\n",
       "    </tr>\n",
       "  </thead>\n",
       "  <tbody>\n",
       "    <tr>\n",
       "      <th>24995</th>\n",
       "      <td>0024995.bin</td>\n",
       "      <td>1.843086e+04</td>\n",
       "      <td>5.927632e+04</td>\n",
       "      <td>False</td>\n",
       "      <td>1.268641</td>\n",
       "      <td>1.288944</td>\n",
       "      <td>14.522773</td>\n",
       "      <td>15.079252</td>\n",
       "    </tr>\n",
       "    <tr>\n",
       "      <th>24996</th>\n",
       "      <td>0024996.bin</td>\n",
       "      <td>1.868259e+03</td>\n",
       "      <td>2.336571e+03</td>\n",
       "      <td>False</td>\n",
       "      <td>1.182572</td>\n",
       "      <td>1.140159</td>\n",
       "      <td>9.552527</td>\n",
       "      <td>4.048412</td>\n",
       "    </tr>\n",
       "    <tr>\n",
       "      <th>24997</th>\n",
       "      <td>0024997.bin</td>\n",
       "      <td>6.939732e+04</td>\n",
       "      <td>1.870889e+04</td>\n",
       "      <td>False</td>\n",
       "      <td>1.984149</td>\n",
       "      <td>1.114816</td>\n",
       "      <td>25.850615</td>\n",
       "      <td>4.666121</td>\n",
       "    </tr>\n",
       "    <tr>\n",
       "      <th>24998</th>\n",
       "      <td>0024998.bin</td>\n",
       "      <td>3.230628e+04</td>\n",
       "      <td>2.883785e+04</td>\n",
       "      <td>False</td>\n",
       "      <td>1.084278</td>\n",
       "      <td>1.346270</td>\n",
       "      <td>8.336998</td>\n",
       "      <td>14.038862</td>\n",
       "    </tr>\n",
       "    <tr>\n",
       "      <th>24999</th>\n",
       "      <td>0024999.bin</td>\n",
       "      <td>1.000024e+09</td>\n",
       "      <td>1.000024e+09</td>\n",
       "      <td>True</td>\n",
       "      <td>1.510872</td>\n",
       "      <td>1.664467</td>\n",
       "      <td>12.553012</td>\n",
       "      <td>16.970720</td>\n",
       "    </tr>\n",
       "  </tbody>\n",
       "</table>\n",
       "</div>"
      ],
      "text/plain": [
       "         runstring  instability_time  shadow_instability_time  Stable  \\\n",
       "24995  0024995.bin      1.843086e+04             5.927632e+04   False   \n",
       "24996  0024996.bin      1.868259e+03             2.336571e+03   False   \n",
       "24997  0024997.bin      6.939732e+04             1.870889e+04   False   \n",
       "24998  0024998.bin      3.230628e+04             2.883785e+04   False   \n",
       "24999  0024999.bin      1.000024e+09             1.000024e+09    True   \n",
       "\n",
       "       Pratio21  Pratio32     beta12     beta23  \n",
       "24995  1.268641  1.288944  14.522773  15.079252  \n",
       "24996  1.182572  1.140159   9.552527   4.048412  \n",
       "24997  1.984149  1.114816  25.850615   4.666121  \n",
       "24998  1.084278  1.346270   8.336998  14.038862  \n",
       "24999  1.510872  1.664467  12.553012  16.970720  "
      ]
     },
     "execution_count": 3,
     "metadata": {},
     "output_type": "execute_result"
    }
   ],
   "source": [
    "masses = pd.read_csv('../training_data/random/massratios.csv', index_col=0)\n",
    "pratios = pd.read_csv('../paper_plots/randomPratios.csv', index_col=0)\n",
    "pratios.tail()"
   ]
  },
  {
   "cell_type": "code",
   "execution_count": 4,
   "metadata": {},
   "outputs": [],
   "source": [
    "df['m1'] = masses['m1']\n",
    "df['m2'] = masses['m2']\n",
    "df['m3'] = masses['m3']\n",
    "df['Pratio21'] = pratios['Pratio21']\n",
    "df['Pratio32'] = pratios['Pratio32']"
   ]
  },
  {
   "cell_type": "code",
   "execution_count": 5,
   "metadata": {},
   "outputs": [],
   "source": [
    "def petit(row):\n",
    "    row['P20tpred'] = st.Tsurv(1/row['Pratio21'], 1/row['Pratio32'], [row['m1'], row['m2'], row['m3']], m0=1, res=False, fudge=1)\n",
    "    row['P20Stable'] = row['P20tpred'] >= 1e9\n",
    "    return row"
   ]
  },
  {
   "cell_type": "code",
   "execution_count": 6,
   "metadata": {},
   "outputs": [
    {
     "name": "stdout",
     "output_type": "stream",
     "text": [
      "CPU times: user 43 s, sys: 1.06 s, total: 44.1 s\n",
      "Wall time: 39 s\n"
     ]
    }
   ],
   "source": [
    "%%time\n",
    "df = df.apply(petit, axis=1)"
   ]
  },
  {
   "cell_type": "markdown",
   "metadata": {},
   "source": [
    "# Petit 2020"
   ]
  },
  {
   "cell_type": "code",
   "execution_count": 7,
   "metadata": {},
   "outputs": [
    {
     "data": {
      "text/plain": [
       "0.9998990816429508"
      ]
     },
     "execution_count": 7,
     "metadata": {},
     "output_type": "execute_result"
    }
   ],
   "source": [
    "TPRP20 = (labels['Stable'] & df['P20Stable']).sum()/labels['Stable'].sum()\n",
    "TPRP20"
   ]
  },
  {
   "cell_type": "code",
   "execution_count": 8,
   "metadata": {},
   "outputs": [
    {
     "data": {
      "text/plain": [
       "0.7145981048306937"
      ]
     },
     "execution_count": 8,
     "metadata": {},
     "output_type": "execute_result"
    }
   ],
   "source": [
    "FPRP20 = ((~labels['Stable']) & df['P20Stable']).sum()/(~labels['Stable']).sum()\n",
    "FPRP20"
   ]
  },
  {
   "cell_type": "markdown",
   "metadata": {},
   "source": [
    "# Zhou 2007 avg"
   ]
  },
  {
   "cell_type": "code",
   "execution_count": 9,
   "metadata": {},
   "outputs": [
    {
     "data": {
      "text/plain": [
       "0.6294277929155313"
      ]
     },
     "execution_count": 9,
     "metadata": {},
     "output_type": "execute_result"
    }
   ],
   "source": [
    "TPRZ07 = (labels['Stable'] & df['Z07Stable_avg']).sum()/labels['Stable'].sum()\n",
    "TPRZ07"
   ]
  },
  {
   "cell_type": "code",
   "execution_count": 10,
   "metadata": {},
   "outputs": [
    {
     "data": {
      "text/plain": [
       "0.04121661917699291"
      ]
     },
     "execution_count": 10,
     "metadata": {},
     "output_type": "execute_result"
    }
   ],
   "source": [
    "FPRZ07 = ((~labels['Stable']) & df['Z07Stable_avg']).sum()/(~labels['Stable']).sum()\n",
    "FPRZ07"
   ]
  },
  {
   "cell_type": "markdown",
   "metadata": {},
   "source": [
    "# Zhou 2007 worst pair"
   ]
  },
  {
   "cell_type": "code",
   "execution_count": 14,
   "metadata": {},
   "outputs": [
    {
     "data": {
      "text/plain": [
       "0.34332425068119893"
      ]
     },
     "execution_count": 14,
     "metadata": {},
     "output_type": "execute_result"
    }
   ],
   "source": [
    "TPR = (labels['Stable'] & df['Z07Stable_worstpair']).sum()/labels['Stable'].sum()\n",
    "TPR"
   ]
  },
  {
   "cell_type": "code",
   "execution_count": 15,
   "metadata": {},
   "outputs": [
    {
     "data": {
      "text/plain": [
       "0.0067589954277383875"
      ]
     },
     "execution_count": 15,
     "metadata": {},
     "output_type": "execute_result"
    }
   ],
   "source": [
    "FPR = ((~labels['Stable']) & df['Z07Stable_worstpair']).sum()/(~labels['Stable']).sum()\n",
    "FPR"
   ]
  },
  {
   "cell_type": "markdown",
   "metadata": {},
   "source": [
    "# Quillen 2011 average"
   ]
  },
  {
   "cell_type": "code",
   "execution_count": 16,
   "metadata": {},
   "outputs": [
    {
     "data": {
      "text/plain": [
       "0.4458573014431325"
      ]
     },
     "execution_count": 16,
     "metadata": {},
     "output_type": "execute_result"
    }
   ],
   "source": [
    "TPRQ11 = (labels['Stable'] & df['Q11Stable_avg']).sum()/labels['Stable'].sum()\n",
    "TPRQ11"
   ]
  },
  {
   "cell_type": "code",
   "execution_count": 17,
   "metadata": {},
   "outputs": [
    {
     "data": {
      "text/plain": [
       "0.10946922006493937"
      ]
     },
     "execution_count": 17,
     "metadata": {},
     "output_type": "execute_result"
    }
   ],
   "source": [
    "FPRQ11 = ((~labels['Stable']) & df['Q11Stable_avg']).sum()/(~labels['Stable']).sum()\n",
    "FPRQ11"
   ]
  },
  {
   "cell_type": "markdown",
   "metadata": {},
   "source": [
    "# Quillen 2011 worst pair"
   ]
  },
  {
   "cell_type": "code",
   "execution_count": 18,
   "metadata": {},
   "outputs": [
    {
     "data": {
      "text/plain": [
       "0.30346149964678576"
      ]
     },
     "execution_count": 18,
     "metadata": {},
     "output_type": "execute_result"
    }
   ],
   "source": [
    "TPR = (labels['Stable'] & df['Q11Stable_worstpair']).sum()/labels['Stable'].sum()\n",
    "TPR"
   ]
  },
  {
   "cell_type": "code",
   "execution_count": 19,
   "metadata": {},
   "outputs": [
    {
     "data": {
      "text/plain": [
       "0.07149956927970313"
      ]
     },
     "execution_count": 19,
     "metadata": {},
     "output_type": "execute_result"
    }
   ],
   "source": [
    "FPR = ((~labels['Stable']) & df['Q11Stable_worstpair']).sum()/(~labels['Stable']).sum()\n",
    "FPR"
   ]
  },
  {
   "cell_type": "markdown",
   "metadata": {},
   "source": [
    "# How many total stable?"
   ]
  },
  {
   "cell_type": "code",
   "execution_count": 20,
   "metadata": {},
   "outputs": [
    {
     "data": {
      "text/plain": [
       "0.2428"
      ]
     },
     "execution_count": 20,
     "metadata": {},
     "output_type": "execute_result"
    }
   ],
   "source": [
    "df['Q11Stable_avg'].sum()/labels.shape[0]"
   ]
  },
  {
   "cell_type": "code",
   "execution_count": 21,
   "metadata": {},
   "outputs": [
    {
     "data": {
      "text/plain": [
       "0.27436"
      ]
     },
     "execution_count": 21,
     "metadata": {},
     "output_type": "execute_result"
    }
   ],
   "source": [
    "df['Z07Stable_avg'].sum()/labels.shape[0]"
   ]
  },
  {
   "cell_type": "code",
   "execution_count": 22,
   "metadata": {},
   "outputs": [
    {
     "data": {
      "text/plain": [
       "0.82768"
      ]
     },
     "execution_count": 22,
     "metadata": {},
     "output_type": "execute_result"
    }
   ],
   "source": [
    "df['P20Stable'].sum()/labels.shape[0]"
   ]
  },
  {
   "cell_type": "code",
   "execution_count": 23,
   "metadata": {},
   "outputs": [
    {
     "data": {
      "text/plain": [
       "0.39636"
      ]
     },
     "execution_count": 23,
     "metadata": {},
     "output_type": "execute_result"
    }
   ],
   "source": [
    "labels['Stable'].sum()/labels.shape[0]"
   ]
  },
  {
   "cell_type": "markdown",
   "metadata": {},
   "source": [
    "# SPOCK comparisons"
   ]
  },
  {
   "cell_type": "code",
   "execution_count": 24,
   "metadata": {},
   "outputs": [],
   "source": [
    "name='SPOCK'\n",
    "filename='featureclassifier'\n",
    "model = XGBClassifier()\n",
    "model.load_model('../spock/models/'+filename+'.json')\n",
    "testingdatafolder = '../training_data/random/featuresNorbits10000.0Nout80trio/'  \n",
    "\n",
    "dataset = pd.read_csv(testingdatafolder+\"trainingdata.csv\", index_col = 0)\n",
    "labels = pd.read_csv(testingdatafolder+\"labels.csv\", index_col=0)\n",
    "features = dataset.columns.values\n",
    "\n",
    "Nrows = int(0.8*dataset.shape[0])\n",
    "y = labels['Stable'].iloc[Nrows:]\n",
    "X = dataset[features].iloc[Nrows:]\n",
    "preds = model.predict_proba(X)[:,1]\n",
    "fpr, tpr, ROCthresholds = roc_curve(y, preds)\n",
    "roc_auc = metrics.roc_auc_score(y, preds)"
   ]
  },
  {
   "cell_type": "code",
   "execution_count": 25,
   "metadata": {},
   "outputs": [
    {
     "name": "stdout",
     "output_type": "stream",
     "text": [
      "At an FPR of 0.1095, SPOCK has a TPR of 0.956\n",
      "At an FPR of 0.0412, SPOCK has a TPR of 0.837\n",
      "At an FPR of 0.7146, SPOCK has a TPR of 0.999\n"
     ]
    }
   ],
   "source": [
    "def spockTPR(FPR):\n",
    "    threshindex = np.where(fpr > FPR)[0][0]\n",
    "    pthresh = ROCthresholds[threshindex]\n",
    "    stabs = preds > pthresh\n",
    "    TPR = (y & stabs).sum()/y.sum()\n",
    "    print('At an FPR of {0:.4f}, SPOCK has a TPR of {1:.3f}'.format(FPR, TPR))\n",
    "    \n",
    "spockTPR(FPRQ11)\n",
    "spockTPR(FPRZ07)\n",
    "spockTPR(FPRP20)"
   ]
  },
  {
   "cell_type": "code",
   "execution_count": 26,
   "metadata": {},
   "outputs": [
    {
     "name": "stdout",
     "output_type": "stream",
     "text": [
      "At a TPR of 0.446, SPOCK has an FPR of 0.0026\n",
      "At a TPR of 0.629, SPOCK has an FPR of 0.0092\n",
      "At a TPR of 1.000, SPOCK has an FPR of 0.8449\n"
     ]
    }
   ],
   "source": [
    "def spockFPR(TPR):\n",
    "    threshindex = np.where(tpr > TPR)[0][0]\n",
    "    pthresh = ROCthresholds[threshindex]\n",
    "    stabs = preds > pthresh\n",
    "    FPR = (~y & stabs).sum()/(~y).sum()\n",
    "    print('At a TPR of {0:.3f}, SPOCK has an FPR of {1:.4f}'.format(TPR, FPR))\n",
    "    \n",
    "spockFPR(TPRQ11)\n",
    "spockFPR(TPRZ07)\n",
    "spockFPR(TPRP20)"
   ]
  },
  {
   "cell_type": "markdown",
   "metadata": {},
   "source": [
    "# Models trained on resonant dataset\n",
    "\n",
    "Test on full 25,000 random systems"
   ]
  },
  {
   "cell_type": "code",
   "execution_count": 28,
   "metadata": {},
   "outputs": [
    {
     "data": {
      "text/plain": [
       "<matplotlib.legend.Legend at 0x7fd3104cda20>"
      ]
     },
     "execution_count": 28,
     "metadata": {},
     "output_type": "execute_result"
    },
    {
     "data": {
      "image/png": "[encoded data removed]",
      "text/plain": [
       "<Figure size 864x864 with 1 Axes>"
      ]
     },
     "metadata": {
      "needs_background": "light"
     },
     "output_type": "display_data"
    }
   ],
   "source": [
    "FPRthresh=0.1\n",
    "TPRthresh=0.9\n",
    "models = {'SPOCK':'spock', 'Hill':'hill'}\n",
    "featuresdic = {'SPOCK':None, 'MEGNO':['MEGNO'], 'Hill':['betanear', 'betafar']}\n",
    "\n",
    "fig, ax = plt.subplots(figsize=(12,12))\n",
    "\n",
    "ax.set_xlim([0.0, 1.0])\n",
    "ax.set_ylim([0.0, 1.0])\n",
    "ax.set_ylabel('True Positive Rate')\n",
    "ax.set_xlabel('False Positive Rate')\n",
    "\n",
    "\n",
    "#print(name, \"AUC = {0:.4f} Thresh = {1:.3f}\".format(roc_auc, ROCthresholds[threshindex]),  \"TPR = {0:.3f}\".format(tpr[threshindex]), \"FPR = {0:.3f}\".format(fpr[threshindex]), \n",
    "#\"Thresh = {0:.3f}\".format(ROCthresholds[tprthreshindex]),  \"TPR = {0:.3f}\".format(tpr[tprthreshindex]), \"FPR = {0:.3f}\".format(fpr[tprthreshindex]))\n",
    "ax.plot(fpr, tpr, label='{0}'.format('SPOCK'))\n",
    "\n",
    "ax.plot(np.linspace(0,1), np.linspace(0,1), 'k--', label='Random')\n",
    "ax.text(0.35, 0.2, \"Random\", fontsize=20)\n",
    "ax.text(0.355, 0.15, \"Dataset\", fontsize=20)\n",
    "ax.scatter(FPRP20, TPRP20, label='Petit et al. 2020')\n",
    "ax.scatter(FPRZ07, TPRZ07, label='Zhou et al. 2007')\n",
    "ax.scatter(FPRQ11, TPRQ11, label='Quillen 2011')\n",
    "\n",
    "ax.legend()\n",
    "#fig.savefig('QuillenZhouComparison.pdf', bbox_inches='tight')"
   ]
  },
  {
   "cell_type": "code",
   "execution_count": null,
   "metadata": {},
   "outputs": [],
   "source": []
  }
 ],
 "metadata": {
  "kernelspec": {
   "display_name": "Python 3",
   "language": "python",
   "name": "python3"
  },
  "language_info": {
   "codemirror_mode": {
    "name": "ipython",
    "version": 3
   },
   "file_extension": ".py",
   "mimetype": "text/x-python",
   "name": "python",
   "nbconvert_exporter": "python",
   "pygments_lexer": "ipython3",
   "version": "3.7.3"
  }
 },
 "nbformat": 4,
 "nbformat_minor": 2
}

{
 "cells": [
  {
   "cell_type": "code",
   "execution_count": 1,
   "metadata": {},
   "outputs": [],
   "source": [
    "import numpy as np\n",
    "import matplotlib.pyplot as plt\n",
    "import matplotlib\n",
    "import random\n",
    "import dill\n",
    "import sys\n",
    "sys.path.append('../spock/')\n",
    "from modelfitting import ROC_curve\n",
    "try:\n",
    "    plt.style.use('paper')\n",
    "except:\n",
    "    pass\n",
    "import pandas as pd\n",
    "import matplotlib.gridspec as gridspec\n",
    "from matplotlib.lines import Line2D\n",
    "from sklearn.metrics import roc_curve, auc \n",
    "from sklearn import metrics\n",
    "from xgboost import XGBClassifier\n",
    "%matplotlib inline\n",
    "\n",
    "sys.path.append('../../PlanetSysSurvivalTime/modules/')\n",
    "import survivaltime as st"
   ]
  },
  {
   "cell_type": "code",
   "execution_count": 2,
   "metadata": {},
   "outputs": [
    {
     "data": {
      "text/html": [
       "<div>\n",
       "<style scoped>\n",
       "    .dataframe tbody tr th:only-of-type {\n",
       "        vertical-align: middle;\n",
       "    }\n",
       "\n",
       "    .dataframe tbody tr th {\n",
       "        vertical-align: top;\n",
       "    }\n",
       "\n",
       "    .dataframe thead th {\n",
       "        text-align: right;\n",
       "    }\n",
       "</style>\n",
       "<table border=\"1\" class=\"dataframe\">\n",
       "  <thead>\n",
       "    <tr style=\"text-align: right;\">\n",
       "      <th></th>\n",
       "      <th>EMfracstdnear</th>\n",
       "      <th>EPstdnear</th>\n",
       "      <th>AMDfracnear</th>\n",
       "      <th>MMRstrengthnear</th>\n",
       "      <th>betanear</th>\n",
       "      <th>AMDcritnear</th>\n",
       "      <th>EMcrossnear</th>\n",
       "      <th>jnear</th>\n",
       "      <th>knear</th>\n",
       "      <th>EMfracstdfar</th>\n",
       "      <th>...</th>\n",
       "      <th>Z07Stable_avg</th>\n",
       "      <th>Z07Stable_worstpair</th>\n",
       "      <th>deltaQ11inner</th>\n",
       "      <th>deltaQ11outer</th>\n",
       "      <th>deltaQ11avg</th>\n",
       "      <th>Q11log_instability_time_inner</th>\n",
       "      <th>Q11log_instability_time_outer</th>\n",
       "      <th>Q11log_instability_time_avg</th>\n",
       "      <th>Q11Stable_avg</th>\n",
       "      <th>Q11Stable_worstpair</th>\n",
       "    </tr>\n",
       "  </thead>\n",
       "  <tbody>\n",
       "    <tr>\n",
       "      <th>113538</th>\n",
       "      <td>0.049940</td>\n",
       "      <td>0.016289</td>\n",
       "      <td>275.125979</td>\n",
       "      <td>0.608276</td>\n",
       "      <td>3.120145</td>\n",
       "      <td>8.772371e-09</td>\n",
       "      <td>0.082222</td>\n",
       "      <td>9.0</td>\n",
       "      <td>1.0</td>\n",
       "      <td>0.031330</td>\n",
       "      <td>...</td>\n",
       "      <td>False</td>\n",
       "      <td>False</td>\n",
       "      <td>0.399119</td>\n",
       "      <td>0.075976</td>\n",
       "      <td>0.237547</td>\n",
       "      <td>9.302344</td>\n",
       "      <td>4.024534</td>\n",
       "      <td>7.162971</td>\n",
       "      <td>False</td>\n",
       "      <td>False</td>\n",
       "    </tr>\n",
       "    <tr>\n",
       "      <th>113539</th>\n",
       "      <td>0.016063</td>\n",
       "      <td>0.002925</td>\n",
       "      <td>0.538688</td>\n",
       "      <td>0.252494</td>\n",
       "      <td>10.619708</td>\n",
       "      <td>1.357430e-07</td>\n",
       "      <td>0.251338</td>\n",
       "      <td>7.0</td>\n",
       "      <td>2.0</td>\n",
       "      <td>0.002159</td>\n",
       "      <td>...</td>\n",
       "      <td>False</td>\n",
       "      <td>False</td>\n",
       "      <td>0.200855</td>\n",
       "      <td>0.214344</td>\n",
       "      <td>0.207600</td>\n",
       "      <td>8.439196</td>\n",
       "      <td>8.151632</td>\n",
       "      <td>8.496414</td>\n",
       "      <td>False</td>\n",
       "      <td>False</td>\n",
       "    </tr>\n",
       "    <tr>\n",
       "      <th>113540</th>\n",
       "      <td>0.027693</td>\n",
       "      <td>0.001458</td>\n",
       "      <td>2.059439</td>\n",
       "      <td>0.659321</td>\n",
       "      <td>2.798741</td>\n",
       "      <td>4.870298e-07</td>\n",
       "      <td>0.131799</td>\n",
       "      <td>6.0</td>\n",
       "      <td>1.0</td>\n",
       "      <td>0.067472</td>\n",
       "      <td>...</td>\n",
       "      <td>False</td>\n",
       "      <td>False</td>\n",
       "      <td>0.116451</td>\n",
       "      <td>0.268291</td>\n",
       "      <td>0.192371</td>\n",
       "      <td>3.475108</td>\n",
       "      <td>9.486868</td>\n",
       "      <td>6.047256</td>\n",
       "      <td>False</td>\n",
       "      <td>False</td>\n",
       "    </tr>\n",
       "    <tr>\n",
       "      <th>113541</th>\n",
       "      <td>0.090838</td>\n",
       "      <td>0.010214</td>\n",
       "      <td>2.076593</td>\n",
       "      <td>1.436775</td>\n",
       "      <td>5.057940</td>\n",
       "      <td>1.805446e-06</td>\n",
       "      <td>0.209454</td>\n",
       "      <td>4.0</td>\n",
       "      <td>1.0</td>\n",
       "      <td>0.102280</td>\n",
       "      <td>...</td>\n",
       "      <td>False</td>\n",
       "      <td>False</td>\n",
       "      <td>0.173181</td>\n",
       "      <td>0.283192</td>\n",
       "      <td>0.228186</td>\n",
       "      <td>5.622301</td>\n",
       "      <td>8.180472</td>\n",
       "      <td>7.329276</td>\n",
       "      <td>False</td>\n",
       "      <td>False</td>\n",
       "    </tr>\n",
       "    <tr>\n",
       "      <th>113542</th>\n",
       "      <td>0.129844</td>\n",
       "      <td>0.040866</td>\n",
       "      <td>8.958517</td>\n",
       "      <td>0.052695</td>\n",
       "      <td>6.216486</td>\n",
       "      <td>5.531512e-07</td>\n",
       "      <td>0.182523</td>\n",
       "      <td>9.0</td>\n",
       "      <td>2.0</td>\n",
       "      <td>0.050120</td>\n",
       "      <td>...</td>\n",
       "      <td>False</td>\n",
       "      <td>False</td>\n",
       "      <td>0.154350</td>\n",
       "      <td>0.300935</td>\n",
       "      <td>0.227643</td>\n",
       "      <td>6.483611</td>\n",
       "      <td>9.280696</td>\n",
       "      <td>8.194068</td>\n",
       "      <td>False</td>\n",
       "      <td>False</td>\n",
       "    </tr>\n",
       "  </tbody>\n",
       "</table>\n",
       "<p>5 rows × 52 columns</p>\n",
       "</div>"
      ],
      "text/plain": [
       "        EMfracstdnear  EPstdnear  AMDfracnear  MMRstrengthnear   betanear  \\\n",
       "113538       0.049940   0.016289   275.125979         0.608276   3.120145   \n",
       "113539       0.016063   0.002925     0.538688         0.252494  10.619708   \n",
       "113540       0.027693   0.001458     2.059439         0.659321   2.798741   \n",
       "113541       0.090838   0.010214     2.076593         1.436775   5.057940   \n",
       "113542       0.129844   0.040866     8.958517         0.052695   6.216486   \n",
       "\n",
       "         AMDcritnear  EMcrossnear  jnear  knear  EMfracstdfar  ...  \\\n",
       "113538  8.772371e-09     0.082222    9.0    1.0      0.031330  ...   \n",
       "113539  1.357430e-07     0.251338    7.0    2.0      0.002159  ...   \n",
       "113540  4.870298e-07     0.131799    6.0    1.0      0.067472  ...   \n",
       "113541  1.805446e-06     0.209454    4.0    1.0      0.102280  ...   \n",
       "113542  5.531512e-07     0.182523    9.0    2.0      0.050120  ...   \n",
       "\n",
       "        Z07Stable_avg  Z07Stable_worstpair  deltaQ11inner  deltaQ11outer  \\\n",
       "113538          False                False       0.399119       0.075976   \n",
       "113539          False                False       0.200855       0.214344   \n",
       "113540          False                False       0.116451       0.268291   \n",
       "113541          False                False       0.173181       0.283192   \n",
       "113542          False                False       0.154350       0.300935   \n",
       "\n",
       "        deltaQ11avg  Q11log_instability_time_inner  \\\n",
       "113538     0.237547                       9.302344   \n",
       "113539     0.207600                       8.439196   \n",
       "113540     0.192371                       3.475108   \n",
       "113541     0.228186                       5.622301   \n",
       "113542     0.227643                       6.483611   \n",
       "\n",
       "        Q11log_instability_time_outer  Q11log_instability_time_avg  \\\n",
       "113538                       4.024534                     7.162971   \n",
       "113539                       8.151632                     8.496414   \n",
       "113540                       9.486868                     6.047256   \n",
       "113541                       8.180472                     7.329276   \n",
       "113542                       9.280696                     8.194068   \n",
       "\n",
       "        Q11Stable_avg  Q11Stable_worstpair  \n",
       "113538          False                False  \n",
       "113539          False                False  \n",
       "113540          False                False  \n",
       "113541          False                False  \n",
       "113542          False                False  \n",
       "\n",
       "[5 rows x 52 columns]"
      ]
     },
     "execution_count": 2,
     "metadata": {},
     "output_type": "execute_result"
    }
   ],
   "source": [
    "df = pd.read_csv('../training_data/resonant/additional_featuresNorbits10000.0Nout80trio/trainingdata.csv', index_col=0)\n",
    "labels = pd.read_csv('../training_data/resonant/additional_featuresNorbits10000.0Nout80trio/labels.csv', index_col=0)\n",
    "df.tail()"
   ]
  },
  {
   "cell_type": "code",
   "execution_count": 3,
   "metadata": {},
   "outputs": [
    {
     "data": {
      "text/html": [
       "<div>\n",
       "<style scoped>\n",
       "    .dataframe tbody tr th:only-of-type {\n",
       "        vertical-align: middle;\n",
       "    }\n",
       "\n",
       "    .dataframe tbody tr th {\n",
       "        vertical-align: top;\n",
       "    }\n",
       "\n",
       "    .dataframe thead th {\n",
       "        text-align: right;\n",
       "    }\n",
       "</style>\n",
       "<table border=\"1\" class=\"dataframe\">\n",
       "  <thead>\n",
       "    <tr style=\"text-align: right;\">\n",
       "      <th></th>\n",
       "      <th>runstring</th>\n",
       "      <th>instability_time</th>\n",
       "      <th>shadow_instability_time</th>\n",
       "      <th>Stable</th>\n",
       "      <th>Pratio21</th>\n",
       "      <th>Pratio32</th>\n",
       "      <th>beta12</th>\n",
       "      <th>beta23</th>\n",
       "    </tr>\n",
       "  </thead>\n",
       "  <tbody>\n",
       "    <tr>\n",
       "      <th>113538</th>\n",
       "      <td>9045377.bin</td>\n",
       "      <td>6.990387e+05</td>\n",
       "      <td>8.267916e+05</td>\n",
       "      <td>False</td>\n",
       "      <td>2.146925</td>\n",
       "      <td>1.125825</td>\n",
       "      <td>22.762855</td>\n",
       "      <td>4.500139</td>\n",
       "    </tr>\n",
       "    <tr>\n",
       "      <th>113539</th>\n",
       "      <td>9045378.bin</td>\n",
       "      <td>3.075749e+08</td>\n",
       "      <td>6.576003e+08</td>\n",
       "      <td>False</td>\n",
       "      <td>1.399777</td>\n",
       "      <td>1.435985</td>\n",
       "      <td>15.316273</td>\n",
       "      <td>14.379617</td>\n",
       "    </tr>\n",
       "    <tr>\n",
       "      <th>113540</th>\n",
       "      <td>9045380.bin</td>\n",
       "      <td>1.193822e+07</td>\n",
       "      <td>3.363291e+07</td>\n",
       "      <td>False</td>\n",
       "      <td>1.204069</td>\n",
       "      <td>1.597688</td>\n",
       "      <td>4.036607</td>\n",
       "      <td>21.136880</td>\n",
       "    </tr>\n",
       "    <tr>\n",
       "      <th>113541</th>\n",
       "      <td>9045382.bin</td>\n",
       "      <td>2.064407e+08</td>\n",
       "      <td>4.316851e+07</td>\n",
       "      <td>False</td>\n",
       "      <td>1.330065</td>\n",
       "      <td>1.647766</td>\n",
       "      <td>7.294859</td>\n",
       "      <td>15.323072</td>\n",
       "    </tr>\n",
       "    <tr>\n",
       "      <th>113542</th>\n",
       "      <td>9045383.bin</td>\n",
       "      <td>2.266066e+04</td>\n",
       "      <td>2.228425e+04</td>\n",
       "      <td>False</td>\n",
       "      <td>1.285910</td>\n",
       "      <td>1.710886</td>\n",
       "      <td>8.965751</td>\n",
       "      <td>20.618763</td>\n",
       "    </tr>\n",
       "  </tbody>\n",
       "</table>\n",
       "</div>"
      ],
      "text/plain": [
       "          runstring  instability_time  shadow_instability_time  Stable  \\\n",
       "113538  9045377.bin      6.990387e+05             8.267916e+05   False   \n",
       "113539  9045378.bin      3.075749e+08             6.576003e+08   False   \n",
       "113540  9045380.bin      1.193822e+07             3.363291e+07   False   \n",
       "113541  9045382.bin      2.064407e+08             4.316851e+07   False   \n",
       "113542  9045383.bin      2.266066e+04             2.228425e+04   False   \n",
       "\n",
       "        Pratio21  Pratio32     beta12     beta23  \n",
       "113538  2.146925  1.125825  22.762855   4.500139  \n",
       "113539  1.399777  1.435985  15.316273  14.379617  \n",
       "113540  1.204069  1.597688   4.036607  21.136880  \n",
       "113541  1.330065  1.647766   7.294859  15.323072  \n",
       "113542  1.285910  1.710886   8.965751  20.618763  "
      ]
     },
     "execution_count": 3,
     "metadata": {},
     "output_type": "execute_result"
    }
   ],
   "source": [
    "masses = pd.read_csv('../training_data/resonant/massratios.csv', index_col=0)\n",
    "pratios = pd.read_csv('../paper_plots/resPratios.csv', index_col=0)\n",
    "pratios.tail()"
   ]
  },
  {
   "cell_type": "code",
   "execution_count": 4,
   "metadata": {},
   "outputs": [],
   "source": [
    "df['m1'] = masses['m1']\n",
    "df['m2'] = masses['m2']\n",
    "df['m3'] = masses['m3']\n",
    "df['Pratio21'] = pratios['Pratio21']\n",
    "df['Pratio32'] = pratios['Pratio32']"
   ]
  },
  {
   "cell_type": "code",
   "execution_count": 6,
   "metadata": {},
   "outputs": [],
   "source": [
    "def petit(row):\n",
    "    row['P20tpred'] = st.Tsurv(1/row['Pratio21'], 1/row['Pratio32'], [row['m1'], row['m2'], row['m3']], m0=1, res=False, fudge=1)\n",
    "    row['P20Stable'] = row['P20tpred'] >= 1e9\n",
    "    return row"
   ]
  },
  {
   "cell_type": "code",
   "execution_count": 7,
   "metadata": {},
   "outputs": [
    {
     "name": "stdout",
     "output_type": "stream",
     "text": [
      "CPU times: user 2min 57s, sys: 4.39 s, total: 3min 1s\n",
      "Wall time: 2min 54s\n"
     ]
    }
   ],
   "source": [
    "%%time\n",
    "df = df.apply(petit, axis=1)"
   ]
  },
  {
   "cell_type": "markdown",
   "metadata": {},
   "source": [
    "# Petit 2020"
   ]
  },
  {
   "cell_type": "code",
   "execution_count": 8,
   "metadata": {},
   "outputs": [
    {
     "data": {
      "text/plain": [
       "0.9947043915724174"
      ]
     },
     "execution_count": 8,
     "metadata": {},
     "output_type": "execute_result"
    }
   ],
   "source": [
    "TPRP20 = (labels['Stable'] & df['P20Stable']).sum()/labels['Stable'].sum()\n",
    "TPRP20"
   ]
  },
  {
   "cell_type": "code",
   "execution_count": 9,
   "metadata": {},
   "outputs": [
    {
     "data": {
      "text/plain": [
       "0.9070557711294285"
      ]
     },
     "execution_count": 9,
     "metadata": {},
     "output_type": "execute_result"
    }
   ],
   "source": [
    "FPRP20 = ((~labels['Stable']) & df['P20Stable']).sum()/(~labels['Stable']).sum()\n",
    "FPRP20"
   ]
  },
  {
   "cell_type": "markdown",
   "metadata": {},
   "source": [
    "# Zhou 2007 avg"
   ]
  },
  {
   "cell_type": "code",
   "execution_count": 10,
   "metadata": {},
   "outputs": [
    {
     "data": {
      "text/plain": [
       "0.13776147066611188"
      ]
     },
     "execution_count": 10,
     "metadata": {},
     "output_type": "execute_result"
    }
   ],
   "source": [
    "TPRZ07 = (labels['Stable'] & df['Z07Stable_avg']).sum()/labels['Stable'].sum()\n",
    "TPRZ07"
   ]
  },
  {
   "cell_type": "code",
   "execution_count": 11,
   "metadata": {},
   "outputs": [
    {
     "data": {
      "text/plain": [
       "0.022570201823066148"
      ]
     },
     "execution_count": 11,
     "metadata": {},
     "output_type": "execute_result"
    }
   ],
   "source": [
    "FPRZ07 = ((~labels['Stable']) & df['Z07Stable_avg']).sum()/(~labels['Stable']).sum()\n",
    "FPRZ07"
   ]
  },
  {
   "cell_type": "markdown",
   "metadata": {},
   "source": [
    "# Zhou 2007 worst pair"
   ]
  },
  {
   "cell_type": "code",
   "execution_count": 12,
   "metadata": {},
   "outputs": [
    {
     "data": {
      "text/plain": [
       "0.04660135416272648"
      ]
     },
     "execution_count": 12,
     "metadata": {},
     "output_type": "execute_result"
    }
   ],
   "source": [
    "TPR = (labels['Stable'] & df['Z07Stable_worstpair']).sum()/labels['Stable'].sum()\n",
    "TPR"
   ]
  },
  {
   "cell_type": "code",
   "execution_count": 13,
   "metadata": {},
   "outputs": [
    {
     "data": {
      "text/plain": [
       "0.004018092898307809"
      ]
     },
     "execution_count": 13,
     "metadata": {},
     "output_type": "execute_result"
    }
   ],
   "source": [
    "FPR = ((~labels['Stable']) & df['Z07Stable_worstpair']).sum()/(~labels['Stable']).sum()\n",
    "FPR"
   ]
  },
  {
   "cell_type": "markdown",
   "metadata": {},
   "source": [
    "# Quillen 2011 average"
   ]
  },
  {
   "cell_type": "code",
   "execution_count": 14,
   "metadata": {},
   "outputs": [
    {
     "data": {
      "text/plain": [
       "0.24306842682603927"
      ]
     },
     "execution_count": 14,
     "metadata": {},
     "output_type": "execute_result"
    }
   ],
   "source": [
    "TPRQ11 = (labels['Stable'] & df['Q11Stable_avg']).sum()/labels['Stable'].sum()\n",
    "TPRQ11"
   ]
  },
  {
   "cell_type": "code",
   "execution_count": 15,
   "metadata": {},
   "outputs": [
    {
     "data": {
      "text/plain": [
       "0.07800840355429017"
      ]
     },
     "execution_count": 15,
     "metadata": {},
     "output_type": "execute_result"
    }
   ],
   "source": [
    "FPRQ11 = ((~labels['Stable']) & df['Q11Stable_avg']).sum()/(~labels['Stable']).sum()\n",
    "FPRQ11"
   ]
  },
  {
   "cell_type": "markdown",
   "metadata": {},
   "source": [
    "# Quillen 2011 worst pair"
   ]
  },
  {
   "cell_type": "code",
   "execution_count": 16,
   "metadata": {},
   "outputs": [
    {
     "data": {
      "text/plain": [
       "0.1020917653288951"
      ]
     },
     "execution_count": 16,
     "metadata": {},
     "output_type": "execute_result"
    }
   ],
   "source": [
    "TPR = (labels['Stable'] & df['Q11Stable_worstpair']).sum()/labels['Stable'].sum()\n",
    "TPR"
   ]
  },
  {
   "cell_type": "code",
   "execution_count": 17,
   "metadata": {},
   "outputs": [
    {
     "data": {
      "text/plain": [
       "0.037930796960025714"
      ]
     },
     "execution_count": 17,
     "metadata": {},
     "output_type": "execute_result"
    }
   ],
   "source": [
    "FPR = ((~labels['Stable']) & df['Q11Stable_worstpair']).sum()/(~labels['Stable']).sum()\n",
    "FPR"
   ]
  },
  {
   "cell_type": "markdown",
   "metadata": {},
   "source": [
    "# How many total stable?"
   ]
  },
  {
   "cell_type": "code",
   "execution_count": 58,
   "metadata": {},
   "outputs": [
    {
     "data": {
      "text/plain": [
       "0.11644046748808821"
      ]
     },
     "execution_count": 58,
     "metadata": {},
     "output_type": "execute_result"
    }
   ],
   "source": [
    "df['Q11Stable_avg'].sum()/labels.shape[0]"
   ]
  },
  {
   "cell_type": "code",
   "execution_count": 51,
   "metadata": {},
   "outputs": [
    {
     "data": {
      "text/plain": [
       "0.049390979628863074"
      ]
     },
     "execution_count": 51,
     "metadata": {},
     "output_type": "execute_result"
    }
   ],
   "source": [
    "df['Z07Stable_avg'].sum()/labels.shape[0]"
   ]
  },
  {
   "cell_type": "code",
   "execution_count": 18,
   "metadata": {},
   "outputs": [
    {
     "data": {
      "text/plain": [
       "0.9274636040971262"
      ]
     },
     "execution_count": 18,
     "metadata": {},
     "output_type": "execute_result"
    }
   ],
   "source": [
    "df['P20Stable'].sum()/labels.shape[0]"
   ]
  },
  {
   "cell_type": "code",
   "execution_count": 52,
   "metadata": {},
   "outputs": [
    {
     "data": {
      "text/plain": [
       "0.23283689879605082"
      ]
     },
     "execution_count": 52,
     "metadata": {},
     "output_type": "execute_result"
    }
   ],
   "source": [
    "labels['Stable'].sum()/labels.shape[0]"
   ]
  },
  {
   "cell_type": "markdown",
   "metadata": {},
   "source": [
    "# SPOCK comparisons"
   ]
  },
  {
   "cell_type": "code",
   "execution_count": 34,
   "metadata": {},
   "outputs": [],
   "source": [
    "name='SPOCK'\n",
    "filename='featureclassifier'\n",
    "model = XGBClassifier()\n",
    "model.load_model('../spock/models/'+filename+'.json')\n",
    "testingdatafolder = '../training_data/resonant/featuresNorbits10000.0Nout80trio/'  \n",
    "\n",
    "dataset = pd.read_csv(testingdatafolder+\"trainingdata.csv\", index_col = 0)\n",
    "labels = pd.read_csv(testingdatafolder+\"labels.csv\", index_col=0)\n",
    "features = dataset.columns.values\n",
    "\n",
    "Nrows = int(0.8*dataset.shape[0])\n",
    "y = labels['Stable'].iloc[Nrows:]\n",
    "X = dataset[features].iloc[Nrows:]\n",
    "preds = model.predict_proba(X)[:,1]\n",
    "fpr, tpr, ROCthresholds = roc_curve(y, preds)\n",
    "roc_auc = metrics.roc_auc_score(y, preds)"
   ]
  },
  {
   "cell_type": "code",
   "execution_count": 37,
   "metadata": {},
   "outputs": [
    {
     "name": "stdout",
     "output_type": "stream",
     "text": [
      "At an FPR of 0.0780, SPOCK has a TPR of 0.808\n",
      "At an FPR of 0.0226, SPOCK has a TPR of 0.569\n",
      "At an FPR of 0.9071, SPOCK has a TPR of 1.000\n"
     ]
    }
   ],
   "source": [
    "def spockTPR(FPR):\n",
    "    threshindex = np.where(fpr > FPR)[0][0]\n",
    "    pthresh = ROCthresholds[threshindex]\n",
    "    stabs = preds > pthresh\n",
    "    TPR = (y & stabs).sum()/y.sum()\n",
    "    print('At an FPR of {0:.4f}, SPOCK has a TPR of {1:.3f}'.format(FPR, TPR))\n",
    "    \n",
    "spockTPR(FPRQ11)\n",
    "spockTPR(FPRZ07)\n",
    "spockTPR(FPRP20)"
   ]
  },
  {
   "cell_type": "code",
   "execution_count": 38,
   "metadata": {},
   "outputs": [
    {
     "name": "stdout",
     "output_type": "stream",
     "text": [
      "At a TPR of 0.243, SPOCK has an FPR of 0.0030\n",
      "At a TPR of 0.138, SPOCK has an FPR of 0.0007\n",
      "At a TPR of 0.995, SPOCK has an FPR of 0.4356\n"
     ]
    }
   ],
   "source": [
    "def spockFPR(TPR):\n",
    "    threshindex = np.where(tpr > TPR)[0][0]\n",
    "    pthresh = ROCthresholds[threshindex]\n",
    "    stabs = preds > pthresh\n",
    "    FPR = (~y & stabs).sum()/(~y).sum()\n",
    "    print('At a TPR of {0:.3f}, SPOCK has an FPR of {1:.4f}'.format(TPR, FPR))\n",
    "    \n",
    "spockFPR(TPRQ11)\n",
    "spockFPR(TPRZ07)\n",
    "spockFPR(TPRP20)"
   ]
  },
  {
   "cell_type": "markdown",
   "metadata": {},
   "source": [
    "# Models trained on resonant dataset"
   ]
  },
  {
   "cell_type": "code",
   "execution_count": 43,
   "metadata": {},
   "outputs": [
    {
     "data": {
      "text/plain": [
       "<matplotlib.legend.Legend at 0x7f58d835a5c0>"
      ]
     },
     "execution_count": 43,
     "metadata": {},
     "output_type": "execute_result"
    },
    {
     "data": {
      "image/png": "[encoded data removed]",
      "text/plain": [
       "<Figure size 864x864 with 1 Axes>"
      ]
     },
     "metadata": {
      "needs_background": "light"
     },
     "output_type": "display_data"
    }
   ],
   "source": [
    "FPRthresh=0.1\n",
    "TPRthresh=0.9\n",
    "models = {'SPOCK':'spock', 'Hill':'hill'}\n",
    "featuresdic = {'SPOCK':None, 'MEGNO':['MEGNO'], 'Hill':['betanear', 'betafar']}\n",
    "\n",
    "fig, ax = plt.subplots(figsize=(12,12))\n",
    "\n",
    "ax.set_xlim([0.0, 1.0])\n",
    "ax.set_ylim([0.0, 1.0])\n",
    "ax.set_ylabel('True Positive Rate')\n",
    "ax.set_xlabel('False Positive Rate')\n",
    "\n",
    "\n",
    "#print(name, \"AUC = {0:.4f} Thresh = {1:.3f}\".format(roc_auc, ROCthresholds[threshindex]),  \"TPR = {0:.3f}\".format(tpr[threshindex]), \"FPR = {0:.3f}\".format(fpr[threshindex]), \n",
    "#\"Thresh = {0:.3f}\".format(ROCthresholds[tprthreshindex]),  \"TPR = {0:.3f}\".format(tpr[tprthreshindex]), \"FPR = {0:.3f}\".format(fpr[tprthreshindex]))\n",
    "ax.plot(fpr, tpr, label='{0}'.format('SPOCK'))\n",
    "\n",
    "ax.plot(np.linspace(0,1), np.linspace(0,1), 'k--', label='Random')\n",
    "ax.text(0.35, 0.2, \"Resonant\", fontsize=20)\n",
    "ax.text(0.355, 0.15, \"Dataset\", fontsize=20)\n",
    "ax.scatter(FPRP20, TPRP20, label='Petit et al. 2020')\n",
    "ax.scatter(FPRZ07, TPRZ07, label='Zhou et al. 2007')\n",
    "ax.scatter(FPRQ11, TPRQ11, label='Quillen 2011')\n",
    "\n",
    "ax.legend()\n",
    "#fig.savefig('QuillenZhouComparison.pdf', bbox_inches='tight')\n",
    "fig.savefig"
   ]
  },
  {
   "cell_type": "code",
   "execution_count": null,
   "metadata": {},
   "outputs": [],
   "source": []
  }
 ],
 "metadata": {
  "kernelspec": {
   "display_name": "Python 3",
   "language": "python",
   "name": "python3"
  },
  "language_info": {
   "codemirror_mode": {
    "name": "ipython",
    "version": 3
   },
   "file_extension": ".py",
   "mimetype": "text/x-python",
   "name": "python",
   "nbconvert_exporter": "python",
   "pygments_lexer": "ipython3",
   "version": "3.7.3"
  }
 },
 "nbformat": 4,
 "nbformat_minor": 2
}

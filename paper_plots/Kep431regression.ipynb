{
 "cells": [
  {
   "cell_type": "code",
   "execution_count": 1,
   "metadata": {},
   "outputs": [],
   "source": [
    "import pandas as pd\n",
    "import numpy as np\n",
    "import rebound"
   ]
  },
  {
   "cell_type": "code",
   "execution_count": 2,
   "metadata": {},
   "outputs": [],
   "source": [
    "path = '../data/nonressystems/Kepler-431/simulation_archives/runs/'"
   ]
  },
  {
   "cell_type": "code",
   "execution_count": 3,
   "metadata": {},
   "outputs": [],
   "source": [
    "trainpath = '../training_data/nonressystems/Kepler-431/'\n",
    "labels = pd.read_csv(trainpath + 'labels.csv', index_col=0)"
   ]
  },
  {
   "cell_type": "code",
   "execution_count": 9,
   "metadata": {},
   "outputs": [],
   "source": [
    "def predscale(row):\n",
    "    sa = rebound.SimulationArchive(path+'sa'+row['runstring'])\n",
    "    sim = sa[0]\n",
    "    ps = sim.particles\n",
    "    sim.init_megno()\n",
    "    sim2 = rebound.Simulation()\n",
    "    sim2.G = 4*np.pi**2\n",
    "    sim2.add(m=1.)\n",
    "    sim2.add(m=ps[1].m/ps[0].m, P=1., l=ps[1].l, e=ps[1].e, pomega=ps[1].e, inc=ps[1].inc, Omega=ps[1].inc)\n",
    "    sim2.add(m=ps[2].m/ps[0].m, P=ps[2].P/ps[1].P, l=ps[2].l, e=ps[2].e, pomega=ps[2].e, inc=ps[2].inc, Omega=ps[2].inc)\n",
    "    sim2.add(m=ps[3].m/ps[0].m, P=ps[3].P/ps[1].P, l=ps[3].l, e=ps[3].e, pomega=ps[3].e, inc=ps[3].inc, Omega=ps[3].inc)\n",
    "    sim2.move_to_com()\n",
    "    sim2.init_megno()\n",
    "    sim2.dt = 0.07*sim2.particles[1].P\n",
    "    row['tspred'] = 10**np.average(np.log10(model.predict(sim2, samples=10000)))\n",
    "    return row\n",
    "def pred(row):\n",
    "    sa = rebound.SimulationArchive(path+'sa'+row['runstring'])\n",
    "    sim = sa[0]\n",
    "    sim.init_megno()\n",
    "    row['tspred'] = 10**np.average(np.log10(model.predict(sim, samples=10000)))\n",
    "    return row"
   ]
  },
  {
   "cell_type": "code",
   "execution_count": 10,
   "metadata": {},
   "outputs": [],
   "source": [
    "from spock import StabilityRegression\n",
    "model = StabilityRegression()"
   ]
  },
  {
   "cell_type": "code",
   "execution_count": 6,
   "metadata": {},
   "outputs": [
    {
     "name": "stderr",
     "output_type": "stream",
     "text": [
      "/mnt/ssd/Dropbox/Dropbox (Princeton)/workspace/rebound/rebound/simulationarchive.py:89: RuntimeWarning: Binary file was saved with a different version of REBOUND. Binary format might have changed.\n",
      "  warnings.warn(message, RuntimeWarning)\n",
      "/mnt/ssd/Dropbox/Dropbox (Princeton)/workspace/rebound/rebound/simulationarchive.py:138: RuntimeWarning: Binary file was saved with a different version of REBOUND. Binary format might have changed.\n",
      "  warnings.warn(message, RuntimeWarning)\n",
      "/mnt/ssd/Dropbox/Dropbox (Princeton)/workspace/rebound/rebound/simulationarchive.py:138: RuntimeWarning: You have to reset function pointers after creating a reb_simulation struct with a binary file.\n",
      "  warnings.warn(message, RuntimeWarning)\n",
      "/mnt/ssd/Dropbox/Dropbox (Princeton)/workspace/rebound/rebound/simulationarchive.py:138: RuntimeWarning: Encountered unkown field in file. File might have been saved with a different version of REBOUND.\n",
      "  warnings.warn(message, RuntimeWarning)\n"
     ]
    }
   ],
   "source": [
    "row = labels.loc[1]\n",
    "sa = rebound.SimulationArchive(path+'sa'+row['runstring'])\n",
    "sim = sa[0]\n",
    "sim.init_megno()"
   ]
  },
  {
   "cell_type": "code",
   "execution_count": 7,
   "metadata": {},
   "outputs": [
    {
     "name": "stderr",
     "output_type": "stream",
     "text": [
      "/mnt/ssd/Dropbox/Dropbox (Princeton)/workspace/celmech/celmech/andoyer.py:98: UserWarning: k=1 resonance has no separatrix for Phiprime < 1\n",
      "  warnings.warn(\"k=1 resonance has no separatrix for Phiprime < 1\")\n",
      "/mnt/ssd/Dropbox/Dropbox (Princeton)/workspace/celmech/celmech/andoyer.py:106: UserWarning: k=2 resonance has no separatrix for Phiprime < -2/3\n",
      "  warnings.warn(\"k=2 resonance has no separatrix for Phiprime < -2/3\")\n"
     ]
    },
    {
     "name": "stdout",
     "output_type": "stream",
     "text": [
      "CPU times: user 43.8 s, sys: 14.9 s, total: 58.7 s\n",
      "Wall time: 18.3 s\n"
     ]
    },
    {
     "data": {
      "text/plain": [
       "4869479621.634934"
      ]
     },
     "execution_count": 7,
     "metadata": {},
     "output_type": "execute_result"
    }
   ],
   "source": [
    "%%time\n",
    "10**np.average(np.log10(model.predict(sim, samples=10000)))"
   ]
  },
  {
   "cell_type": "code",
   "execution_count": 6,
   "metadata": {},
   "outputs": [
    {
     "name": "stderr",
     "output_type": "stream",
     "text": [
      "/mnt/ssd/Dropbox/Dropbox (Princeton)/workspace/rebound/rebound/simulationarchive.py:89: RuntimeWarning: Binary file was saved with a different version of REBOUND. Binary format might have changed.\n",
      "  warnings.warn(message, RuntimeWarning)\n",
      "/mnt/ssd/Dropbox/Dropbox (Princeton)/workspace/rebound/rebound/simulationarchive.py:138: RuntimeWarning: Binary file was saved with a different version of REBOUND. Binary format might have changed.\n",
      "  warnings.warn(message, RuntimeWarning)\n",
      "/mnt/ssd/Dropbox/Dropbox (Princeton)/workspace/rebound/rebound/simulationarchive.py:138: RuntimeWarning: You have to reset function pointers after creating a reb_simulation struct with a binary file.\n",
      "  warnings.warn(message, RuntimeWarning)\n",
      "/mnt/ssd/Dropbox/Dropbox (Princeton)/workspace/rebound/rebound/simulationarchive.py:138: RuntimeWarning: Encountered unkown field in file. File might have been saved with a different version of REBOUND.\n",
      "  warnings.warn(message, RuntimeWarning)\n",
      "/mnt/ssd/Dropbox/Dropbox (Princeton)/workspace/celmech/celmech/andoyer.py:98: UserWarning: k=1 resonance has no separatrix for Phiprime < 1\n",
      "  warnings.warn(\"k=1 resonance has no separatrix for Phiprime < 1\")\n",
      "/mnt/ssd/Dropbox/Dropbox (Princeton)/workspace/celmech/celmech/andoyer.py:106: UserWarning: k=2 resonance has no separatrix for Phiprime < -2/3\n",
      "  warnings.warn(\"k=2 resonance has no separatrix for Phiprime < -2/3\")\n"
     ]
    },
    {
     "name": "stdout",
     "output_type": "stream",
     "text": [
      "CPU times: user 58.5 s, sys: 7.79 s, total: 1min 6s\n",
      "Wall time: 34.9 s\n"
     ]
    },
    {
     "name": "stderr",
     "output_type": "stream",
     "text": [
      "/home/dtamayo/miniconda3/envs/ml/lib/python3.7/site-packages/ipykernel_launcher.py:15: SettingWithCopyWarning: \n",
      "A value is trying to be set on a copy of a slice from a DataFrame\n",
      "\n",
      "See the caveats in the documentation: http://pandas.pydata.org/pandas-docs/stable/indexing.html#indexing-view-versus-copy\n",
      "  from ipykernel import kernelapp as app\n",
      "/home/dtamayo/miniconda3/envs/ml/lib/python3.7/site-packages/pandas/core/series.py:1015: SettingWithCopyWarning: \n",
      "A value is trying to be set on a copy of a slice from a DataFrame\n",
      "\n",
      "See the caveats in the documentation: http://pandas.pydata.org/pandas-docs/stable/indexing.html#indexing-view-versus-copy\n",
      "  self.loc[key] = value\n"
     ]
    },
    {
     "data": {
      "text/plain": [
       "runstring                  0000001.bin\n",
       "instability_time              9.99e+08\n",
       "shadow_instability_time       9.99e+08\n",
       "Stable                            True\n",
       "tspred                     2.32817e+09\n",
       "Name: 1, dtype: object"
      ]
     },
     "execution_count": 6,
     "metadata": {},
     "output_type": "execute_result"
    }
   ],
   "source": [
    "%%time\n",
    "pred(labels.loc[1])"
   ]
  },
  {
   "cell_type": "code",
   "execution_count": 6,
   "metadata": {},
   "outputs": [
    {
     "name": "stdout",
     "output_type": "stream",
     "text": [
      "CPU times: user 1.14 ms, sys: 900 µs, total: 2.04 ms\n",
      "Wall time: 1.86 ms\n"
     ]
    },
    {
     "data": {
      "text/html": [
       "<div>\n",
       "<style scoped>\n",
       "    .dataframe tbody tr th:only-of-type {\n",
       "        vertical-align: middle;\n",
       "    }\n",
       "\n",
       "    .dataframe tbody tr th {\n",
       "        vertical-align: top;\n",
       "    }\n",
       "\n",
       "    .dataframe thead th {\n",
       "        text-align: right;\n",
       "    }\n",
       "</style>\n",
       "<table border=\"1\" class=\"dataframe\">\n",
       "  <thead>\n",
       "    <tr style=\"text-align: right;\">\n",
       "      <th></th>\n",
       "      <th>runstring</th>\n",
       "      <th>instability_time</th>\n",
       "      <th>shadow_instability_time</th>\n",
       "      <th>Stable</th>\n",
       "    </tr>\n",
       "  </thead>\n",
       "  <tbody>\n",
       "    <tr>\n",
       "      <th>0</th>\n",
       "      <td>0000000.bin</td>\n",
       "      <td>7.485924e+01</td>\n",
       "      <td>1.060708e+02</td>\n",
       "      <td>False</td>\n",
       "    </tr>\n",
       "    <tr>\n",
       "      <th>1</th>\n",
       "      <td>0000001.bin</td>\n",
       "      <td>9.990000e+08</td>\n",
       "      <td>9.990000e+08</td>\n",
       "      <td>True</td>\n",
       "    </tr>\n",
       "    <tr>\n",
       "      <th>2</th>\n",
       "      <td>0000002.bin</td>\n",
       "      <td>9.990000e+08</td>\n",
       "      <td>9.990000e+08</td>\n",
       "      <td>True</td>\n",
       "    </tr>\n",
       "    <tr>\n",
       "      <th>3</th>\n",
       "      <td>0000003.bin</td>\n",
       "      <td>1.648912e+01</td>\n",
       "      <td>1.648912e+01</td>\n",
       "      <td>False</td>\n",
       "    </tr>\n",
       "    <tr>\n",
       "      <th>4</th>\n",
       "      <td>0000004.bin</td>\n",
       "      <td>9.990000e+08</td>\n",
       "      <td>9.990000e+08</td>\n",
       "      <td>True</td>\n",
       "    </tr>\n",
       "    <tr>\n",
       "      <th>5</th>\n",
       "      <td>0000005.bin</td>\n",
       "      <td>1.000000e+09</td>\n",
       "      <td>1.000000e+09</td>\n",
       "      <td>True</td>\n",
       "    </tr>\n",
       "    <tr>\n",
       "      <th>6</th>\n",
       "      <td>0000006.bin</td>\n",
       "      <td>1.386469e+04</td>\n",
       "      <td>1.883706e+05</td>\n",
       "      <td>False</td>\n",
       "    </tr>\n",
       "    <tr>\n",
       "      <th>7</th>\n",
       "      <td>0000007.bin</td>\n",
       "      <td>9.990000e+08</td>\n",
       "      <td>9.990000e+08</td>\n",
       "      <td>True</td>\n",
       "    </tr>\n",
       "    <tr>\n",
       "      <th>8</th>\n",
       "      <td>0000008.bin</td>\n",
       "      <td>9.990000e+08</td>\n",
       "      <td>9.990000e+08</td>\n",
       "      <td>True</td>\n",
       "    </tr>\n",
       "    <tr>\n",
       "      <th>9</th>\n",
       "      <td>0000009.bin</td>\n",
       "      <td>9.990000e+08</td>\n",
       "      <td>9.990000e+08</td>\n",
       "      <td>True</td>\n",
       "    </tr>\n",
       "  </tbody>\n",
       "</table>\n",
       "</div>"
      ],
      "text/plain": [
       "     runstring  instability_time  shadow_instability_time  Stable\n",
       "0  0000000.bin      7.485924e+01             1.060708e+02   False\n",
       "1  0000001.bin      9.990000e+08             9.990000e+08    True\n",
       "2  0000002.bin      9.990000e+08             9.990000e+08    True\n",
       "3  0000003.bin      1.648912e+01             1.648912e+01   False\n",
       "4  0000004.bin      9.990000e+08             9.990000e+08    True\n",
       "5  0000005.bin      1.000000e+09             1.000000e+09    True\n",
       "6  0000006.bin      1.386469e+04             1.883706e+05   False\n",
       "7  0000007.bin      9.990000e+08             9.990000e+08    True\n",
       "8  0000008.bin      9.990000e+08             9.990000e+08    True\n",
       "9  0000009.bin      9.990000e+08             9.990000e+08    True"
      ]
     },
     "execution_count": 6,
     "metadata": {},
     "output_type": "execute_result"
    }
   ],
   "source": [
    "%%time\n",
    "dftest = labels.head(10)\n",
    "dftest"
   ]
  },
  {
   "cell_type": "code",
   "execution_count": 11,
   "metadata": {},
   "outputs": [
    {
     "name": "stderr",
     "output_type": "stream",
     "text": [
      "/mnt/ssd/Dropbox/Dropbox (Princeton)/workspace/rebound/rebound/simulationarchive.py:89: RuntimeWarning: Binary file was saved with a different version of REBOUND. Binary format might have changed.\n",
      "  warnings.warn(message, RuntimeWarning)\n",
      "/mnt/ssd/Dropbox/Dropbox (Princeton)/workspace/rebound/rebound/simulationarchive.py:138: RuntimeWarning: Binary file was saved with a different version of REBOUND. Binary format might have changed.\n",
      "  warnings.warn(message, RuntimeWarning)\n",
      "/mnt/ssd/Dropbox/Dropbox (Princeton)/workspace/rebound/rebound/simulationarchive.py:138: RuntimeWarning: You have to reset function pointers after creating a reb_simulation struct with a binary file.\n",
      "  warnings.warn(message, RuntimeWarning)\n",
      "/mnt/ssd/Dropbox/Dropbox (Princeton)/workspace/rebound/rebound/simulationarchive.py:138: RuntimeWarning: Encountered unkown field in file. File might have been saved with a different version of REBOUND.\n",
      "  warnings.warn(message, RuntimeWarning)\n",
      "/mnt/ssd/Dropbox/Dropbox (Princeton)/workspace/celmech/celmech/andoyer.py:98: UserWarning: k=1 resonance has no separatrix for Phiprime < 1\n",
      "  warnings.warn(\"k=1 resonance has no separatrix for Phiprime < 1\")\n",
      "/mnt/ssd/Dropbox/Dropbox (Princeton)/workspace/celmech/celmech/andoyer.py:106: UserWarning: k=2 resonance has no separatrix for Phiprime < -2/3\n",
      "  warnings.warn(\"k=2 resonance has no separatrix for Phiprime < -2/3\")\n"
     ]
    },
    {
     "name": "stdout",
     "output_type": "stream",
     "text": [
      "CPU times: user 5min 12s, sys: 53.8 s, total: 6min 6s\n",
      "Wall time: 2min 24s\n"
     ]
    }
   ],
   "source": [
    "%%time\n",
    "dftest = dftest.apply(pred, axis=1)"
   ]
  },
  {
   "cell_type": "code",
   "execution_count": 12,
   "metadata": {},
   "outputs": [
    {
     "data": {
      "text/html": [
       "<div>\n",
       "<style scoped>\n",
       "    .dataframe tbody tr th:only-of-type {\n",
       "        vertical-align: middle;\n",
       "    }\n",
       "\n",
       "    .dataframe tbody tr th {\n",
       "        vertical-align: top;\n",
       "    }\n",
       "\n",
       "    .dataframe thead th {\n",
       "        text-align: right;\n",
       "    }\n",
       "</style>\n",
       "<table border=\"1\" class=\"dataframe\">\n",
       "  <thead>\n",
       "    <tr style=\"text-align: right;\">\n",
       "      <th></th>\n",
       "      <th>runstring</th>\n",
       "      <th>instability_time</th>\n",
       "      <th>shadow_instability_time</th>\n",
       "      <th>Stable</th>\n",
       "      <th>tspred</th>\n",
       "    </tr>\n",
       "  </thead>\n",
       "  <tbody>\n",
       "    <tr>\n",
       "      <th>0</th>\n",
       "      <td>0000000.bin</td>\n",
       "      <td>7.485924e+01</td>\n",
       "      <td>1.060708e+02</td>\n",
       "      <td>False</td>\n",
       "      <td>1.000000e+04</td>\n",
       "    </tr>\n",
       "    <tr>\n",
       "      <th>1</th>\n",
       "      <td>0000001.bin</td>\n",
       "      <td>9.990000e+08</td>\n",
       "      <td>9.990000e+08</td>\n",
       "      <td>True</td>\n",
       "      <td>4.150103e+09</td>\n",
       "    </tr>\n",
       "    <tr>\n",
       "      <th>2</th>\n",
       "      <td>0000002.bin</td>\n",
       "      <td>9.990000e+08</td>\n",
       "      <td>9.990000e+08</td>\n",
       "      <td>True</td>\n",
       "      <td>1.181595e+10</td>\n",
       "    </tr>\n",
       "    <tr>\n",
       "      <th>3</th>\n",
       "      <td>0000003.bin</td>\n",
       "      <td>1.648912e+01</td>\n",
       "      <td>1.648912e+01</td>\n",
       "      <td>False</td>\n",
       "      <td>1.000000e+04</td>\n",
       "    </tr>\n",
       "    <tr>\n",
       "      <th>4</th>\n",
       "      <td>0000004.bin</td>\n",
       "      <td>9.990000e+08</td>\n",
       "      <td>9.990000e+08</td>\n",
       "      <td>True</td>\n",
       "      <td>8.189151e+09</td>\n",
       "    </tr>\n",
       "    <tr>\n",
       "      <th>5</th>\n",
       "      <td>0000005.bin</td>\n",
       "      <td>1.000000e+09</td>\n",
       "      <td>1.000000e+09</td>\n",
       "      <td>True</td>\n",
       "      <td>1.464237e+10</td>\n",
       "    </tr>\n",
       "    <tr>\n",
       "      <th>6</th>\n",
       "      <td>0000006.bin</td>\n",
       "      <td>1.386469e+04</td>\n",
       "      <td>1.883706e+05</td>\n",
       "      <td>False</td>\n",
       "      <td>3.948310e+05</td>\n",
       "    </tr>\n",
       "    <tr>\n",
       "      <th>7</th>\n",
       "      <td>0000007.bin</td>\n",
       "      <td>9.990000e+08</td>\n",
       "      <td>9.990000e+08</td>\n",
       "      <td>True</td>\n",
       "      <td>2.817450e+10</td>\n",
       "    </tr>\n",
       "    <tr>\n",
       "      <th>8</th>\n",
       "      <td>0000008.bin</td>\n",
       "      <td>9.990000e+08</td>\n",
       "      <td>9.990000e+08</td>\n",
       "      <td>True</td>\n",
       "      <td>5.682625e+09</td>\n",
       "    </tr>\n",
       "    <tr>\n",
       "      <th>9</th>\n",
       "      <td>0000009.bin</td>\n",
       "      <td>9.990000e+08</td>\n",
       "      <td>9.990000e+08</td>\n",
       "      <td>True</td>\n",
       "      <td>1.813628e+10</td>\n",
       "    </tr>\n",
       "  </tbody>\n",
       "</table>\n",
       "</div>"
      ],
      "text/plain": [
       "     runstring  instability_time  shadow_instability_time  Stable  \\\n",
       "0  0000000.bin      7.485924e+01             1.060708e+02   False   \n",
       "1  0000001.bin      9.990000e+08             9.990000e+08    True   \n",
       "2  0000002.bin      9.990000e+08             9.990000e+08    True   \n",
       "3  0000003.bin      1.648912e+01             1.648912e+01   False   \n",
       "4  0000004.bin      9.990000e+08             9.990000e+08    True   \n",
       "5  0000005.bin      1.000000e+09             1.000000e+09    True   \n",
       "6  0000006.bin      1.386469e+04             1.883706e+05   False   \n",
       "7  0000007.bin      9.990000e+08             9.990000e+08    True   \n",
       "8  0000008.bin      9.990000e+08             9.990000e+08    True   \n",
       "9  0000009.bin      9.990000e+08             9.990000e+08    True   \n",
       "\n",
       "         tspred  \n",
       "0  1.000000e+04  \n",
       "1  4.150103e+09  \n",
       "2  1.181595e+10  \n",
       "3  1.000000e+04  \n",
       "4  8.189151e+09  \n",
       "5  1.464237e+10  \n",
       "6  3.948310e+05  \n",
       "7  2.817450e+10  \n",
       "8  5.682625e+09  \n",
       "9  1.813628e+10  "
      ]
     },
     "execution_count": 12,
     "metadata": {},
     "output_type": "execute_result"
    }
   ],
   "source": [
    "dftest"
   ]
  },
  {
   "cell_type": "code",
   "execution_count": null,
   "metadata": {},
   "outputs": [],
   "source": []
  }
 ],
 "metadata": {
  "kernelspec": {
   "display_name": "Python 3",
   "language": "python",
   "name": "python3"
  },
  "language_info": {
   "codemirror_mode": {
    "name": "ipython",
    "version": 3
   },
   "file_extension": ".py",
   "mimetype": "text/x-python",
   "name": "python",
   "nbconvert_exporter": "python",
   "pygments_lexer": "ipython3",
   "version": "3.7.3"
  }
 },
 "nbformat": 4,
 "nbformat_minor": 2
}

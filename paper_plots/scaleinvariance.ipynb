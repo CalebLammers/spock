{
 "cells": [
  {
   "cell_type": "code",
   "execution_count": 11,
   "metadata": {},
   "outputs": [],
   "source": [
    "import spock\n",
    "import rebound\n",
    "import matplotlib.pyplot as plt\n",
    "from spock import StabilityClassifier\n",
    "import numpy as np\n",
    "%matplotlib inline\n"
   ]
  },
  {
   "cell_type": "code",
   "execution_count": 29,
   "metadata": {},
   "outputs": [],
   "source": [
    "def Pscalesim(Pscale):\n",
    "    sim = rebound.Simulation()\n",
    "    sim.add(m=1)\n",
    "    sim.add(m=1.e-5, P=1*Pscale, e=0.01)\n",
    "    sim.add(m=1.e-5, P=1.52*Pscale, e=0.01)\n",
    "    sim.add(m=1.e-5, P=2.3*Pscale, e=0.02)\n",
    "    print(sim.particles[1].P)\n",
    "    return sim\n",
    "\n",
    "def ascalesim(ascale):\n",
    "    sim = rebound.Simulation()\n",
    "    sim.add(m=1)\n",
    "    sim.add(m=1.e-5, a=1*ascale, e=0.01)\n",
    "    sim.add(m=1.e-5, a=1.52*ascale, e=0.01)\n",
    "    sim.add(m=1.e-5, a=2.3*ascale, e=0.02)\n",
    "    print(sim.particles[1].P)\n",
    "    return sim\n",
    "\n",
    "def mscalesim(Mscale):\n",
    "    sim = rebound.Simulation()\n",
    "    sim.add(m=1*Mscale)\n",
    "    sim.add(m=1.e-5*Mscale, P=1, e=0.01)\n",
    "    sim.add(m=1.e-5*Mscale, P=1.52, e=0.01)\n",
    "    sim.add(m=1.e-5*Mscale, P=2.3, e=0.02)\n",
    "    print(sim.particles[1].v)\n",
    "    return sim"
   ]
  },
  {
   "cell_type": "code",
   "execution_count": 30,
   "metadata": {},
   "outputs": [],
   "source": [
    "model = StabilityClassifier()"
   ]
  },
  {
   "cell_type": "code",
   "execution_count": 33,
   "metadata": {},
   "outputs": [
    {
     "name": "stdout",
     "output_type": "stream",
     "text": [
      "1.0000000000000002\n",
      "2.154434690031885\n",
      "4.641588833612778\n",
      "10.000000000000002\n",
      "21.544346900318825\n",
      "46.415888336127786\n",
      "99.99999999999999\n",
      "215.44346900318817\n",
      "464.1588833612775\n",
      "999.9999999999995\n",
      "CPU times: user 1min 11s, sys: 1.74 s, total: 1min 13s\n",
      "Wall time: 4.94 s\n"
     ]
    }
   ],
   "source": [
    "%%time\n",
    "Nout = 10\n",
    "scales = np.logspace(0, 3, Nout)\n",
    "probs = np.zeros(Nout)\n",
    "for i, scale in enumerate(scales):\n",
    "    sim = Pscalesim(scale)\n",
    "    probs[i] = model.predict(sim)"
   ]
  },
  {
   "cell_type": "code",
   "execution_count": 34,
   "metadata": {},
   "outputs": [
    {
     "data": {
      "text/plain": [
       "array([0.95207608, 0.95207608, 0.95207608, 0.95207608, 0.95207608,\n",
       "       0.95207608, 0.95207608, 0.95207608, 0.95207608, 0.95207608])"
      ]
     },
     "execution_count": 34,
     "metadata": {},
     "output_type": "execute_result"
    }
   ],
   "source": [
    "probs"
   ]
  },
  {
   "cell_type": "code",
   "execution_count": 35,
   "metadata": {
    "scrolled": true
   },
   "outputs": [
    {
     "name": "stdout",
     "output_type": "stream",
     "text": [
      "1.8638222559619535\n",
      "2.4072190103349462\n",
      "3.10904290641556\n",
      "4.015483324297918\n",
      "5.186196142369828\n",
      "6.698229890379234\n",
      "8.651096571111983\n",
      "11.17332087843109\n",
      "14.430898837641484\n",
      "18.638222559619535\n",
      "CPU times: user 1min 11s, sys: 1.79 s, total: 1min 13s\n",
      "Wall time: 5.08 s\n"
     ]
    }
   ],
   "source": [
    "%%time\n",
    "Nout = 10\n",
    "scales = np.logspace(0, 3, Nout)\n",
    "probs = np.zeros(Nout)\n",
    "for i, scale in enumerate(scales):\n",
    "    sim = mscalesim(scale)\n",
    "    probs[i] = model.predict(sim)"
   ]
  },
  {
   "cell_type": "code",
   "execution_count": 36,
   "metadata": {},
   "outputs": [
    {
     "data": {
      "text/plain": [
       "array([0.95207608, 0.95207608, 0.95207608, 0.95207608, 0.95207608,\n",
       "       0.95207608, 0.95207608, 0.95207608, 0.95207608, 0.95207608])"
      ]
     },
     "execution_count": 36,
     "metadata": {},
     "output_type": "execute_result"
    }
   ],
   "source": [
    "probs"
   ]
  },
  {
   "cell_type": "code",
   "execution_count": 37,
   "metadata": {},
   "outputs": [
    {
     "name": "stdout",
     "output_type": "stream",
     "text": [
      "6.2831538914886655\n",
      "19.869077186454632\n",
      "62.831538914886686\n",
      "198.69077186454632\n",
      "628.3153891488665\n",
      "1986.9077186454617\n",
      "6283.1538914886705\n",
      "19869.07718645461\n",
      "62831.538914886645\n",
      "198690.7718645462\n",
      "CPU times: user 1min 15s, sys: 1.76 s, total: 1min 17s\n",
      "Wall time: 4.78 s\n"
     ]
    }
   ],
   "source": [
    "%%time\n",
    "Nout = 10\n",
    "scales = np.logspace(0, 3, Nout)\n",
    "probs = np.zeros(Nout)\n",
    "for i, scale in enumerate(scales):\n",
    "    sim = ascalesim(scale)\n",
    "    probs[i] = model.predict(sim)"
   ]
  },
  {
   "cell_type": "code",
   "execution_count": 38,
   "metadata": {},
   "outputs": [
    {
     "data": {
      "text/plain": [
       "array([0.93307537, 0.93307537, 0.93307537, 0.93307537, 0.93307537,\n",
       "       0.93307537, 0.93307537, 0.93307537, 0.93307537, 0.93307537])"
      ]
     },
     "execution_count": 38,
     "metadata": {},
     "output_type": "execute_result"
    }
   ],
   "source": [
    "probs"
   ]
  }
 ],
 "metadata": {
  "kernelspec": {
   "display_name": "Python 3",
   "language": "python",
   "name": "python3"
  },
  "language_info": {
   "codemirror_mode": {
    "name": "ipython",
    "version": 3
   },
   "file_extension": ".py",
   "mimetype": "text/x-python",
   "name": "python",
   "nbconvert_exporter": "python",
   "pygments_lexer": "ipython3",
   "version": "3.7.3"
  }
 },
 "nbformat": 4,
 "nbformat_minor": 2
}

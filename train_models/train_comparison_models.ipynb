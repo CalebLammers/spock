{
 "cells": [
  {
   "cell_type": "code",
   "execution_count": 1,
   "metadata": {},
   "outputs": [],
   "source": [
    "import numpy as np\n",
    "import matplotlib.pyplot as plt\n",
    "%matplotlib inline\n",
    "import pandas as pd\n",
    "from sklearn import metrics\n",
    "import xgboost as xgb\n",
    "from xgboost.sklearn import XGBClassifier\n",
    "from hyperopt import hp, fmin, tpe, STATUS_OK, Trials\n",
    "import hyperopt\n",
    "import sys\n",
    "sys.path.append('../spock/')\n",
    "from modelfitting import train_test_split, ROC_curve, stable_unstable_hist, calibration_plot, unstable_error_fraction"
   ]
  },
  {
   "cell_type": "code",
   "execution_count": 2,
   "metadata": {},
   "outputs": [],
   "source": [
    "datapath = '../training_data/'\n",
    "dset = 'resonant/'\n",
    "Norbits = 1e4\n",
    "Nout = 80\n",
    "featureargs = (Norbits, Nout) # params to pass feature function\n",
    "featurefolder = 'additional_featuresNorbits{0:.1f}Nout{1}trio/'.format(Norbits, Nout)\n",
    "trainingdatafolder = datapath+dset+featurefolder"
   ]
  },
  {
   "cell_type": "code",
   "execution_count": 3,
   "metadata": {},
   "outputs": [],
   "source": [
    "space ={'max_depth': hp.randint('x_max_depth',  10),\n",
    "        'min_child_weight': hp.randint ('x_min_child', 20),\n",
    "        'subsample': hp.uniform ('x_subsample', 0.8, 1),\n",
    "        \"learning_rate\":hp.uniform(\"x_learning_rate\",0.01,0.2),\n",
    "}\n",
    "\n",
    "def objective(params):\n",
    "    clf = XGBClassifier(n_estimators = 100,\n",
    "                            max_depth = params['max_depth'], \n",
    "                            min_child_weight = params['min_child_weight'],\n",
    "                            subsample = params['subsample'],\n",
    "                            learning_rate = params['learning_rate'], seed = 0)\n",
    "    \n",
    "    score = xgb.cv(clf.get_xgb_params(), dtrain, nfold = 5, metrics = \"auc\", early_stopping_rounds=10)\n",
    "    avg_score =  np.mean(score[\"test-auc-mean\"])\n",
    "    error = np.mean(score[\"test-auc-std\"])\n",
    "    \n",
    "    print(\"SCORE:\", avg_score, \"ERROR\", error)#, \"HOLDOUT SCORE\", test_score)\n",
    "    return{'loss':1-avg_score, 'status': STATUS_OK, \"cv_score\":avg_score , \"cv_error\":error}"
   ]
  },
  {
   "cell_type": "markdown",
   "metadata": {},
   "source": [
    "# MEGNO"
   ]
  },
  {
   "cell_type": "code",
   "execution_count": 4,
   "metadata": {},
   "outputs": [],
   "source": [
    "features = ['MEGNO']\n",
    "\n",
    "trainX, trainY, testX, testY = train_test_split(trainingdatafolder, features, filter=False)\n",
    "\n",
    "dtrain = xgb.DMatrix(trainX, trainY)\n",
    "dtest = xgb.DMatrix(testX, testY)"
   ]
  },
  {
   "cell_type": "code",
   "execution_count": 5,
   "metadata": {},
   "outputs": [
    {
     "name": "stdout",
     "output_type": "stream",
     "text": [
      "SCORE:                                              \n",
      "0.5                                                 \n",
      "ERROR                                               \n",
      "0.0                                                 \n",
      "SCORE:                                                        \n",
      "0.5                                                           \n",
      "ERROR                                                         \n",
      "0.0                                                           \n",
      "SCORE:                                                        \n",
      "0.86043312                                                    \n",
      "ERROR                                                         \n",
      "0.0025018882841408322                                         \n",
      "SCORE:                                                                        \n",
      "0.5                                                                           \n",
      "ERROR                                                                         \n",
      "0.0                                                                           \n",
      "SCORE:                                                                        \n",
      "0.86031956                                                                    \n",
      "ERROR                                                                         \n",
      "0.002556234457890963                                                          \n",
      "SCORE:                                                                        \n",
      "0.86008754                                                                    \n",
      "ERROR                                                                         \n",
      "0.002324223640527534                                                          \n",
      "SCORE:                                                                        \n",
      "0.85875108                                                                    \n",
      "ERROR                                                                         \n",
      "0.002381770250784933                                                          \n",
      "SCORE:                                                                        \n",
      "0.8597750599999999                                                            \n",
      "ERROR                                                                         \n",
      "0.002372956975078578                                                          \n",
      "SCORE:                                                                        \n",
      "0.8592437399999999                                                            \n",
      "ERROR                                                                         \n",
      "0.002390228180516965                                                          \n",
      "SCORE:                                                                        \n",
      "0.8595491000000001                                                            \n",
      "ERROR                                                                         \n",
      "0.0022307748973131474                                                         \n",
      "SCORE:                                                                         \n",
      "0.8520459600000001                                                             \n",
      "ERROR                                                                          \n",
      "0.0025458224395694075                                                          \n",
      "SCORE:                                                                         \n",
      "0.8595053399999999                                                             \n",
      "ERROR                                                                          \n",
      "0.00225915408560992                                                            \n",
      "SCORE:                                                                         \n",
      "0.8205849000000001                                                             \n",
      "ERROR                                                                          \n",
      "0.0033684351393149293                                                          \n",
      "SCORE:                                                                         \n",
      "0.8598197200000002                                                             \n",
      "ERROR                                                                          \n",
      "0.0024638671058722856                                                          \n",
      "SCORE:                                                                         \n",
      "0.8602582200000001                                                             \n",
      "ERROR                                                                          \n",
      "0.002505424294152217                                                           \n",
      "SCORE:                                                                         \n",
      "0.8592686800000001                                                             \n",
      "ERROR                                                                          \n",
      "0.00236738723931363                                                            \n",
      "SCORE:                                                                         \n",
      "0.8586402200000001                                                             \n",
      "ERROR                                                                          \n",
      "0.0023120090524521384                                                          \n",
      "SCORE:                                                                         \n",
      "0.8593574                                                                      \n",
      "ERROR                                                                          \n",
      "0.002425534338131357                                                           \n",
      "SCORE:                                                                         \n",
      "0.84387144                                                                     \n",
      "ERROR                                                                          \n",
      "0.0031986217801440613                                                          \n",
      "SCORE:                                                                         \n",
      "0.8591006799999998                                                             \n",
      "ERROR                                                                          \n",
      "0.0023777706166141013                                                          \n",
      "SCORE:                                                                         \n",
      "0.8603822799999999                                                             \n",
      "ERROR                                                                          \n",
      "0.0026310702265782315                                                          \n",
      "SCORE:                                                                         \n",
      "0.8576787400000001                                                             \n",
      "ERROR                                                                          \n",
      "0.0026565015771286187                                                          \n",
      "SCORE:                                                                         \n",
      "0.8603329000000001                                                             \n",
      "ERROR                                                                          \n",
      "0.002458670626711423                                                           \n",
      "SCORE:                                                                         \n",
      "0.86056016                                                                     \n",
      "ERROR                                                                          \n",
      "0.0024328002683997444                                                          \n",
      "SCORE:                                                                         \n",
      "0.86059758                                                                     \n",
      "ERROR                                                                          \n",
      "0.0024574895399305857                                                          \n",
      "SCORE:                                                                         \n",
      "0.8605988999999999                                                             \n",
      "ERROR                                                                          \n",
      "0.0024160174891860544                                                          \n",
      "SCORE:                                                                         \n"
     ]
    },
    {
     "name": "stdout",
     "output_type": "stream",
     "text": [
      "0.8580865599999999                                                             \n",
      "ERROR                                                                          \n",
      "0.0025462060643101055                                                          \n",
      "SCORE:                                                                         \n",
      "0.86044254                                                                     \n",
      "ERROR                                                                          \n",
      "0.002542550421840709                                                           \n",
      "SCORE:                                                                         \n",
      "0.85987662                                                                     \n",
      "ERROR                                                                          \n",
      "0.0025806936996051045                                                          \n",
      "SCORE:                                                                         \n",
      "0.82129856                                                                     \n",
      "ERROR                                                                          \n",
      "0.0031565558555354707                                                          \n",
      "SCORE:                                                                         \n",
      "0.8601542600000001                                                             \n",
      "ERROR                                                                          \n",
      "0.0024947719325080853                                                          \n",
      "SCORE:                                                                         \n",
      "0.5                                                                            \n",
      "ERROR                                                                          \n",
      "0.0                                                                            \n",
      "SCORE:                                                                         \n",
      "0.8598491600000001                                                             \n",
      "ERROR                                                                          \n",
      "0.0025949139400075353                                                          \n",
      "SCORE:                                                                         \n",
      "0.8604537999999999                                                             \n",
      "ERROR                                                                          \n",
      "0.0024074821305376864                                                          \n",
      "SCORE:                                                                         \n",
      "0.5                                                                            \n",
      "ERROR                                                                          \n",
      "0.0                                                                            \n",
      "SCORE:                                                                         \n",
      "0.8596511                                                                      \n",
      "ERROR                                                                          \n",
      "0.0027534791431273777                                                          \n",
      "SCORE:                                                                         \n",
      "0.8604156799999998                                                             \n",
      "ERROR                                                                          \n",
      "0.0023882314602085715                                                          \n",
      "SCORE:                                                                         \n",
      "0.81898932                                                                     \n",
      "ERROR                                                                          \n",
      "0.0032705302128699988                                                          \n",
      "SCORE:                                                                         \n",
      "0.84645814                                                                     \n",
      "ERROR                                                                          \n",
      "0.003505822604940432                                                           \n",
      "SCORE:                                                                         \n",
      "0.8567505800000002                                                             \n",
      "ERROR                                                                          \n",
      "0.0027230061001054066                                                          \n",
      "SCORE:                                                                         \n",
      "0.8600799200000001                                                             \n",
      "ERROR                                                                          \n",
      "0.002162761483971289                                                           \n",
      "SCORE:                                                                         \n",
      "0.86043998                                                                     \n",
      "ERROR                                                                          \n",
      "0.0025909578827373225                                                          \n",
      "SCORE:                                                                         \n",
      "0.86042748                                                                     \n",
      "ERROR                                                                          \n",
      "0.0024213826130971786                                                          \n",
      "SCORE:                                                                         \n",
      "0.85936526                                                                     \n",
      "ERROR                                                                          \n",
      "0.0023273642369963194                                                          \n",
      "SCORE:                                                                         \n",
      "0.8599608599999999                                                             \n",
      "ERROR                                                                          \n",
      "0.0025178940916946485                                                          \n",
      "SCORE:                                                                         \n",
      "0.5                                                                            \n",
      "ERROR                                                                          \n",
      "0.0                                                                            \n",
      "SCORE:                                                                         \n",
      "0.8601447999999999                                                             \n",
      "ERROR                                                                          \n",
      "0.002374445087638119                                                           \n",
      "SCORE:                                                                         \n",
      "0.8602925600000001                                                             \n",
      "ERROR                                                                          \n",
      "0.0024115238092533024                                                          \n",
      "SCORE:                                                                         \n",
      "0.8598508800000001                                                             \n",
      "ERROR                                                                          \n",
      "0.0024415609820492624                                                          \n",
      "SCORE:                                                                         \n",
      "0.8424653799999999                                                             \n",
      "ERROR                                                                          \n",
      "0.003976628325055147                                                           \n",
      "100%|██████████| 50/50 [02:52<00:00,  3.41s/it, best loss: 0.13940110000000006]\n",
      "Optimization Time: %f seconds 172.2915120124817\n",
      "CPU times: user 1h 33s, sys: 3min 6s, total: 1h 3min 40s\n",
      "Wall time: 2min 52s\n"
     ]
    }
   ],
   "source": [
    "%%time\n",
    "trials = Trials()\n",
    "import time\n",
    "start = time.time()\n",
    "best = fmin(fn=objective, space = space, algo = tpe.suggest, max_evals = 50, trials = trials, rstate=np.random.RandomState(seed=0))\n",
    "end = time.time()\n",
    "print(\"Optimization Time: %f seconds\", (end  -start))"
   ]
  },
  {
   "cell_type": "code",
   "execution_count": 6,
   "metadata": {},
   "outputs": [
    {
     "data": {
      "text/plain": [
       "{'x_learning_rate': 0.19849685217702318,\n",
       " 'x_max_depth': 5,\n",
       " 'x_min_child': 4,\n",
       " 'x_subsample': 0.8001495134481562}"
      ]
     },
     "execution_count": 6,
     "metadata": {},
     "output_type": "execute_result"
    }
   ],
   "source": [
    "best"
   ]
  },
  {
   "cell_type": "markdown",
   "metadata": {},
   "source": [
    "# Would have to set num_boost_round=100 to see the same CV score as in our final fitted model\n",
    "\n",
    "We're setting n_estimators=100 in model, which is the equivalent of num_boost_round in CV, so if we use the default in CV (10), we will get slightly lower powerformance"
   ]
  },
  {
   "cell_type": "code",
   "execution_count": 7,
   "metadata": {},
   "outputs": [
    {
     "name": "stdout",
     "output_type": "stream",
     "text": [
      "[0]\ttrain-auc:0.86033+0.00067\ttest-auc:0.85854+0.00266\n",
      "[1]\ttrain-auc:0.86114+0.00070\ttest-auc:0.85943+0.00261\n",
      "[2]\ttrain-auc:0.86187+0.00074\ttest-auc:0.85997+0.00247\n",
      "[3]\ttrain-auc:0.86259+0.00047\ttest-auc:0.86049+0.00256\n",
      "[4]\ttrain-auc:0.86292+0.00048\ttest-auc:0.86079+0.00253\n",
      "[5]\ttrain-auc:0.86329+0.00061\ttest-auc:0.86111+0.00226\n",
      "[6]\ttrain-auc:0.86351+0.00061\ttest-auc:0.86126+0.00234\n",
      "[7]\ttrain-auc:0.86361+0.00060\ttest-auc:0.86145+0.00223\n",
      "[8]\ttrain-auc:0.86372+0.00055\ttest-auc:0.86147+0.00225\n",
      "[9]\ttrain-auc:0.86384+0.00055\ttest-auc:0.86148+0.00225\n",
      "[10]\ttrain-auc:0.86396+0.00054\ttest-auc:0.86151+0.00221\n",
      "[11]\ttrain-auc:0.86403+0.00055\ttest-auc:0.86156+0.00226\n",
      "[12]\ttrain-auc:0.86416+0.00055\ttest-auc:0.86159+0.00223\n",
      "[13]\ttrain-auc:0.86424+0.00055\ttest-auc:0.86161+0.00231\n",
      "[14]\ttrain-auc:0.86432+0.00055\ttest-auc:0.86161+0.00231\n",
      "[15]\ttrain-auc:0.86441+0.00058\ttest-auc:0.86162+0.00230\n",
      "[16]\ttrain-auc:0.86450+0.00059\ttest-auc:0.86162+0.00224\n",
      "[17]\ttrain-auc:0.86461+0.00060\ttest-auc:0.86160+0.00224\n",
      "[18]\ttrain-auc:0.86468+0.00058\ttest-auc:0.86161+0.00224\n",
      "[19]\ttrain-auc:0.86475+0.00055\ttest-auc:0.86158+0.00225\n",
      "[20]\ttrain-auc:0.86484+0.00055\ttest-auc:0.86159+0.00225\n",
      "[21]\ttrain-auc:0.86491+0.00055\ttest-auc:0.86158+0.00226\n",
      "[22]\ttrain-auc:0.86494+0.00053\ttest-auc:0.86160+0.00224\n",
      "[23]\ttrain-auc:0.86499+0.00052\ttest-auc:0.86162+0.00221\n",
      "[24]\ttrain-auc:0.86508+0.00053\ttest-auc:0.86160+0.00222\n",
      "[25]\ttrain-auc:0.86511+0.00053\ttest-auc:0.86160+0.00220\n",
      "[26]\ttrain-auc:0.86525+0.00048\ttest-auc:0.86162+0.00223\n",
      "[27]\ttrain-auc:0.86530+0.00046\ttest-auc:0.86164+0.00223\n",
      "[28]\ttrain-auc:0.86535+0.00043\ttest-auc:0.86163+0.00221\n",
      "[29]\ttrain-auc:0.86540+0.00043\ttest-auc:0.86159+0.00218\n",
      "[30]\ttrain-auc:0.86550+0.00040\ttest-auc:0.86162+0.00221\n",
      "[31]\ttrain-auc:0.86558+0.00045\ttest-auc:0.86161+0.00223\n",
      "[32]\ttrain-auc:0.86566+0.00042\ttest-auc:0.86161+0.00224\n",
      "[33]\ttrain-auc:0.86572+0.00041\ttest-auc:0.86157+0.00225\n",
      "[34]\ttrain-auc:0.86576+0.00041\ttest-auc:0.86158+0.00224\n",
      "[35]\ttrain-auc:0.86584+0.00042\ttest-auc:0.86163+0.00224\n",
      "[36]\ttrain-auc:0.86594+0.00047\ttest-auc:0.86165+0.00226\n",
      "[37]\ttrain-auc:0.86604+0.00046\ttest-auc:0.86164+0.00229\n",
      "[38]\ttrain-auc:0.86608+0.00045\ttest-auc:0.86165+0.00229\n",
      "[39]\ttrain-auc:0.86617+0.00048\ttest-auc:0.86166+0.00232\n",
      "[40]\ttrain-auc:0.86633+0.00047\ttest-auc:0.86162+0.00230\n",
      "[41]\ttrain-auc:0.86636+0.00046\ttest-auc:0.86161+0.00230\n",
      "[42]\ttrain-auc:0.86651+0.00046\ttest-auc:0.86155+0.00233\n",
      "[43]\ttrain-auc:0.86657+0.00046\ttest-auc:0.86158+0.00233\n",
      "[44]\ttrain-auc:0.86671+0.00044\ttest-auc:0.86159+0.00237\n",
      "[45]\ttrain-auc:0.86684+0.00049\ttest-auc:0.86154+0.00237\n",
      "[46]\ttrain-auc:0.86695+0.00042\ttest-auc:0.86154+0.00236\n",
      "[47]\ttrain-auc:0.86699+0.00041\ttest-auc:0.86155+0.00236\n",
      "[48]\ttrain-auc:0.86705+0.00042\ttest-auc:0.86150+0.00230\n",
      "[49]\ttrain-auc:0.86716+0.00044\ttest-auc:0.86150+0.00233\n"
     ]
    }
   ],
   "source": [
    "model = XGBClassifier(learning_rate = best[\"x_learning_rate\"], \n",
    "                         max_depth = int(best[\"x_max_depth\"]), \n",
    "                         subsample = best[\"x_subsample\"],\n",
    "                         min_child_weight = best['x_min_child'])\n",
    "\n",
    "score = xgb.cv(model.get_xgb_params(), dtrain, nfold = 5, metrics = \"auc\", verbose_eval=True, num_boost_round=50)"
   ]
  },
  {
   "cell_type": "code",
   "execution_count": 8,
   "metadata": {},
   "outputs": [
    {
     "data": {
      "text/plain": [
       "Text(0, 0.5, 'CV AUC score')"
      ]
     },
     "execution_count": 8,
     "metadata": {},
     "output_type": "execute_result"
    },
    {
     "data": {
      "image/png": "[encoded data removed]",
      "text/plain": [
       "<Figure size 432x288 with 1 Axes>"
      ]
     },
     "metadata": {
      "needs_background": "light"
     },
     "output_type": "display_data"
    }
   ],
   "source": [
    "n_estimators = 10\n",
    "fig, ax = plt.subplots()\n",
    "ax.plot(score.index, score['train-auc-mean'], label='Train')\n",
    "ax.plot(score.index, score['test-auc-mean'], label='Test')\n",
    "ax.axvline(n_estimators, linestyle='--')\n",
    "ax.legend()\n",
    "ax.set_xlabel('n_estimators (num trees)')\n",
    "ax.set_ylabel('CV AUC score')"
   ]
  },
  {
   "cell_type": "code",
   "execution_count": 9,
   "metadata": {},
   "outputs": [
    {
     "data": {
      "text/plain": [
       "XGBClassifier(base_score=0.5, booster=None, colsample_bylevel=1,\n",
       "              colsample_bynode=1, colsample_bytree=1, gamma=0, gpu_id=-1,\n",
       "              importance_type='gain', interaction_constraints=None,\n",
       "              learning_rate=0.19849685217702318, max_delta_step=0, max_depth=5,\n",
       "              min_child_weight=4, missing=nan, monotone_constraints=None,\n",
       "              n_estimators=10, n_jobs=0, num_parallel_tree=1,\n",
       "              objective='binary:logistic', random_state=0, reg_alpha=0,\n",
       "              reg_lambda=1, scale_pos_weight=1, subsample=0.8001495134481562,\n",
       "              tree_method=None, validate_parameters=False, verbosity=None)"
      ]
     },
     "execution_count": 9,
     "metadata": {},
     "output_type": "execute_result"
    }
   ],
   "source": [
    "model.set_params(n_estimators = n_estimators)\n",
    "model.fit(trainX, trainY)"
   ]
  },
  {
   "cell_type": "code",
   "execution_count": 10,
   "metadata": {},
   "outputs": [],
   "source": [
    "model.save_model(datapath+'../spock/models/megno.json')"
   ]
  },
  {
   "cell_type": "code",
   "execution_count": 11,
   "metadata": {},
   "outputs": [],
   "source": [
    "model = XGBClassifier()\n",
    "model.load_model(datapath+'../spock/models/megno.json')"
   ]
  },
  {
   "cell_type": "code",
   "execution_count": 12,
   "metadata": {},
   "outputs": [
    {
     "data": {
      "text/plain": [
       "Text(0.5, 1.0, 'ROC curve (AUC = 0.865)')"
      ]
     },
     "execution_count": 12,
     "metadata": {},
     "output_type": "execute_result"
    },
    {
     "data": {
      "image/png": "[encoded data removed]",
      "text/plain": [
       "<Figure size 432x288 with 1 Axes>"
      ]
     },
     "metadata": {
      "needs_background": "light"
     },
     "output_type": "display_data"
    }
   ],
   "source": [
    "roc_auc, fpr, tpr, ROCthresholds = ROC_curve(trainingdatafolder, model, features)\n",
    "\n",
    "fig, ax = plt.subplots()\n",
    "ax.plot(fpr, tpr)\n",
    "ax.plot([0, 1], [0, 1], 'k--')\n",
    "ax.set_xlim([0.0, 1.0])\n",
    "ax.set_ylim([0.0, 1.0])\n",
    "ax.set_xlabel('False Positive Rate')\n",
    "ax.set_ylabel('True Positive Rate')\n",
    "ax.set_title('ROC curve (AUC = {0:.3f})'.format(roc_auc))"
   ]
  },
  {
   "cell_type": "code",
   "execution_count": 13,
   "metadata": {},
   "outputs": [
    {
     "name": "stdout",
     "output_type": "stream",
     "text": [
      "Threshold 1.6192336082458496, TPR = 0.0, FPR = 0.0\n",
      "Threshold 0.5975515842437744, TPR = 0.18032477341389727, FPR = 0.028197323838511458\n",
      "Threshold 0.5695075988769531, TPR = 0.3336480362537764, FPR = 0.05696893125825533\n",
      "Threshold 0.5413606762886047, TPR = 0.4259818731117825, FPR = 0.08149084017687934\n",
      "Threshold 0.5075522661209106, TPR = 0.498678247734139, FPR = 0.10262447596623213\n",
      "Threshold 0.48100191354751587, TPR = 0.5968655589123867, FPR = 0.13484178487337048\n",
      "Threshold 0.46871834993362427, TPR = 0.6476586102719033, FPR = 0.15528628036524436\n",
      "Threshold 0.45165640115737915, TPR = 0.6867447129909365, FPR = 0.16958594153793144\n",
      "Threshold 0.4364406168460846, TPR = 0.7481117824773413, FPR = 0.19290185493596737\n",
      "Threshold 0.4255463182926178, TPR = 0.7647280966767371, FPR = 0.19921897432952393\n",
      "Threshold 0.40989693999290466, TPR = 0.7773791540785498, FPR = 0.20496181014184806\n",
      "Threshold 0.39637672901153564, TPR = 0.7843655589123867, FPR = 0.20898179521047494\n",
      "Threshold 0.38585007190704346, TPR = 0.7871978851963746, FPR = 0.21036007580543273\n",
      "Threshold 0.37938734889030457, TPR = 0.7962613293051359, FPR = 0.21627519669212658\n",
      "Threshold 0.36991897225379944, TPR = 0.8019259818731118, FPR = 0.2192614713145351\n",
      "Threshold 0.35880738496780396, TPR = 0.8294939577039275, FPR = 0.23413541606845462\n",
      "Threshold 0.35306572914123535, TPR = 0.8430891238670695, FPR = 0.24269224142881754\n",
      "Threshold 0.3330371379852295, TPR = 0.8644259818731118, FPR = 0.2550967667834377\n",
      "Threshold 0.32353702187538147, TPR = 0.8825528700906344, FPR = 0.26819043243553664\n",
      "Threshold 0.3171709477901459, TPR = 0.8938821752265861, FPR = 0.27680468615402287\n",
      "Threshold 0.29862385988235474, TPR = 0.9012462235649547, FPR = 0.28168609659449834\n",
      "Threshold 0.2881534695625305, TPR = 0.904833836858006, FPR = 0.28478722793315336\n",
      "Threshold 0.2634150981903076, TPR = 0.9055891238670695, FPR = 0.2857635100212485\n",
      "Threshold 0.2514342963695526, TPR = 0.907666163141994, FPR = 0.2891517831505197\n",
      "Threshold 0.24250149726867676, TPR = 0.9250377643504532, FPR = 0.30488715327628785\n",
      "Threshold 0.22875148057937622, TPR = 0.9350453172205438, FPR = 0.3179808189283868\n",
      "Threshold 0.21138425171375275, TPR = 0.941654078549849, FPR = 0.3274564980187216\n",
      "Threshold 0.2003413438796997, TPR = 0.9435422960725075, FPR = 0.32940906219491184\n",
      "Threshold 0.18528030812740326, TPR = 0.9461858006042296, FPR = 0.3356687532303451\n",
      "Threshold 0.17347995936870575, TPR = 0.948262839879154, FPR = 0.3398035950152185\n",
      "Threshold 0.14391671121120453, TPR = 0.9573262839879154, FPR = 0.3640383621432263\n",
      "Threshold 0.13324777781963348, TPR = 0.9648791540785498, FPR = 0.40010337104462185\n",
      "Threshold 0.12350564450025558, TPR = 0.9671450151057401, FPR = 0.41279503818985813\n",
      "Threshold 0.1144537702202797, TPR = 0.9680891238670695, FPR = 0.4161833113191294\n",
      "Threshold 0.10991338640451431, TPR = 0.9741314199395771, FPR = 0.4501808993280882\n",
      "Threshold 0.10477641224861145, TPR = 0.974320241691843, FPR = 0.45592373514041235\n",
      "Threshold 0.10342374444007874, TPR = 0.9752643504531722, FPR = 0.46292999483144776\n",
      "Threshold 0.09880659729242325, TPR = 0.9803625377643505, FPR = 0.49933957388158273\n",
      "Threshold 0.09353137016296387, TPR = 0.9862160120845922, FPR = 0.553437087233676\n",
      "Threshold 0.08871112018823624, TPR = 0.9886706948640483, FPR = 0.5778441394360535\n",
      "Threshold 0.08088561147451401, TPR = 0.9890483383685801, FPR = 0.5892723827025785\n",
      "Threshold 0.07560378313064575, TPR = 0.9907477341389728, FPR = 0.6127605811749842\n"
     ]
    }
   ],
   "source": [
    "for i in range(0,len(tpr), 5):\n",
    "    print(\"Threshold {0}, TPR = {1}, FPR = {2}\".format(ROCthresholds[i], tpr[i], fpr[i]))"
   ]
  },
  {
   "cell_type": "markdown",
   "metadata": {},
   "source": [
    "# AMD"
   ]
  },
  {
   "cell_type": "code",
   "execution_count": 14,
   "metadata": {},
   "outputs": [],
   "source": [
    "features = ['AMDfracnear', 'AMDfracfar']\n",
    "\n",
    "trainX, trainY, testX, testY = train_test_split(trainingdatafolder, features, filter=False)\n",
    "\n",
    "dtrain = xgb.DMatrix(trainX, trainY)\n",
    "dtest = xgb.DMatrix(testX, testY)"
   ]
  },
  {
   "cell_type": "code",
   "execution_count": 15,
   "metadata": {},
   "outputs": [
    {
     "name": "stdout",
     "output_type": "stream",
     "text": [
      "SCORE:                                              \n",
      "0.5                                                 \n",
      "ERROR                                               \n",
      "0.0                                                 \n",
      "SCORE:                                                        \n",
      "0.5                                                           \n",
      "ERROR                                                         \n",
      "0.0                                                           \n",
      "SCORE:                                                        \n",
      "0.7425066600000001                                            \n",
      "ERROR                                                         \n",
      "0.0018383624905309482                                         \n",
      "SCORE:                                                                       \n",
      "0.5                                                                          \n",
      "ERROR                                                                        \n",
      "0.0                                                                          \n",
      "SCORE:                                                                       \n",
      "0.7423607                                                                    \n",
      "ERROR                                                                        \n",
      "0.0018300543665705222                                                        \n",
      "SCORE:                                                                       \n",
      "0.74206788                                                                   \n",
      "ERROR                                                                        \n",
      "0.0014866081014672384                                                        \n",
      "SCORE:                                                                       \n",
      "0.73935894                                                                   \n",
      "ERROR                                                                        \n",
      "0.0016356889581027705                                                        \n",
      "SCORE:                                                                       \n",
      "0.74188106                                                                   \n",
      "ERROR                                                                        \n",
      "0.0013668898419972855                                                        \n",
      "SCORE:                                                                       \n",
      "0.7406057799999999                                                           \n",
      "ERROR                                                                        \n",
      "0.0014713129379540055                                                        \n",
      "SCORE:                                                                       \n",
      "0.7405636400000001                                                           \n",
      "ERROR                                                                        \n",
      "0.0011119955411273612                                                        \n",
      "SCORE:                                                                        \n",
      "0.7285398200000001                                                            \n",
      "ERROR                                                                         \n",
      "0.00287236494631133                                                           \n",
      "SCORE:                                                                        \n",
      "0.7416952000000001                                                            \n",
      "ERROR                                                                         \n",
      "0.0013994033055349435                                                         \n",
      "SCORE:                                                                        \n",
      "0.7029158999999999                                                            \n",
      "ERROR                                                                         \n",
      "0.0036861660169683246                                                         \n",
      "SCORE:                                                                        \n",
      "0.7414008                                                                     \n",
      "ERROR                                                                         \n",
      "0.001286711710927123                                                          \n",
      "SCORE:                                                                        \n",
      "0.74194696                                                                    \n",
      "ERROR                                                                         \n",
      "0.0018404473646858612                                                         \n",
      "SCORE:                                                                        \n",
      "0.74123588                                                                    \n",
      "ERROR                                                                         \n",
      "0.0010547642224346793                                                         \n",
      "SCORE:                                                                        \n",
      "0.74034022                                                                    \n",
      "ERROR                                                                         \n",
      "0.0010957953783505708                                                         \n",
      "SCORE:                                                                        \n",
      "0.7412696400000001                                                            \n",
      "ERROR                                                                         \n",
      "0.001957148562796077                                                          \n",
      "SCORE:                                                                        \n",
      "0.71525954                                                                    \n",
      "ERROR                                                                         \n",
      "0.003593694894353848                                                          \n",
      "SCORE:                                                                        \n",
      "0.74034512                                                                    \n",
      "ERROR                                                                         \n",
      "0.0009056502855761528                                                         \n",
      "SCORE:                                                                        \n",
      "0.7422897199999999                                                            \n",
      "ERROR                                                                         \n",
      "0.0018796655345573478                                                         \n",
      "SCORE:                                                                        \n",
      "0.73723194                                                                    \n",
      "ERROR                                                                         \n",
      "0.0019550716910968703                                                         \n",
      "SCORE:                                                                        \n",
      "0.74205632                                                                    \n",
      "ERROR                                                                         \n",
      "0.0015300748117599103                                                         \n",
      "SCORE:                                                                        \n",
      "0.7421523999999999                                                            \n",
      "ERROR                                                                         \n",
      "0.001857838947427223                                                          \n",
      "SCORE:                                                                        \n",
      "0.74216038                                                                    \n",
      "ERROR                                                                         \n",
      "0.0018009576971378606                                                         \n",
      "SCORE:                                                                        \n",
      "0.74246124                                                                    \n",
      "ERROR                                                                         \n",
      "0.0018632855889315074                                                         \n",
      "SCORE:                                                                        \n",
      "0.7028955800000001                                                            \n"
     ]
    },
    {
     "name": "stdout",
     "output_type": "stream",
     "text": [
      "ERROR                                                                         \n",
      "0.0035956899776995372                                                         \n",
      "SCORE:                                                                        \n",
      "0.7401003600000001                                                            \n",
      "ERROR                                                                         \n",
      "0.0017059383262709265                                                         \n",
      "SCORE:                                                                        \n",
      "0.7423917600000001                                                            \n",
      "ERROR                                                                         \n",
      "0.0016828926328187979                                                         \n",
      "SCORE:                                                                        \n",
      "0.73735856                                                                    \n",
      "ERROR                                                                         \n",
      "0.0021619089757145965                                                         \n",
      "SCORE:                                                                        \n",
      "0.74219414                                                                    \n",
      "ERROR                                                                         \n",
      "0.0019154248805444269                                                         \n",
      "SCORE:                                                                        \n",
      "0.5                                                                           \n",
      "ERROR                                                                         \n",
      "0.0                                                                           \n",
      "SCORE:                                                                        \n",
      "0.7424082599999999                                                            \n",
      "ERROR                                                                         \n",
      "0.0017582804381663676                                                         \n",
      "SCORE:                                                                        \n",
      "0.5                                                                           \n",
      "ERROR                                                                         \n",
      "0.0                                                                           \n",
      "SCORE:                                                                        \n",
      "0.74185878                                                                    \n",
      "ERROR                                                                         \n",
      "0.0016770239679697748                                                         \n",
      "SCORE:                                                                        \n",
      "0.74070292                                                                    \n",
      "ERROR                                                                         \n",
      "0.00186441431469372                                                           \n",
      "SCORE:                                                                        \n",
      "0.70376814                                                                    \n",
      "ERROR                                                                         \n",
      "0.0034902626879327473                                                         \n",
      "SCORE:                                                                        \n",
      "0.7350109999999999                                                            \n",
      "ERROR                                                                         \n",
      "0.002136756035268351                                                          \n",
      "SCORE:                                                                        \n",
      "0.7257784399999999                                                            \n",
      "ERROR                                                                         \n",
      "0.0030223261696473414                                                         \n",
      "SCORE:                                                                        \n",
      "0.7420247000000001                                                            \n",
      "ERROR                                                                         \n",
      "0.0011694613208743903                                                         \n",
      "SCORE:                                                                        \n",
      "0.7423802199999999                                                            \n",
      "ERROR                                                                         \n",
      "0.001584756409288309                                                          \n",
      "SCORE:                                                                        \n",
      "0.74219002                                                                    \n",
      "ERROR                                                                         \n",
      "0.0017555974914215968                                                         \n",
      "SCORE:                                                                        \n",
      "0.74096778                                                                    \n",
      "ERROR                                                                         \n",
      "0.0013825369887709685                                                         \n",
      "SCORE:                                                                        \n",
      "0.5                                                                           \n",
      "ERROR                                                                         \n",
      "0.0                                                                           \n",
      "SCORE:                                                                        \n",
      "0.7417173000000001                                                            \n",
      "ERROR                                                                         \n",
      "0.0014432422804886232                                                         \n",
      "SCORE:                                                                        \n",
      "0.7420260799999999                                                            \n",
      "ERROR                                                                         \n",
      "0.0018734572708988995                                                         \n",
      "SCORE:                                                                        \n",
      "0.7390258199999999                                                            \n",
      "ERROR                                                                         \n",
      "0.0016056516314138913                                                         \n",
      "SCORE:                                                                        \n",
      "0.74129136                                                                    \n",
      "ERROR                                                                         \n",
      "0.0016699256694625822                                                         \n",
      "SCORE:                                                                        \n",
      "0.72748692                                                                    \n",
      "ERROR                                                                         \n",
      "0.0027047781002226116                                                         \n",
      "SCORE:                                                                        \n",
      "0.741754                                                                      \n",
      "ERROR                                                                         \n",
      "0.0020016290668945533                                                         \n",
      "100%|██████████| 50/50 [01:27<00:00,  1.79s/it, best loss: 0.2574933399999999]\n",
      "Optimization Time: %f seconds 87.81720876693726\n",
      "CPU times: user 1h 4min 30s, sys: 1min 19s, total: 1h 5min 50s\n",
      "Wall time: 1min 27s\n"
     ]
    }
   ],
   "source": [
    "%%time\n",
    "trials = Trials()\n",
    "import time\n",
    "start = time.time()\n",
    "best = fmin(fn=objective, space = space, algo = tpe.suggest, max_evals = 50, trials = trials, rstate=np.random.RandomState(seed=0))\n",
    "end = time.time()\n",
    "print(\"Optimization Time: %f seconds\", (end  -start))"
   ]
  },
  {
   "cell_type": "code",
   "execution_count": 16,
   "metadata": {},
   "outputs": [
    {
     "data": {
      "text/plain": [
       "{'x_learning_rate': 0.1826032909972951,\n",
       " 'x_max_depth': 5,\n",
       " 'x_min_child': 14,\n",
       " 'x_subsample': 0.8516743323945497}"
      ]
     },
     "execution_count": 16,
     "metadata": {},
     "output_type": "execute_result"
    }
   ],
   "source": [
    "best"
   ]
  },
  {
   "cell_type": "code",
   "execution_count": 17,
   "metadata": {},
   "outputs": [
    {
     "name": "stdout",
     "output_type": "stream",
     "text": [
      "[0]\ttrain-auc:0.74288+0.00058\ttest-auc:0.73871+0.00270\n",
      "[1]\ttrain-auc:0.74517+0.00080\ttest-auc:0.74115+0.00169\n",
      "[2]\ttrain-auc:0.74599+0.00068\ttest-auc:0.74209+0.00160\n",
      "[3]\ttrain-auc:0.74653+0.00048\ttest-auc:0.74261+0.00176\n",
      "[4]\ttrain-auc:0.74686+0.00051\ttest-auc:0.74310+0.00160\n",
      "[5]\ttrain-auc:0.74718+0.00050\ttest-auc:0.74340+0.00182\n",
      "[6]\ttrain-auc:0.74740+0.00063\ttest-auc:0.74336+0.00177\n",
      "[7]\ttrain-auc:0.74760+0.00060\ttest-auc:0.74343+0.00179\n",
      "[8]\ttrain-auc:0.74791+0.00061\ttest-auc:0.74362+0.00181\n",
      "[9]\ttrain-auc:0.74818+0.00065\ttest-auc:0.74359+0.00184\n",
      "[10]\ttrain-auc:0.74832+0.00074\ttest-auc:0.74351+0.00192\n",
      "[11]\ttrain-auc:0.74844+0.00064\ttest-auc:0.74368+0.00195\n",
      "[12]\ttrain-auc:0.74860+0.00064\ttest-auc:0.74369+0.00183\n",
      "[13]\ttrain-auc:0.74876+0.00062\ttest-auc:0.74375+0.00195\n",
      "[14]\ttrain-auc:0.74896+0.00061\ttest-auc:0.74369+0.00187\n",
      "[15]\ttrain-auc:0.74914+0.00060\ttest-auc:0.74365+0.00191\n",
      "[16]\ttrain-auc:0.74937+0.00063\ttest-auc:0.74361+0.00182\n",
      "[17]\ttrain-auc:0.74955+0.00066\ttest-auc:0.74357+0.00184\n",
      "[18]\ttrain-auc:0.74978+0.00068\ttest-auc:0.74349+0.00195\n",
      "[19]\ttrain-auc:0.74994+0.00065\ttest-auc:0.74345+0.00194\n",
      "[20]\ttrain-auc:0.75010+0.00067\ttest-auc:0.74344+0.00202\n",
      "[21]\ttrain-auc:0.75026+0.00067\ttest-auc:0.74343+0.00206\n",
      "[22]\ttrain-auc:0.75040+0.00064\ttest-auc:0.74344+0.00205\n",
      "[23]\ttrain-auc:0.75057+0.00063\ttest-auc:0.74339+0.00204\n",
      "[24]\ttrain-auc:0.75067+0.00062\ttest-auc:0.74344+0.00208\n",
      "[25]\ttrain-auc:0.75086+0.00065\ttest-auc:0.74348+0.00213\n",
      "[26]\ttrain-auc:0.75105+0.00062\ttest-auc:0.74343+0.00206\n",
      "[27]\ttrain-auc:0.75123+0.00068\ttest-auc:0.74341+0.00209\n",
      "[28]\ttrain-auc:0.75137+0.00068\ttest-auc:0.74333+0.00207\n",
      "[29]\ttrain-auc:0.75161+0.00069\ttest-auc:0.74330+0.00203\n",
      "[30]\ttrain-auc:0.75174+0.00068\ttest-auc:0.74330+0.00201\n",
      "[31]\ttrain-auc:0.75188+0.00069\ttest-auc:0.74332+0.00205\n",
      "[32]\ttrain-auc:0.75201+0.00079\ttest-auc:0.74329+0.00201\n",
      "[33]\ttrain-auc:0.75215+0.00071\ttest-auc:0.74332+0.00204\n",
      "[34]\ttrain-auc:0.75238+0.00082\ttest-auc:0.74335+0.00200\n",
      "[35]\ttrain-auc:0.75255+0.00083\ttest-auc:0.74332+0.00201\n",
      "[36]\ttrain-auc:0.75275+0.00092\ttest-auc:0.74335+0.00195\n",
      "[37]\ttrain-auc:0.75285+0.00097\ttest-auc:0.74335+0.00196\n",
      "[38]\ttrain-auc:0.75305+0.00090\ttest-auc:0.74338+0.00198\n",
      "[39]\ttrain-auc:0.75325+0.00076\ttest-auc:0.74339+0.00200\n",
      "[40]\ttrain-auc:0.75335+0.00074\ttest-auc:0.74342+0.00199\n",
      "[41]\ttrain-auc:0.75352+0.00078\ttest-auc:0.74336+0.00196\n",
      "[42]\ttrain-auc:0.75366+0.00080\ttest-auc:0.74343+0.00196\n",
      "[43]\ttrain-auc:0.75378+0.00085\ttest-auc:0.74344+0.00193\n",
      "[44]\ttrain-auc:0.75406+0.00088\ttest-auc:0.74343+0.00200\n",
      "[45]\ttrain-auc:0.75422+0.00094\ttest-auc:0.74337+0.00200\n",
      "[46]\ttrain-auc:0.75436+0.00099\ttest-auc:0.74338+0.00201\n",
      "[47]\ttrain-auc:0.75449+0.00101\ttest-auc:0.74333+0.00198\n",
      "[48]\ttrain-auc:0.75465+0.00101\ttest-auc:0.74335+0.00200\n",
      "[49]\ttrain-auc:0.75479+0.00110\ttest-auc:0.74334+0.00203\n"
     ]
    }
   ],
   "source": [
    "model = XGBClassifier(learning_rate = best[\"x_learning_rate\"], \n",
    "                         max_depth = int(best[\"x_max_depth\"]), \n",
    "                         subsample = best[\"x_subsample\"],\n",
    "                         min_child_weight = best['x_min_child'])\n",
    "\n",
    "score = xgb.cv(model.get_xgb_params(), dtrain, nfold = 5, metrics = \"auc\", verbose_eval=True, num_boost_round=50)"
   ]
  },
  {
   "cell_type": "code",
   "execution_count": 18,
   "metadata": {},
   "outputs": [
    {
     "data": {
      "text/plain": [
       "Text(0, 0.5, 'CV AUC score')"
      ]
     },
     "execution_count": 18,
     "metadata": {},
     "output_type": "execute_result"
    },
    {
     "data": {
      "image/png": "[encoded data removed]",
      "text/plain": [
       "<Figure size 432x288 with 1 Axes>"
      ]
     },
     "metadata": {
      "needs_background": "light"
     },
     "output_type": "display_data"
    }
   ],
   "source": [
    "n_estimators = 6\n",
    "fig, ax = plt.subplots()\n",
    "ax.plot(score.index, score['train-auc-mean'], label='Train')\n",
    "ax.plot(score.index, score['test-auc-mean'], label='Test')\n",
    "ax.axvline(n_estimators, linestyle='--')\n",
    "ax.legend()\n",
    "ax.set_xlabel('n_estimators (num trees)')\n",
    "ax.set_ylabel('CV AUC score')"
   ]
  },
  {
   "cell_type": "code",
   "execution_count": 19,
   "metadata": {},
   "outputs": [
    {
     "data": {
      "text/plain": [
       "XGBClassifier(base_score=0.5, booster=None, colsample_bylevel=1,\n",
       "              colsample_bynode=1, colsample_bytree=1, gamma=0, gpu_id=-1,\n",
       "              importance_type='gain', interaction_constraints=None,\n",
       "              learning_rate=0.1826032909972951, max_delta_step=0, max_depth=5,\n",
       "              min_child_weight=14, missing=nan, monotone_constraints=None,\n",
       "              n_estimators=6, n_jobs=0, num_parallel_tree=1,\n",
       "              objective='binary:logistic', random_state=0, reg_alpha=0,\n",
       "              reg_lambda=1, scale_pos_weight=1, subsample=0.8516743323945497,\n",
       "              tree_method=None, validate_parameters=False, verbosity=None)"
      ]
     },
     "execution_count": 19,
     "metadata": {},
     "output_type": "execute_result"
    }
   ],
   "source": [
    "model.set_params(n_estimators = n_estimators)\n",
    "model.fit(trainX, trainY)"
   ]
  },
  {
   "cell_type": "code",
   "execution_count": 20,
   "metadata": {},
   "outputs": [],
   "source": [
    "model.save_model(datapath+'../spock/models/AMD.json')"
   ]
  },
  {
   "cell_type": "code",
   "execution_count": 21,
   "metadata": {},
   "outputs": [],
   "source": [
    "model = XGBClassifier()\n",
    "model.load_model(datapath+'../spock/models/AMD.json')"
   ]
  },
  {
   "cell_type": "code",
   "execution_count": 22,
   "metadata": {},
   "outputs": [
    {
     "data": {
      "text/plain": [
       "Text(0.5, 1.0, 'ROC curve (AUC = 0.739)')"
      ]
     },
     "execution_count": 22,
     "metadata": {},
     "output_type": "execute_result"
    },
    {
     "data": {
      "image/png": "[encoded data removed]",
      "text/plain": [
       "<Figure size 432x288 with 1 Axes>"
      ]
     },
     "metadata": {
      "needs_background": "light"
     },
     "output_type": "display_data"
    }
   ],
   "source": [
    "roc_auc, fpr, tpr, ROCthresholds = ROC_curve(trainingdatafolder, model, features)\n",
    "\n",
    "fig, ax = plt.subplots()\n",
    "ax.plot(fpr, tpr)\n",
    "ax.plot([0, 1], [0, 1], 'k--')\n",
    "ax.set_xlim([0.0, 1.0])\n",
    "ax.set_ylim([0.0, 1.0])\n",
    "ax.set_xlabel('False Positive Rate')\n",
    "ax.set_ylabel('True Positive Rate')\n",
    "ax.set_title('ROC curve (AUC = {0:.3f})'.format(roc_auc))"
   ]
  },
  {
   "cell_type": "markdown",
   "metadata": {},
   "source": [
    "# Hill"
   ]
  },
  {
   "cell_type": "code",
   "execution_count": 23,
   "metadata": {},
   "outputs": [],
   "source": [
    "features = ['betanear', 'betafar']\n",
    "\n",
    "trainX, trainY, testX, testY = train_test_split(trainingdatafolder, features, filter=False)\n",
    "\n",
    "dtrain = xgb.DMatrix(trainX, trainY)\n",
    "dtest = xgb.DMatrix(testX, testY)"
   ]
  },
  {
   "cell_type": "code",
   "execution_count": 24,
   "metadata": {},
   "outputs": [
    {
     "name": "stdout",
     "output_type": "stream",
     "text": [
      "SCORE:                                              \n",
      "0.5                                                 \n",
      "ERROR                                               \n",
      "0.0                                                 \n",
      "SCORE:                                                        \n",
      "0.5                                                           \n",
      "ERROR                                                         \n",
      "0.0                                                           \n",
      "SCORE:                                                        \n",
      "0.72115924                                                    \n",
      "ERROR                                                         \n",
      "0.0008330271555922819                                         \n",
      "SCORE:                                                               \n",
      "0.5                                                                  \n",
      "ERROR                                                                \n",
      "0.0                                                                  \n",
      "SCORE:                                                               \n",
      "0.7211864600000001                                                   \n",
      "ERROR                                                                \n",
      "0.001024247562633356                                                 \n",
      "SCORE:                                                                       \n",
      "0.7210152                                                                    \n",
      "ERROR                                                                        \n",
      "0.0012891295435311686                                                        \n",
      "SCORE:                                                                       \n",
      "0.7189844400000001                                                           \n",
      "ERROR                                                                        \n",
      "0.0008143293245667666                                                        \n",
      "SCORE:                                                                       \n",
      "0.72107388                                                                   \n",
      "ERROR                                                                        \n",
      "0.001112584275036845                                                         \n",
      "SCORE:                                                                       \n",
      "0.71979868                                                                   \n",
      "ERROR                                                                        \n",
      "0.0010952097519445502                                                        \n",
      "SCORE:                                                                       \n",
      "0.7199796                                                                    \n",
      "ERROR                                                                        \n",
      "0.0010404163974605351                                                        \n",
      "SCORE:                                                                        \n",
      "0.7089640800000001                                                            \n",
      "ERROR                                                                         \n",
      "0.0014402606669414485                                                         \n",
      "SCORE:                                                                        \n",
      "0.7207006                                                                     \n",
      "ERROR                                                                         \n",
      "0.0010152414469969413                                                         \n",
      "SCORE:                                                                        \n",
      "0.68089504                                                                    \n",
      "ERROR                                                                         \n",
      "0.0026050810899064824                                                         \n",
      "SCORE:                                                                        \n",
      "0.72049582                                                                    \n",
      "ERROR                                                                         \n",
      "0.0009098410985073568                                                         \n",
      "SCORE:                                                                        \n",
      "0.7205538600000001                                                            \n",
      "ERROR                                                                         \n",
      "0.0007410438626102028                                                         \n",
      "SCORE:                                                                        \n",
      "0.72053148                                                                    \n",
      "ERROR                                                                         \n",
      "0.001445681865042224                                                          \n",
      "SCORE:                                                                        \n",
      "0.7188296399999999                                                            \n",
      "ERROR                                                                         \n",
      "0.0011989258430910841                                                         \n",
      "SCORE:                                                                        \n",
      "0.71962054                                                                    \n",
      "ERROR                                                                         \n",
      "0.0008076262383091932                                                         \n",
      "SCORE:                                                                        \n",
      "0.6985823                                                                     \n",
      "ERROR                                                                         \n",
      "0.001738956564336629                                                          \n",
      "SCORE:                                                                        \n",
      "0.72051068                                                                    \n",
      "ERROR                                                                         \n",
      "0.0012489087705798388                                                         \n",
      "SCORE:                                                                        \n",
      "0.72109424                                                                    \n",
      "ERROR                                                                         \n",
      "0.0011109970010328607                                                         \n",
      "SCORE:                                                                        \n",
      "0.71725764                                                                    \n",
      "ERROR                                                                         \n",
      "0.00082641215826986                                                           \n",
      "SCORE:                                                                        \n",
      "0.7212747800000001                                                            \n",
      "ERROR                                                                         \n",
      "0.001114904812316702                                                          \n",
      "SCORE:                                                                        \n",
      "0.72133394                                                                    \n",
      "ERROR                                                                         \n",
      "0.0009019527712142642                                                         \n",
      "SCORE:                                                                         \n",
      "0.7212724199999999                                                             \n",
      "ERROR                                                                          \n",
      "0.0009558868990680239                                                          \n",
      "SCORE:                                                                         \n",
      "0.72158404                                                                     \n",
      "ERROR                                                                          \n",
      "0.0008107659980416453                                                          \n",
      "SCORE:                                                                         \n",
      "0.72119314                                                            \n",
      "ERROR                                                                 \n"
     ]
    },
    {
     "name": "stdout",
     "output_type": "stream",
     "text": [
      "0.0008770154764299766                                                 \n",
      "SCORE:                                                                \n",
      "0.7212758399999999                                                    \n",
      "ERROR                                                                 \n",
      "0.0008108366953093547                                                 \n",
      "SCORE:                                                                \n",
      "0.7210861800000001                                                    \n",
      "ERROR                                                                 \n",
      "0.0005725149122170598                                                 \n",
      "SCORE:                                                                \n",
      "0.72109016                                                            \n",
      "ERROR                                                                 \n",
      "0.000879679060593273                                                  \n",
      "SCORE:                                                                \n",
      "0.7173930399999999                                                    \n",
      "ERROR                                                                 \n",
      "0.0008221982687751008                                                 \n",
      "SCORE:                                                                \n",
      "0.71997958                                                            \n",
      "ERROR                                                                 \n",
      "0.0011113375058739165                                                 \n",
      "SCORE:                                                                \n",
      "0.6885393200000001                                                    \n",
      "ERROR                                                                 \n",
      "0.002640524509581291                                                  \n",
      "SCORE:                                                                \n",
      "0.5                                                                   \n",
      "ERROR                                                                 \n",
      "0.0                                                                   \n",
      "SCORE:                                                                \n",
      "0.72091792                                                            \n",
      "ERROR                                                                 \n",
      "0.0009510455401694392                                                 \n",
      "SCORE:                                                                \n",
      "0.5                                                                   \n",
      "ERROR                                                                 \n",
      "0.0                                                                   \n",
      "SCORE:                                                                \n",
      "0.72072866                                                            \n",
      "ERROR                                                                 \n",
      "0.000931131784169702                                                  \n",
      "SCORE:                                                                \n",
      "0.71954356                                                            \n",
      "ERROR                                                                 \n",
      "0.0009872628702215166                                                 \n",
      "SCORE:                                                                \n",
      "0.70661626                                                            \n",
      "ERROR                                                                 \n",
      "0.0021679984378099064                                                 \n",
      "SCORE:                                                                \n",
      "0.72135774                                                            \n",
      "ERROR                                                                 \n",
      "0.0007750064814435017                                                 \n",
      "SCORE:                                                                \n",
      "0.7211977                                                             \n",
      "ERROR                                                                 \n",
      "0.0011103171668392846                                                 \n",
      "SCORE:                                                                \n",
      "0.67456664                                                            \n",
      "ERROR                                                                 \n",
      "0.004705430803925409                                                  \n",
      "SCORE:                                                                \n",
      "0.7152885                                                             \n",
      "ERROR                                                                 \n",
      "0.001052259416516652                                                  \n",
      "SCORE:                                                                \n",
      "0.7193781                                                             \n",
      "ERROR                                                                 \n",
      "0.0012145389904772773                                                 \n",
      "SCORE:                                                                \n",
      "0.5                                                                   \n",
      "ERROR                                                                 \n",
      "0.0                                                                   \n",
      "SCORE:                                                                \n",
      "0.7205851400000001                                                    \n",
      "ERROR                                                                 \n",
      "0.000983265924767079                                                  \n",
      "SCORE:                                                                \n",
      "0.7209937                                                             \n",
      "ERROR                                                                 \n",
      "0.0010679364567604246                                                 \n",
      "SCORE:                                                                \n",
      "0.7209426200000001                                                    \n",
      "ERROR                                                                 \n",
      "0.0009546660090808664                                                 \n",
      "SCORE:                                                                \n",
      "0.7181739                                                             \n",
      "ERROR                                                                 \n",
      "0.0007590271457591988                                                 \n",
      "SCORE:                                                                \n",
      "0.70821692                                                            \n",
      "ERROR                                                                 \n",
      "0.0019920445357001016                                                 \n",
      "100%|██████████| 50/50 [02:22<00:00,  1.25s/it, best loss: 0.27841596]\n",
      "Optimization Time: %f seconds 142.88599467277527\n",
      "CPU times: user 55min 30s, sys: 2min 26s, total: 57min 56s\n",
      "Wall time: 2min 22s\n"
     ]
    }
   ],
   "source": [
    "%%time\n",
    "trials = Trials()\n",
    "import time\n",
    "start = time.time()\n",
    "best = fmin(fn=objective, space = space, algo = tpe.suggest, max_evals = 50, trials = trials, rstate=np.random.RandomState(seed=0))\n",
    "end = time.time()\n",
    "print(\"Optimization Time: %f seconds\", (end  -start))"
   ]
  },
  {
   "cell_type": "code",
   "execution_count": 25,
   "metadata": {},
   "outputs": [
    {
     "data": {
      "text/plain": [
       "{'x_learning_rate': 0.19849685217702318,\n",
       " 'x_max_depth': 6,\n",
       " 'x_min_child': 4,\n",
       " 'x_subsample': 0.8001495134481562}"
      ]
     },
     "execution_count": 25,
     "metadata": {},
     "output_type": "execute_result"
    }
   ],
   "source": [
    "best"
   ]
  },
  {
   "cell_type": "code",
   "execution_count": 26,
   "metadata": {},
   "outputs": [
    {
     "name": "stdout",
     "output_type": "stream",
     "text": [
      "[0]\ttrain-auc:0.72514+0.00062\ttest-auc:0.71680+0.00182\n",
      "[1]\ttrain-auc:0.72853+0.00052\ttest-auc:0.71992+0.00052\n",
      "[2]\ttrain-auc:0.72994+0.00040\ttest-auc:0.72115+0.00077\n",
      "[3]\ttrain-auc:0.73103+0.00019\ttest-auc:0.72169+0.00089\n",
      "[4]\ttrain-auc:0.73185+0.00026\ttest-auc:0.72200+0.00081\n",
      "[5]\ttrain-auc:0.73251+0.00015\ttest-auc:0.72236+0.00066\n",
      "[6]\ttrain-auc:0.73300+0.00030\ttest-auc:0.72268+0.00063\n",
      "[7]\ttrain-auc:0.73343+0.00023\ttest-auc:0.72294+0.00067\n",
      "[8]\ttrain-auc:0.73384+0.00024\ttest-auc:0.72305+0.00068\n",
      "[9]\ttrain-auc:0.73432+0.00033\ttest-auc:0.72324+0.00067\n",
      "[10]\ttrain-auc:0.73468+0.00033\ttest-auc:0.72319+0.00077\n",
      "[11]\ttrain-auc:0.73501+0.00030\ttest-auc:0.72321+0.00082\n",
      "[12]\ttrain-auc:0.73531+0.00028\ttest-auc:0.72326+0.00083\n",
      "[13]\ttrain-auc:0.73569+0.00035\ttest-auc:0.72328+0.00076\n",
      "[14]\ttrain-auc:0.73607+0.00032\ttest-auc:0.72327+0.00082\n",
      "[15]\ttrain-auc:0.73636+0.00034\ttest-auc:0.72332+0.00091\n",
      "[16]\ttrain-auc:0.73671+0.00026\ttest-auc:0.72337+0.00088\n",
      "[17]\ttrain-auc:0.73711+0.00035\ttest-auc:0.72335+0.00088\n",
      "[18]\ttrain-auc:0.73737+0.00037\ttest-auc:0.72339+0.00086\n",
      "[19]\ttrain-auc:0.73773+0.00023\ttest-auc:0.72343+0.00087\n",
      "[20]\ttrain-auc:0.73801+0.00025\ttest-auc:0.72345+0.00090\n",
      "[21]\ttrain-auc:0.73836+0.00028\ttest-auc:0.72347+0.00087\n",
      "[22]\ttrain-auc:0.73860+0.00025\ttest-auc:0.72346+0.00090\n",
      "[23]\ttrain-auc:0.73893+0.00034\ttest-auc:0.72350+0.00088\n",
      "[24]\ttrain-auc:0.73933+0.00023\ttest-auc:0.72353+0.00082\n",
      "[25]\ttrain-auc:0.73965+0.00026\ttest-auc:0.72352+0.00090\n",
      "[26]\ttrain-auc:0.73987+0.00022\ttest-auc:0.72353+0.00090\n",
      "[27]\ttrain-auc:0.74027+0.00021\ttest-auc:0.72351+0.00086\n",
      "[28]\ttrain-auc:0.74051+0.00019\ttest-auc:0.72353+0.00097\n",
      "[29]\ttrain-auc:0.74098+0.00009\ttest-auc:0.72353+0.00103\n",
      "[30]\ttrain-auc:0.74131+0.00005\ttest-auc:0.72357+0.00109\n",
      "[31]\ttrain-auc:0.74144+0.00014\ttest-auc:0.72353+0.00107\n",
      "[32]\ttrain-auc:0.74180+0.00013\ttest-auc:0.72361+0.00112\n",
      "[33]\ttrain-auc:0.74213+0.00018\ttest-auc:0.72361+0.00110\n",
      "[34]\ttrain-auc:0.74240+0.00028\ttest-auc:0.72357+0.00106\n",
      "[35]\ttrain-auc:0.74281+0.00040\ttest-auc:0.72369+0.00096\n",
      "[36]\ttrain-auc:0.74318+0.00044\ttest-auc:0.72370+0.00100\n",
      "[37]\ttrain-auc:0.74344+0.00040\ttest-auc:0.72369+0.00095\n",
      "[38]\ttrain-auc:0.74378+0.00030\ttest-auc:0.72363+0.00095\n",
      "[39]\ttrain-auc:0.74413+0.00031\ttest-auc:0.72365+0.00092\n",
      "[40]\ttrain-auc:0.74458+0.00024\ttest-auc:0.72368+0.00090\n",
      "[41]\ttrain-auc:0.74498+0.00029\ttest-auc:0.72362+0.00089\n",
      "[42]\ttrain-auc:0.74531+0.00042\ttest-auc:0.72353+0.00095\n",
      "[43]\ttrain-auc:0.74571+0.00046\ttest-auc:0.72340+0.00091\n",
      "[44]\ttrain-auc:0.74607+0.00054\ttest-auc:0.72336+0.00092\n",
      "[45]\ttrain-auc:0.74649+0.00052\ttest-auc:0.72332+0.00098\n",
      "[46]\ttrain-auc:0.74674+0.00057\ttest-auc:0.72333+0.00095\n",
      "[47]\ttrain-auc:0.74698+0.00046\ttest-auc:0.72337+0.00096\n",
      "[48]\ttrain-auc:0.74727+0.00049\ttest-auc:0.72335+0.00095\n",
      "[49]\ttrain-auc:0.74757+0.00047\ttest-auc:0.72334+0.00100\n"
     ]
    }
   ],
   "source": [
    "model = XGBClassifier(learning_rate = best[\"x_learning_rate\"], \n",
    "                         max_depth = int(best[\"x_max_depth\"]), \n",
    "                         subsample = best[\"x_subsample\"],\n",
    "                         min_child_weight = best['x_min_child'])\n",
    "\n",
    "score = xgb.cv(model.get_xgb_params(), dtrain, nfold = 5, metrics = \"auc\", verbose_eval=True, num_boost_round=50)"
   ]
  },
  {
   "cell_type": "code",
   "execution_count": 27,
   "metadata": {},
   "outputs": [
    {
     "data": {
      "text/plain": [
       "Text(0, 0.5, 'CV AUC score')"
      ]
     },
     "execution_count": 27,
     "metadata": {},
     "output_type": "execute_result"
    },
    {
     "data": {
      "image/png": "[encoded data removed]",
      "text/plain": [
       "<Figure size 432x288 with 1 Axes>"
      ]
     },
     "metadata": {
      "needs_background": "light"
     },
     "output_type": "display_data"
    }
   ],
   "source": [
    "n_estimators = 8\n",
    "fig, ax = plt.subplots()\n",
    "ax.plot(score.index, score['train-auc-mean'], label='Train')\n",
    "ax.plot(score.index, score['test-auc-mean'], label='Test')\n",
    "ax.axvline(n_estimators, linestyle='--')\n",
    "ax.legend()\n",
    "ax.set_xlabel('n_estimators (num trees)')\n",
    "ax.set_ylabel('CV AUC score')"
   ]
  },
  {
   "cell_type": "code",
   "execution_count": 28,
   "metadata": {},
   "outputs": [
    {
     "data": {
      "text/plain": [
       "XGBClassifier(base_score=0.5, booster=None, colsample_bylevel=1,\n",
       "              colsample_bynode=1, colsample_bytree=1, gamma=0, gpu_id=-1,\n",
       "              importance_type='gain', interaction_constraints=None,\n",
       "              learning_rate=0.19849685217702318, max_delta_step=0, max_depth=6,\n",
       "              min_child_weight=4, missing=nan, monotone_constraints=None,\n",
       "              n_estimators=8, n_jobs=0, num_parallel_tree=1,\n",
       "              objective='binary:logistic', random_state=0, reg_alpha=0,\n",
       "              reg_lambda=1, scale_pos_weight=1, subsample=0.8001495134481562,\n",
       "              tree_method=None, validate_parameters=False, verbosity=None)"
      ]
     },
     "execution_count": 28,
     "metadata": {},
     "output_type": "execute_result"
    }
   ],
   "source": [
    "model.set_params(n_estimators = n_estimators)\n",
    "model.fit(trainX, trainY)"
   ]
  },
  {
   "cell_type": "code",
   "execution_count": 29,
   "metadata": {},
   "outputs": [],
   "source": [
    "model.save_model(datapath+'../spock/models/hill.json')"
   ]
  },
  {
   "cell_type": "code",
   "execution_count": 30,
   "metadata": {},
   "outputs": [],
   "source": [
    "model = XGBClassifier()\n",
    "model.load_model(datapath+'../spock/models/hill.json')"
   ]
  },
  {
   "cell_type": "code",
   "execution_count": 31,
   "metadata": {},
   "outputs": [
    {
     "data": {
      "text/plain": [
       "Text(0.5, 1.0, 'ROC curve (AUC = 0.725)')"
      ]
     },
     "execution_count": 31,
     "metadata": {},
     "output_type": "execute_result"
    },
    {
     "data": {
      "image/png": "[encoded data removed]",
      "text/plain": [
       "<Figure size 432x288 with 1 Axes>"
      ]
     },
     "metadata": {
      "needs_background": "light"
     },
     "output_type": "display_data"
    }
   ],
   "source": [
    "roc_auc, fpr, tpr, ROCthresholds = ROC_curve(trainingdatafolder, model, features)\n",
    "\n",
    "fig, ax = plt.subplots()\n",
    "ax.plot(fpr, tpr)\n",
    "ax.plot([0, 1], [0, 1], 'k--')\n",
    "ax.set_xlim([0.0, 1.0])\n",
    "ax.set_ylim([0.0, 1.0])\n",
    "ax.set_xlabel('False Positive Rate')\n",
    "ax.set_ylabel('True Positive Rate')\n",
    "ax.set_title('ROC curve (AUC = {0:.3f})'.format(roc_auc))"
   ]
  },
  {
   "cell_type": "markdown",
   "metadata": {},
   "source": [
    "# N-body"
   ]
  },
  {
   "cell_type": "code",
   "execution_count": 32,
   "metadata": {},
   "outputs": [],
   "source": [
    "datapath = '../training_data/'\n",
    "dset = 'resonant/'\n",
    "featurefolder = 'shadowtimes/'\n",
    "trainingdatafolder = datapath+dset+featurefolder\n",
    "features=None"
   ]
  },
  {
   "cell_type": "code",
   "execution_count": 33,
   "metadata": {},
   "outputs": [],
   "source": [
    "trainingdatafolder = datapath+dset+featurefolder\n",
    "trainX, trainY, testX, testY = train_test_split(trainingdatafolder, features)\n",
    "dtrain = xgb.DMatrix(trainX, trainY)\n",
    "dtest = xgb.DMatrix(testX, testY)"
   ]
  },
  {
   "cell_type": "code",
   "execution_count": 34,
   "metadata": {},
   "outputs": [],
   "source": [
    "shadowstable = trainX['shadow_instability_time'] > 8.99e8"
   ]
  },
  {
   "cell_type": "markdown",
   "metadata": {},
   "source": [
    "2% had stability in shadow integration disagree with nominal integration"
   ]
  },
  {
   "cell_type": "code",
   "execution_count": 35,
   "metadata": {},
   "outputs": [
    {
     "data": {
      "text/plain": [
       "0.016084285619922055"
      ]
     },
     "execution_count": 35,
     "metadata": {},
     "output_type": "execute_result"
    }
   ],
   "source": [
    "(trainY != shadowstable).sum()/trainY.shape[0]"
   ]
  },
  {
   "cell_type": "code",
   "execution_count": 36,
   "metadata": {},
   "outputs": [
    {
     "name": "stdout",
     "output_type": "stream",
     "text": [
      "SCORE:                                              \n",
      "0.5                                                 \n",
      "ERROR                                               \n",
      "0.0                                                 \n",
      "SCORE:                                                        \n",
      "0.5                                                           \n",
      "ERROR                                                         \n",
      "0.0                                                           \n",
      "SCORE:                                                        \n",
      "0.9899057600000001                                            \n",
      "ERROR                                                         \n",
      "0.0009376993960080948                                         \n",
      "SCORE:                                                                         \n",
      "0.5                                                                            \n",
      "ERROR                                                                          \n",
      "0.0                                                                            \n",
      "SCORE:                                                                         \n",
      "0.9898858599999999                                                             \n",
      "ERROR                                                                          \n",
      "0.0009516791514549225                                                          \n",
      "SCORE:                                                                         \n",
      "0.98990026                                                                     \n",
      "ERROR                                                                          \n",
      "0.0008937830586308495                                                          \n",
      "SCORE:                                                                         \n",
      "0.9897368199999999                                                             \n",
      "ERROR                                                                          \n",
      "0.0009409367912025743                                                          \n",
      "SCORE:                                                                         \n",
      "0.9897491199999999                                                             \n",
      "ERROR                                                                          \n",
      "0.0009547241731571534                                                          \n",
      "SCORE:                                                                         \n",
      "0.9898876399999998                                                             \n",
      "ERROR                                                                          \n",
      "0.0009009479151591794                                                          \n",
      "SCORE:                                                                         \n",
      "0.98986778                                                                     \n",
      "ERROR                                                                          \n",
      "0.0009311332212106702                                                          \n",
      "SCORE:                                                                          \n",
      "0.9897356                                                                       \n",
      "ERROR                                                                           \n",
      "0.0009456350918178183                                                           \n",
      "SCORE:                                                                          \n",
      "0.9897232199999999                                                              \n",
      "ERROR                                                                           \n",
      "0.0009484507085598823                                                           \n",
      "SCORE:                                                                          \n",
      "0.9881220000000001                                                              \n",
      "ERROR                                                                           \n",
      "0.0011532366626152662                                                           \n",
      "SCORE:                                                                          \n",
      "0.9899751599999999                                                              \n",
      "ERROR                                                                           \n",
      "0.0008564570350484286                                                           \n",
      "SCORE:                                                                          \n",
      "0.9897918800000001                                                              \n",
      "ERROR                                                                           \n",
      "0.0009611569148808308                                                           \n",
      "SCORE:                                                                          \n",
      "0.98973128                                                                      \n",
      "ERROR                                                                           \n",
      "0.0009367474675693339                                                           \n",
      "SCORE:                                                                          \n",
      "0.98971014                                                                      \n",
      "ERROR                                                                           \n",
      "0.0009511135240529726                                                           \n",
      "SCORE:                                                                          \n",
      "0.98971626                                                                      \n",
      "ERROR                                                                           \n",
      "0.0009552063409640711                                                           \n",
      "SCORE:                                                                          \n",
      "0.9897283400000001                                                              \n",
      "ERROR                                                                           \n",
      "0.0009375650693181567                                                           \n",
      "SCORE:                                                                          \n",
      "0.9898516599999999                                                              \n",
      "ERROR                                                                           \n",
      "0.0009218500648548345                                                           \n",
      "SCORE:                                                                          \n",
      "0.9899754399999999                                                              \n",
      "ERROR                                                                           \n",
      "0.0008562495756658864                                                           \n",
      "SCORE:                                                                          \n",
      "0.98999182                                                                      \n",
      "ERROR                                                                           \n",
      "0.0008793487497272114                                                           \n",
      "SCORE:                                                                          \n",
      "0.98987722                                                                      \n",
      "ERROR                                                                           \n",
      "0.0009340664504815004                                                           \n",
      "SCORE:                                                                          \n",
      "0.98992184                                                                      \n",
      "ERROR                                                                           \n",
      "0.00088557732102171                                                             \n",
      "SCORE:                                                                          \n",
      "0.9899926999999998                                                              \n",
      "ERROR                                                                           \n",
      "0.0008645418319643356                                                           \n",
      "SCORE:                                                                          \n",
      "0.98986606                                                                      \n",
      "ERROR                                                                           \n",
      "0.0009374957227487416                                                           \n"
     ]
    },
    {
     "name": "stdout",
     "output_type": "stream",
     "text": [
      "SCORE:                                                                          \n",
      "0.98985794                                                                      \n",
      "ERROR                                                                           \n",
      "0.0009625295810771201                                                           \n",
      "SCORE:                                                                          \n",
      "0.98991662                                                                      \n",
      "ERROR                                                                           \n",
      "0.0009513533163838133                                                           \n",
      "SCORE:                                                                          \n",
      "0.98992822                                                                      \n",
      "ERROR                                                                           \n",
      "0.0009353138350319997                                                           \n",
      "SCORE:                                                                          \n",
      "0.98980614                                                                      \n",
      "ERROR                                                                           \n",
      "0.000964679120342907                                                            \n",
      "SCORE:                                                                          \n",
      "0.9881220000000001                                                              \n",
      "ERROR                                                                           \n",
      "0.0011532366626152662                                                           \n",
      "SCORE:                                                                          \n",
      "0.9898801599999999                                                              \n",
      "ERROR                                                                           \n",
      "0.0009356252645491637                                                           \n",
      "SCORE:                                                                          \n",
      "0.98998086                                                                      \n",
      "ERROR                                                                           \n",
      "0.0008388640146675863                                                           \n",
      "SCORE:                                                                          \n",
      "0.5                                                                             \n",
      "ERROR                                                                           \n",
      "0.0                                                                             \n",
      "SCORE:                                                                          \n",
      "0.9899900799999999                                                              \n",
      "ERROR                                                                           \n",
      "0.0008819421855967692                                                           \n",
      "SCORE:                                                                          \n",
      "0.5                                                                             \n",
      "ERROR                                                                           \n",
      "0.0                                                                             \n",
      "SCORE:                                                                          \n",
      "0.9881220000000001                                                              \n",
      "ERROR                                                                           \n",
      "0.0011532366626152662                                                           \n",
      "SCORE:                                                                          \n",
      "0.9897982599999999                                                              \n",
      "ERROR                                                                           \n",
      "0.0009534945523385852                                                           \n",
      "SCORE:                                                                          \n",
      "0.98991518                                                                      \n",
      "ERROR                                                                           \n",
      "0.0009041790752006174                                                           \n",
      "SCORE:                                                                          \n",
      "0.98976202                                                                      \n",
      "ERROR                                                                           \n",
      "0.000929444786952722                                                            \n",
      "SCORE:                                                                          \n",
      "0.9897390799999999                                                              \n",
      "ERROR                                                                           \n",
      "0.0009455822254550385                                                           \n",
      "SCORE:                                                                          \n",
      "0.98986314                                                                      \n",
      "ERROR                                                                           \n",
      "0.0009655243253015135                                                           \n",
      "SCORE:                                                                          \n",
      "0.989851                                                                        \n",
      "ERROR                                                                           \n",
      "0.0009562163659239958                                                           \n",
      "SCORE:                                                                          \n",
      "0.9897297400000001                                                              \n",
      "ERROR                                                                           \n",
      "0.0009458188969626695                                                           \n",
      "SCORE:                                                                          \n",
      "0.98990362                                                                      \n",
      "ERROR                                                                           \n",
      "0.0009264027502950068                                                           \n",
      "SCORE:                                                                          \n",
      "0.5                                                                             \n",
      "ERROR                                                                           \n",
      "0.0                                                                             \n",
      "SCORE:                                                                          \n",
      "0.9899711999999999                                                              \n",
      "ERROR                                                                           \n",
      "0.0008847046897596395                                                           \n",
      "SCORE:                                                                          \n",
      "0.9897875199999999                                                              \n",
      "ERROR                                                                           \n",
      "0.0009406165251166943                                                           \n",
      "SCORE:                                                                          \n",
      "0.98989192                                                                      \n",
      "ERROR                                                                           \n",
      "0.0009408677047183931                                                           \n",
      "SCORE:                                                                          \n",
      "0.9897289599999999                                                              \n",
      "ERROR                                                                           \n",
      "0.0009421796132161092                                                           \n",
      "100%|██████████| 50/50 [00:48<00:00,  1.01it/s, best loss: 0.010007300000000163]\n",
      "Optimization Time: %f seconds 48.97765064239502\n",
      "CPU times: user 31min 12s, sys: 40.5 s, total: 31min 52s\n",
      "Wall time: 49 s\n"
     ]
    }
   ],
   "source": [
    "%%time\n",
    "trials = Trials()\n",
    "import time\n",
    "start = time.time()\n",
    "best = fmin(fn=objective, space = space, algo = tpe.suggest, max_evals = 50, trials = trials, rstate=np.random.RandomState(seed=0))\n",
    "end = time.time()\n",
    "print(\"Optimization Time: %f seconds\", (end  -start))"
   ]
  },
  {
   "cell_type": "code",
   "execution_count": 37,
   "metadata": {},
   "outputs": [
    {
     "data": {
      "text/plain": [
       "{'x_learning_rate': 0.19797937959730308,\n",
       " 'x_max_depth': 3,\n",
       " 'x_min_child': 5,\n",
       " 'x_subsample': 0.945591939597905}"
      ]
     },
     "execution_count": 37,
     "metadata": {},
     "output_type": "execute_result"
    }
   ],
   "source": [
    "best"
   ]
  },
  {
   "cell_type": "code",
   "execution_count": 38,
   "metadata": {},
   "outputs": [
    {
     "name": "stdout",
     "output_type": "stream",
     "text": [
      "[0]\ttrain-auc:0.98973+0.00022\ttest-auc:0.98960+0.00099\n",
      "[1]\ttrain-auc:0.98982+0.00021\ttest-auc:0.98974+0.00094\n",
      "[2]\ttrain-auc:0.98988+0.00024\ttest-auc:0.98976+0.00093\n",
      "[3]\ttrain-auc:0.98989+0.00024\ttest-auc:0.98976+0.00093\n",
      "[4]\ttrain-auc:0.99008+0.00030\ttest-auc:0.99003+0.00090\n",
      "[5]\ttrain-auc:0.99027+0.00024\ttest-auc:0.99013+0.00089\n",
      "[6]\ttrain-auc:0.99028+0.00024\ttest-auc:0.99010+0.00087\n",
      "[7]\ttrain-auc:0.99040+0.00017\ttest-auc:0.99027+0.00073\n",
      "[8]\ttrain-auc:0.99040+0.00016\ttest-auc:0.99027+0.00073\n",
      "[9]\ttrain-auc:0.99040+0.00016\ttest-auc:0.99027+0.00073\n",
      "[10]\ttrain-auc:0.99041+0.00017\ttest-auc:0.99029+0.00071\n",
      "[11]\ttrain-auc:0.99041+0.00017\ttest-auc:0.99029+0.00071\n",
      "[12]\ttrain-auc:0.99042+0.00018\ttest-auc:0.99033+0.00069\n",
      "[13]\ttrain-auc:0.99042+0.00018\ttest-auc:0.99033+0.00069\n",
      "[14]\ttrain-auc:0.99047+0.00022\ttest-auc:0.99039+0.00065\n",
      "[15]\ttrain-auc:0.99047+0.00021\ttest-auc:0.99041+0.00069\n",
      "[16]\ttrain-auc:0.99052+0.00024\ttest-auc:0.99042+0.00068\n",
      "[17]\ttrain-auc:0.99057+0.00023\ttest-auc:0.99047+0.00062\n",
      "[18]\ttrain-auc:0.99063+0.00022\ttest-auc:0.99052+0.00065\n",
      "[19]\ttrain-auc:0.99063+0.00022\ttest-auc:0.99052+0.00065\n",
      "[20]\ttrain-auc:0.99064+0.00022\ttest-auc:0.99052+0.00065\n",
      "[21]\ttrain-auc:0.99064+0.00022\ttest-auc:0.99052+0.00065\n",
      "[22]\ttrain-auc:0.99067+0.00018\ttest-auc:0.99059+0.00077\n",
      "[23]\ttrain-auc:0.99073+0.00016\ttest-auc:0.99064+0.00079\n",
      "[24]\ttrain-auc:0.99076+0.00018\ttest-auc:0.99068+0.00076\n",
      "[25]\ttrain-auc:0.99076+0.00018\ttest-auc:0.99067+0.00077\n",
      "[26]\ttrain-auc:0.99076+0.00018\ttest-auc:0.99067+0.00077\n",
      "[27]\ttrain-auc:0.99078+0.00019\ttest-auc:0.99068+0.00076\n",
      "[28]\ttrain-auc:0.99078+0.00019\ttest-auc:0.99068+0.00076\n",
      "[29]\ttrain-auc:0.99079+0.00018\ttest-auc:0.99068+0.00076\n",
      "[30]\ttrain-auc:0.99079+0.00018\ttest-auc:0.99068+0.00075\n",
      "[31]\ttrain-auc:0.99079+0.00018\ttest-auc:0.99070+0.00074\n",
      "[32]\ttrain-auc:0.99079+0.00018\ttest-auc:0.99070+0.00075\n",
      "[33]\ttrain-auc:0.99079+0.00018\ttest-auc:0.99069+0.00075\n",
      "[34]\ttrain-auc:0.99079+0.00018\ttest-auc:0.99069+0.00075\n",
      "[35]\ttrain-auc:0.99080+0.00018\ttest-auc:0.99069+0.00075\n",
      "[36]\ttrain-auc:0.99081+0.00019\ttest-auc:0.99069+0.00075\n",
      "[37]\ttrain-auc:0.99081+0.00019\ttest-auc:0.99068+0.00076\n",
      "[38]\ttrain-auc:0.99082+0.00019\ttest-auc:0.99070+0.00075\n",
      "[39]\ttrain-auc:0.99082+0.00019\ttest-auc:0.99068+0.00076\n",
      "[40]\ttrain-auc:0.99082+0.00019\ttest-auc:0.99068+0.00076\n",
      "[41]\ttrain-auc:0.99083+0.00019\ttest-auc:0.99067+0.00076\n",
      "[42]\ttrain-auc:0.99083+0.00019\ttest-auc:0.99067+0.00076\n",
      "[43]\ttrain-auc:0.99084+0.00018\ttest-auc:0.99067+0.00075\n",
      "[44]\ttrain-auc:0.99084+0.00018\ttest-auc:0.99067+0.00076\n",
      "[45]\ttrain-auc:0.99084+0.00018\ttest-auc:0.99068+0.00075\n",
      "[46]\ttrain-auc:0.99084+0.00018\ttest-auc:0.99068+0.00075\n",
      "[47]\ttrain-auc:0.99084+0.00018\ttest-auc:0.99068+0.00075\n",
      "[48]\ttrain-auc:0.99084+0.00018\ttest-auc:0.99068+0.00075\n",
      "[49]\ttrain-auc:0.99084+0.00018\ttest-auc:0.99068+0.00075\n"
     ]
    }
   ],
   "source": [
    "model = XGBClassifier(learning_rate = best[\"x_learning_rate\"], \n",
    "                         max_depth = int(best[\"x_max_depth\"]), \n",
    "                         subsample = best[\"x_subsample\"],\n",
    "                         min_child_weight = best['x_min_child'])\n",
    "\n",
    "score = xgb.cv(model.get_xgb_params(), dtrain, nfold = 5, metrics = \"auc\", verbose_eval=True, num_boost_round=50)"
   ]
  },
  {
   "cell_type": "code",
   "execution_count": 39,
   "metadata": {},
   "outputs": [
    {
     "data": {
      "text/plain": [
       "Text(0, 0.5, 'CV AUC score')"
      ]
     },
     "execution_count": 39,
     "metadata": {},
     "output_type": "execute_result"
    },
    {
     "data": {
      "image/png": "[encoded data removed]",
      "text/plain": [
       "<Figure size 432x288 with 1 Axes>"
      ]
     },
     "metadata": {
      "needs_background": "light"
     },
     "output_type": "display_data"
    }
   ],
   "source": [
    "n_estimators = 25\n",
    "fig, ax = plt.subplots()\n",
    "ax.plot(score.index, score['train-auc-mean'], label='Train')\n",
    "ax.plot(score.index, score['test-auc-mean'], label='Test')\n",
    "ax.axvline(n_estimators, linestyle='--')\n",
    "ax.legend()\n",
    "ax.set_xlabel('n_estimators (num trees)')\n",
    "ax.set_ylabel('CV AUC score')"
   ]
  },
  {
   "cell_type": "code",
   "execution_count": 40,
   "metadata": {},
   "outputs": [
    {
     "data": {
      "text/plain": [
       "XGBClassifier(base_score=0.5, booster=None, colsample_bylevel=1,\n",
       "              colsample_bynode=1, colsample_bytree=1, gamma=0, gpu_id=-1,\n",
       "              importance_type='gain', interaction_constraints=None,\n",
       "              learning_rate=0.19797937959730308, max_delta_step=0, max_depth=3,\n",
       "              min_child_weight=5, missing=nan, monotone_constraints=None,\n",
       "              n_estimators=25, n_jobs=0, num_parallel_tree=1,\n",
       "              objective='binary:logistic', random_state=0, reg_alpha=0,\n",
       "              reg_lambda=1, scale_pos_weight=1, subsample=0.945591939597905,\n",
       "              tree_method=None, validate_parameters=False, verbosity=None)"
      ]
     },
     "execution_count": 40,
     "metadata": {},
     "output_type": "execute_result"
    }
   ],
   "source": [
    "model.set_params(n_estimators = n_estimators)\n",
    "model.fit(trainX, trainY)"
   ]
  },
  {
   "cell_type": "code",
   "execution_count": 41,
   "metadata": {},
   "outputs": [],
   "source": [
    "model.save_model(datapath+'../spock/models/nbody.json')"
   ]
  },
  {
   "cell_type": "code",
   "execution_count": 42,
   "metadata": {},
   "outputs": [],
   "source": [
    "model = XGBClassifier()\n",
    "model.load_model(datapath+'../spock/models/nbody.json')"
   ]
  },
  {
   "cell_type": "code",
   "execution_count": 43,
   "metadata": {},
   "outputs": [
    {
     "data": {
      "text/plain": [
       "Text(0.5, 1.0, 'ROC curve (AUC = 0.991)')"
      ]
     },
     "execution_count": 43,
     "metadata": {},
     "output_type": "execute_result"
    },
    {
     "data": {
      "image/png": "[encoded data removed]",
      "text/plain": [
       "<Figure size 432x288 with 1 Axes>"
      ]
     },
     "metadata": {
      "needs_background": "light"
     },
     "output_type": "display_data"
    }
   ],
   "source": [
    "roc_auc, fpr, tpr, ROCthresholds = ROC_curve(trainingdatafolder, model, features)\n",
    "\n",
    "fig, ax = plt.subplots()\n",
    "ax.plot(fpr, tpr)\n",
    "ax.plot([0, 1], [0, 1], 'k--')\n",
    "ax.set_xlim([0.0, 1.0])\n",
    "ax.set_ylim([0.0, 1.0])\n",
    "ax.set_xlabel('False Positive Rate')\n",
    "ax.set_ylabel('True Positive Rate')\n",
    "ax.set_title('ROC curve (AUC = {0:.3f})'.format(roc_auc))"
   ]
  },
  {
   "cell_type": "code",
   "execution_count": null,
   "metadata": {},
   "outputs": [],
   "source": []
  }
 ],
 "metadata": {
  "anaconda-cloud": {},
  "kernelspec": {
   "display_name": "Python 3",
   "language": "python",
   "name": "python3"
  },
  "language_info": {
   "codemirror_mode": {
    "name": "ipython",
    "version": 3
   },
   "file_extension": ".py",
   "mimetype": "text/x-python",
   "name": "python",
   "nbconvert_exporter": "python",
   "pygments_lexer": "ipython3",
   "version": "3.7.3"
  }
 },
 "nbformat": 4,
 "nbformat_minor": 2
}

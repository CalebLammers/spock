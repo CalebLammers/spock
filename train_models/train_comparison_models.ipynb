{
 "cells": [
  {
   "cell_type": "markdown",
   "metadata": {},
   "source": [
    "# Dont' use features that require transform to res variables with celmech in tseries. Almost as good as models that include them"
   ]
  },
  {
   "cell_type": "code",
   "execution_count": 1,
   "metadata": {},
   "outputs": [],
   "source": [
    "import numpy as np\n",
    "import matplotlib.pyplot as plt\n",
    "%matplotlib inline\n",
    "import pandas as pd\n",
    "from sklearn import metrics\n",
    "import xgboost as xgb\n",
    "from xgboost.sklearn import XGBClassifier\n",
    "from hyperopt import hp, fmin, tpe, STATUS_OK, Trials\n",
    "import hyperopt\n",
    "import dill\n",
    "import sys\n",
    "sys.path.append('../spock/')\n",
    "from modelfitting import train_test_split, ROC_curve, stable_unstable_hist, calibration_plot, unstable_error_fraction"
   ]
  },
  {
   "cell_type": "code",
   "execution_count": 2,
   "metadata": {},
   "outputs": [],
   "source": [
    "datapath = '../training_data/'\n",
    "dset = 'resonant/'\n",
    "Norbits = 1e4\n",
    "Nout = 80\n",
    "featureargs = (Norbits, Nout) # params to pass feature function\n",
    "featurefolder = 'additional_featuresNorbits{0:.1f}Nout{1}trio/'.format(Norbits, Nout)\n",
    "trainingdatafolder = datapath+dset+featurefolder"
   ]
  },
  {
   "cell_type": "code",
   "execution_count": 3,
   "metadata": {},
   "outputs": [],
   "source": [
    "space ={\n",
    "        'max_depth': hp.randint('x_max_depth',  20),\n",
    "        'min_child_weight': hp.quniform ('x_min_child', 1, 10, 1),\n",
    "        'subsample': hp.uniform ('x_subsample', 0.8, 1),\n",
    "        'scale_pos_weight': hp.uniform(\"x_pos_weight\", 1, 50),\n",
    "        \"learning_rate\":hp.uniform(\"x_learning_rate\",0.01,0.2),\n",
    "        'colsample_bytree': hp.uniform ('x_tree_colsample', 0.5,1),\n",
    "}\n",
    "\n",
    "def objective(params):\n",
    "    clf = XGBClassifier(n_estimators = 100,\n",
    "                            max_depth = params['max_depth'], \n",
    "                            min_child_weight = params['min_child_weight'],\n",
    "                            subsample = params['subsample'],\n",
    "                            colsample_bytree = params['colsample_bytree'],\n",
    "                            learning_rate = params['learning_rate'], seed = 0)\n",
    "    \n",
    "    score = xgb.cv(clf.get_xgb_params(), dtrain, nfold = 5, metrics = \"auc\", early_stopping_rounds=10)\n",
    "    avg_score =  np.mean(score[\"test-auc-mean\"])\n",
    "    error = np.mean(score[\"test-auc-std\"])\n",
    "    \n",
    "    print(\"SCORE:\", avg_score, \"ERROR\", error)#, \"HOLDOUT SCORE\", test_score)\n",
    "    return{'loss':1-avg_score, 'status': STATUS_OK, \"cv_score\":avg_score , \"cv_error\":error}"
   ]
  },
  {
   "cell_type": "markdown",
   "metadata": {},
   "source": [
    "# MEGNO"
   ]
  },
  {
   "cell_type": "code",
   "execution_count": 4,
   "metadata": {},
   "outputs": [],
   "source": [
    "features = ['MEGNO']\n",
    "\n",
    "trainX, trainY, testX, testY = train_test_split(trainingdatafolder, features, filter=False)\n",
    "\n",
    "dtrain = xgb.DMatrix(trainX, trainY)\n",
    "dtest = xgb.DMatrix(testX, testY)"
   ]
  },
  {
   "cell_type": "code",
   "execution_count": 5,
   "metadata": {},
   "outputs": [
    {
     "name": "stdout",
     "output_type": "stream",
     "text": [
      "SCORE:                                              \n",
      "0.8610182399999999                                  \n",
      "ERROR                                               \n",
      "0.0017834029761300233                               \n",
      "SCORE:                                                                        \n",
      "0.85679576                                                                    \n",
      "ERROR                                                                         \n",
      "0.0015776938462936218                                                         \n",
      "SCORE:                                                                        \n",
      "0.81174864                                                                    \n",
      "ERROR                                                                         \n",
      "0.0024175672062279685                                                         \n",
      "SCORE:                                                                        \n",
      "0.8587014                                                                     \n",
      "ERROR                                                                         \n",
      "0.002062839696249862                                                          \n",
      "SCORE:                                                                        \n",
      "0.85557164                                                                    \n",
      "ERROR                                                                         \n",
      "0.0010246329579128126                                                         \n",
      "SCORE:                                                                        \n",
      "0.8585432799999999                                                            \n",
      "ERROR                                                                         \n",
      "0.0011063726919922387                                                         \n",
      "SCORE:                                                                        \n",
      "0.85699678                                                                    \n",
      "ERROR                                                                         \n",
      "0.0010630235963956752                                                         \n",
      "SCORE:                                                                        \n",
      "0.5                                                                           \n",
      "ERROR                                                                         \n",
      "0.0                                                                           \n",
      "SCORE:                                                                        \n",
      "0.8601896400000001                                                            \n",
      "ERROR                                                                         \n",
      "0.0016878269196077037                                                         \n",
      "SCORE:                                                                        \n",
      "0.85678716                                                                    \n",
      "ERROR                                                                         \n",
      "0.0015497937672716761                                                         \n",
      "SCORE:                                                                         \n",
      "0.8570276800000001                                                             \n",
      "ERROR                                                                          \n",
      "0.0013638396779731589                                                          \n",
      "SCORE:                                                                         \n",
      "0.81214152                                                                     \n",
      "ERROR                                                                          \n",
      "0.002285193048477804                                                           \n",
      "SCORE:                                                                         \n",
      "0.8565279800000001                                                             \n",
      "ERROR                                                                          \n",
      "0.00107065596645742                                                            \n",
      "SCORE:                                                                         \n",
      "0.85911466                                                                     \n",
      "ERROR                                                                          \n",
      "0.0014374064735888962                                                          \n",
      "SCORE:                                                                         \n",
      "0.8611985000000001                                                             \n",
      "ERROR                                                                          \n",
      "0.001641293945476741                                                           \n",
      "SCORE:                                                                         \n",
      "0.8586058                                                                     \n",
      "ERROR                                                                         \n",
      "0.001301168437595344                                                          \n",
      "SCORE:                                                                        \n",
      "0.85957956                                                                    \n",
      "ERROR                                                                         \n",
      "0.0021773390930524294                                                         \n",
      "SCORE:                                                                        \n",
      "0.8613899                                                                     \n",
      "ERROR                                                                         \n",
      "0.0019247207750827313                                                         \n",
      "SCORE:                                                                         \n",
      "0.85703384                                                                     \n",
      "ERROR                                                                          \n",
      "0.0012269524326412428                                                          \n",
      "SCORE:                                                                         \n",
      "0.8520874199999999                                                             \n",
      "ERROR                                                                          \n",
      "0.002139755399105763                                                           \n",
      "SCORE:                                                                         \n",
      "0.8608749399999999                                                             \n",
      "ERROR                                                                          \n",
      "0.001667114550253658                                                           \n",
      "SCORE:                                                                         \n",
      "0.8616092399999999                                                             \n",
      "ERROR                                                                          \n",
      "0.001892318417281498                                                           \n",
      "SCORE:                                                                         \n",
      "0.8615449                                                                      \n",
      "ERROR                                                                          \n",
      "0.0019097274943828558                                                          \n",
      "SCORE:                                                                         \n",
      "0.8616064800000001                                                             \n",
      "ERROR                                                                          \n",
      "0.0018862560197795031                                                          \n",
      "SCORE:                                                                         \n",
      "0.8594120000000001                                                             \n",
      "ERROR                                                                          \n",
      "0.0015759278704630824                                                          \n",
      "SCORE:                                                                         \n",
      "0.85728506                                                                     \n",
      "ERROR                                                                          \n",
      "0.0015732937794981853                                                          \n"
     ]
    },
    {
     "name": "stdout",
     "output_type": "stream",
     "text": [
      "SCORE:                                                                         \n",
      "0.86040622                                                                     \n",
      "ERROR                                                                          \n",
      "0.0016335648461075609                                                          \n",
      "SCORE:                                                                         \n",
      "0.8572889800000001                                                             \n",
      "ERROR                                                                          \n",
      "0.0012821500540372824                                                          \n",
      "SCORE:                                                                         \n",
      "0.8614409199999999                                                             \n",
      "ERROR                                                                          \n",
      "0.0018857533309148417                                                          \n",
      "SCORE:                                                                         \n",
      "0.8610184399999999                                                             \n",
      "ERROR                                                                          \n",
      "0.001883882763404723                                                           \n",
      "SCORE:                                                                         \n",
      "0.8611735200000001                                                             \n",
      "ERROR                                                                          \n",
      "0.0018376747035828186                                                          \n",
      "SCORE:                                                                         \n",
      "0.8615568400000001                                                             \n",
      "ERROR                                                                          \n",
      "0.0017917733642446368                                                          \n",
      "SCORE:                                                                         \n",
      "0.8615893                                                                      \n",
      "ERROR                                                                          \n",
      "0.0018585804068682605                                                          \n",
      "SCORE:                                                                         \n",
      "0.85815558                                                                     \n",
      "ERROR                                                                          \n",
      "0.00212547441710876                                                            \n",
      "SCORE:                                                                         \n",
      "0.5                                                                            \n",
      "ERROR                                                                          \n",
      "0.0                                                                            \n",
      "SCORE:                                                                         \n",
      "0.8554984399999999                                                             \n",
      "ERROR                                                                          \n",
      "0.0012446564064703322                                                          \n",
      "SCORE:                                                                         \n",
      "0.85781492                                                                     \n",
      "ERROR                                                                          \n",
      "0.0014348003972653174                                                          \n",
      "SCORE:                                                                         \n",
      "0.8582758                                                                      \n",
      "ERROR                                                                          \n",
      "0.0010031538696392952                                                          \n",
      "SCORE:                                                                         \n",
      "0.86010422                                                                     \n",
      "ERROR                                                                          \n",
      "0.0013959028014404891                                                          \n",
      "SCORE:                                                                         \n",
      "0.8604394200000002                                                             \n",
      "ERROR                                                                          \n",
      "0.0016917039971907234                                                          \n",
      "SCORE:                                                                         \n",
      "0.8613566                                                                      \n",
      "ERROR                                                                          \n",
      "0.0019008635747698572                                                          \n",
      "SCORE:                                                                         \n",
      "0.8596376800000002                                                             \n",
      "ERROR                                                                          \n",
      "0.0014803996764450867                                                          \n",
      "SCORE:                                                                         \n",
      "0.82328306                                                                     \n",
      "ERROR                                                                          \n",
      "0.0028418555564532428                                                          \n",
      "SCORE:                                                                         \n",
      "0.8605211199999999                                                             \n",
      "ERROR                                                                          \n",
      "0.0020188474689872317                                                          \n",
      "SCORE:                                                                         \n",
      "0.8574284999999999                                                             \n",
      "ERROR                                                                          \n",
      "0.0014295130417684712                                                          \n",
      "SCORE:                                                                         \n",
      "0.8511902600000001                                                             \n",
      "ERROR                                                                          \n",
      "0.002111033282126747                                                           \n",
      "SCORE:                                                                         \n",
      "0.8613391800000001                                                             \n",
      "ERROR                                                                          \n",
      "0.0019120557557977872                                                          \n",
      "SCORE:                                                                         \n",
      "0.8574700600000001                                                             \n",
      "ERROR                                                                          \n",
      "0.001139362549729473                                                           \n",
      "SCORE:                                                                         \n",
      "0.8613868200000001                                                             \n",
      "ERROR                                                                          \n",
      "0.00180656546285067                                                            \n",
      "SCORE:                                                                         \n",
      "0.85838532                                                                     \n",
      "ERROR                                                                          \n",
      "0.0020144707304849078                                                          \n",
      "100%|██████████| 50/50 [02:17<00:00,  2.29s/it, best loss: 0.13839076000000006]\n",
      "Optimization Time: %f seconds 137.28103709220886\n",
      "CPU times: user 1h 27min 21s, sys: 2min, total: 1h 29min 21s\n",
      "Wall time: 2min 17s\n"
     ]
    }
   ],
   "source": [
    "%%time\n",
    "trials = Trials()\n",
    "import time\n",
    "start = time.time()\n",
    "best = fmin(fn=objective, space = space, algo = tpe.suggest, max_evals = 50, trials = trials, rstate=np.random.RandomState(seed=0))\n",
    "end = time.time()\n",
    "print(\"Optimization Time: %f seconds\", (end  -start))"
   ]
  },
  {
   "cell_type": "code",
   "execution_count": 6,
   "metadata": {},
   "outputs": [
    {
     "data": {
      "text/plain": [
       "{'x_learning_rate': 0.16478451158277696,\n",
       " 'x_max_depth': 6,\n",
       " 'x_min_child': 7.0,\n",
       " 'x_pos_weight': 26.75274087483514,\n",
       " 'x_subsample': 0.8805958793839032,\n",
       " 'x_tree_colsample': 0.8622179398728552}"
      ]
     },
     "execution_count": 6,
     "metadata": {},
     "output_type": "execute_result"
    }
   ],
   "source": [
    "best"
   ]
  },
  {
   "cell_type": "markdown",
   "metadata": {},
   "source": [
    "# Would have to set num_boost_round=100 to see the same CV score as in our final fitted model\n",
    "\n",
    "We're setting n_estimators=100 in model, which is the equivalent of num_boost_round in CV, so if we use the default in CV (10), we will get slightly lower powerformance"
   ]
  },
  {
   "cell_type": "code",
   "execution_count": 7,
   "metadata": {},
   "outputs": [
    {
     "name": "stdout",
     "output_type": "stream",
     "text": [
      "[0]\ttrain-auc:0.86098+0.00080\ttest-auc:0.85821+0.00241\n",
      "[1]\ttrain-auc:0.86226+0.00094\ttest-auc:0.85936+0.00234\n",
      "[2]\ttrain-auc:0.86281+0.00086\ttest-auc:0.85987+0.00218\n",
      "[3]\ttrain-auc:0.86325+0.00075\ttest-auc:0.86014+0.00206\n",
      "[4]\ttrain-auc:0.86358+0.00059\ttest-auc:0.86050+0.00199\n",
      "[5]\ttrain-auc:0.86404+0.00063\ttest-auc:0.86079+0.00178\n",
      "[6]\ttrain-auc:0.86427+0.00061\ttest-auc:0.86099+0.00169\n",
      "[7]\ttrain-auc:0.86453+0.00045\ttest-auc:0.86103+0.00169\n",
      "[8]\ttrain-auc:0.86464+0.00040\ttest-auc:0.86097+0.00169\n",
      "[9]\ttrain-auc:0.86487+0.00047\ttest-auc:0.86099+0.00175\n"
     ]
    },
    {
     "data": {
      "text/plain": [
       "XGBClassifier(base_score=0.5, booster=None, colsample_bylevel=1,\n",
       "              colsample_bynode=1, colsample_bytree=0.8622179398728552, gamma=0,\n",
       "              gpu_id=-1, importance_type='gain', interaction_constraints=None,\n",
       "              learning_rate=0.16478451158277696, max_delta_step=0, max_depth=6,\n",
       "              min_child_weight=7.0, missing=nan, monotone_constraints=None,\n",
       "              n_estimators=100, n_jobs=0, num_parallel_tree=1,\n",
       "              objective='binary:logistic', random_state=0, reg_alpha=0,\n",
       "              reg_lambda=1, scale_pos_weight=26.75274087483514,\n",
       "              subsample=0.8805958793839032, tree_method=None,\n",
       "              validate_parameters=False, verbosity=None)"
      ]
     },
     "execution_count": 7,
     "metadata": {},
     "output_type": "execute_result"
    }
   ],
   "source": [
    "model = XGBClassifier(n_estimators=100, scale_pos_weight=best[\"x_pos_weight\"],\n",
    "                         learning_rate = best[\"x_learning_rate\"], \n",
    "                         max_depth = int(best[\"x_max_depth\"]), \n",
    "                         min_child_weight = best[\"x_min_child\"],\n",
    "                         subsample = best[\"x_subsample\"], \n",
    "                         colsample_bytree = best[\"x_tree_colsample\"])\n",
    "\n",
    "score = xgb.cv(model.get_xgb_params(), dtrain, nfold = 5, metrics = \"auc\", verbose_eval=True, num_boost_round=10)\n",
    "model.fit(trainX, trainY)"
   ]
  },
  {
   "cell_type": "code",
   "execution_count": 8,
   "metadata": {},
   "outputs": [],
   "source": [
    "model.save_model(datapath+'../spock/models/megno.json')"
   ]
  },
  {
   "cell_type": "code",
   "execution_count": 8,
   "metadata": {},
   "outputs": [
    {
     "data": {
      "text/plain": [
       "Text(0.5, 1.0, 'ROC curve (AUC = 0.867)')"
      ]
     },
     "execution_count": 8,
     "metadata": {},
     "output_type": "execute_result"
    },
    {
     "data": {
      "image/png": "[encoded data removed]",
      "text/plain": [
       "<Figure size 432x288 with 1 Axes>"
      ]
     },
     "metadata": {
      "needs_background": "light"
     },
     "output_type": "display_data"
    }
   ],
   "source": [
    "roc_auc, fpr, tpr, ROCthresholds = ROC_curve(trainingdatafolder, model, features)\n",
    "\n",
    "fig, ax = plt.subplots()\n",
    "ax.plot(fpr, tpr)\n",
    "ax.plot([0, 1], [0, 1], 'k--')\n",
    "ax.set_xlim([0.0, 1.0])\n",
    "ax.set_ylim([0.0, 1.0])\n",
    "ax.set_xlabel('False Positive Rate')\n",
    "ax.set_ylabel('True Positive Rate')\n",
    "ax.set_title('ROC curve (AUC = {0:.3f})'.format(roc_auc))"
   ]
  },
  {
   "cell_type": "code",
   "execution_count": 10,
   "metadata": {},
   "outputs": [
    {
     "name": "stdout",
     "output_type": "stream",
     "text": [
      "Threshold 1.9799878597259521, TPR = 0.0, FPR = 0.0\n",
      "Threshold 0.9760366082191467, TPR = 0.19297583081570996, FPR = 0.030551886521564348\n",
      "Threshold 0.9728579521179199, TPR = 0.34233383685800606, FPR = 0.06075920289438925\n",
      "Threshold 0.9698216319084167, TPR = 0.4074773413897281, FPR = 0.07747085510825245\n",
      "Threshold 0.9674466252326965, TPR = 0.4520392749244713, FPR = 0.09142594613220008\n",
      "Threshold 0.966060221195221, TPR = 0.5228474320241692, FPR = 0.10945845058289784\n",
      "Threshold 0.963981568813324, TPR = 0.5358761329305136, FPR = 0.1126170102796761\n",
      "Threshold 0.9618535041809082, TPR = 0.5895015105740181, FPR = 0.12996037443289496\n",
      "Threshold 0.9598618745803833, TPR = 0.6199018126888217, FPR = 0.14259461322000805\n",
      "Threshold 0.9580060839653015, TPR = 0.6478474320241692, FPR = 0.1531040027565612\n",
      "Threshold 0.9552502036094666, TPR = 0.6801359516616314, FPR = 0.1639579624418538\n",
      "Threshold 0.9534006118774414, TPR = 0.6888217522658611, FPR = 0.16694423706426234\n",
      "Threshold 0.9527114629745483, TPR = 0.7012839879154078, FPR = 0.17159593407224488\n",
      "Threshold 0.9511300921440125, TPR = 0.7190332326283988, FPR = 0.1781427668982944\n",
      "Threshold 0.949097216129303, TPR = 0.7528323262839879, FPR = 0.19295928329409062\n",
      "Threshold 0.9469212889671326, TPR = 0.7675604229607251, FPR = 0.20053982656635846\n",
      "Threshold 0.9445050954818726, TPR = 0.7792673716012085, FPR = 0.20565095043932693\n",
      "Threshold 0.941789448261261, TPR = 0.7949395770392749, FPR = 0.2134037787859645\n",
      "Threshold 0.9386103749275208, TPR = 0.8087235649546828, FPR = 0.22018032504450696\n",
      "Threshold 0.936529815196991, TPR = 0.8225075528700906, FPR = 0.22753115488428186\n",
      "Threshold 0.9329643249511719, TPR = 0.8319486404833837, FPR = 0.2325848503991271\n",
      "Threshold 0.9298081994056702, TPR = 0.8462990936555891, FPR = 0.24148624590822948\n",
      "Threshold 0.9261578321456909, TPR = 0.854607250755287, FPR = 0.24740136679492333\n",
      "Threshold 0.9211248159408569, TPR = 0.8670694864048338, FPR = 0.25601562051340954\n",
      "Threshold 0.9158293008804321, TPR = 0.879154078549849, FPR = 0.2653190145293746\n",
      "Threshold 0.9110671281814575, TPR = 0.8863293051359517, FPR = 0.2704875667604663\n",
      "Threshold 0.9047232866287231, TPR = 0.8989803625377644, FPR = 0.27847010853959686\n",
      "Threshold 0.8959446549415588, TPR = 0.902190332326284, FPR = 0.2809969562970195\n",
      "Threshold 0.8856126666069031, TPR = 0.9078549848942599, FPR = 0.2853615115143858\n",
      "Threshold 0.8737679123878479, TPR = 0.9135196374622356, FPR = 0.2898409234479986\n",
      "Threshold 0.8662986159324646, TPR = 0.9205060422960725, FPR = 0.29661746970654107\n",
      "Threshold 0.8578460216522217, TPR = 0.9242824773413897, FPR = 0.3021305920863723\n",
      "Threshold 0.8433107733726501, TPR = 0.9312688821752266, FPR = 0.31172112789295353\n",
      "Threshold 0.8277745842933655, TPR = 0.9367447129909365, FPR = 0.31901452937460517\n",
      "Threshold 0.8182521462440491, TPR = 0.9420317220543807, FPR = 0.3271119278699822\n",
      "Threshold 0.7963078618049622, TPR = 0.9444864048338368, FPR = 0.33015563085051397\n",
      "Threshold 0.7828096151351929, TPR = 0.9465634441087614, FPR = 0.3346350427841268\n",
      "Threshold 0.7737424969673157, TPR = 0.948262839879154, FPR = 0.338253029345891\n",
      "Threshold 0.7632617354393005, TPR = 0.949773413897281, FPR = 0.3454890024694194\n",
      "Threshold 0.7473582029342651, TPR = 0.9522280966767371, FPR = 0.35243783380233157\n",
      "Threshold 0.7338683605194092, TPR = 0.9554380664652568, FPR = 0.3631769367713777\n",
      "Threshold 0.7175663113594055, TPR = 0.9577039274924471, FPR = 0.37075748004364556\n",
      "Threshold 0.7024718523025513, TPR = 0.9601586102719033, FPR = 0.3763854591397232\n",
      "Threshold 0.6865237951278687, TPR = 0.962046827794562, FPR = 0.38425314420260726\n",
      "Threshold 0.6691814064979553, TPR = 0.9645015105740181, FPR = 0.39418825015792797\n",
      "Threshold 0.6599307656288147, TPR = 0.967333836858006, FPR = 0.41124447252053065\n",
      "Threshold 0.6399115920066833, TPR = 0.9682779456193353, FPR = 0.4157813128122667\n",
      "Threshold 0.6147438883781433, TPR = 0.970166163141994, FPR = 0.4208924366852352\n",
      "Threshold 0.597903847694397, TPR = 0.9746978851963746, FPR = 0.43909722621030267\n",
      "Threshold 0.5834973454475403, TPR = 0.9765861027190332, FPR = 0.4461609142594613\n",
      "Threshold 0.5723955631256104, TPR = 0.9777190332326284, FPR = 0.45529202320105666\n",
      "Threshold 0.5610172152519226, TPR = 0.9786631419939577, FPR = 0.4645379888588985\n",
      "Threshold 0.5414563417434692, TPR = 0.9794184290030211, FPR = 0.4731522425773847\n",
      "Threshold 0.5296964645385742, TPR = 0.9811178247734139, FPR = 0.4789525067478321\n",
      "Threshold 0.5116556882858276, TPR = 0.9820619335347432, FPR = 0.4884856141962901\n",
      "Threshold 0.49345409870147705, TPR = 0.9833836858006042, FPR = 0.49933957388158273\n",
      "Threshold 0.4756910502910614, TPR = 0.9841389728096677, FPR = 0.5096192499856429\n",
      "Threshold 0.4468672573566437, TPR = 0.9852719033232629, FPR = 0.5192097857922242\n",
      "Threshold 0.41738003492355347, TPR = 0.9862160120845922, FPR = 0.5306954574168724\n",
      "Threshold 0.3981969356536865, TPR = 0.9867824773413897, FPR = 0.5416642738184115\n",
      "Threshold 0.37719252705574036, TPR = 0.9875377643504532, FPR = 0.5485556767932005\n",
      "Threshold 0.3614894151687622, TPR = 0.9879154078549849, FPR = 0.5593522081203698\n",
      "Threshold 0.3312380015850067, TPR = 0.991880664652568, FPR = 0.6347556423361856\n",
      "Threshold 0.318111777305603, TPR = 0.991880664652568, FPR = 0.6485384482857635\n",
      "Threshold 0.3037872612476349, TPR = 0.9922583081570997, FPR = 0.659622121403549\n",
      "Threshold 0.27618929743766785, TPR = 0.9924471299093656, FPR = 0.671969218400046\n",
      "Threshold 0.24854080379009247, TPR = 0.993202416918429, FPR = 0.6816746109228737\n",
      "Threshold 0.2191172093153, TPR = 0.993202416918429, FPR = 0.6906908631482226\n",
      "Threshold 0.19107761979103088, TPR = 0.9937688821752266, FPR = 0.7007408258197898\n",
      "Threshold 0.16792219877243042, TPR = 0.9937688821752266, FPR = 0.7080342273014415\n",
      "Threshold 0.15679305791854858, TPR = 0.9939577039274925, FPR = 0.7149256302762304\n",
      "Threshold 0.13339026272296906, TPR = 0.99452416918429, FPR = 0.7281341526445759\n",
      "Threshold 0.11966411769390106, TPR = 0.9956570996978852, FPR = 0.748636076494573\n",
      "Threshold 0.10755704343318939, TPR = 0.995845921450151, FPR = 0.761729742146672\n",
      "Threshold 0.08951786905527115, TPR = 0.9967900302114804, FPR = 0.7774651122724401\n",
      "Threshold 0.07809572666883469, TPR = 0.9977341389728097, FPR = 0.7967610406018492\n",
      "Threshold 0.06585092842578888, TPR = 0.9979229607250756, FPR = 0.8109458450582898\n",
      "Threshold 0.05391988903284073, TPR = 0.9981117824773413, FPR = 0.833859759949463\n",
      "Threshold 0.04260675609111786, TPR = 0.9984894259818731, FPR = 0.868374203181531\n",
      "Threshold 0.03574411943554878, TPR = 0.9992447129909365, FPR = 0.9279848389134555\n",
      "Threshold 0.016715774312615395, TPR = 1.0, FPR = 1.0\n"
     ]
    }
   ],
   "source": [
    "for i in range(0,len(tpr), 15):\n",
    "    print(\"Threshold {0}, TPR = {1}, FPR = {2}\".format(ROCthresholds[i], tpr[i], fpr[i]))"
   ]
  },
  {
   "cell_type": "markdown",
   "metadata": {},
   "source": [
    "# AMD"
   ]
  },
  {
   "cell_type": "code",
   "execution_count": 11,
   "metadata": {},
   "outputs": [],
   "source": [
    "features = ['AMDtriofracnear', 'AMDtriofracfar']\n",
    "\n",
    "trainX, trainY, testX, testY = train_test_split(trainingdatafolder, features, filter=False)\n",
    "\n",
    "dtrain = xgb.DMatrix(trainX, trainY)\n",
    "dtest = xgb.DMatrix(testX, testY)"
   ]
  },
  {
   "cell_type": "code",
   "execution_count": 12,
   "metadata": {},
   "outputs": [
    {
     "name": "stdout",
     "output_type": "stream",
     "text": [
      "SCORE:                                              \n",
      "0.71237158                                          \n",
      "ERROR                                               \n",
      "0.009403267425608892                                \n",
      "SCORE:                                                               \n",
      "0.70446478                                                           \n",
      "ERROR                                                                \n",
      "0.007589252082068872                                                 \n",
      "SCORE:                                                               \n",
      "0.6833743000000001                                                   \n",
      "ERROR                                                                \n",
      "0.011422226193559471                                                 \n",
      "SCORE:                                                               \n",
      "0.7143895600000001                                                   \n",
      "ERROR                                                                \n",
      "0.009001687404354076                                                 \n",
      "SCORE:                                                                       \n",
      "0.7023945199999999                                                           \n",
      "ERROR                                                                        \n",
      "0.007866399126777711                                                         \n",
      "SCORE:                                                                       \n",
      "0.70810544                                                                   \n",
      "ERROR                                                                        \n",
      "0.008575081315711218                                                         \n",
      "SCORE:                                                                       \n",
      "0.70530276                                                                   \n",
      "ERROR                                                                        \n",
      "0.008515278547272818                                                         \n",
      "SCORE:                                                                       \n",
      "0.5                                                                          \n",
      "ERROR                                                                        \n",
      "0.0                                                                          \n",
      "SCORE:                                                                       \n",
      "0.71071204                                                                   \n",
      "ERROR                                                                        \n",
      "0.008846823938726722                                                         \n",
      "SCORE:                                                                       \n",
      "0.70408312                                                                   \n",
      "ERROR                                                                        \n",
      "0.008871108834138566                                                         \n",
      "SCORE:                                                                        \n",
      "0.70441988                                                                    \n",
      "ERROR                                                                         \n",
      "0.008276847107117114                                                          \n",
      "SCORE:                                                                        \n",
      "0.6840387800000001                                                            \n",
      "ERROR                                                                         \n",
      "0.011879744965097215                                                          \n",
      "SCORE:                                                                        \n",
      "0.70490756                                                                    \n",
      "ERROR                                                                         \n",
      "0.00810484597249406                                                           \n",
      "SCORE:                                                                        \n",
      "0.7089455200000001                                                            \n",
      "ERROR                                                                         \n",
      "0.009132103661681285                                                          \n",
      "SCORE:                                                                        \n",
      "0.7124323199999998                                                            \n",
      "ERROR                                                                         \n",
      "0.008299152959412182                                                          \n",
      "SCORE:                                                                        \n",
      "0.7086855799999998                                                            \n",
      "ERROR                                                                         \n",
      "0.008529142387500539                                                          \n",
      "SCORE:                                                                        \n",
      "0.71349348                                                                    \n",
      "ERROR                                                                         \n",
      "0.00964943860473563                                                           \n",
      "SCORE:                                                                        \n",
      "0.71363358                                                                    \n",
      "ERROR                                                                         \n",
      "0.008697198962212776                                                          \n",
      "SCORE:                                                                        \n",
      "0.7047643000000001                                                            \n",
      "ERROR                                                                         \n",
      "0.008573020004607142                                                          \n",
      "SCORE:                                                                        \n",
      "0.71093012                                                                    \n",
      "ERROR                                                                         \n",
      "0.008837617413517464                                                          \n",
      "SCORE:                                                                        \n",
      "0.71339804                                                                    \n",
      "ERROR                                                                         \n",
      "0.009425610657933401                                                          \n",
      "SCORE:                                                                        \n",
      "0.7142616399999999                                                            \n",
      "ERROR                                                                         \n",
      "0.008528349384985676                                                          \n",
      "SCORE:                                                                        \n",
      "0.7057265599999999                                                            \n",
      "ERROR                                                                         \n",
      "0.007305708216537315                                                          \n",
      "SCORE:                                                                        \n",
      "0.7086936400000001                                                            \n",
      "ERROR                                                                         \n",
      "0.009437753907917668                                                          \n",
      "SCORE:                                                                        \n",
      "0.7066052999999999                                                            \n",
      "ERROR                                                                         \n",
      "0.00756487787207597                                                           \n",
      "SCORE:                                                                        \n",
      "0.7125325199999999                                                            \n",
      "ERROR                                                                         \n",
      "0.008560889868434677                                                          \n",
      "SCORE:                                                                        \n",
      "0.71432268                                                                    \n"
     ]
    },
    {
     "name": "stdout",
     "output_type": "stream",
     "text": [
      "ERROR                                                                         \n",
      "0.009009767781654038                                                          \n",
      "SCORE:                                                                        \n",
      "0.71413578                                                                    \n",
      "ERROR                                                                         \n",
      "0.00903966383669607                                                           \n",
      "SCORE:                                                                        \n",
      "0.7137333800000001                                                            \n",
      "ERROR                                                                         \n",
      "0.009324060441165103                                                          \n",
      "SCORE:                                                                        \n",
      "0.7130606800000001                                                            \n",
      "ERROR                                                                         \n",
      "0.00949768299037448                                                           \n",
      "SCORE:                                                                        \n",
      "0.7135382799999999                                                            \n",
      "ERROR                                                                         \n",
      "0.008830124253770071                                                          \n",
      "SCORE:                                                                        \n",
      "0.7146454999999999                                                            \n",
      "ERROR                                                                         \n",
      "0.008691018350414364                                                          \n",
      "SCORE:                                                                         \n",
      "0.7140043                                                                      \n",
      "ERROR                                                                          \n",
      "0.009203756693530931                                                           \n",
      "SCORE:                                                                         \n",
      "0.70308728                                                                     \n",
      "ERROR                                                                          \n",
      "0.00763476581051996                                                            \n",
      "SCORE:                                                                         \n",
      "0.7058165000000001                                                             \n",
      "ERROR                                                                          \n",
      "0.007687797814993529                                                           \n",
      "SCORE:                                                                         \n",
      "0.70756714                                                                     \n",
      "ERROR                                                                          \n",
      "0.00889613905837768                                                            \n",
      "SCORE:                                                                         \n",
      "0.5                                                                            \n",
      "ERROR                                                                          \n",
      "0.0                                                                            \n",
      "SCORE:                                                                         \n",
      "0.7079214800000001                                                             \n",
      "ERROR                                                                          \n",
      "0.00776489750639738                                                            \n",
      "SCORE:                                                                         \n",
      "0.70805536                                                                     \n",
      "ERROR                                                                          \n",
      "0.009477457608952942                                                           \n",
      "SCORE:                                                                         \n",
      "0.712252                                                                       \n",
      "ERROR                                                                          \n",
      "0.008117984506957438                                                           \n",
      "SCORE:                                                                         \n",
      "0.71163892                                                                     \n",
      "ERROR                                                                          \n",
      "0.007768359400298168                                                           \n",
      "SCORE:                                                                         \n",
      "0.70688648                                                                     \n",
      "ERROR                                                                          \n",
      "0.008913037971925327                                                           \n",
      "SCORE:                                                                         \n",
      "0.71272812                                                                     \n",
      "ERROR                                                                          \n",
      "0.008514210199688102                                                           \n",
      "SCORE:                                                                         \n",
      "0.71400896                                                                     \n",
      "ERROR                                                                          \n",
      "0.009233548702871536                                                           \n",
      "SCORE:                                                                         \n",
      "0.69036224                                                                     \n",
      "ERROR                                                                          \n",
      "0.011204146328907484                                                           \n",
      "SCORE:                                                                         \n",
      "0.7096511000000001                                                             \n",
      "ERROR                                                                          \n",
      "0.008353303524491382                                                           \n",
      "SCORE:                                                                         \n",
      "0.7146711600000001                                                             \n",
      "ERROR                                                                          \n",
      "0.008919512440432306                                                           \n",
      "SCORE:                                                                         \n",
      "0.7145972399999999                                                            \n",
      "ERROR                                                                         \n",
      "0.008919526407665733                                                          \n",
      "SCORE:                                                                        \n",
      "0.7138645800000001                                                            \n",
      "ERROR                                                                         \n",
      "0.009350565811678093                                                          \n",
      "SCORE:                                                                        \n",
      "0.7146262                                                                     \n",
      "ERROR                                                                         \n",
      "0.009067954787970343                                                          \n",
      "100%|██████████| 50/50 [02:27<00:00,  2.15s/it, best loss: 0.2853288399999999]\n",
      "Optimization Time: %f seconds 147.97375869750977\n",
      "CPU times: user 1h 35min 35s, sys: 2min 9s, total: 1h 37min 45s\n",
      "Wall time: 2min 27s\n"
     ]
    }
   ],
   "source": [
    "%%time\n",
    "trials = Trials()\n",
    "import time\n",
    "start = time.time()\n",
    "best = fmin(fn=objective, space = space, algo = tpe.suggest, max_evals = 50, trials = trials, rstate=np.random.RandomState(seed=0))\n",
    "end = time.time()\n",
    "print(\"Optimization Time: %f seconds\", (end  -start))"
   ]
  },
  {
   "cell_type": "code",
   "execution_count": 13,
   "metadata": {},
   "outputs": [
    {
     "data": {
      "text/plain": [
       "{'x_learning_rate': 0.15620694056130713,\n",
       " 'x_max_depth': 4,\n",
       " 'x_min_child': 7.0,\n",
       " 'x_pos_weight': 28.745055109175368,\n",
       " 'x_subsample': 0.9122057639582176,\n",
       " 'x_tree_colsample': 0.7879523988270615}"
      ]
     },
     "execution_count": 13,
     "metadata": {},
     "output_type": "execute_result"
    }
   ],
   "source": [
    "best"
   ]
  },
  {
   "cell_type": "code",
   "execution_count": 14,
   "metadata": {},
   "outputs": [
    {
     "name": "stdout",
     "output_type": "stream",
     "text": [
      "[0]\ttrain-auc:0.69099+0.00073\ttest-auc:0.68886+0.00176\n",
      "[1]\ttrain-auc:0.71362+0.01782\ttest-auc:0.71074+0.01860\n",
      "[2]\ttrain-auc:0.71702+0.01248\ttest-auc:0.71377+0.01141\n",
      "[3]\ttrain-auc:0.71857+0.00362\ttest-auc:0.71427+0.00392\n",
      "[4]\ttrain-auc:0.71892+0.00874\ttest-auc:0.71486+0.00920\n",
      "[5]\ttrain-auc:0.72017+0.00940\ttest-auc:0.71654+0.00853\n",
      "[6]\ttrain-auc:0.72083+0.01160\ttest-auc:0.71710+0.01039\n",
      "[7]\ttrain-auc:0.72167+0.01141\ttest-auc:0.71739+0.01047\n",
      "[8]\ttrain-auc:0.72216+0.01313\ttest-auc:0.71793+0.01209\n",
      "[9]\ttrain-auc:0.72306+0.01408\ttest-auc:0.71869+0.01317\n"
     ]
    },
    {
     "data": {
      "text/plain": [
       "XGBClassifier(base_score=0.5, booster=None, colsample_bylevel=1,\n",
       "              colsample_bynode=1, colsample_bytree=0.7879523988270615, gamma=0,\n",
       "              gpu_id=-1, importance_type='gain', interaction_constraints=None,\n",
       "              learning_rate=0.15620694056130713, max_delta_step=0, max_depth=4,\n",
       "              min_child_weight=7.0, missing=nan, monotone_constraints=None,\n",
       "              n_estimators=100, n_jobs=0, num_parallel_tree=1,\n",
       "              objective='binary:logistic', random_state=0, reg_alpha=0,\n",
       "              reg_lambda=1, scale_pos_weight=28.745055109175368,\n",
       "              subsample=0.9122057639582176, tree_method=None,\n",
       "              validate_parameters=False, verbosity=None)"
      ]
     },
     "execution_count": 14,
     "metadata": {},
     "output_type": "execute_result"
    }
   ],
   "source": [
    "model = XGBClassifier(n_estimators=100, scale_pos_weight=best[\"x_pos_weight\"],\n",
    "                         learning_rate = best[\"x_learning_rate\"], \n",
    "                         max_depth = int(best[\"x_max_depth\"]), \n",
    "                         min_child_weight = best[\"x_min_child\"],\n",
    "                         subsample = best[\"x_subsample\"], \n",
    "                         colsample_bytree = best[\"x_tree_colsample\"])\n",
    "\n",
    "score = xgb.cv(model.get_xgb_params(), dtrain, nfold = 5, metrics = \"auc\", verbose_eval=True, num_boost_round=10)\n",
    "model.fit(trainX, trainY)"
   ]
  },
  {
   "cell_type": "code",
   "execution_count": 15,
   "metadata": {},
   "outputs": [],
   "source": [
    "model.save_model(datapath+'../spock/models/AMD.json')"
   ]
  },
  {
   "cell_type": "code",
   "execution_count": 17,
   "metadata": {},
   "outputs": [
    {
     "data": {
      "text/plain": [
       "Text(0.5, 1.0, 'ROC curve (AUC = 0.724)')"
      ]
     },
     "execution_count": 17,
     "metadata": {},
     "output_type": "execute_result"
    },
    {
     "data": {
      "image/png": "[encoded data removed]",
      "text/plain": [
       "<Figure size 432x288 with 1 Axes>"
      ]
     },
     "metadata": {
      "needs_background": "light"
     },
     "output_type": "display_data"
    }
   ],
   "source": [
    "roc_auc, fpr, tpr, ROCthresholds = ROC_curve(trainingdatafolder, model, features)\n",
    "\n",
    "fig, ax = plt.subplots()\n",
    "ax.plot(fpr, tpr)\n",
    "ax.plot([0, 1], [0, 1], 'k--')\n",
    "ax.set_xlim([0.0, 1.0])\n",
    "ax.set_ylim([0.0, 1.0])\n",
    "ax.set_xlabel('False Positive Rate')\n",
    "ax.set_ylabel('True Positive Rate')\n",
    "ax.set_title('ROC curve (AUC = {0:.3f})'.format(roc_auc))"
   ]
  },
  {
   "cell_type": "markdown",
   "metadata": {},
   "source": [
    "# Hill"
   ]
  },
  {
   "cell_type": "code",
   "execution_count": 18,
   "metadata": {},
   "outputs": [],
   "source": [
    "features = ['betanear', 'betafar']\n",
    "\n",
    "trainX, trainY, testX, testY = train_test_split(trainingdatafolder, features, filter=False)\n",
    "\n",
    "dtrain = xgb.DMatrix(trainX, trainY)\n",
    "dtest = xgb.DMatrix(testX, testY)"
   ]
  },
  {
   "cell_type": "code",
   "execution_count": 19,
   "metadata": {},
   "outputs": [
    {
     "name": "stdout",
     "output_type": "stream",
     "text": [
      "SCORE:                                              \n",
      "0.69321332                                          \n",
      "ERROR                                               \n",
      "0.015087209525725755                                \n",
      "SCORE:                                                               \n",
      "0.68330978                                                           \n",
      "ERROR                                                                \n",
      "0.013957966471470348                                                 \n",
      "SCORE:                                                               \n",
      "0.6717651200000001                                                   \n",
      "ERROR                                                                \n",
      "0.012607754633259485                                                 \n",
      "SCORE:                                                               \n",
      "0.6968506800000001                                                   \n",
      "ERROR                                                                \n",
      "0.014069160565464704                                                 \n",
      "SCORE:                                                                        \n",
      "0.67733616                                                                    \n",
      "ERROR                                                                         \n",
      "0.013053163670592624                                                          \n",
      "SCORE:                                                                        \n",
      "0.68603766                                                                    \n",
      "ERROR                                                                         \n",
      "0.014522926436976741                                                          \n",
      "SCORE:                                                                        \n",
      "0.68213154                                                                    \n",
      "ERROR                                                                         \n",
      "0.01426484702266612                                                           \n",
      "SCORE:                                                                        \n",
      "0.5                                                                           \n",
      "ERROR                                                                         \n",
      "0.0                                                                           \n",
      "SCORE:                                                                        \n",
      "0.69126406                                                                    \n",
      "ERROR                                                                         \n",
      "0.015248305658102906                                                          \n",
      "SCORE:                                                                        \n",
      "0.68171066                                                                    \n",
      "ERROR                                                                         \n",
      "0.014607414570522195                                                          \n",
      "SCORE:                                                                         \n",
      "0.68145682                                                                     \n",
      "ERROR                                                                          \n",
      "0.013703553469241759                                                           \n",
      "SCORE:                                                                         \n",
      "0.67137402                                                                     \n",
      "ERROR                                                                          \n",
      "0.012356554425532478                                                           \n",
      "SCORE:                                                                         \n",
      "0.68122536                                                                     \n",
      "ERROR                                                                          \n",
      "0.013594739090182                                                              \n",
      "SCORE:                                                                         \n",
      "0.68645528                                                                     \n",
      "ERROR                                                                          \n",
      "0.01493319908027016                                                            \n",
      "SCORE:                                                                         \n",
      "0.6935851599999999                                                             \n",
      "ERROR                                                                          \n",
      "0.01458032740163448                                                            \n",
      "SCORE:                                                                         \n",
      "0.68607772                                                                     \n",
      "ERROR                                                                          \n",
      "0.015248716042261069                                                           \n",
      "SCORE:                                                                         \n",
      "0.6945616800000001                                                             \n",
      "ERROR                                                                          \n",
      "0.015192138366267361                                                           \n",
      "SCORE:                                                                         \n",
      "0.6953122199999999                                                             \n",
      "ERROR                                                                          \n",
      "0.01488363136539185                                                            \n",
      "SCORE:                                                                         \n",
      "0.6812577                                                                      \n",
      "ERROR                                                                          \n",
      "0.013972752338622562                                                           \n",
      "SCORE:                                                                         \n",
      "0.6942200999999999                                                             \n",
      "ERROR                                                                          \n",
      "0.01405446313571356                                                            \n",
      "SCORE:                                                                         \n",
      "0.69483722                                                                     \n",
      "ERROR                                                                          \n",
      "0.01484208878909182                                                            \n",
      "SCORE:                                                                         \n",
      "0.69611216                                                                     \n",
      "ERROR                                                                          \n",
      "0.014513925549897241                                                           \n",
      "SCORE:                                                                         \n",
      "0.68539936                                                                     \n",
      "ERROR                                                                          \n",
      "0.013738332985996318                                                           \n",
      "SCORE:                                                                         \n",
      "0.68772464                                                                     \n",
      "ERROR                                                                          \n",
      "0.015500601755263185                                                           \n",
      "SCORE:                                                                         \n",
      "0.6845531199999999                                                             \n",
      "ERROR                                                                          \n",
      "0.014624471045100946                                                           \n",
      "SCORE:                                                                         \n",
      "0.69379664                                                                     \n",
      "ERROR                                                                          \n",
      "0.014332270854393273                                                           \n",
      "SCORE:                                                                         \n"
     ]
    },
    {
     "name": "stdout",
     "output_type": "stream",
     "text": [
      "0.69582784                                                                     \n",
      "ERROR                                                                          \n",
      "0.01496686331884407                                                            \n",
      "SCORE:                                                                         \n",
      "0.6956583999999999                                                             \n",
      "ERROR                                                                          \n",
      "0.014802441325867385                                                           \n",
      "SCORE:                                                                         \n",
      "0.69678922                                                                     \n",
      "ERROR                                                                          \n",
      "0.014059563012360832                                                           \n",
      "SCORE:                                                                         \n",
      "0.696877                                                                       \n",
      "ERROR                                                                          \n",
      "0.013882526496062541                                                           \n",
      "SCORE:                                                                         \n",
      "0.6948241399999999                                                             \n",
      "ERROR                                                                          \n",
      "0.014771387631967402                                                           \n",
      "SCORE:                                                                         \n",
      "0.68587654                                                                     \n",
      "ERROR                                                                          \n",
      "0.013573719546884976                                                           \n",
      "SCORE:                                                                         \n",
      "0.69544542                                                                     \n",
      "ERROR                                                                          \n",
      "0.014160359674003462                                                           \n",
      "SCORE:                                                                         \n",
      "0.69506118                                                                     \n",
      "ERROR                                                                          \n",
      "0.014623732712942789                                                           \n",
      "SCORE:                                                                         \n",
      "0.6793313                                                                      \n",
      "ERROR                                                                          \n",
      "0.013445248488350547                                                           \n",
      "SCORE:                                                                         \n",
      "0.68683712                                                                     \n",
      "ERROR                                                                          \n",
      "0.014489947816143368                                                           \n",
      "SCORE:                                                                         \n",
      "0.6962472599999999                                                             \n",
      "ERROR                                                                          \n",
      "0.014144499647301138                                                           \n",
      "SCORE:                                                                         \n",
      "0.68786146                                                                     \n",
      "ERROR                                                                          \n",
      "0.0143820769141553                                                             \n",
      "SCORE:                                                                         \n",
      "0.5                                                                            \n",
      "ERROR                                                                          \n",
      "0.0                                                                            \n",
      "SCORE:                                                                         \n",
      "0.68744794                                                                     \n",
      "ERROR                                                                          \n",
      "0.01406467840923376                                                            \n",
      "SCORE:                                                                         \n",
      "0.69096132                                                                     \n",
      "ERROR                                                                          \n",
      "0.014036242292236243                                                           \n",
      "SCORE:                                                                         \n",
      "0.67521644                                                                     \n",
      "ERROR                                                                          \n",
      "0.012050142691817723                                                           \n",
      "SCORE:                                                                         \n",
      "0.69305242                                                                     \n",
      "ERROR                                                                          \n",
      "0.014769253529790378                                                           \n",
      "SCORE:                                                                         \n",
      "0.69650102                                                                     \n",
      "ERROR                                                                          \n",
      "0.014417715643197987                                                           \n",
      "SCORE:                                                                         \n",
      "0.6931529000000001                                                             \n",
      "ERROR                                                                          \n",
      "0.014519961326930855                                                           \n",
      "SCORE:                                                                         \n",
      "0.69391134                                                                     \n",
      "ERROR                                                                          \n",
      "0.014168980259021613                                                           \n",
      "SCORE:                                                                         \n",
      "0.6936516600000001                                                             \n",
      "ERROR                                                                          \n",
      "0.015292541266162071                                                           \n",
      "SCORE:                                                                         \n",
      "0.6903265199999999                                                             \n",
      "ERROR                                                                          \n",
      "0.01415027062113594                                                            \n",
      "SCORE:                                                                         \n",
      "0.6935007200000001                                                             \n",
      "ERROR                                                                          \n",
      "0.015093982829384223                                                           \n",
      "SCORE:                                                                         \n",
      "0.68054946                                                                     \n",
      "ERROR                                                                          \n",
      "0.014620995581496784                                                           \n",
      "100%|██████████| 50/50 [01:47<00:00,  2.33s/it, best loss: 0.30312300000000003]\n",
      "Optimization Time: %f seconds 107.65750861167908\n",
      "CPU times: user 1h 5min 23s, sys: 1min 28s, total: 1h 6min 51s\n",
      "Wall time: 1min 47s\n"
     ]
    }
   ],
   "source": [
    "%%time\n",
    "trials = Trials()\n",
    "import time\n",
    "start = time.time()\n",
    "best = fmin(fn=objective, space = space, algo = tpe.suggest, max_evals = 50, trials = trials, rstate=np.random.RandomState(seed=0))\n",
    "end = time.time()\n",
    "print(\"Optimization Time: %f seconds\", (end  -start))"
   ]
  },
  {
   "cell_type": "code",
   "execution_count": 20,
   "metadata": {},
   "outputs": [
    {
     "data": {
      "text/plain": [
       "{'x_learning_rate': 0.1988830373151137,\n",
       " 'x_max_depth': 3,\n",
       " 'x_min_child': 3.0,\n",
       " 'x_pos_weight': 27.042872111520865,\n",
       " 'x_subsample': 0.8007849462574025,\n",
       " 'x_tree_colsample': 0.7267696531078781}"
      ]
     },
     "execution_count": 20,
     "metadata": {},
     "output_type": "execute_result"
    }
   ],
   "source": [
    "best"
   ]
  },
  {
   "cell_type": "code",
   "execution_count": 21,
   "metadata": {},
   "outputs": [
    {
     "name": "stdout",
     "output_type": "stream",
     "text": [
      "[0]\ttrain-auc:0.63287+0.00066\ttest-auc:0.63154+0.00181\n",
      "[1]\ttrain-auc:0.68467+0.04187\ttest-auc:0.68339+0.03981\n",
      "[2]\ttrain-auc:0.69994+0.03264\ttest-auc:0.69851+0.03105\n",
      "[3]\ttrain-auc:0.71149+0.00226\ttest-auc:0.70908+0.00228\n",
      "[4]\ttrain-auc:0.71248+0.00540\ttest-auc:0.70972+0.00581\n",
      "[5]\ttrain-auc:0.71441+0.00781\ttest-auc:0.71192+0.00836\n",
      "[6]\ttrain-auc:0.71342+0.00994\ttest-auc:0.71081+0.01015\n",
      "[7]\ttrain-auc:0.71583+0.00801\ttest-auc:0.71308+0.00900\n",
      "[8]\ttrain-auc:0.71537+0.01001\ttest-auc:0.71300+0.01083\n",
      "[9]\ttrain-auc:0.71666+0.01034\ttest-auc:0.71419+0.01113\n"
     ]
    },
    {
     "data": {
      "text/plain": [
       "XGBClassifier(base_score=0.5, booster=None, colsample_bylevel=1,\n",
       "              colsample_bynode=1, colsample_bytree=0.7267696531078781, gamma=0,\n",
       "              gpu_id=-1, importance_type='gain', interaction_constraints=None,\n",
       "              learning_rate=0.1988830373151137, max_delta_step=0, max_depth=3,\n",
       "              min_child_weight=3.0, missing=nan, monotone_constraints=None,\n",
       "              n_estimators=100, n_jobs=0, num_parallel_tree=1,\n",
       "              objective='binary:logistic', random_state=0, reg_alpha=0,\n",
       "              reg_lambda=1, scale_pos_weight=27.042872111520865,\n",
       "              subsample=0.8007849462574025, tree_method=None,\n",
       "              validate_parameters=False, verbosity=None)"
      ]
     },
     "execution_count": 21,
     "metadata": {},
     "output_type": "execute_result"
    }
   ],
   "source": [
    "model = XGBClassifier(n_estimators=100, scale_pos_weight=best[\"x_pos_weight\"],\n",
    "                         learning_rate = best[\"x_learning_rate\"], \n",
    "                         max_depth = int(best[\"x_max_depth\"]), \n",
    "                         min_child_weight = best[\"x_min_child\"],\n",
    "                         subsample = best[\"x_subsample\"], \n",
    "                         colsample_bytree = best[\"x_tree_colsample\"])\n",
    "\n",
    "score = xgb.cv(model.get_xgb_params(), dtrain, nfold = 5, metrics = \"auc\", verbose_eval=True, num_boost_round=10)\n",
    "model.fit(trainX, trainY)"
   ]
  },
  {
   "cell_type": "code",
   "execution_count": 22,
   "metadata": {},
   "outputs": [],
   "source": [
    "model.save_model(datapath+'../spock/models/hill.json')"
   ]
  },
  {
   "cell_type": "code",
   "execution_count": 24,
   "metadata": {},
   "outputs": [
    {
     "data": {
      "text/plain": [
       "Text(0.5, 1.0, 'ROC curve (AUC = 0.723)')"
      ]
     },
     "execution_count": 24,
     "metadata": {},
     "output_type": "execute_result"
    },
    {
     "data": {
      "image/png": "[encoded data removed]",
      "text/plain": [
       "<Figure size 432x288 with 1 Axes>"
      ]
     },
     "metadata": {
      "needs_background": "light"
     },
     "output_type": "display_data"
    }
   ],
   "source": [
    "roc_auc, fpr, tpr, ROCthresholds = ROC_curve(trainingdatafolder, model, features)\n",
    "\n",
    "fig, ax = plt.subplots()\n",
    "ax.plot(fpr, tpr)\n",
    "ax.plot([0, 1], [0, 1], 'k--')\n",
    "ax.set_xlim([0.0, 1.0])\n",
    "ax.set_ylim([0.0, 1.0])\n",
    "ax.set_xlabel('False Positive Rate')\n",
    "ax.set_ylabel('True Positive Rate')\n",
    "ax.set_title('ROC curve (AUC = {0:.3f})'.format(roc_auc))"
   ]
  },
  {
   "cell_type": "markdown",
   "metadata": {},
   "source": [
    "# N-body"
   ]
  },
  {
   "cell_type": "code",
   "execution_count": 25,
   "metadata": {},
   "outputs": [],
   "source": [
    "datapath = '../training_data/'\n",
    "dset = 'resonant/'\n",
    "featurefolder = 'shadowtimes/'\n",
    "trainingdatafolder = datapath+dset+featurefolder\n",
    "features=None"
   ]
  },
  {
   "cell_type": "code",
   "execution_count": 26,
   "metadata": {},
   "outputs": [],
   "source": [
    "trainingdatafolder = datapath+dset+featurefolder\n",
    "trainX, trainY, testX, testY = train_test_split(trainingdatafolder, features)"
   ]
  },
  {
   "cell_type": "code",
   "execution_count": 27,
   "metadata": {},
   "outputs": [],
   "source": [
    "shadowstable = trainX['shadow_instability_time'] > 8.99e8"
   ]
  },
  {
   "cell_type": "markdown",
   "metadata": {},
   "source": [
    "3% had stability in shadow integration disagree with nominal integration"
   ]
  },
  {
   "cell_type": "code",
   "execution_count": 28,
   "metadata": {},
   "outputs": [
    {
     "data": {
      "text/plain": [
       "0.016084285619922055"
      ]
     },
     "execution_count": 28,
     "metadata": {},
     "output_type": "execute_result"
    }
   ],
   "source": [
    "(trainY != shadowstable).sum()/trainY.shape[0]"
   ]
  },
  {
   "cell_type": "code",
   "execution_count": 29,
   "metadata": {},
   "outputs": [
    {
     "name": "stdout",
     "output_type": "stream",
     "text": [
      "SCORE:                                              \n",
      "0.69321332                                          \n",
      "ERROR                                               \n",
      "0.015087209525725755                                \n",
      "SCORE:                                                               \n",
      "0.68330978                                                           \n",
      "ERROR                                                                \n",
      "0.013957966471470348                                                 \n",
      "SCORE:                                                               \n",
      "0.6717651200000001                                                   \n",
      "ERROR                                                                \n",
      "0.012607754633259485                                                 \n",
      "SCORE:                                                               \n",
      "0.6968506800000001                                                   \n",
      "ERROR                                                                \n",
      "0.014069160565464704                                                 \n",
      "SCORE:                                                                        \n",
      "0.67733616                                                                    \n",
      "ERROR                                                                         \n",
      "0.013053163670592624                                                          \n",
      "SCORE:                                                                        \n",
      "0.68603766                                                                    \n",
      "ERROR                                                                         \n",
      "0.014522926436976741                                                          \n",
      "SCORE:                                                                        \n",
      "0.68213154                                                                    \n",
      "ERROR                                                                         \n",
      "0.01426484702266612                                                           \n",
      "SCORE:                                                                        \n",
      "0.5                                                                           \n",
      "ERROR                                                                         \n",
      "0.0                                                                           \n",
      "SCORE:                                                                        \n",
      "0.69126406                                                                    \n",
      "ERROR                                                                         \n",
      "0.015248305658102906                                                          \n",
      "SCORE:                                                                        \n",
      "0.68171066                                                                    \n",
      "ERROR                                                                         \n",
      "0.014607414570522195                                                          \n",
      "SCORE:                                                                         \n",
      "0.68145682                                                                     \n",
      "ERROR                                                                          \n",
      "0.013703553469241759                                                           \n",
      "SCORE:                                                                         \n",
      "0.67137402                                                                     \n",
      "ERROR                                                                          \n",
      "0.012356554425532478                                                           \n",
      "SCORE:                                                                         \n",
      "0.68122536                                                                     \n",
      "ERROR                                                                          \n",
      "0.013594739090182                                                              \n",
      "SCORE:                                                                         \n",
      "0.68645528                                                                     \n",
      "ERROR                                                                          \n",
      "0.01493319908027016                                                            \n",
      "SCORE:                                                                         \n",
      "0.6935851599999999                                                             \n",
      "ERROR                                                                          \n",
      "0.01458032740163448                                                            \n",
      "SCORE:                                                                         \n",
      "0.68607772                                                                     \n",
      "ERROR                                                                          \n",
      "0.015248716042261069                                                           \n",
      "SCORE:                                                                         \n",
      "0.6945616800000001                                                             \n",
      "ERROR                                                                          \n",
      "0.015192138366267361                                                           \n",
      "SCORE:                                                                         \n",
      "0.6953122199999999                                                             \n",
      "ERROR                                                                          \n",
      "0.01488363136539185                                                            \n",
      "SCORE:                                                                         \n",
      "0.6812577                                                                      \n",
      "ERROR                                                                          \n",
      "0.013972752338622562                                                           \n",
      "SCORE:                                                                         \n",
      "0.6942200999999999                                                             \n",
      "ERROR                                                                          \n",
      "0.01405446313571356                                                            \n",
      "SCORE:                                                                         \n",
      "0.69483722                                                                     \n",
      "ERROR                                                                          \n",
      "0.01484208878909182                                                            \n",
      "SCORE:                                                                         \n",
      "0.69611216                                                                     \n",
      "ERROR                                                                          \n",
      "0.014513925549897241                                                           \n",
      "SCORE:                                                                         \n",
      "0.68539936                                                                     \n",
      "ERROR                                                                          \n",
      "0.013738332985996318                                                           \n",
      "SCORE:                                                                         \n",
      "0.68772464                                                                     \n",
      "ERROR                                                                          \n",
      "0.015500601755263185                                                           \n",
      "SCORE:                                                                         \n",
      "0.6845531199999999                                                             \n",
      "ERROR                                                                          \n",
      "0.014624471045100946                                                           \n",
      "SCORE:                                                                         \n",
      "0.69379664                                                                     \n",
      "ERROR                                                                          \n",
      "0.014332270854393273                                                           \n",
      "SCORE:                                                                         \n"
     ]
    },
    {
     "name": "stdout",
     "output_type": "stream",
     "text": [
      "0.69582784                                                                     \n",
      "ERROR                                                                          \n",
      "0.01496686331884407                                                            \n",
      "SCORE:                                                                         \n",
      "0.6956583999999999                                                             \n",
      "ERROR                                                                          \n",
      "0.014802441325867385                                                           \n",
      "SCORE:                                                                         \n",
      "0.69678922                                                                     \n",
      "ERROR                                                                          \n",
      "0.014059563012360832                                                           \n",
      "SCORE:                                                                         \n",
      "0.696877                                                                       \n",
      "ERROR                                                                          \n",
      "0.013882526496062541                                                           \n",
      "SCORE:                                                                         \n",
      "0.6948241399999999                                                             \n",
      "ERROR                                                                          \n",
      "0.014771387631967402                                                           \n",
      "SCORE:                                                                         \n",
      "0.68587654                                                                     \n",
      "ERROR                                                                          \n",
      "0.013573719546884976                                                           \n",
      "SCORE:                                                                         \n",
      "0.69544542                                                                     \n",
      "ERROR                                                                          \n",
      "0.014160359674003462                                                           \n",
      "SCORE:                                                                         \n",
      "0.69506118                                                                     \n",
      "ERROR                                                                          \n",
      "0.014623732712942789                                                           \n",
      "SCORE:                                                                         \n",
      "0.6793313                                                                      \n",
      "ERROR                                                                          \n",
      "0.013445248488350547                                                           \n",
      "SCORE:                                                                         \n",
      "0.68683712                                                                     \n",
      "ERROR                                                                          \n",
      "0.014489947816143368                                                           \n",
      "SCORE:                                                                         \n",
      "0.6962472599999999                                                             \n",
      "ERROR                                                                          \n",
      "0.014144499647301138                                                           \n",
      "SCORE:                                                                         \n",
      "0.68786146                                                                     \n",
      "ERROR                                                                          \n",
      "0.0143820769141553                                                             \n",
      "SCORE:                                                                         \n",
      "0.5                                                                            \n",
      "ERROR                                                                          \n",
      "0.0                                                                            \n",
      "SCORE:                                                                         \n",
      "0.68744794                                                                     \n",
      "ERROR                                                                          \n",
      "0.01406467840923376                                                            \n",
      "SCORE:                                                                         \n",
      "0.69096132                                                                     \n",
      "ERROR                                                                          \n",
      "0.014036242292236243                                                           \n",
      "SCORE:                                                                         \n",
      "0.67521644                                                                     \n",
      "ERROR                                                                          \n",
      "0.012050142691817723                                                           \n",
      "SCORE:                                                                         \n",
      "0.69305242                                                                     \n",
      "ERROR                                                                          \n",
      "0.014769253529790378                                                           \n",
      "SCORE:                                                                         \n",
      "0.69650102                                                                     \n",
      "ERROR                                                                          \n",
      "0.014417715643197987                                                           \n",
      "SCORE:                                                                         \n",
      "0.6931529000000001                                                             \n",
      "ERROR                                                                          \n",
      "0.014519961326930855                                                           \n",
      "SCORE:                                                                         \n",
      "0.69391134                                                                     \n",
      "ERROR                                                                          \n",
      "0.014168980259021613                                                           \n",
      "SCORE:                                                                         \n",
      "0.6936516600000001                                                             \n",
      "ERROR                                                                          \n",
      "0.015292541266162071                                                           \n",
      "SCORE:                                                                         \n",
      "0.6903265199999999                                                             \n",
      "ERROR                                                                          \n",
      "0.01415027062113594                                                            \n",
      "SCORE:                                                                         \n",
      "0.6935007200000001                                                             \n",
      "ERROR                                                                          \n",
      "0.015093982829384223                                                           \n",
      "SCORE:                                                                         \n",
      "0.68054946                                                                     \n",
      "ERROR                                                                          \n",
      "0.014620995581496784                                                           \n",
      "100%|██████████| 50/50 [01:54<00:00,  2.71s/it, best loss: 0.30312300000000003]\n",
      "Optimization Time: %f seconds 114.32038879394531\n",
      "CPU times: user 1h 7min 52s, sys: 1min 34s, total: 1h 9min 27s\n",
      "Wall time: 1min 54s\n"
     ]
    }
   ],
   "source": [
    "%%time\n",
    "trials = Trials()\n",
    "import time\n",
    "start = time.time()\n",
    "best = fmin(fn=objective, space = space, algo = tpe.suggest, max_evals = 50, trials = trials, rstate=np.random.RandomState(seed=0))\n",
    "end = time.time()\n",
    "print(\"Optimization Time: %f seconds\", (end  -start))"
   ]
  },
  {
   "cell_type": "code",
   "execution_count": 30,
   "metadata": {},
   "outputs": [
    {
     "data": {
      "text/plain": [
       "{'x_learning_rate': 0.1988830373151137,\n",
       " 'x_max_depth': 3,\n",
       " 'x_min_child': 3.0,\n",
       " 'x_pos_weight': 27.042872111520865,\n",
       " 'x_subsample': 0.8007849462574025,\n",
       " 'x_tree_colsample': 0.7267696531078781}"
      ]
     },
     "execution_count": 30,
     "metadata": {},
     "output_type": "execute_result"
    }
   ],
   "source": [
    "best"
   ]
  },
  {
   "cell_type": "code",
   "execution_count": 31,
   "metadata": {},
   "outputs": [
    {
     "name": "stdout",
     "output_type": "stream",
     "text": [
      "[0]\ttrain-auc:0.63287+0.00066\ttest-auc:0.63154+0.00181\n",
      "[1]\ttrain-auc:0.68467+0.04187\ttest-auc:0.68339+0.03981\n",
      "[2]\ttrain-auc:0.69994+0.03264\ttest-auc:0.69851+0.03105\n",
      "[3]\ttrain-auc:0.71149+0.00226\ttest-auc:0.70908+0.00228\n",
      "[4]\ttrain-auc:0.71248+0.00540\ttest-auc:0.70972+0.00581\n",
      "[5]\ttrain-auc:0.71441+0.00781\ttest-auc:0.71192+0.00836\n",
      "[6]\ttrain-auc:0.71342+0.00994\ttest-auc:0.71081+0.01015\n",
      "[7]\ttrain-auc:0.71583+0.00801\ttest-auc:0.71308+0.00900\n",
      "[8]\ttrain-auc:0.71537+0.01001\ttest-auc:0.71300+0.01083\n",
      "[9]\ttrain-auc:0.71666+0.01034\ttest-auc:0.71419+0.01113\n"
     ]
    },
    {
     "data": {
      "text/plain": [
       "XGBClassifier(base_score=0.5, booster=None, colsample_bylevel=1,\n",
       "              colsample_bynode=1, colsample_bytree=0.7267696531078781, gamma=0,\n",
       "              gpu_id=-1, importance_type='gain', interaction_constraints=None,\n",
       "              learning_rate=0.1988830373151137, max_delta_step=0, max_depth=3,\n",
       "              min_child_weight=3.0, missing=nan, monotone_constraints=None,\n",
       "              n_estimators=100, n_jobs=0, num_parallel_tree=1,\n",
       "              objective='binary:logistic', random_state=0, reg_alpha=0,\n",
       "              reg_lambda=1, scale_pos_weight=27.042872111520865,\n",
       "              subsample=0.8007849462574025, tree_method=None,\n",
       "              validate_parameters=False, verbosity=None)"
      ]
     },
     "execution_count": 31,
     "metadata": {},
     "output_type": "execute_result"
    }
   ],
   "source": [
    "model = XGBClassifier(n_estimators=100, scale_pos_weight=best[\"x_pos_weight\"],\n",
    "                         learning_rate = best[\"x_learning_rate\"], \n",
    "                         max_depth = int(best[\"x_max_depth\"]), \n",
    "                         min_child_weight = best[\"x_min_child\"],\n",
    "                         subsample = best[\"x_subsample\"], \n",
    "                         colsample_bytree = best[\"x_tree_colsample\"])\n",
    "\n",
    "score = xgb.cv(model.get_xgb_params(), dtrain, nfold = 5, metrics = \"auc\", verbose_eval=True, num_boost_round=10)\n",
    "model.fit(trainX, trainY)"
   ]
  },
  {
   "cell_type": "code",
   "execution_count": 32,
   "metadata": {},
   "outputs": [],
   "source": [
    "model.save_model(datapath+'../spock/models/nbody.json')"
   ]
  },
  {
   "cell_type": "code",
   "execution_count": 33,
   "metadata": {},
   "outputs": [
    {
     "data": {
      "text/plain": [
       "Text(0.5, 1.0, 'ROC curve (AUC = 0.991)')"
      ]
     },
     "execution_count": 33,
     "metadata": {},
     "output_type": "execute_result"
    },
    {
     "data": {
      "image/png": "[encoded data removed]",
      "text/plain": [
       "<Figure size 432x288 with 1 Axes>"
      ]
     },
     "metadata": {
      "needs_background": "light"
     },
     "output_type": "display_data"
    }
   ],
   "source": [
    "roc_auc, fpr, tpr, ROCthresholds = ROC_curve(trainingdatafolder, model, features)\n",
    "\n",
    "fig, ax = plt.subplots()\n",
    "ax.plot(fpr, tpr)\n",
    "ax.plot([0, 1], [0, 1], 'k--')\n",
    "ax.set_xlim([0.0, 1.0])\n",
    "ax.set_ylim([0.0, 1.0])\n",
    "ax.set_xlabel('False Positive Rate')\n",
    "ax.set_ylabel('True Positive Rate')\n",
    "ax.set_title('ROC curve (AUC = {0:.3f})'.format(roc_auc))"
   ]
  },
  {
   "cell_type": "code",
   "execution_count": null,
   "metadata": {},
   "outputs": [],
   "source": []
  }
 ],
 "metadata": {
  "anaconda-cloud": {},
  "kernelspec": {
   "display_name": "Python 3",
   "language": "python",
   "name": "python3"
  },
  "language_info": {
   "codemirror_mode": {
    "name": "ipython",
    "version": 3
   },
   "file_extension": ".py",
   "mimetype": "text/x-python",
   "name": "python",
   "nbconvert_exporter": "python",
   "pygments_lexer": "ipython3",
   "version": "3.7.3"
  }
 },
 "nbformat": 4,
 "nbformat_minor": 2
}

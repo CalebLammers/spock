{
 "cells": [
  {
   "cell_type": "code",
   "execution_count": 1,
   "metadata": {},
   "outputs": [],
   "source": [
    "import numpy as np\n",
    "import matplotlib.pyplot as plt\n",
    "%matplotlib inline\n",
    "import pandas as pd\n",
    "from sklearn import metrics\n",
    "import xgboost as xgb\n",
    "from xgboost.sklearn import XGBClassifier\n",
    "from hyperopt import hp, fmin, tpe, STATUS_OK, Trials\n",
    "import hyperopt\n",
    "import sys\n",
    "sys.path.append('../spock/')\n",
    "from modelfitting import train_test_split, ROC_curve, stable_unstable_hist, calibration_plot, unstable_error_fraction"
   ]
  },
  {
   "cell_type": "code",
   "execution_count": 2,
   "metadata": {},
   "outputs": [],
   "source": [
    "datapath = '../training_data/'\n",
    "dset = 'resonant/'\n",
    "Norbits = 1e4\n",
    "Nout = 80\n",
    "featureargs = (Norbits, Nout) # params to pass feature function\n",
    "featurefolder = 'additional_featuresNorbits{0:.1f}Nout{1}trio/'.format(Norbits, Nout)\n",
    "trainingdatafolder = datapath+dset+featurefolder"
   ]
  },
  {
   "cell_type": "code",
   "execution_count": 7,
   "metadata": {},
   "outputs": [],
   "source": [
    "space ={'max_depth': hp.randint('x_max_depth',  10),\n",
    "        'min_child_weight': hp.randint ('x_min_child', 20),\n",
    "        'subsample': hp.uniform ('x_subsample', 0.8, 1),\n",
    "        \"learning_rate\":hp.uniform(\"x_learning_rate\",0.01,0.2),\n",
    "}\n",
    "\n",
    "def objective(params):\n",
    "    clf = XGBClassifier(n_estimators = 100,\n",
    "                            max_depth = params['max_depth'], \n",
    "                            min_child_weight = params['min_child_weight'],\n",
    "                            subsample = params['subsample'],\n",
    "                            learning_rate = params['learning_rate'], seed = 0)\n",
    "    \n",
    "    score = xgb.cv(clf.get_xgb_params(), dtrain, nfold = 5, metrics = \"auc\", early_stopping_rounds=10)\n",
    "    avg_score =  np.mean(score[\"test-auc-mean\"])\n",
    "    error = np.mean(score[\"test-auc-std\"])\n",
    "    \n",
    "    print(\"SCORE:\", avg_score, \"ERROR\", error)#, \"HOLDOUT SCORE\", test_score)\n",
    "    return{'loss':1-avg_score, 'status': STATUS_OK, \"cv_score\":avg_score , \"cv_error\":error}"
   ]
  },
  {
   "cell_type": "markdown",
   "metadata": {},
   "source": [
    "# MEGNO"
   ]
  },
  {
   "cell_type": "code",
   "execution_count": 8,
   "metadata": {},
   "outputs": [],
   "source": [
    "features = ['MEGNO']\n",
    "\n",
    "trainX, trainY, testX, testY = train_test_split(trainingdatafolder, features, filter=False)\n",
    "\n",
    "dtrain = xgb.DMatrix(trainX, trainY)\n",
    "dtest = xgb.DMatrix(testX, testY)"
   ]
  },
  {
   "cell_type": "code",
   "execution_count": 9,
   "metadata": {},
   "outputs": [
    {
     "name": "stdout",
     "output_type": "stream",
     "text": [
      "SCORE:                                              \n",
      "0.5                                                 \n",
      "ERROR                                               \n",
      "0.0                                                 \n",
      "SCORE:                                                        \n",
      "0.5                                                           \n",
      "ERROR                                                         \n",
      "0.0                                                           \n",
      "SCORE:                                                        \n",
      "0.8612528000000002                                            \n",
      "ERROR                                                         \n",
      "0.0016079927252848013                                         \n",
      "SCORE:                                                                        \n",
      "0.5                                                                           \n",
      "ERROR                                                                         \n",
      "0.0                                                                           \n",
      "SCORE:                                                                        \n",
      "0.8612176                                                                     \n",
      "ERROR                                                                         \n",
      "0.0016311337046414208                                                         \n",
      "SCORE:                                                                        \n",
      "0.8608828799999999                                                            \n",
      "ERROR                                                                         \n",
      "0.001678919732391254                                                          \n",
      "SCORE:                                                                        \n",
      "0.85954916                                                                    \n",
      "ERROR                                                                         \n",
      "0.0018922220242971939                                                         \n",
      "SCORE:                                                                        \n",
      "0.86092178                                                                    \n",
      "ERROR                                                                         \n",
      "0.0018510046033152997                                                         \n",
      "SCORE:                                                                        \n",
      "0.8601139799999998                                                            \n",
      "ERROR                                                                         \n",
      "0.0019628089573797006                                                         \n",
      "SCORE:                                                                        \n",
      "0.8603236999999998                                                            \n",
      "ERROR                                                                         \n",
      "0.0016893979855780086                                                         \n",
      "SCORE:                                                                         \n",
      "0.8520553                                                                      \n",
      "ERROR                                                                          \n",
      "0.0026035232635246383                                                          \n",
      "SCORE:                                                                         \n",
      "0.86073412                                                                     \n",
      "ERROR                                                                          \n",
      "0.0018052729469945812                                                          \n",
      "SCORE:                                                                         \n",
      "0.81954908                                                                     \n",
      "ERROR                                                                          \n",
      "0.002885366754237809                                                           \n",
      "SCORE:                                                                         \n",
      "0.8605                                                                         \n",
      "ERROR                                                                          \n",
      "0.001643236603156965                                                           \n",
      "SCORE:                                                                         \n",
      "0.86102534                                                                     \n",
      "ERROR                                                                          \n",
      "0.0016646529274022843                                                          \n",
      "SCORE:                                                                         \n",
      "0.8602620999999999                                                             \n",
      "ERROR                                                                          \n",
      "0.0015494792892116415                                                          \n",
      "SCORE:                                                                         \n",
      "0.8598249600000001                                                             \n",
      "ERROR                                                                          \n",
      "0.001960730221837568                                                           \n",
      "SCORE:                                                                         \n",
      "0.86028468                                                                     \n",
      "ERROR                                                                          \n",
      "0.001761397094329276                                                           \n",
      "SCORE:                                                                         \n",
      "0.84502352                                                                     \n",
      "ERROR                                                                          \n",
      "0.002321541721459742                                                           \n",
      "SCORE:                                                                         \n",
      "0.8601850000000001                                                             \n",
      "ERROR                                                                          \n",
      "0.001990804671376993                                                           \n",
      "SCORE:                                                                         \n",
      "0.8612536000000001                                                             \n",
      "ERROR                                                                          \n",
      "0.0017045449602195017                                                          \n",
      "SCORE:                                                                         \n",
      "0.8587845                                                                      \n",
      "ERROR                                                                          \n",
      "0.0018262315203202682                                                          \n",
      "SCORE:                                                                         \n",
      "0.86130344                                                                     \n",
      "ERROR                                                                          \n",
      "0.0014658678755997143                                                          \n",
      "SCORE:                                                                         \n",
      "0.8614291599999999                                                             \n",
      "ERROR                                                                          \n",
      "0.0015513476588438497                                                          \n",
      "SCORE:                                                                         \n",
      "0.8614237399999999                                                             \n",
      "ERROR                                                                          \n",
      "0.0016209434118935155                                                          \n",
      "SCORE:                                                                         \n",
      "0.8613027399999998                                                             \n",
      "ERROR                                                                          \n",
      "0.001732795512582258                                                           \n",
      "SCORE:                                                                         \n"
     ]
    },
    {
     "name": "stdout",
     "output_type": "stream",
     "text": [
      "0.86132168                                                                     \n",
      "ERROR                                                                          \n",
      "0.0015764672064262966                                                          \n",
      "SCORE:                                                                         \n",
      "0.8612801000000001                                                             \n",
      "ERROR                                                                          \n",
      "0.0016114915560946556                                                          \n",
      "SCORE:                                                                         \n",
      "0.86119194                                                                     \n",
      "ERROR                                                                          \n",
      "0.001576937453495781                                                           \n",
      "SCORE:                                                                         \n",
      "0.82033804                                                                     \n",
      "ERROR                                                                          \n",
      "0.0030436999562111424                                                          \n",
      "SCORE:                                                                         \n",
      "0.8612815599999999                                                             \n",
      "ERROR                                                                          \n",
      "0.001512843501058711                                                           \n",
      "SCORE:                                                                         \n",
      "0.8605859600000001                                                             \n",
      "ERROR                                                                          \n",
      "0.0018611524220212609                                                          \n",
      "SCORE:                                                                         \n",
      "0.8589419599999999                                                             \n",
      "ERROR                                                                          \n",
      "0.0018839220433538692                                                          \n",
      "SCORE:                                                                         \n",
      "0.5                                                                            \n",
      "ERROR                                                                          \n",
      "0.0                                                                            \n",
      "SCORE:                                                                         \n",
      "0.8613671                                                                      \n",
      "ERROR                                                                          \n",
      "0.001682166481534062                                                           \n",
      "SCORE:                                                                         \n",
      "0.5                                                                            \n",
      "ERROR                                                                          \n",
      "0.0                                                                            \n",
      "SCORE:                                                                         \n",
      "0.8612346800000001                                                             \n",
      "ERROR                                                                          \n",
      "0.001505150166316388                                                           \n",
      "SCORE:                                                                         \n",
      "0.86028024                                                                     \n",
      "ERROR                                                                          \n",
      "0.0019352367798227917                                                          \n",
      "SCORE:                                                                         \n",
      "0.81452092                                                                     \n",
      "ERROR                                                                          \n",
      "0.002731877808836255                                                           \n",
      "SCORE:                                                                         \n",
      "0.8500721800000001                                                             \n",
      "ERROR                                                                          \n",
      "0.0023628624646067345                                                          \n",
      "SCORE:                                                                         \n",
      "0.86078942                                                                     \n",
      "ERROR                                                                          \n",
      "0.0016428508032521841                                                          \n",
      "SCORE:                                                                         \n",
      "0.8612339599999999                                                             \n",
      "ERROR                                                                          \n",
      "0.0015718940876615253                                                          \n",
      "SCORE:                                                                         \n",
      "0.8582990200000001                                                             \n",
      "ERROR                                                                          \n",
      "0.0017175910617972545                                                          \n",
      "SCORE:                                                                         \n",
      "0.8603773200000001                                                             \n",
      "ERROR                                                                          \n",
      "0.0017264537758507332                                                          \n",
      "SCORE:                                                                         \n",
      "0.5                                                                            \n",
      "ERROR                                                                          \n",
      "0.0                                                                            \n",
      "SCORE:                                                                         \n",
      "0.8612575199999999                                                             \n",
      "ERROR                                                                          \n",
      "0.001614946534572907                                                           \n",
      "SCORE:                                                                         \n",
      "0.86094268                                                                     \n",
      "ERROR                                                                          \n",
      "0.0016325234993533953                                                          \n",
      "SCORE:                                                                         \n",
      "0.8462972799999999                                                             \n",
      "ERROR                                                                          \n",
      "0.00219656012432557                                                            \n",
      "SCORE:                                                                         \n",
      "0.8606716400000002                                                             \n",
      "ERROR                                                                          \n",
      "0.001768046013859354                                                           \n",
      "SCORE:                                                                         \n",
      "0.8599270000000001                                                             \n",
      "ERROR                                                                          \n",
      "0.001889391954238894                                                           \n",
      "100%|██████████| 50/50 [01:17<00:00,  1.62s/it, best loss: 0.13857084000000008]\n",
      "Optimization Time: %f seconds 77.56247067451477\n",
      "CPU times: user 56min 42s, sys: 1min 11s, total: 57min 53s\n",
      "Wall time: 1min 17s\n"
     ]
    }
   ],
   "source": [
    "%%time\n",
    "trials = Trials()\n",
    "import time\n",
    "start = time.time()\n",
    "best = fmin(fn=objective, space = space, algo = tpe.suggest, max_evals = 50, trials = trials, rstate=np.random.RandomState(seed=0))\n",
    "end = time.time()\n",
    "print(\"Optimization Time: %f seconds\", (end  -start))"
   ]
  },
  {
   "cell_type": "code",
   "execution_count": 10,
   "metadata": {},
   "outputs": [
    {
     "data": {
      "text/plain": [
       "{'x_learning_rate': 0.15230704268614442,\n",
       " 'x_max_depth': 6,\n",
       " 'x_min_child': 4,\n",
       " 'x_subsample': 0.8371869407199811}"
      ]
     },
     "execution_count": 10,
     "metadata": {},
     "output_type": "execute_result"
    }
   ],
   "source": [
    "best"
   ]
  },
  {
   "cell_type": "markdown",
   "metadata": {},
   "source": [
    "# Would have to set num_boost_round=100 to see the same CV score as in our final fitted model\n",
    "\n",
    "We're setting n_estimators=100 in model, which is the equivalent of num_boost_round in CV, so if we use the default in CV (10), we will get slightly lower powerformance"
   ]
  },
  {
   "cell_type": "code",
   "execution_count": 11,
   "metadata": {},
   "outputs": [
    {
     "name": "stdout",
     "output_type": "stream",
     "text": [
      "[0]\ttrain-auc:0.86245+0.00058\ttest-auc:0.85980+0.00180\n",
      "[1]\ttrain-auc:0.86341+0.00063\ttest-auc:0.86078+0.00171\n",
      "[2]\ttrain-auc:0.86400+0.00043\ttest-auc:0.86131+0.00158\n",
      "[3]\ttrain-auc:0.86436+0.00044\ttest-auc:0.86146+0.00157\n",
      "[4]\ttrain-auc:0.86458+0.00045\ttest-auc:0.86159+0.00151\n",
      "[5]\ttrain-auc:0.86473+0.00046\ttest-auc:0.86179+0.00144\n",
      "[6]\ttrain-auc:0.86493+0.00049\ttest-auc:0.86181+0.00144\n",
      "[7]\ttrain-auc:0.86515+0.00034\ttest-auc:0.86182+0.00149\n",
      "[8]\ttrain-auc:0.86541+0.00041\ttest-auc:0.86191+0.00146\n",
      "[9]\ttrain-auc:0.86557+0.00041\ttest-auc:0.86201+0.00152\n",
      "[10]\ttrain-auc:0.86572+0.00044\ttest-auc:0.86197+0.00148\n",
      "[11]\ttrain-auc:0.86599+0.00044\ttest-auc:0.86210+0.00151\n",
      "[12]\ttrain-auc:0.86615+0.00044\ttest-auc:0.86221+0.00146\n",
      "[13]\ttrain-auc:0.86627+0.00045\ttest-auc:0.86223+0.00147\n",
      "[14]\ttrain-auc:0.86644+0.00047\ttest-auc:0.86222+0.00152\n",
      "[15]\ttrain-auc:0.86652+0.00047\ttest-auc:0.86216+0.00154\n",
      "[16]\ttrain-auc:0.86662+0.00048\ttest-auc:0.86220+0.00160\n",
      "[17]\ttrain-auc:0.86675+0.00045\ttest-auc:0.86222+0.00161\n",
      "[18]\ttrain-auc:0.86685+0.00045\ttest-auc:0.86224+0.00163\n",
      "[19]\ttrain-auc:0.86698+0.00040\ttest-auc:0.86225+0.00161\n",
      "[20]\ttrain-auc:0.86703+0.00040\ttest-auc:0.86222+0.00160\n",
      "[21]\ttrain-auc:0.86713+0.00039\ttest-auc:0.86217+0.00160\n",
      "[22]\ttrain-auc:0.86720+0.00042\ttest-auc:0.86219+0.00161\n",
      "[23]\ttrain-auc:0.86725+0.00042\ttest-auc:0.86220+0.00166\n",
      "[24]\ttrain-auc:0.86731+0.00045\ttest-auc:0.86220+0.00166\n",
      "[25]\ttrain-auc:0.86735+0.00045\ttest-auc:0.86221+0.00164\n",
      "[26]\ttrain-auc:0.86741+0.00046\ttest-auc:0.86221+0.00162\n",
      "[27]\ttrain-auc:0.86746+0.00048\ttest-auc:0.86218+0.00166\n",
      "[28]\ttrain-auc:0.86753+0.00046\ttest-auc:0.86219+0.00167\n",
      "[29]\ttrain-auc:0.86760+0.00046\ttest-auc:0.86217+0.00165\n",
      "[30]\ttrain-auc:0.86766+0.00043\ttest-auc:0.86216+0.00166\n",
      "[31]\ttrain-auc:0.86772+0.00045\ttest-auc:0.86216+0.00166\n",
      "[32]\ttrain-auc:0.86778+0.00044\ttest-auc:0.86215+0.00166\n",
      "[33]\ttrain-auc:0.86786+0.00042\ttest-auc:0.86216+0.00166\n",
      "[34]\ttrain-auc:0.86792+0.00047\ttest-auc:0.86217+0.00166\n",
      "[35]\ttrain-auc:0.86801+0.00048\ttest-auc:0.86216+0.00164\n",
      "[36]\ttrain-auc:0.86810+0.00051\ttest-auc:0.86212+0.00162\n",
      "[37]\ttrain-auc:0.86815+0.00047\ttest-auc:0.86211+0.00159\n",
      "[38]\ttrain-auc:0.86821+0.00046\ttest-auc:0.86213+0.00158\n",
      "[39]\ttrain-auc:0.86830+0.00042\ttest-auc:0.86213+0.00160\n",
      "[40]\ttrain-auc:0.86835+0.00040\ttest-auc:0.86213+0.00158\n",
      "[41]\ttrain-auc:0.86840+0.00036\ttest-auc:0.86214+0.00164\n",
      "[42]\ttrain-auc:0.86850+0.00034\ttest-auc:0.86212+0.00165\n",
      "[43]\ttrain-auc:0.86855+0.00031\ttest-auc:0.86212+0.00166\n",
      "[44]\ttrain-auc:0.86868+0.00026\ttest-auc:0.86210+0.00163\n",
      "[45]\ttrain-auc:0.86871+0.00026\ttest-auc:0.86207+0.00160\n",
      "[46]\ttrain-auc:0.86884+0.00019\ttest-auc:0.86208+0.00164\n",
      "[47]\ttrain-auc:0.86888+0.00023\ttest-auc:0.86209+0.00164\n",
      "[48]\ttrain-auc:0.86894+0.00021\ttest-auc:0.86210+0.00162\n",
      "[49]\ttrain-auc:0.86900+0.00024\ttest-auc:0.86209+0.00161\n"
     ]
    }
   ],
   "source": [
    "model = XGBClassifier(learning_rate = best[\"x_learning_rate\"], \n",
    "                         max_depth = int(best[\"x_max_depth\"]), \n",
    "                         subsample = best[\"x_subsample\"],\n",
    "                         min_child_weight = best['x_min_child'])\n",
    "\n",
    "score = xgb.cv(model.get_xgb_params(), dtrain, nfold = 5, metrics = \"auc\", verbose_eval=True, num_boost_round=50)"
   ]
  },
  {
   "cell_type": "code",
   "execution_count": 13,
   "metadata": {},
   "outputs": [
    {
     "data": {
      "text/plain": [
       "Text(0, 0.5, 'CV AUC score')"
      ]
     },
     "execution_count": 13,
     "metadata": {},
     "output_type": "execute_result"
    },
    {
     "data": {
      "image/png": "[encoded data removed]",
      "text/plain": [
       "<Figure size 432x288 with 1 Axes>"
      ]
     },
     "metadata": {
      "needs_background": "light"
     },
     "output_type": "display_data"
    }
   ],
   "source": [
    "n_estimators = 10\n",
    "fig, ax = plt.subplots()\n",
    "ax.plot(score.index, score['train-auc-mean'], label='Train')\n",
    "ax.plot(score.index, score['test-auc-mean'], label='Test')\n",
    "ax.axvline(n_estimators, linestyle='--')\n",
    "ax.legend()\n",
    "ax.set_xlabel('n_estimators (num trees)')\n",
    "ax.set_ylabel('CV AUC score')"
   ]
  },
  {
   "cell_type": "code",
   "execution_count": 14,
   "metadata": {},
   "outputs": [
    {
     "data": {
      "text/plain": [
       "XGBClassifier(base_score=0.5, booster=None, colsample_bylevel=1,\n",
       "              colsample_bynode=1, colsample_bytree=1, gamma=0, gpu_id=-1,\n",
       "              importance_type='gain', interaction_constraints=None,\n",
       "              learning_rate=0.15230704268614442, max_delta_step=0, max_depth=6,\n",
       "              min_child_weight=4, missing=nan, monotone_constraints=None,\n",
       "              n_estimators=10, n_jobs=0, num_parallel_tree=1,\n",
       "              objective='binary:logistic', random_state=0, reg_alpha=0,\n",
       "              reg_lambda=1, scale_pos_weight=1, subsample=0.8371869407199811,\n",
       "              tree_method=None, validate_parameters=False, verbosity=None)"
      ]
     },
     "execution_count": 14,
     "metadata": {},
     "output_type": "execute_result"
    }
   ],
   "source": [
    "model.set_params(n_estimators = n_estimators)\n",
    "model.fit(trainX, trainY)"
   ]
  },
  {
   "cell_type": "code",
   "execution_count": 15,
   "metadata": {},
   "outputs": [],
   "source": [
    "model.save_model(datapath+'../spock/models/megno.json')"
   ]
  },
  {
   "cell_type": "code",
   "execution_count": 16,
   "metadata": {},
   "outputs": [],
   "source": [
    "model = XGBClassifier()\n",
    "model.load_model(datapath+'../spock/models/megno.json')"
   ]
  },
  {
   "cell_type": "code",
   "execution_count": 17,
   "metadata": {},
   "outputs": [
    {
     "data": {
      "text/plain": [
       "Text(0.5, 1.0, 'ROC curve (AUC = 0.866)')"
      ]
     },
     "execution_count": 17,
     "metadata": {},
     "output_type": "execute_result"
    },
    {
     "data": {
      "image/png": "[encoded data removed]",
      "text/plain": [
       "<Figure size 432x288 with 1 Axes>"
      ]
     },
     "metadata": {
      "needs_background": "light"
     },
     "output_type": "display_data"
    }
   ],
   "source": [
    "roc_auc, fpr, tpr, ROCthresholds = ROC_curve(trainingdatafolder, model, features)\n",
    "\n",
    "fig, ax = plt.subplots()\n",
    "ax.plot(fpr, tpr)\n",
    "ax.plot([0, 1], [0, 1], 'k--')\n",
    "ax.set_xlim([0.0, 1.0])\n",
    "ax.set_ylim([0.0, 1.0])\n",
    "ax.set_xlabel('False Positive Rate')\n",
    "ax.set_ylabel('True Positive Rate')\n",
    "ax.set_title('ROC curve (AUC = {0:.3f})'.format(roc_auc))"
   ]
  },
  {
   "cell_type": "code",
   "execution_count": 24,
   "metadata": {},
   "outputs": [
    {
     "name": "stdout",
     "output_type": "stream",
     "text": [
      "Threshold 1.6124969720840454, TPR = 0.0, FPR = 0.0\n",
      "Threshold 0.5962888598442078, TPR = 0.19939577039274925, FPR = 0.03158559696778269\n",
      "Threshold 0.5710986852645874, TPR = 0.27794561933534745, FPR = 0.04726353873542755\n",
      "Threshold 0.559128999710083, TPR = 0.3183534743202417, FPR = 0.05800264170447367\n",
      "Threshold 0.541252613067627, TPR = 0.4265483383685801, FPR = 0.08304140584620685\n",
      "Threshold 0.5267432928085327, TPR = 0.449773413897281, FPR = 0.09010509389536553\n",
      "Threshold 0.5241249799728394, TPR = 0.5058534743202417, FPR = 0.10503646700740826\n",
      "Threshold 0.503821849822998, TPR = 0.5251132930513596, FPR = 0.11060701774536266\n",
      "Threshold 0.49678704142570496, TPR = 0.5929003021148036, FPR = 0.13214265204157813\n",
      "Threshold 0.4931870102882385, TPR = 0.5953549848942599, FPR = 0.13340607592028944\n",
      "Threshold 0.48184260725975037, TPR = 0.6000755287009063, FPR = 0.13495664158961695\n",
      "Threshold 0.47422555088996887, TPR = 0.6263217522658611, FPR = 0.1443748923218285\n",
      "Threshold 0.46474653482437134, TPR = 0.6682401812688822, FPR = 0.15890426692700857\n",
      "Threshold 0.46126553416252136, TPR = 0.6867447129909365, FPR = 0.1668868087061391\n",
      "Threshold 0.4583289623260498, TPR = 0.6899546827794562, FPR = 0.16809280422672715\n",
      "Threshold 0.4470370411872864, TPR = 0.6944864048338368, FPR = 0.16947108482168494\n",
      "Threshold 0.44103512167930603, TPR = 0.7179003021148036, FPR = 0.1779130534658014\n",
      "Threshold 0.4378868341445923, TPR = 0.7313066465256798, FPR = 0.18331131912938609\n",
      "Threshold 0.43228429555892944, TPR = 0.762273413897281, FPR = 0.19473956239591111\n",
      "Threshold 0.4253378212451935, TPR = 0.7681268882175226, FPR = 0.1977832653764429\n",
      "Threshold 0.4216240644454956, TPR = 0.773036253776435, FPR = 0.20094182507322117\n",
      "Threshold 0.41759490966796875, TPR = 0.7892749244712991, FPR = 0.20829265491299603\n",
      "Threshold 0.41156312823295593, TPR = 0.7928625377643505, FPR = 0.21087693102854188\n",
      "Threshold 0.40645548701286316, TPR = 0.7996601208459214, FPR = 0.2147820593809223\n",
      "Threshold 0.3999044895172119, TPR = 0.8085347432024169, FPR = 0.21983575489576754\n",
      "Threshold 0.3966023623943329, TPR = 0.8111782477341389, FPR = 0.22138632056509505\n",
      "Threshold 0.3872024416923523, TPR = 0.8191087613293051, FPR = 0.22471716533624303\n",
      "Threshold 0.38084328174591064, TPR = 0.8264728096676737, FPR = 0.22908172055360937\n",
      "Threshold 0.3776099383831024, TPR = 0.8285498489425982, FPR = 0.23074714293918336\n",
      "Threshold 0.36793968081474304, TPR = 0.837046827794562, FPR = 0.23430770114282432\n",
      "Threshold 0.3645983636379242, TPR = 0.8412009063444109, FPR = 0.23631769367713776\n",
      "Threshold 0.3574913740158081, TPR = 0.8581948640483383, FPR = 0.248033078734279\n",
      "Threshold 0.3499138355255127, TPR = 0.8606495468277946, FPR = 0.24964107276172975\n",
      "Threshold 0.34313586354255676, TPR = 0.8680135951661632, FPR = 0.25371848618847986\n",
      "Threshold 0.33653929829597473, TPR = 0.8812311178247734, FPR = 0.2629070234881985\n",
      "Threshold 0.33066266775131226, TPR = 0.8923716012084593, FPR = 0.27416298168035375\n",
      "Threshold 0.32661524415016174, TPR = 0.8984138972809668, FPR = 0.2771492563027623\n",
      "Threshold 0.31910040974617004, TPR = 0.900679758308157, FPR = 0.2795038189858152\n",
      "Threshold 0.3107648491859436, TPR = 0.9055891238670695, FPR = 0.2828920921150864\n",
      "Threshold 0.30582472681999207, TPR = 0.9078549848942599, FPR = 0.2849595130075231\n",
      "Threshold 0.30212149024009705, TPR = 0.9123867069486404, FPR = 0.2874863607649457\n",
      "Threshold 0.2947733998298645, TPR = 0.9167296072507553, FPR = 0.29058749210360074\n",
      "Threshold 0.283914178609848, TPR = 0.9186178247734139, FPR = 0.2933440532935163\n",
      "Threshold 0.2674984633922577, TPR = 0.9193731117824774, FPR = 0.29432033538161145\n",
      "Threshold 0.2634289264678955, TPR = 0.9201283987915407, FPR = 0.29604318612530867\n",
      "Threshold 0.2611255943775177, TPR = 0.9208836858006042, FPR = 0.2975937517946362\n",
      "Threshold 0.2504691779613495, TPR = 0.9237160120845922, FPR = 0.30012059955205883\n",
      "Threshold 0.2430800497531891, TPR = 0.9301359516616314, FPR = 0.30729914431746397\n",
      "Threshold 0.23844294250011444, TPR = 0.934856495468278, FPR = 0.31378854878539025\n",
      "Threshold 0.23011897504329681, TPR = 0.9358006042296072, FPR = 0.31660253833342905\n",
      "Threshold 0.22200264036655426, TPR = 0.940143504531722, FPR = 0.3256187905587779\n",
      "Threshold 0.2060922235250473, TPR = 0.9465634441087614, FPR = 0.33704703382530293\n",
      "Threshold 0.19842348992824554, TPR = 0.9478851963746223, FPR = 0.3403778785964509\n",
      "Threshold 0.18742474913597107, TPR = 0.9514728096676737, FPR = 0.3508872681330041\n",
      "Threshold 0.17952680587768555, TPR = 0.9556268882175226, FPR = 0.366105783035663\n",
      "Threshold 0.17275623977184296, TPR = 0.9597809667673716, FPR = 0.3798885889852409\n",
      "Threshold 0.166068896651268, TPR = 0.9612915407854985, FPR = 0.38304714868201917\n",
      "Threshold 0.16134516894817352, TPR = 0.963179758308157, FPR = 0.395623959111009\n",
      "Threshold 0.15809446573257446, TPR = 0.964690332326284, FPR = 0.40263021880204447\n",
      "Threshold 0.15342116355895996, TPR = 0.9663897280966768, FPR = 0.4134267501292138\n",
      "Threshold 0.1456344574689865, TPR = 0.9697885196374623, FPR = 0.4284155515993798\n",
      "Threshold 0.14090372622013092, TPR = 0.9735649546827795, FPR = 0.4503531844024579\n",
      "Threshold 0.1380138248205185, TPR = 0.9811178247734139, FPR = 0.49704243955665306\n",
      "Threshold 0.13114328682422638, TPR = 0.9830060422960725, FPR = 0.5194969275828404\n",
      "Threshold 0.12088815867900848, TPR = 0.9894259818731118, FPR = 0.5775569976454373\n",
      "Threshold 0.11105083674192429, TPR = 0.9920694864048338, FPR = 0.6321139378625165\n"
     ]
    }
   ],
   "source": [
    "for i in range(0,len(tpr), 5):\n",
    "    print(\"Threshold {0}, TPR = {1}, FPR = {2}\".format(ROCthresholds[i], tpr[i], fpr[i]))"
   ]
  },
  {
   "cell_type": "markdown",
   "metadata": {},
   "source": [
    "# AMD"
   ]
  },
  {
   "cell_type": "code",
   "execution_count": 26,
   "metadata": {},
   "outputs": [],
   "source": [
    "features = ['AMDfracnear', 'AMDfracfar']\n",
    "\n",
    "trainX, trainY, testX, testY = train_test_split(trainingdatafolder, features, filter=False)\n",
    "\n",
    "dtrain = xgb.DMatrix(trainX, trainY)\n",
    "dtest = xgb.DMatrix(testX, testY)"
   ]
  },
  {
   "cell_type": "code",
   "execution_count": 27,
   "metadata": {},
   "outputs": [
    {
     "name": "stdout",
     "output_type": "stream",
     "text": [
      "SCORE:                                              \n",
      "0.5                                                 \n",
      "ERROR                                               \n",
      "0.0                                                 \n",
      "SCORE:                                                        \n",
      "0.5                                                           \n",
      "ERROR                                                         \n",
      "0.0                                                           \n",
      "SCORE:                                                        \n",
      "0.74246314                                                    \n",
      "ERROR                                                         \n",
      "0.0018824653405077087                                         \n",
      "SCORE:                                                               \n",
      "0.5                                                                  \n",
      "ERROR                                                                \n",
      "0.0                                                                  \n",
      "SCORE:                                                               \n",
      "0.7424695800000001                                                   \n",
      "ERROR                                                                \n",
      "0.001943458889590437                                                 \n",
      "SCORE:                                                                       \n",
      "0.7423023                                                                    \n",
      "ERROR                                                                        \n",
      "0.0018301385500205727                                                        \n",
      "SCORE:                                                                       \n",
      "0.73953816                                                                   \n",
      "ERROR                                                                        \n",
      "0.0016716376994421924                                                        \n",
      "SCORE:                                                                       \n",
      "0.74227318                                                                   \n",
      "ERROR                                                                        \n",
      "0.0018394544791479617                                                        \n",
      "SCORE:                                                                       \n",
      "0.74092848                                                                   \n",
      "ERROR                                                                        \n",
      "0.0013051568240511219                                                        \n",
      "SCORE:                                                                       \n",
      "0.7413071                                                                    \n",
      "ERROR                                                                        \n",
      "0.0014423854131022577                                                        \n",
      "SCORE:                                                                        \n",
      "0.72960352                                                                    \n",
      "ERROR                                                                         \n",
      "0.0025649241313899867                                                         \n",
      "SCORE:                                                                        \n",
      "0.7420563                                                                     \n",
      "ERROR                                                                         \n",
      "0.0015134287612587163                                                         \n",
      "SCORE:                                                                        \n",
      "0.70286946                                                                    \n",
      "ERROR                                                                         \n",
      "0.003583850116693607                                                          \n",
      "SCORE:                                                                        \n",
      "0.7416698400000001                                                            \n",
      "ERROR                                                                         \n",
      "0.0015680090202248777                                                         \n",
      "SCORE:                                                                        \n",
      "0.7421893999999999                                                            \n",
      "ERROR                                                                         \n",
      "0.002145343528075441                                                          \n",
      "SCORE:                                                                        \n",
      "0.7417738                                                                     \n",
      "ERROR                                                                         \n",
      "0.0012753193643688966                                                         \n",
      "SCORE:                                                                        \n",
      "0.7397628999999999                                                            \n",
      "ERROR                                                                         \n",
      "0.0013584305118487382                                                         \n",
      "SCORE:                                                                        \n",
      "0.74131042                                                                    \n",
      "ERROR                                                                         \n",
      "0.0020603093758734107                                                         \n",
      "SCORE:                                                                        \n",
      "0.7153313600000001                                                            \n",
      "ERROR                                                                         \n",
      "0.004120838884755256                                                          \n",
      "SCORE:                                                                        \n",
      "0.74118508                                                                    \n",
      "ERROR                                                                         \n",
      "0.0010621510258321672                                                         \n",
      "SCORE:                                                                        \n",
      "0.74230774                                                                    \n",
      "ERROR                                                                         \n",
      "0.0018837873270002407                                                         \n",
      "SCORE:                                                                        \n",
      "0.73711536                                                                    \n",
      "ERROR                                                                         \n",
      "0.002302643150244804                                                          \n",
      "SCORE:                                                                        \n",
      "0.7421845599999999                                                            \n",
      "ERROR                                                                         \n",
      "0.0018918974305049108                                                         \n",
      "SCORE:                                                                        \n",
      "0.7424288                                                                     \n",
      "ERROR                                                                         \n",
      "0.001963588134307641                                                          \n",
      "SCORE:                                                                        \n",
      "0.74257836                                                                    \n",
      "ERROR                                                                         \n",
      "0.0018579868405746735                                                         \n",
      "SCORE:                                                                        \n",
      "0.74247736                                                            \n",
      "ERROR                                                                 \n",
      "0.0018807555425788887                                                 \n",
      "SCORE:                                                                \n",
      "0.74266184                                                            \n",
      "ERROR                                                                 \n",
      "0.0017590433895468352                                                 \n"
     ]
    },
    {
     "name": "stdout",
     "output_type": "stream",
     "text": [
      "SCORE:                                                                \n",
      "0.7427604000000001                                                    \n",
      "ERROR                                                                 \n",
      "0.0016885006564100907                                                 \n",
      "SCORE:                                                                        \n",
      "0.7425808999999999                                                            \n",
      "ERROR                                                                         \n",
      "0.0014733791202212996                                                         \n",
      "SCORE:                                                                        \n",
      "0.74266122                                                                    \n",
      "ERROR                                                                         \n",
      "0.0017886505609893302                                                         \n",
      "SCORE:                                                                        \n",
      "0.74255856                                                                    \n",
      "ERROR                                                                         \n",
      "0.001812272201949532                                                          \n",
      "SCORE:                                                                        \n",
      "0.7424368                                                                     \n",
      "ERROR                                                                         \n",
      "0.001707764701875663                                                          \n",
      "SCORE:                                                                        \n",
      "0.74233712                                                                    \n",
      "ERROR                                                                         \n",
      "0.0018234320469073858                                                         \n",
      "SCORE:                                                                        \n",
      "0.7059424200000001                                                            \n",
      "ERROR                                                                         \n",
      "0.003812415827733698                                                          \n",
      "SCORE:                                                                        \n",
      "0.5                                                                           \n",
      "ERROR                                                                         \n",
      "0.0                                                                           \n",
      "SCORE:                                                                        \n",
      "0.73914114                                                                    \n",
      "ERROR                                                                         \n",
      "0.0017613134888003698                                                         \n",
      "SCORE:                                                                        \n",
      "0.7372407400000001                                                            \n",
      "ERROR                                                                         \n",
      "0.002302140821154258                                                          \n",
      "SCORE:                                                                        \n",
      "0.7426731799999999                                                            \n",
      "ERROR                                                                         \n",
      "0.0017212495277060193                                                         \n",
      "SCORE:                                                                        \n",
      "0.5                                                                           \n",
      "ERROR                                                                         \n",
      "0.0                                                                           \n",
      "SCORE:                                                                        \n",
      "0.7427122800000001                                                            \n",
      "ERROR                                                                         \n",
      "0.0016629478577037387                                                         \n",
      "SCORE:                                                                        \n",
      "0.74028556                                                                    \n",
      "ERROR                                                                         \n",
      "0.0017396222965401869                                                         \n",
      "SCORE:                                                                        \n",
      "0.71949478                                                                    \n",
      "ERROR                                                                         \n",
      "0.0036854455349666325                                                         \n",
      "SCORE:                                                                        \n",
      "0.74170958                                                                    \n",
      "ERROR                                                                         \n",
      "0.0017342972628789453                                                         \n",
      "SCORE:                                                                        \n",
      "0.7343210200000001                                                            \n",
      "ERROR                                                                         \n",
      "0.0022527979128663484                                                         \n",
      "SCORE:                                                                        \n",
      "0.7018063800000001                                                            \n",
      "ERROR                                                                         \n",
      "0.003496484117864111                                                          \n",
      "SCORE:                                                                        \n",
      "0.7422293200000001                                                            \n",
      "ERROR                                                                         \n",
      "0.0017042157459305058                                                         \n",
      "SCORE:                                                                        \n",
      "0.7409617000000001                                                            \n",
      "ERROR                                                                         \n",
      "0.0010830772021204538                                                         \n",
      "SCORE:                                                                        \n",
      "0.74264696                                                                    \n",
      "ERROR                                                                         \n",
      "0.001986087353488901                                                          \n",
      "SCORE:                                                                        \n",
      "0.7414288400000001                                                            \n",
      "ERROR                                                                         \n",
      "0.0016229514574775613                                                         \n",
      "SCORE:                                                                        \n",
      "0.5                                                                           \n",
      "ERROR                                                                         \n",
      "0.0                                                                           \n",
      "100%|██████████| 50/50 [01:32<00:00,  1.84s/it, best loss: 0.2572395999999999]\n",
      "Optimization Time: %f seconds 92.96038889884949\n",
      "CPU times: user 1h 8min 24s, sys: 1min 24s, total: 1h 9min 48s\n",
      "Wall time: 1min 32s\n"
     ]
    }
   ],
   "source": [
    "%%time\n",
    "trials = Trials()\n",
    "import time\n",
    "start = time.time()\n",
    "best = fmin(fn=objective, space = space, algo = tpe.suggest, max_evals = 50, trials = trials, rstate=np.random.RandomState(seed=0))\n",
    "end = time.time()\n",
    "print(\"Optimization Time: %f seconds\", (end  -start))"
   ]
  },
  {
   "cell_type": "code",
   "execution_count": 28,
   "metadata": {},
   "outputs": [
    {
     "data": {
      "text/plain": [
       "{'x_learning_rate': 0.19593327021614335,\n",
       " 'x_max_depth': 6,\n",
       " 'x_min_child': 5,\n",
       " 'x_subsample': 0.8847005492064374}"
      ]
     },
     "execution_count": 28,
     "metadata": {},
     "output_type": "execute_result"
    }
   ],
   "source": [
    "best"
   ]
  },
  {
   "cell_type": "code",
   "execution_count": 29,
   "metadata": {},
   "outputs": [
    {
     "name": "stdout",
     "output_type": "stream",
     "text": [
      "[0]\ttrain-auc:0.74581+0.00032\ttest-auc:0.74041+0.00202\n",
      "[1]\ttrain-auc:0.74787+0.00050\ttest-auc:0.74186+0.00162\n",
      "[2]\ttrain-auc:0.74877+0.00061\ttest-auc:0.74216+0.00180\n",
      "[3]\ttrain-auc:0.74951+0.00053\ttest-auc:0.74255+0.00166\n",
      "[4]\ttrain-auc:0.75015+0.00055\ttest-auc:0.74289+0.00161\n",
      "[5]\ttrain-auc:0.75083+0.00050\ttest-auc:0.74325+0.00162\n",
      "[6]\ttrain-auc:0.75155+0.00047\ttest-auc:0.74357+0.00155\n",
      "[7]\ttrain-auc:0.75202+0.00059\ttest-auc:0.74371+0.00146\n",
      "[8]\ttrain-auc:0.75238+0.00060\ttest-auc:0.74364+0.00170\n",
      "[9]\ttrain-auc:0.75269+0.00055\ttest-auc:0.74357+0.00184\n",
      "[10]\ttrain-auc:0.75304+0.00051\ttest-auc:0.74369+0.00188\n",
      "[11]\ttrain-auc:0.75328+0.00052\ttest-auc:0.74368+0.00192\n",
      "[12]\ttrain-auc:0.75372+0.00067\ttest-auc:0.74376+0.00184\n",
      "[13]\ttrain-auc:0.75402+0.00067\ttest-auc:0.74376+0.00190\n",
      "[14]\ttrain-auc:0.75429+0.00067\ttest-auc:0.74396+0.00195\n",
      "[15]\ttrain-auc:0.75462+0.00068\ttest-auc:0.74386+0.00184\n",
      "[16]\ttrain-auc:0.75496+0.00073\ttest-auc:0.74392+0.00168\n",
      "[17]\ttrain-auc:0.75533+0.00077\ttest-auc:0.74399+0.00158\n",
      "[18]\ttrain-auc:0.75562+0.00070\ttest-auc:0.74407+0.00166\n",
      "[19]\ttrain-auc:0.75585+0.00068\ttest-auc:0.74400+0.00164\n",
      "[20]\ttrain-auc:0.75617+0.00071\ttest-auc:0.74399+0.00158\n",
      "[21]\ttrain-auc:0.75648+0.00070\ttest-auc:0.74391+0.00161\n",
      "[22]\ttrain-auc:0.75674+0.00075\ttest-auc:0.74384+0.00158\n",
      "[23]\ttrain-auc:0.75711+0.00070\ttest-auc:0.74385+0.00158\n",
      "[24]\ttrain-auc:0.75737+0.00075\ttest-auc:0.74386+0.00156\n",
      "[25]\ttrain-auc:0.75758+0.00075\ttest-auc:0.74389+0.00154\n",
      "[26]\ttrain-auc:0.75783+0.00068\ttest-auc:0.74387+0.00156\n",
      "[27]\ttrain-auc:0.75812+0.00075\ttest-auc:0.74389+0.00149\n",
      "[28]\ttrain-auc:0.75820+0.00081\ttest-auc:0.74390+0.00146\n",
      "[29]\ttrain-auc:0.75858+0.00077\ttest-auc:0.74392+0.00141\n",
      "[30]\ttrain-auc:0.75886+0.00061\ttest-auc:0.74393+0.00140\n",
      "[31]\ttrain-auc:0.75901+0.00058\ttest-auc:0.74394+0.00142\n",
      "[32]\ttrain-auc:0.75934+0.00055\ttest-auc:0.74388+0.00131\n",
      "[33]\ttrain-auc:0.75956+0.00051\ttest-auc:0.74386+0.00129\n",
      "[34]\ttrain-auc:0.75976+0.00042\ttest-auc:0.74384+0.00128\n",
      "[35]\ttrain-auc:0.75995+0.00033\ttest-auc:0.74382+0.00128\n",
      "[36]\ttrain-auc:0.76035+0.00053\ttest-auc:0.74378+0.00134\n",
      "[37]\ttrain-auc:0.76043+0.00055\ttest-auc:0.74375+0.00135\n",
      "[38]\ttrain-auc:0.76067+0.00046\ttest-auc:0.74382+0.00138\n",
      "[39]\ttrain-auc:0.76107+0.00034\ttest-auc:0.74376+0.00133\n",
      "[40]\ttrain-auc:0.76132+0.00040\ttest-auc:0.74371+0.00128\n",
      "[41]\ttrain-auc:0.76177+0.00046\ttest-auc:0.74365+0.00132\n",
      "[42]\ttrain-auc:0.76203+0.00051\ttest-auc:0.74361+0.00132\n",
      "[43]\ttrain-auc:0.76231+0.00054\ttest-auc:0.74358+0.00136\n",
      "[44]\ttrain-auc:0.76275+0.00061\ttest-auc:0.74360+0.00139\n",
      "[45]\ttrain-auc:0.76299+0.00067\ttest-auc:0.74358+0.00143\n",
      "[46]\ttrain-auc:0.76327+0.00082\ttest-auc:0.74357+0.00144\n",
      "[47]\ttrain-auc:0.76349+0.00073\ttest-auc:0.74351+0.00143\n",
      "[48]\ttrain-auc:0.76371+0.00084\ttest-auc:0.74341+0.00147\n",
      "[49]\ttrain-auc:0.76405+0.00090\ttest-auc:0.74335+0.00151\n"
     ]
    }
   ],
   "source": [
    "model = XGBClassifier(learning_rate = best[\"x_learning_rate\"], \n",
    "                         max_depth = int(best[\"x_max_depth\"]), \n",
    "                         subsample = best[\"x_subsample\"],\n",
    "                         min_child_weight = best['x_min_child'])\n",
    "\n",
    "score = xgb.cv(model.get_xgb_params(), dtrain, nfold = 5, metrics = \"auc\", verbose_eval=True, num_boost_round=50)"
   ]
  },
  {
   "cell_type": "code",
   "execution_count": 31,
   "metadata": {},
   "outputs": [
    {
     "data": {
      "text/plain": [
       "Text(0, 0.5, 'CV AUC score')"
      ]
     },
     "execution_count": 31,
     "metadata": {},
     "output_type": "execute_result"
    },
    {
     "data": {
      "image/png": "[encoded data removed]",
      "text/plain": [
       "<Figure size 432x288 with 1 Axes>"
      ]
     },
     "metadata": {
      "needs_background": "light"
     },
     "output_type": "display_data"
    }
   ],
   "source": [
    "n_estimators = 6\n",
    "fig, ax = plt.subplots()\n",
    "ax.plot(score.index, score['train-auc-mean'], label='Train')\n",
    "ax.plot(score.index, score['test-auc-mean'], label='Test')\n",
    "ax.axvline(n_estimators, linestyle='--')\n",
    "ax.legend()\n",
    "ax.set_xlabel('n_estimators (num trees)')\n",
    "ax.set_ylabel('CV AUC score')"
   ]
  },
  {
   "cell_type": "code",
   "execution_count": 32,
   "metadata": {},
   "outputs": [
    {
     "data": {
      "text/plain": [
       "XGBClassifier(base_score=0.5, booster=None, colsample_bylevel=1,\n",
       "              colsample_bynode=1, colsample_bytree=1, gamma=0, gpu_id=-1,\n",
       "              importance_type='gain', interaction_constraints=None,\n",
       "              learning_rate=0.19593327021614335, max_delta_step=0, max_depth=6,\n",
       "              min_child_weight=5, missing=nan, monotone_constraints=None,\n",
       "              n_estimators=6, n_jobs=0, num_parallel_tree=1,\n",
       "              objective='binary:logistic', random_state=0, reg_alpha=0,\n",
       "              reg_lambda=1, scale_pos_weight=1, subsample=0.8847005492064374,\n",
       "              tree_method=None, validate_parameters=False, verbosity=None)"
      ]
     },
     "execution_count": 32,
     "metadata": {},
     "output_type": "execute_result"
    }
   ],
   "source": [
    "model.set_params(n_estimators = n_estimators)\n",
    "model.fit(trainX, trainY)"
   ]
  },
  {
   "cell_type": "code",
   "execution_count": 33,
   "metadata": {},
   "outputs": [],
   "source": [
    "model.save_model(datapath+'../spock/models/AMD.json')"
   ]
  },
  {
   "cell_type": "code",
   "execution_count": 34,
   "metadata": {},
   "outputs": [],
   "source": [
    "model = XGBClassifier()\n",
    "model.load_model(datapath+'../spock/models/AMD.json')"
   ]
  },
  {
   "cell_type": "code",
   "execution_count": 35,
   "metadata": {},
   "outputs": [
    {
     "data": {
      "text/plain": [
       "Text(0.5, 1.0, 'ROC curve (AUC = 0.737)')"
      ]
     },
     "execution_count": 35,
     "metadata": {},
     "output_type": "execute_result"
    },
    {
     "data": {
      "image/png": "[encoded data removed]",
      "text/plain": [
       "<Figure size 432x288 with 1 Axes>"
      ]
     },
     "metadata": {
      "needs_background": "light"
     },
     "output_type": "display_data"
    }
   ],
   "source": [
    "roc_auc, fpr, tpr, ROCthresholds = ROC_curve(trainingdatafolder, model, features)\n",
    "\n",
    "fig, ax = plt.subplots()\n",
    "ax.plot(fpr, tpr)\n",
    "ax.plot([0, 1], [0, 1], 'k--')\n",
    "ax.set_xlim([0.0, 1.0])\n",
    "ax.set_ylim([0.0, 1.0])\n",
    "ax.set_xlabel('False Positive Rate')\n",
    "ax.set_ylabel('True Positive Rate')\n",
    "ax.set_title('ROC curve (AUC = {0:.3f})'.format(roc_auc))"
   ]
  },
  {
   "cell_type": "markdown",
   "metadata": {},
   "source": [
    "# Hill"
   ]
  },
  {
   "cell_type": "code",
   "execution_count": 36,
   "metadata": {},
   "outputs": [],
   "source": [
    "features = ['betanear', 'betafar']\n",
    "\n",
    "trainX, trainY, testX, testY = train_test_split(trainingdatafolder, features, filter=False)\n",
    "\n",
    "dtrain = xgb.DMatrix(trainX, trainY)\n",
    "dtest = xgb.DMatrix(testX, testY)"
   ]
  },
  {
   "cell_type": "code",
   "execution_count": 37,
   "metadata": {},
   "outputs": [
    {
     "name": "stdout",
     "output_type": "stream",
     "text": [
      "SCORE:                                              \n",
      "0.5                                                 \n",
      "ERROR                                               \n",
      "0.0                                                 \n",
      "SCORE:                                                        \n",
      "0.5                                                           \n",
      "ERROR                                                         \n",
      "0.0                                                           \n",
      "SCORE:                                                        \n",
      "0.72115924                                                    \n",
      "ERROR                                                         \n",
      "0.0008330271555922819                                         \n",
      "SCORE:                                                               \n",
      "0.5                                                                  \n",
      "ERROR                                                                \n",
      "0.0                                                                  \n",
      "SCORE:                                                               \n",
      "0.7211864600000001                                                   \n",
      "ERROR                                                                \n",
      "0.001024247562633356                                                 \n",
      "SCORE:                                                                       \n",
      "0.7210152                                                                    \n",
      "ERROR                                                                        \n",
      "0.0012891295435311686                                                        \n",
      "SCORE:                                                                       \n",
      "0.7189844400000001                                                           \n",
      "ERROR                                                                        \n",
      "0.0008143293245667666                                                        \n",
      "SCORE:                                                                       \n",
      "0.72107388                                                                   \n",
      "ERROR                                                                        \n",
      "0.001112584275036845                                                         \n",
      "SCORE:                                                                       \n",
      "0.71979868                                                                   \n",
      "ERROR                                                                        \n",
      "0.0010952097519445502                                                        \n",
      "SCORE:                                                                       \n",
      "0.7199796                                                                    \n",
      "ERROR                                                                        \n",
      "0.0010404163974605351                                                        \n",
      "SCORE:                                                                        \n",
      "0.7089640800000001                                                            \n",
      "ERROR                                                                         \n",
      "0.0014402606669414485                                                         \n",
      "SCORE:                                                                        \n",
      "0.7207006                                                                     \n",
      "ERROR                                                                         \n",
      "0.0010152414469969413                                                         \n",
      "SCORE:                                                                        \n",
      "0.68089504                                                                    \n",
      "ERROR                                                                         \n",
      "0.0026050810899064824                                                         \n",
      "SCORE:                                                                        \n",
      "0.72049582                                                                    \n",
      "ERROR                                                                         \n",
      "0.0009098410985073568                                                         \n",
      "SCORE:                                                                        \n",
      "0.7205538600000001                                                            \n",
      "ERROR                                                                         \n",
      "0.0007410438626102028                                                         \n",
      "SCORE:                                                                        \n",
      "0.72053148                                                                    \n",
      "ERROR                                                                         \n",
      "0.001445681865042224                                                          \n",
      "SCORE:                                                                        \n",
      "0.7188296399999999                                                            \n",
      "ERROR                                                                         \n",
      "0.0011989258430910841                                                         \n",
      "SCORE:                                                                        \n",
      "0.71962054                                                                    \n",
      "ERROR                                                                         \n",
      "0.0008076262383091932                                                         \n",
      "SCORE:                                                                        \n",
      "0.6985823                                                                     \n",
      "ERROR                                                                         \n",
      "0.001738956564336629                                                          \n",
      "SCORE:                                                                        \n",
      "0.72051068                                                                    \n",
      "ERROR                                                                         \n",
      "0.0012489087705798388                                                         \n",
      "SCORE:                                                                        \n",
      "0.72109424                                                                    \n",
      "ERROR                                                                         \n",
      "0.0011109970010328607                                                         \n",
      "SCORE:                                                                        \n",
      "0.71725764                                                                    \n",
      "ERROR                                                                         \n",
      "0.00082641215826986                                                           \n",
      "SCORE:                                                                        \n",
      "0.7212747800000001                                                            \n",
      "ERROR                                                                         \n",
      "0.001114904812316702                                                          \n",
      "SCORE:                                                                        \n",
      "0.72133394                                                                    \n",
      "ERROR                                                                         \n",
      "0.0009019527712142642                                                         \n",
      "SCORE:                                                                         \n",
      "0.7212724199999999                                                             \n",
      "ERROR                                                                          \n",
      "0.0009558868990680239                                                          \n",
      "SCORE:                                                                         \n",
      "0.72158404                                                                     \n",
      "ERROR                                                                          \n",
      "0.0008107659980416453                                                          \n",
      "SCORE:                                                                         \n",
      "0.72119314                                                            \n",
      "ERROR                                                                 \n"
     ]
    },
    {
     "name": "stdout",
     "output_type": "stream",
     "text": [
      "0.0008770154764299766                                                 \n",
      "SCORE:                                                                \n",
      "0.7212758399999999                                                    \n",
      "ERROR                                                                 \n",
      "0.0008108366953093547                                                 \n",
      "SCORE:                                                                \n",
      "0.7210861800000001                                                    \n",
      "ERROR                                                                 \n",
      "0.0005725149122170598                                                 \n",
      "SCORE:                                                                \n",
      "0.72109016                                                            \n",
      "ERROR                                                                 \n",
      "0.000879679060593273                                                  \n",
      "SCORE:                                                                \n",
      "0.7173930399999999                                                    \n",
      "ERROR                                                                 \n",
      "0.0008221982687751008                                                 \n",
      "SCORE:                                                                \n",
      "0.71997958                                                            \n",
      "ERROR                                                                 \n",
      "0.0011113375058739165                                                 \n",
      "SCORE:                                                                \n",
      "0.6885393200000001                                                    \n",
      "ERROR                                                                 \n",
      "0.002640524509581291                                                  \n",
      "SCORE:                                                                \n",
      "0.5                                                                   \n",
      "ERROR                                                                 \n",
      "0.0                                                                   \n",
      "SCORE:                                                                \n",
      "0.72091792                                                            \n",
      "ERROR                                                                 \n",
      "0.0009510455401694392                                                 \n",
      "SCORE:                                                                \n",
      "0.5                                                                   \n",
      "ERROR                                                                 \n",
      "0.0                                                                   \n",
      "SCORE:                                                                \n",
      "0.72072866                                                            \n",
      "ERROR                                                                 \n",
      "0.000931131784169702                                                  \n",
      "SCORE:                                                                \n",
      "0.71954356                                                            \n",
      "ERROR                                                                 \n",
      "0.0009872628702215166                                                 \n",
      "SCORE:                                                                \n",
      "0.70661626                                                            \n",
      "ERROR                                                                 \n",
      "0.0021679984378099064                                                 \n",
      "SCORE:                                                                \n",
      "0.72135774                                                            \n",
      "ERROR                                                                 \n",
      "0.0007750064814435017                                                 \n",
      "SCORE:                                                                \n",
      "0.7211977                                                             \n",
      "ERROR                                                                 \n",
      "0.0011103171668392846                                                 \n",
      "SCORE:                                                                \n",
      "0.67456664                                                            \n",
      "ERROR                                                                 \n",
      "0.004705430803925409                                                  \n",
      "SCORE:                                                                \n",
      "0.7152885                                                             \n",
      "ERROR                                                                 \n",
      "0.001052259416516652                                                  \n",
      "SCORE:                                                                \n",
      "0.7193781                                                             \n",
      "ERROR                                                                 \n",
      "0.0012145389904772773                                                 \n",
      "SCORE:                                                                \n",
      "0.5                                                                   \n",
      "ERROR                                                                 \n",
      "0.0                                                                   \n",
      "SCORE:                                                                \n",
      "0.7205851400000001                                                    \n",
      "ERROR                                                                 \n",
      "0.000983265924767079                                                  \n",
      "SCORE:                                                                \n",
      "0.7209937                                                             \n",
      "ERROR                                                                 \n",
      "0.0010679364567604246                                                 \n",
      "SCORE:                                                                \n",
      "0.7209426200000001                                                    \n",
      "ERROR                                                                 \n",
      "0.0009546660090808664                                                 \n",
      "SCORE:                                                                \n",
      "0.7181739                                                             \n",
      "ERROR                                                                 \n",
      "0.0007590271457591988                                                 \n",
      "SCORE:                                                                \n",
      "0.70821692                                                            \n",
      "ERROR                                                                 \n",
      "0.0019920445357001016                                                 \n",
      "100%|██████████| 50/50 [01:04<00:00,  1.26s/it, best loss: 0.27841596]\n",
      "Optimization Time: %f seconds 64.4415054321289\n",
      "CPU times: user 46min 13s, sys: 52.8 s, total: 47min 6s\n",
      "Wall time: 1min 4s\n"
     ]
    }
   ],
   "source": [
    "%%time\n",
    "trials = Trials()\n",
    "import time\n",
    "start = time.time()\n",
    "best = fmin(fn=objective, space = space, algo = tpe.suggest, max_evals = 50, trials = trials, rstate=np.random.RandomState(seed=0))\n",
    "end = time.time()\n",
    "print(\"Optimization Time: %f seconds\", (end  -start))"
   ]
  },
  {
   "cell_type": "code",
   "execution_count": 38,
   "metadata": {},
   "outputs": [
    {
     "data": {
      "text/plain": [
       "{'x_learning_rate': 0.19849685217702318,\n",
       " 'x_max_depth': 6,\n",
       " 'x_min_child': 4,\n",
       " 'x_subsample': 0.8001495134481562}"
      ]
     },
     "execution_count": 38,
     "metadata": {},
     "output_type": "execute_result"
    }
   ],
   "source": [
    "best"
   ]
  },
  {
   "cell_type": "code",
   "execution_count": 43,
   "metadata": {},
   "outputs": [
    {
     "name": "stdout",
     "output_type": "stream",
     "text": [
      "[0]\ttrain-auc:0.72514+0.00062\ttest-auc:0.71680+0.00182\n",
      "[1]\ttrain-auc:0.72853+0.00052\ttest-auc:0.71992+0.00052\n",
      "[2]\ttrain-auc:0.72994+0.00040\ttest-auc:0.72115+0.00077\n",
      "[3]\ttrain-auc:0.73103+0.00019\ttest-auc:0.72169+0.00089\n",
      "[4]\ttrain-auc:0.73185+0.00026\ttest-auc:0.72200+0.00081\n",
      "[5]\ttrain-auc:0.73251+0.00015\ttest-auc:0.72236+0.00066\n",
      "[6]\ttrain-auc:0.73300+0.00030\ttest-auc:0.72268+0.00063\n",
      "[7]\ttrain-auc:0.73343+0.00023\ttest-auc:0.72294+0.00067\n",
      "[8]\ttrain-auc:0.73384+0.00024\ttest-auc:0.72305+0.00068\n",
      "[9]\ttrain-auc:0.73432+0.00033\ttest-auc:0.72324+0.00067\n",
      "[10]\ttrain-auc:0.73468+0.00033\ttest-auc:0.72319+0.00077\n",
      "[11]\ttrain-auc:0.73501+0.00030\ttest-auc:0.72321+0.00082\n",
      "[12]\ttrain-auc:0.73531+0.00028\ttest-auc:0.72326+0.00083\n",
      "[13]\ttrain-auc:0.73569+0.00035\ttest-auc:0.72328+0.00076\n",
      "[14]\ttrain-auc:0.73607+0.00032\ttest-auc:0.72327+0.00082\n",
      "[15]\ttrain-auc:0.73636+0.00034\ttest-auc:0.72332+0.00091\n",
      "[16]\ttrain-auc:0.73671+0.00026\ttest-auc:0.72337+0.00088\n",
      "[17]\ttrain-auc:0.73711+0.00035\ttest-auc:0.72335+0.00088\n",
      "[18]\ttrain-auc:0.73737+0.00037\ttest-auc:0.72339+0.00086\n",
      "[19]\ttrain-auc:0.73773+0.00023\ttest-auc:0.72343+0.00087\n",
      "[20]\ttrain-auc:0.73801+0.00025\ttest-auc:0.72345+0.00090\n",
      "[21]\ttrain-auc:0.73836+0.00028\ttest-auc:0.72347+0.00087\n",
      "[22]\ttrain-auc:0.73860+0.00025\ttest-auc:0.72346+0.00090\n",
      "[23]\ttrain-auc:0.73893+0.00034\ttest-auc:0.72350+0.00088\n",
      "[24]\ttrain-auc:0.73933+0.00023\ttest-auc:0.72353+0.00082\n",
      "[25]\ttrain-auc:0.73965+0.00026\ttest-auc:0.72352+0.00090\n",
      "[26]\ttrain-auc:0.73987+0.00022\ttest-auc:0.72353+0.00090\n",
      "[27]\ttrain-auc:0.74027+0.00021\ttest-auc:0.72351+0.00086\n",
      "[28]\ttrain-auc:0.74051+0.00019\ttest-auc:0.72353+0.00097\n",
      "[29]\ttrain-auc:0.74098+0.00009\ttest-auc:0.72353+0.00103\n",
      "[30]\ttrain-auc:0.74131+0.00005\ttest-auc:0.72357+0.00109\n",
      "[31]\ttrain-auc:0.74144+0.00014\ttest-auc:0.72353+0.00107\n",
      "[32]\ttrain-auc:0.74180+0.00013\ttest-auc:0.72361+0.00112\n",
      "[33]\ttrain-auc:0.74213+0.00018\ttest-auc:0.72361+0.00110\n",
      "[34]\ttrain-auc:0.74240+0.00028\ttest-auc:0.72357+0.00106\n",
      "[35]\ttrain-auc:0.74281+0.00040\ttest-auc:0.72369+0.00096\n",
      "[36]\ttrain-auc:0.74318+0.00044\ttest-auc:0.72370+0.00100\n",
      "[37]\ttrain-auc:0.74344+0.00040\ttest-auc:0.72369+0.00095\n",
      "[38]\ttrain-auc:0.74378+0.00030\ttest-auc:0.72363+0.00095\n",
      "[39]\ttrain-auc:0.74413+0.00031\ttest-auc:0.72365+0.00092\n",
      "[40]\ttrain-auc:0.74458+0.00024\ttest-auc:0.72368+0.00090\n",
      "[41]\ttrain-auc:0.74498+0.00029\ttest-auc:0.72362+0.00089\n",
      "[42]\ttrain-auc:0.74531+0.00042\ttest-auc:0.72353+0.00095\n",
      "[43]\ttrain-auc:0.74571+0.00046\ttest-auc:0.72340+0.00091\n",
      "[44]\ttrain-auc:0.74607+0.00054\ttest-auc:0.72336+0.00092\n",
      "[45]\ttrain-auc:0.74649+0.00052\ttest-auc:0.72332+0.00098\n",
      "[46]\ttrain-auc:0.74674+0.00057\ttest-auc:0.72333+0.00095\n",
      "[47]\ttrain-auc:0.74698+0.00046\ttest-auc:0.72337+0.00096\n",
      "[48]\ttrain-auc:0.74727+0.00049\ttest-auc:0.72335+0.00095\n",
      "[49]\ttrain-auc:0.74757+0.00047\ttest-auc:0.72334+0.00100\n"
     ]
    }
   ],
   "source": [
    "model = XGBClassifier(learning_rate = best[\"x_learning_rate\"], \n",
    "                         max_depth = int(best[\"x_max_depth\"]), \n",
    "                         subsample = best[\"x_subsample\"],\n",
    "                         min_child_weight = best['x_min_child'])\n",
    "\n",
    "score = xgb.cv(model.get_xgb_params(), dtrain, nfold = 5, metrics = \"auc\", verbose_eval=True, num_boost_round=50)"
   ]
  },
  {
   "cell_type": "code",
   "execution_count": 45,
   "metadata": {},
   "outputs": [
    {
     "data": {
      "text/plain": [
       "Text(0, 0.5, 'CV AUC score')"
      ]
     },
     "execution_count": 45,
     "metadata": {},
     "output_type": "execute_result"
    },
    {
     "data": {
      "image/png": "[encoded data removed]",
      "text/plain": [
       "<Figure size 432x288 with 1 Axes>"
      ]
     },
     "metadata": {
      "needs_background": "light"
     },
     "output_type": "display_data"
    }
   ],
   "source": [
    "n_estimators = 8\n",
    "fig, ax = plt.subplots()\n",
    "ax.plot(score.index, score['train-auc-mean'], label='Train')\n",
    "ax.plot(score.index, score['test-auc-mean'], label='Test')\n",
    "ax.axvline(n_estimators, linestyle='--')\n",
    "ax.legend()\n",
    "ax.set_xlabel('n_estimators (num trees)')\n",
    "ax.set_ylabel('CV AUC score')"
   ]
  },
  {
   "cell_type": "code",
   "execution_count": 46,
   "metadata": {},
   "outputs": [
    {
     "data": {
      "text/plain": [
       "XGBClassifier(base_score=0.5, booster=None, colsample_bylevel=1,\n",
       "              colsample_bynode=1, colsample_bytree=1, gamma=0, gpu_id=-1,\n",
       "              importance_type='gain', interaction_constraints=None,\n",
       "              learning_rate=0.19849685217702318, max_delta_step=0, max_depth=6,\n",
       "              min_child_weight=4, missing=nan, monotone_constraints=None,\n",
       "              n_estimators=8, n_jobs=0, num_parallel_tree=1,\n",
       "              objective='binary:logistic', random_state=0, reg_alpha=0,\n",
       "              reg_lambda=1, scale_pos_weight=1, subsample=0.8001495134481562,\n",
       "              tree_method=None, validate_parameters=False, verbosity=None)"
      ]
     },
     "execution_count": 46,
     "metadata": {},
     "output_type": "execute_result"
    }
   ],
   "source": [
    "model.set_params(n_estimators = n_estimators)\n",
    "model.fit(trainX, trainY)"
   ]
  },
  {
   "cell_type": "code",
   "execution_count": 47,
   "metadata": {},
   "outputs": [],
   "source": [
    "model.save_model(datapath+'../spock/models/hill.json')"
   ]
  },
  {
   "cell_type": "code",
   "execution_count": 48,
   "metadata": {},
   "outputs": [],
   "source": [
    "model = XGBClassifier()\n",
    "model.load_model(datapath+'../spock/models/hill.json')"
   ]
  },
  {
   "cell_type": "code",
   "execution_count": 49,
   "metadata": {},
   "outputs": [
    {
     "data": {
      "text/plain": [
       "Text(0.5, 1.0, 'ROC curve (AUC = 0.725)')"
      ]
     },
     "execution_count": 49,
     "metadata": {},
     "output_type": "execute_result"
    },
    {
     "data": {
      "image/png": "[encoded data removed]",
      "text/plain": [
       "<Figure size 432x288 with 1 Axes>"
      ]
     },
     "metadata": {
      "needs_background": "light"
     },
     "output_type": "display_data"
    }
   ],
   "source": [
    "roc_auc, fpr, tpr, ROCthresholds = ROC_curve(trainingdatafolder, model, features)\n",
    "\n",
    "fig, ax = plt.subplots()\n",
    "ax.plot(fpr, tpr)\n",
    "ax.plot([0, 1], [0, 1], 'k--')\n",
    "ax.set_xlim([0.0, 1.0])\n",
    "ax.set_ylim([0.0, 1.0])\n",
    "ax.set_xlabel('False Positive Rate')\n",
    "ax.set_ylabel('True Positive Rate')\n",
    "ax.set_title('ROC curve (AUC = {0:.3f})'.format(roc_auc))"
   ]
  },
  {
   "cell_type": "markdown",
   "metadata": {},
   "source": [
    "# N-body"
   ]
  },
  {
   "cell_type": "code",
   "execution_count": 50,
   "metadata": {},
   "outputs": [],
   "source": [
    "datapath = '../training_data/'\n",
    "dset = 'resonant/'\n",
    "featurefolder = 'shadowtimes/'\n",
    "trainingdatafolder = datapath+dset+featurefolder\n",
    "features=None"
   ]
  },
  {
   "cell_type": "code",
   "execution_count": 59,
   "metadata": {},
   "outputs": [],
   "source": [
    "trainingdatafolder = datapath+dset+featurefolder\n",
    "trainX, trainY, testX, testY = train_test_split(trainingdatafolder, features)\n",
    "dtrain = xgb.DMatrix(trainX, trainY)\n",
    "dtest = xgb.DMatrix(testX, testY)"
   ]
  },
  {
   "cell_type": "code",
   "execution_count": 60,
   "metadata": {},
   "outputs": [],
   "source": [
    "shadowstable = trainX['shadow_instability_time'] > 8.99e8"
   ]
  },
  {
   "cell_type": "markdown",
   "metadata": {},
   "source": [
    "2% had stability in shadow integration disagree with nominal integration"
   ]
  },
  {
   "cell_type": "code",
   "execution_count": 61,
   "metadata": {},
   "outputs": [
    {
     "data": {
      "text/plain": [
       "0.016084285619922055"
      ]
     },
     "execution_count": 61,
     "metadata": {},
     "output_type": "execute_result"
    }
   ],
   "source": [
    "(trainY != shadowstable).sum()/trainY.shape[0]"
   ]
  },
  {
   "cell_type": "code",
   "execution_count": 62,
   "metadata": {},
   "outputs": [
    {
     "name": "stdout",
     "output_type": "stream",
     "text": [
      "SCORE:                                              \n",
      "0.5                                                 \n",
      "ERROR                                               \n",
      "0.0                                                 \n",
      "SCORE:                                                        \n",
      "0.5                                                           \n",
      "ERROR                                                         \n",
      "0.0                                                           \n",
      "SCORE:                                                        \n",
      "0.9899057600000001                                            \n",
      "ERROR                                                         \n",
      "0.0009376993960080948                                         \n",
      "SCORE:                                                                         \n",
      "0.5                                                                            \n",
      "ERROR                                                                          \n",
      "0.0                                                                            \n",
      "SCORE:                                                                         \n",
      "0.9898858599999999                                                             \n",
      "ERROR                                                                          \n",
      "0.0009516791514549225                                                          \n",
      "SCORE:                                                                         \n",
      "0.98990026                                                                     \n",
      "ERROR                                                                          \n",
      "0.0008937830586308495                                                          \n",
      "SCORE:                                                                         \n",
      "0.9897368199999999                                                             \n",
      "ERROR                                                                          \n",
      "0.0009409367912025743                                                          \n",
      "SCORE:                                                                         \n",
      "0.9897491199999999                                                             \n",
      "ERROR                                                                          \n",
      "0.0009547241731571534                                                          \n",
      "SCORE:                                                                         \n",
      "0.9898876399999998                                                             \n",
      "ERROR                                                                          \n",
      "0.0009009479151591794                                                          \n",
      "SCORE:                                                                         \n",
      "0.98986778                                                                     \n",
      "ERROR                                                                          \n",
      "0.0009311332212106702                                                          \n",
      "SCORE:                                                                          \n",
      "0.9897356                                                                       \n",
      "ERROR                                                                           \n",
      "0.0009456350918178183                                                           \n",
      "SCORE:                                                                          \n",
      "0.9897232199999999                                                              \n",
      "ERROR                                                                           \n",
      "0.0009484507085598823                                                           \n",
      "SCORE:                                                                          \n",
      "0.9881220000000001                                                              \n",
      "ERROR                                                                           \n",
      "0.0011532366626152662                                                           \n",
      "SCORE:                                                                          \n",
      "0.9899751599999999                                                              \n",
      "ERROR                                                                           \n",
      "0.0008564570350484286                                                           \n",
      "SCORE:                                                                          \n",
      "0.9897918800000001                                                              \n",
      "ERROR                                                                           \n",
      "0.0009611569148808308                                                           \n",
      "SCORE:                                                                          \n",
      "0.98973128                                                                      \n",
      "ERROR                                                                           \n",
      "0.0009367474675693339                                                           \n",
      "SCORE:                                                                          \n",
      "0.98971014                                                                      \n",
      "ERROR                                                                           \n",
      "0.0009511135240529726                                                           \n",
      "SCORE:                                                                          \n",
      "0.98971626                                                                      \n",
      "ERROR                                                                           \n",
      "0.0009552063409640711                                                           \n",
      "SCORE:                                                                          \n",
      "0.9897283400000001                                                              \n",
      "ERROR                                                                           \n",
      "0.0009375650693181567                                                           \n",
      "SCORE:                                                                          \n",
      "0.9898516599999999                                                              \n",
      "ERROR                                                                           \n",
      "0.0009218500648548345                                                           \n",
      "SCORE:                                                                          \n",
      "0.9899754399999999                                                              \n",
      "ERROR                                                                           \n",
      "0.0008562495756658864                                                           \n",
      "SCORE:                                                                          \n",
      "0.98999182                                                                      \n",
      "ERROR                                                                           \n",
      "0.0008793487497272114                                                           \n",
      "SCORE:                                                                          \n",
      "0.98987722                                                                      \n",
      "ERROR                                                                           \n",
      "0.0009340664504815004                                                           \n",
      "SCORE:                                                                          \n",
      "0.98992184                                                                      \n",
      "ERROR                                                                           \n",
      "0.00088557732102171                                                             \n",
      "SCORE:                                                                          \n",
      "0.9899926999999998                                                              \n",
      "ERROR                                                                           \n",
      "0.0008645418319643356                                                           \n",
      "SCORE:                                                                          \n",
      "0.98986606                                                                      \n",
      "ERROR                                                                           \n",
      "0.0009374957227487416                                                           \n"
     ]
    },
    {
     "name": "stdout",
     "output_type": "stream",
     "text": [
      "SCORE:                                                                          \n",
      "0.98985794                                                                      \n",
      "ERROR                                                                           \n",
      "0.0009625295810771201                                                           \n",
      "SCORE:                                                                          \n",
      "0.98991662                                                                      \n",
      "ERROR                                                                           \n",
      "0.0009513533163838133                                                           \n",
      "SCORE:                                                                          \n",
      "0.98992822                                                                      \n",
      "ERROR                                                                           \n",
      "0.0009353138350319997                                                           \n",
      "SCORE:                                                                          \n",
      "0.98980614                                                                      \n",
      "ERROR                                                                           \n",
      "0.000964679120342907                                                            \n",
      "SCORE:                                                                          \n",
      "0.9881220000000001                                                              \n",
      "ERROR                                                                           \n",
      "0.0011532366626152662                                                           \n",
      "SCORE:                                                                          \n",
      "0.9898801599999999                                                              \n",
      "ERROR                                                                           \n",
      "0.0009356252645491637                                                           \n",
      "SCORE:                                                                          \n",
      "0.98998086                                                                      \n",
      "ERROR                                                                           \n",
      "0.0008388640146675863                                                           \n",
      "SCORE:                                                                          \n",
      "0.5                                                                             \n",
      "ERROR                                                                           \n",
      "0.0                                                                             \n",
      "SCORE:                                                                          \n",
      "0.9899900799999999                                                              \n",
      "ERROR                                                                           \n",
      "0.0008819421855967692                                                           \n",
      "SCORE:                                                                          \n",
      "0.5                                                                             \n",
      "ERROR                                                                           \n",
      "0.0                                                                             \n",
      "SCORE:                                                                          \n",
      "0.9881220000000001                                                              \n",
      "ERROR                                                                           \n",
      "0.0011532366626152662                                                           \n",
      "SCORE:                                                                          \n",
      "0.9897982599999999                                                              \n",
      "ERROR                                                                           \n",
      "0.0009534945523385852                                                           \n",
      "SCORE:                                                                          \n",
      "0.98991518                                                                      \n",
      "ERROR                                                                           \n",
      "0.0009041790752006174                                                           \n",
      "SCORE:                                                                          \n",
      "0.98976202                                                                      \n",
      "ERROR                                                                           \n",
      "0.000929444786952722                                                            \n",
      "SCORE:                                                                          \n",
      "0.9897390799999999                                                              \n",
      "ERROR                                                                           \n",
      "0.0009455822254550385                                                           \n",
      "SCORE:                                                                          \n",
      "0.98986314                                                                      \n",
      "ERROR                                                                           \n",
      "0.0009655243253015135                                                           \n",
      "SCORE:                                                                          \n",
      "0.989851                                                                        \n",
      "ERROR                                                                           \n",
      "0.0009562163659239958                                                           \n",
      "SCORE:                                                                          \n",
      "0.9897297400000001                                                              \n",
      "ERROR                                                                           \n",
      "0.0009458188969626695                                                           \n",
      "SCORE:                                                                          \n",
      "0.98990362                                                                      \n",
      "ERROR                                                                           \n",
      "0.0009264027502950068                                                           \n",
      "SCORE:                                                                          \n",
      "0.5                                                                             \n",
      "ERROR                                                                           \n",
      "0.0                                                                             \n",
      "SCORE:                                                                          \n",
      "0.9899711999999999                                                              \n",
      "ERROR                                                                           \n",
      "0.0008847046897596395                                                           \n",
      "SCORE:                                                                          \n",
      "0.9897875199999999                                                              \n",
      "ERROR                                                                           \n",
      "0.0009406165251166943                                                           \n",
      "SCORE:                                                                          \n",
      "0.98989192                                                                      \n",
      "ERROR                                                                           \n",
      "0.0009408677047183931                                                           \n",
      "SCORE:                                                                          \n",
      "0.9897289599999999                                                              \n",
      "ERROR                                                                           \n",
      "0.0009421796132161092                                                           \n",
      "100%|██████████| 50/50 [00:41<00:00,  1.20it/s, best loss: 0.010007300000000163]\n",
      "Optimization Time: %f seconds 41.84374260902405\n",
      "CPU times: user 28min 55s, sys: 34 s, total: 29min 29s\n",
      "Wall time: 41.8 s\n"
     ]
    }
   ],
   "source": [
    "%%time\n",
    "trials = Trials()\n",
    "import time\n",
    "start = time.time()\n",
    "best = fmin(fn=objective, space = space, algo = tpe.suggest, max_evals = 50, trials = trials, rstate=np.random.RandomState(seed=0))\n",
    "end = time.time()\n",
    "print(\"Optimization Time: %f seconds\", (end  -start))"
   ]
  },
  {
   "cell_type": "code",
   "execution_count": 64,
   "metadata": {},
   "outputs": [
    {
     "data": {
      "text/plain": [
       "{'x_learning_rate': 0.19797937959730308,\n",
       " 'x_max_depth': 3,\n",
       " 'x_min_child': 5,\n",
       " 'x_subsample': 0.945591939597905}"
      ]
     },
     "execution_count": 64,
     "metadata": {},
     "output_type": "execute_result"
    }
   ],
   "source": [
    "best"
   ]
  },
  {
   "cell_type": "code",
   "execution_count": 63,
   "metadata": {},
   "outputs": [
    {
     "name": "stdout",
     "output_type": "stream",
     "text": [
      "[0]\ttrain-auc:0.98973+0.00022\ttest-auc:0.98960+0.00099\n",
      "[1]\ttrain-auc:0.98982+0.00021\ttest-auc:0.98974+0.00094\n",
      "[2]\ttrain-auc:0.98988+0.00024\ttest-auc:0.98976+0.00093\n",
      "[3]\ttrain-auc:0.98989+0.00024\ttest-auc:0.98976+0.00093\n",
      "[4]\ttrain-auc:0.99008+0.00030\ttest-auc:0.99003+0.00090\n",
      "[5]\ttrain-auc:0.99027+0.00024\ttest-auc:0.99013+0.00089\n",
      "[6]\ttrain-auc:0.99028+0.00024\ttest-auc:0.99010+0.00087\n",
      "[7]\ttrain-auc:0.99040+0.00017\ttest-auc:0.99027+0.00073\n",
      "[8]\ttrain-auc:0.99040+0.00016\ttest-auc:0.99027+0.00073\n",
      "[9]\ttrain-auc:0.99040+0.00016\ttest-auc:0.99027+0.00073\n",
      "[10]\ttrain-auc:0.99041+0.00017\ttest-auc:0.99029+0.00071\n",
      "[11]\ttrain-auc:0.99041+0.00017\ttest-auc:0.99029+0.00071\n",
      "[12]\ttrain-auc:0.99042+0.00018\ttest-auc:0.99033+0.00069\n",
      "[13]\ttrain-auc:0.99042+0.00018\ttest-auc:0.99033+0.00069\n",
      "[14]\ttrain-auc:0.99047+0.00022\ttest-auc:0.99039+0.00065\n",
      "[15]\ttrain-auc:0.99047+0.00021\ttest-auc:0.99041+0.00069\n",
      "[16]\ttrain-auc:0.99052+0.00024\ttest-auc:0.99042+0.00068\n",
      "[17]\ttrain-auc:0.99057+0.00023\ttest-auc:0.99047+0.00062\n",
      "[18]\ttrain-auc:0.99063+0.00022\ttest-auc:0.99052+0.00065\n",
      "[19]\ttrain-auc:0.99063+0.00022\ttest-auc:0.99052+0.00065\n",
      "[20]\ttrain-auc:0.99064+0.00022\ttest-auc:0.99052+0.00065\n",
      "[21]\ttrain-auc:0.99064+0.00022\ttest-auc:0.99052+0.00065\n",
      "[22]\ttrain-auc:0.99067+0.00018\ttest-auc:0.99059+0.00077\n",
      "[23]\ttrain-auc:0.99073+0.00016\ttest-auc:0.99064+0.00079\n",
      "[24]\ttrain-auc:0.99076+0.00018\ttest-auc:0.99068+0.00076\n",
      "[25]\ttrain-auc:0.99076+0.00018\ttest-auc:0.99067+0.00077\n",
      "[26]\ttrain-auc:0.99076+0.00018\ttest-auc:0.99067+0.00077\n",
      "[27]\ttrain-auc:0.99078+0.00019\ttest-auc:0.99068+0.00076\n",
      "[28]\ttrain-auc:0.99078+0.00019\ttest-auc:0.99068+0.00076\n",
      "[29]\ttrain-auc:0.99079+0.00018\ttest-auc:0.99068+0.00076\n",
      "[30]\ttrain-auc:0.99079+0.00018\ttest-auc:0.99068+0.00075\n",
      "[31]\ttrain-auc:0.99079+0.00018\ttest-auc:0.99070+0.00074\n",
      "[32]\ttrain-auc:0.99079+0.00018\ttest-auc:0.99070+0.00075\n",
      "[33]\ttrain-auc:0.99079+0.00018\ttest-auc:0.99069+0.00075\n",
      "[34]\ttrain-auc:0.99079+0.00018\ttest-auc:0.99069+0.00075\n",
      "[35]\ttrain-auc:0.99080+0.00018\ttest-auc:0.99069+0.00075\n",
      "[36]\ttrain-auc:0.99081+0.00019\ttest-auc:0.99069+0.00075\n",
      "[37]\ttrain-auc:0.99081+0.00019\ttest-auc:0.99068+0.00076\n",
      "[38]\ttrain-auc:0.99082+0.00019\ttest-auc:0.99070+0.00075\n",
      "[39]\ttrain-auc:0.99082+0.00019\ttest-auc:0.99068+0.00076\n",
      "[40]\ttrain-auc:0.99082+0.00019\ttest-auc:0.99068+0.00076\n",
      "[41]\ttrain-auc:0.99083+0.00019\ttest-auc:0.99067+0.00076\n",
      "[42]\ttrain-auc:0.99083+0.00019\ttest-auc:0.99067+0.00076\n",
      "[43]\ttrain-auc:0.99084+0.00018\ttest-auc:0.99067+0.00075\n",
      "[44]\ttrain-auc:0.99084+0.00018\ttest-auc:0.99067+0.00076\n",
      "[45]\ttrain-auc:0.99084+0.00018\ttest-auc:0.99068+0.00075\n",
      "[46]\ttrain-auc:0.99084+0.00018\ttest-auc:0.99068+0.00075\n",
      "[47]\ttrain-auc:0.99084+0.00018\ttest-auc:0.99068+0.00075\n",
      "[48]\ttrain-auc:0.99084+0.00018\ttest-auc:0.99068+0.00075\n",
      "[49]\ttrain-auc:0.99084+0.00018\ttest-auc:0.99068+0.00075\n"
     ]
    }
   ],
   "source": [
    "model = XGBClassifier(learning_rate = best[\"x_learning_rate\"], \n",
    "                         max_depth = int(best[\"x_max_depth\"]), \n",
    "                         subsample = best[\"x_subsample\"],\n",
    "                         min_child_weight = best['x_min_child'])\n",
    "\n",
    "score = xgb.cv(model.get_xgb_params(), dtrain, nfold = 5, metrics = \"auc\", verbose_eval=True, num_boost_round=50)"
   ]
  },
  {
   "cell_type": "code",
   "execution_count": 67,
   "metadata": {},
   "outputs": [
    {
     "data": {
      "text/plain": [
       "Text(0, 0.5, 'CV AUC score')"
      ]
     },
     "execution_count": 67,
     "metadata": {},
     "output_type": "execute_result"
    },
    {
     "data": {
      "image/png": "[encoded data removed]",
      "text/plain": [
       "<Figure size 432x288 with 1 Axes>"
      ]
     },
     "metadata": {
      "needs_background": "light"
     },
     "output_type": "display_data"
    }
   ],
   "source": [
    "n_estimators = 25\n",
    "fig, ax = plt.subplots()\n",
    "ax.plot(score.index, score['train-auc-mean'], label='Train')\n",
    "ax.plot(score.index, score['test-auc-mean'], label='Test')\n",
    "ax.axvline(n_estimators, linestyle='--')\n",
    "ax.legend()\n",
    "ax.set_xlabel('n_estimators (num trees)')\n",
    "ax.set_ylabel('CV AUC score')"
   ]
  },
  {
   "cell_type": "code",
   "execution_count": 69,
   "metadata": {},
   "outputs": [
    {
     "data": {
      "text/plain": [
       "XGBClassifier(base_score=0.5, booster=None, colsample_bylevel=1,\n",
       "              colsample_bynode=1, colsample_bytree=1, gamma=0, gpu_id=-1,\n",
       "              importance_type='gain', interaction_constraints=None,\n",
       "              learning_rate=0.19797937959730308, max_delta_step=0, max_depth=3,\n",
       "              min_child_weight=5, missing=nan, monotone_constraints=None,\n",
       "              n_estimators=25, n_jobs=0, num_parallel_tree=1,\n",
       "              objective='binary:logistic', random_state=0, reg_alpha=0,\n",
       "              reg_lambda=1, scale_pos_weight=1, subsample=0.945591939597905,\n",
       "              tree_method=None, validate_parameters=False, verbosity=None)"
      ]
     },
     "execution_count": 69,
     "metadata": {},
     "output_type": "execute_result"
    }
   ],
   "source": [
    "model.set_params(n_estimators = n_estimators)\n",
    "model.fit(trainX, trainY)"
   ]
  },
  {
   "cell_type": "code",
   "execution_count": 70,
   "metadata": {},
   "outputs": [],
   "source": [
    "model.save_model(datapath+'../spock/models/nbody.json')"
   ]
  },
  {
   "cell_type": "code",
   "execution_count": 71,
   "metadata": {},
   "outputs": [],
   "source": [
    "model = XGBClassifier()\n",
    "model.load_model(datapath+'../spock/models/nbody.json')"
   ]
  },
  {
   "cell_type": "code",
   "execution_count": 72,
   "metadata": {},
   "outputs": [
    {
     "data": {
      "text/plain": [
       "Text(0.5, 1.0, 'ROC curve (AUC = 0.991)')"
      ]
     },
     "execution_count": 72,
     "metadata": {},
     "output_type": "execute_result"
    },
    {
     "data": {
      "image/png": "[encoded data removed]",
      "text/plain": [
       "<Figure size 432x288 with 1 Axes>"
      ]
     },
     "metadata": {
      "needs_background": "light"
     },
     "output_type": "display_data"
    }
   ],
   "source": [
    "roc_auc, fpr, tpr, ROCthresholds = ROC_curve(trainingdatafolder, model, features)\n",
    "\n",
    "fig, ax = plt.subplots()\n",
    "ax.plot(fpr, tpr)\n",
    "ax.plot([0, 1], [0, 1], 'k--')\n",
    "ax.set_xlim([0.0, 1.0])\n",
    "ax.set_ylim([0.0, 1.0])\n",
    "ax.set_xlabel('False Positive Rate')\n",
    "ax.set_ylabel('True Positive Rate')\n",
    "ax.set_title('ROC curve (AUC = {0:.3f})'.format(roc_auc))"
   ]
  },
  {
   "cell_type": "code",
   "execution_count": null,
   "metadata": {},
   "outputs": [],
   "source": []
  }
 ],
 "metadata": {
  "anaconda-cloud": {},
  "kernelspec": {
   "display_name": "Python 3",
   "language": "python",
   "name": "python3"
  },
  "language_info": {
   "codemirror_mode": {
    "name": "ipython",
    "version": 3
   },
   "file_extension": ".py",
   "mimetype": "text/x-python",
   "name": "python",
   "nbconvert_exporter": "python",
   "pygments_lexer": "ipython3",
   "version": "3.7.3"
  }
 },
 "nbformat": 4,
 "nbformat_minor": 2
}

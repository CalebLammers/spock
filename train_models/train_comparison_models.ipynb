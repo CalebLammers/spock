{
 "cells": [
  {
   "cell_type": "code",
   "execution_count": 1,
   "metadata": {},
   "outputs": [],
   "source": [
    "import numpy as np\n",
    "import matplotlib.pyplot as plt\n",
    "%matplotlib inline\n",
    "import pandas as pd\n",
    "from sklearn import metrics\n",
    "import xgboost as xgb\n",
    "from xgboost.sklearn import XGBClassifier\n",
    "from hyperopt import hp, fmin, tpe, STATUS_OK, Trials\n",
    "import hyperopt\n",
    "import sys\n",
    "sys.path.append('../spock/')\n",
    "from modelfitting import train_test_split, ROC_curve, stable_unstable_hist, calibration_plot, unstable_error_fraction"
   ]
  },
  {
   "cell_type": "code",
   "execution_count": 2,
   "metadata": {},
   "outputs": [],
   "source": [
    "datapath = '../training_data/'\n",
    "dset = 'resonant/'\n",
    "Norbits = 1e4\n",
    "Nout = 80\n",
    "featureargs = (Norbits, Nout) # params to pass feature function\n",
    "featurefolder = 'additional_featuresNorbits{0:.1f}Nout{1}trio/'.format(Norbits, Nout)\n",
    "trainingdatafolder = datapath+dset+featurefolder"
   ]
  },
  {
   "cell_type": "code",
   "execution_count": 3,
   "metadata": {},
   "outputs": [],
   "source": [
    "space ={'max_depth': hp.randint('x_max_depth',  10),\n",
    "        'min_child_weight': hp.randint ('x_min_child', 20),\n",
    "        'subsample': hp.uniform ('x_subsample', 0.8, 1),\n",
    "        \"learning_rate\":hp.uniform(\"x_learning_rate\",0.01,0.2),\n",
    "}\n",
    "\n",
    "def objective(params):\n",
    "    clf = XGBClassifier(n_estimators = 100,\n",
    "                            max_depth = params['max_depth'], \n",
    "                            min_child_weight = params['min_child_weight'],\n",
    "                            subsample = params['subsample'],\n",
    "                            learning_rate = params['learning_rate'], seed = 0)\n",
    "    \n",
    "    score = xgb.cv(clf.get_xgb_params(), dtrain, nfold = 5, metrics = \"auc\", early_stopping_rounds=10)\n",
    "    avg_score =  np.mean(score[\"test-auc-mean\"])\n",
    "    error = np.mean(score[\"test-auc-std\"])\n",
    "    \n",
    "    print(\"SCORE:\", avg_score, \"ERROR\", error)#, \"HOLDOUT SCORE\", test_score)\n",
    "    return{'loss':1-avg_score, 'status': STATUS_OK, \"cv_score\":avg_score , \"cv_error\":error}"
   ]
  },
  {
   "cell_type": "markdown",
   "metadata": {},
   "source": [
    "# MEGNO"
   ]
  },
  {
   "cell_type": "code",
   "execution_count": 4,
   "metadata": {},
   "outputs": [],
   "source": [
    "features = ['MEGNO']\n",
    "\n",
    "trainX, trainY, testX, testY = train_test_split(trainingdatafolder, features, filter=False)\n",
    "\n",
    "dtrain = xgb.DMatrix(trainX, trainY)\n",
    "dtest = xgb.DMatrix(testX, testY)"
   ]
  },
  {
   "cell_type": "code",
   "execution_count": 5,
   "metadata": {},
   "outputs": [
    {
     "name": "stdout",
     "output_type": "stream",
     "text": [
      "SCORE:                                              \n",
      "0.5                                                 \n",
      "ERROR                                               \n",
      "0.0                                                 \n",
      "SCORE:                                                        \n",
      "0.5                                                           \n",
      "ERROR                                                         \n",
      "0.0                                                           \n",
      "SCORE:                                                        \n",
      "0.8609499599999999                                            \n",
      "ERROR                                                         \n",
      "0.0013198606618543861                                         \n",
      "SCORE:                                                                       \n",
      "0.5                                                                          \n",
      "ERROR                                                                        \n",
      "0.0                                                                          \n",
      "SCORE:                                                                       \n",
      "0.8609533600000001                                                           \n",
      "ERROR                                                                        \n",
      "0.0014532205530808032                                                        \n",
      "SCORE:                                                                       \n",
      "0.8606858799999999                                                           \n",
      "ERROR                                                                        \n",
      "0.0013211238234235778                                                        \n",
      "SCORE:                                                                       \n",
      "0.8594517400000001                                                           \n",
      "ERROR                                                                        \n",
      "0.0016687284304299928                                                        \n",
      "SCORE:                                                                       \n",
      "0.8604587599999999                                                           \n",
      "ERROR                                                                        \n",
      "0.0011868797934263117                                                        \n",
      "SCORE:                                                                       \n",
      "0.8598734799999999                                                           \n",
      "ERROR                                                                        \n",
      "0.0015446500708678822                                                        \n",
      "SCORE:                                                                       \n",
      "0.86014192                                                                   \n",
      "ERROR                                                                        \n",
      "0.0015925530398542098                                                        \n",
      "SCORE:                                                                        \n",
      "0.85168464                                                                    \n",
      "ERROR                                                                         \n",
      "0.0018499054115528196                                                         \n",
      "SCORE:                                                                        \n",
      "0.860336                                                                      \n",
      "ERROR                                                                         \n",
      "0.0012893217747230049                                                         \n",
      "SCORE:                                                                        \n",
      "0.8200015                                                                     \n",
      "ERROR                                                                         \n",
      "0.0025636031292915534                                                         \n",
      "SCORE:                                                                        \n",
      "0.86019632                                                                    \n",
      "ERROR                                                                         \n",
      "0.0013644809629273108                                                         \n",
      "SCORE:                                                                        \n",
      "0.8608245999999999                                                            \n",
      "ERROR                                                                         \n",
      "0.0014734290591479084                                                         \n",
      "SCORE:                                                                        \n",
      "0.86018166                                                                    \n",
      "ERROR                                                                         \n",
      "0.0014654352870914233                                                         \n",
      "SCORE:                                                                        \n",
      "0.85954896                                                                    \n",
      "ERROR                                                                         \n",
      "0.0014335938295842485                                                         \n",
      "SCORE:                                                                        \n",
      "0.8601597599999998                                                            \n",
      "ERROR                                                                         \n",
      "0.0015783300042140444                                                         \n",
      "SCORE:                                                                        \n",
      "0.8452209599999998                                                            \n",
      "ERROR                                                                         \n",
      "0.002676600530427323                                                          \n",
      "SCORE:                                                                        \n",
      "0.85987134                                                                    \n",
      "ERROR                                                                         \n",
      "0.0015917682952425343                                                         \n",
      "SCORE:                                                                        \n",
      "0.86104302                                                                    \n",
      "ERROR                                                                         \n",
      "0.0013413859127799465                                                         \n",
      "SCORE:                                                                        \n",
      "0.85842446                                                            \n",
      "ERROR                                                                 \n",
      "0.0014842561746554156                                                 \n",
      "SCORE:                                                                \n",
      "0.86094612                                                            \n",
      "ERROR                                                                 \n",
      "0.001306295326163214                                                  \n",
      "SCORE:                                                                \n",
      "0.8609806999999998                                                    \n",
      "ERROR                                                                 \n",
      "0.0013427476699488996                                                 \n",
      "SCORE:                                                                \n",
      "0.8608468199999999                                                    \n",
      "ERROR                                                                 \n",
      "0.0014161472325941457                                                 \n",
      "SCORE:                                                                \n",
      "0.86085884                                                            \n",
      "ERROR                                                                 \n",
      "0.0013344426660805398                                                 \n",
      "SCORE:                                                                \n",
      "0.85994174                                                            \n",
      "ERROR                                                                 \n",
      "0.0014037635613892885                                                 \n",
      "SCORE:                                                                \n"
     ]
    },
    {
     "name": "stdout",
     "output_type": "stream",
     "text": [
      "0.82172018                                                            \n",
      "ERROR                                                                 \n",
      "0.002057572568136644                                                  \n",
      "SCORE:                                                                \n",
      "0.86095408                                                            \n",
      "ERROR                                                                 \n",
      "0.001496300850970806                                                  \n",
      "SCORE:                                                                \n",
      "0.8581418599999999                                                    \n",
      "ERROR                                                                 \n",
      "0.0014569100950232688                                                 \n",
      "SCORE:                                                                \n",
      "0.8610889800000001                                                    \n",
      "ERROR                                                                 \n",
      "0.0014817149127251629                                                 \n",
      "SCORE:                                                                         \n",
      "0.5                                                                            \n",
      "ERROR                                                                          \n",
      "0.0                                                                            \n",
      "SCORE:                                                                         \n",
      "0.86097058                                                                     \n",
      "ERROR                                                                          \n",
      "0.0013731183316276563                                                          \n",
      "SCORE:                                                                         \n",
      "0.86100718                                                                     \n",
      "ERROR                                                                          \n",
      "0.001495657425722921                                                           \n",
      "SCORE:                                                                         \n",
      "0.5                                                                            \n",
      "ERROR                                                                          \n",
      "0.0                                                                            \n",
      "SCORE:                                                                         \n",
      "0.8601156                                                                      \n",
      "ERROR                                                                          \n",
      "0.0016206839125771908                                                          \n",
      "SCORE:                                                                         \n",
      "0.86066998                                                                     \n",
      "ERROR                                                                          \n",
      "0.0014261515021812706                                                          \n",
      "SCORE:                                                                         \n",
      "0.81874054                                                                     \n",
      "ERROR                                                                          \n",
      "0.002350575926988719                                                           \n",
      "SCORE:                                                                         \n",
      "0.85181836                                                                     \n",
      "ERROR                                                                          \n",
      "0.0024400046946752717                                                          \n",
      "SCORE:                                                                         \n",
      "0.85768238                                                                     \n",
      "ERROR                                                                          \n",
      "0.0014129927469027279                                                          \n",
      "SCORE:                                                                         \n",
      "0.8610609200000001                                                             \n",
      "ERROR                                                                          \n",
      "0.0014455141661753417                                                          \n",
      "SCORE:                                                                         \n",
      "0.8609315800000001                                                             \n",
      "ERROR                                                                          \n",
      "0.001409374783886747                                                           \n",
      "SCORE:                                                                         \n",
      "0.8609557999999999                                                             \n",
      "ERROR                                                                          \n",
      "0.001417372093925553                                                           \n",
      "SCORE:                                                                         \n",
      "0.86084998                                                                     \n",
      "ERROR                                                                          \n",
      "0.001290266730963816                                                           \n",
      "SCORE:                                                                         \n",
      "0.8610591599999999                                                             \n",
      "ERROR                                                                          \n",
      "0.0013827238109352762                                                          \n",
      "SCORE:                                                                         \n",
      "0.8604587799999999                                                             \n",
      "ERROR                                                                          \n",
      "0.0015950318420211121                                                          \n",
      "SCORE:                                                                         \n",
      "0.85994642                                                                     \n",
      "ERROR                                                                          \n",
      "0.0015318875195730755                                                          \n",
      "SCORE:                                                                         \n",
      "0.8605319600000001                                                             \n",
      "ERROR                                                                          \n",
      "0.001253053693920651                                                           \n",
      "SCORE:                                                                         \n",
      "0.8600569800000001                                                             \n",
      "ERROR                                                                          \n",
      "0.0016184490887034997                                                          \n",
      "SCORE:                                                                         \n",
      "0.5                                                                            \n",
      "ERROR                                                                          \n",
      "0.0                                                                            \n",
      "100%|██████████| 50/50 [02:53<00:00,  3.47s/it, best loss: 0.13891101999999989]\n",
      "Optimization Time: %f seconds 173.45417618751526\n",
      "CPU times: user 58min 56s, sys: 2min 58s, total: 1h 1min 55s\n",
      "Wall time: 2min 53s\n"
     ]
    }
   ],
   "source": [
    "%%time\n",
    "trials = Trials()\n",
    "import time\n",
    "start = time.time()\n",
    "best = fmin(fn=objective, space = space, algo = tpe.suggest, max_evals = 50, trials = trials, rstate=np.random.RandomState(seed=0))\n",
    "end = time.time()\n",
    "print(\"Optimization Time: %f seconds\", (end  -start))"
   ]
  },
  {
   "cell_type": "code",
   "execution_count": 6,
   "metadata": {},
   "outputs": [
    {
     "data": {
      "text/plain": [
       "{'x_learning_rate': 0.16087529520814425,\n",
       " 'x_max_depth': 5,\n",
       " 'x_min_child': 6,\n",
       " 'x_subsample': 0.8859014185019878}"
      ]
     },
     "execution_count": 6,
     "metadata": {},
     "output_type": "execute_result"
    }
   ],
   "source": [
    "best"
   ]
  },
  {
   "cell_type": "markdown",
   "metadata": {},
   "source": [
    "# Would have to set num_boost_round=100 to see the same CV score as in our final fitted model\n",
    "\n",
    "We're setting n_estimators=100 in model, which is the equivalent of num_boost_round in CV, so if we use the default in CV (10), we will get slightly lower powerformance"
   ]
  },
  {
   "cell_type": "code",
   "execution_count": 7,
   "metadata": {},
   "outputs": [
    {
     "name": "stdout",
     "output_type": "stream",
     "text": [
      "[0]\ttrain-auc:0.86106+0.00048\ttest-auc:0.85953+0.00196\n",
      "[1]\ttrain-auc:0.86199+0.00030\ttest-auc:0.86035+0.00172\n",
      "[2]\ttrain-auc:0.86229+0.00031\ttest-auc:0.86054+0.00164\n",
      "[3]\ttrain-auc:0.86290+0.00040\ttest-auc:0.86101+0.00141\n",
      "[4]\ttrain-auc:0.86330+0.00034\ttest-auc:0.86134+0.00129\n",
      "[5]\ttrain-auc:0.86346+0.00036\ttest-auc:0.86147+0.00133\n",
      "[6]\ttrain-auc:0.86363+0.00036\ttest-auc:0.86152+0.00131\n",
      "[7]\ttrain-auc:0.86378+0.00026\ttest-auc:0.86162+0.00140\n",
      "[8]\ttrain-auc:0.86386+0.00023\ttest-auc:0.86169+0.00139\n",
      "[9]\ttrain-auc:0.86404+0.00021\ttest-auc:0.86181+0.00138\n",
      "[10]\ttrain-auc:0.86413+0.00024\ttest-auc:0.86192+0.00134\n",
      "[11]\ttrain-auc:0.86433+0.00029\ttest-auc:0.86199+0.00130\n",
      "[12]\ttrain-auc:0.86444+0.00029\ttest-auc:0.86202+0.00126\n",
      "[13]\ttrain-auc:0.86458+0.00029\ttest-auc:0.86204+0.00124\n",
      "[14]\ttrain-auc:0.86466+0.00030\ttest-auc:0.86206+0.00119\n",
      "[15]\ttrain-auc:0.86474+0.00027\ttest-auc:0.86207+0.00119\n",
      "[16]\ttrain-auc:0.86480+0.00026\ttest-auc:0.86202+0.00119\n",
      "[17]\ttrain-auc:0.86488+0.00025\ttest-auc:0.86201+0.00122\n",
      "[18]\ttrain-auc:0.86496+0.00026\ttest-auc:0.86202+0.00121\n",
      "[19]\ttrain-auc:0.86502+0.00026\ttest-auc:0.86199+0.00119\n",
      "[20]\ttrain-auc:0.86510+0.00024\ttest-auc:0.86198+0.00121\n",
      "[21]\ttrain-auc:0.86516+0.00024\ttest-auc:0.86200+0.00123\n",
      "[22]\ttrain-auc:0.86520+0.00023\ttest-auc:0.86202+0.00122\n",
      "[23]\ttrain-auc:0.86523+0.00023\ttest-auc:0.86199+0.00124\n",
      "[24]\ttrain-auc:0.86526+0.00022\ttest-auc:0.86201+0.00123\n",
      "[25]\ttrain-auc:0.86530+0.00022\ttest-auc:0.86199+0.00123\n",
      "[26]\ttrain-auc:0.86533+0.00022\ttest-auc:0.86201+0.00122\n",
      "[27]\ttrain-auc:0.86536+0.00023\ttest-auc:0.86192+0.00120\n",
      "[28]\ttrain-auc:0.86541+0.00021\ttest-auc:0.86192+0.00118\n",
      "[29]\ttrain-auc:0.86553+0.00027\ttest-auc:0.86193+0.00118\n",
      "[30]\ttrain-auc:0.86561+0.00028\ttest-auc:0.86197+0.00116\n",
      "[31]\ttrain-auc:0.86565+0.00030\ttest-auc:0.86188+0.00118\n",
      "[32]\ttrain-auc:0.86570+0.00033\ttest-auc:0.86187+0.00123\n",
      "[33]\ttrain-auc:0.86575+0.00034\ttest-auc:0.86191+0.00123\n",
      "[34]\ttrain-auc:0.86584+0.00032\ttest-auc:0.86195+0.00123\n",
      "[35]\ttrain-auc:0.86592+0.00038\ttest-auc:0.86191+0.00125\n",
      "[36]\ttrain-auc:0.86596+0.00034\ttest-auc:0.86191+0.00124\n",
      "[37]\ttrain-auc:0.86603+0.00036\ttest-auc:0.86187+0.00126\n",
      "[38]\ttrain-auc:0.86610+0.00034\ttest-auc:0.86189+0.00128\n",
      "[39]\ttrain-auc:0.86613+0.00035\ttest-auc:0.86189+0.00129\n",
      "[40]\ttrain-auc:0.86614+0.00035\ttest-auc:0.86190+0.00128\n",
      "[41]\ttrain-auc:0.86619+0.00037\ttest-auc:0.86194+0.00128\n",
      "[42]\ttrain-auc:0.86625+0.00036\ttest-auc:0.86193+0.00129\n",
      "[43]\ttrain-auc:0.86636+0.00035\ttest-auc:0.86191+0.00128\n",
      "[44]\ttrain-auc:0.86643+0.00035\ttest-auc:0.86192+0.00125\n",
      "[45]\ttrain-auc:0.86646+0.00037\ttest-auc:0.86192+0.00125\n",
      "[46]\ttrain-auc:0.86657+0.00030\ttest-auc:0.86189+0.00120\n",
      "[47]\ttrain-auc:0.86672+0.00032\ttest-auc:0.86182+0.00120\n",
      "[48]\ttrain-auc:0.86674+0.00031\ttest-auc:0.86183+0.00121\n",
      "[49]\ttrain-auc:0.86680+0.00031\ttest-auc:0.86181+0.00125\n"
     ]
    }
   ],
   "source": [
    "model = XGBClassifier(learning_rate = best[\"x_learning_rate\"], \n",
    "                         max_depth = int(best[\"x_max_depth\"]), \n",
    "                         subsample = best[\"x_subsample\"],\n",
    "                         min_child_weight = best['x_min_child'])\n",
    "\n",
    "score = xgb.cv(model.get_xgb_params(), dtrain, nfold = 5, metrics = \"auc\", verbose_eval=True, num_boost_round=50)"
   ]
  },
  {
   "cell_type": "code",
   "execution_count": 8,
   "metadata": {},
   "outputs": [
    {
     "data": {
      "text/plain": [
       "Text(0, 0.5, 'CV AUC score')"
      ]
     },
     "execution_count": 8,
     "metadata": {},
     "output_type": "execute_result"
    },
    {
     "data": {
      "image/png": "[encoded data removed]",
      "text/plain": [
       "<Figure size 432x288 with 1 Axes>"
      ]
     },
     "metadata": {
      "needs_background": "light"
     },
     "output_type": "display_data"
    }
   ],
   "source": [
    "n_estimators = 10\n",
    "fig, ax = plt.subplots()\n",
    "ax.plot(score.index, score['train-auc-mean'], label='Train')\n",
    "ax.plot(score.index, score['test-auc-mean'], label='Test')\n",
    "ax.axvline(n_estimators, linestyle='--')\n",
    "ax.legend()\n",
    "ax.set_xlabel('n_estimators (num trees)')\n",
    "ax.set_ylabel('CV AUC score')"
   ]
  },
  {
   "cell_type": "code",
   "execution_count": 9,
   "metadata": {},
   "outputs": [
    {
     "data": {
      "text/plain": [
       "XGBClassifier(base_score=0.5, booster=None, colsample_bylevel=1,\n",
       "              colsample_bynode=1, colsample_bytree=1, gamma=0, gpu_id=-1,\n",
       "              importance_type='gain', interaction_constraints=None,\n",
       "              learning_rate=0.16087529520814425, max_delta_step=0, max_depth=5,\n",
       "              min_child_weight=6, missing=nan, monotone_constraints=None,\n",
       "              n_estimators=10, n_jobs=0, num_parallel_tree=1,\n",
       "              objective='binary:logistic', random_state=0, reg_alpha=0,\n",
       "              reg_lambda=1, scale_pos_weight=1, subsample=0.8859014185019878,\n",
       "              tree_method=None, validate_parameters=False, verbosity=None)"
      ]
     },
     "execution_count": 9,
     "metadata": {},
     "output_type": "execute_result"
    }
   ],
   "source": [
    "model.set_params(n_estimators = n_estimators)\n",
    "model.fit(trainX, trainY)"
   ]
  },
  {
   "cell_type": "code",
   "execution_count": 10,
   "metadata": {},
   "outputs": [],
   "source": [
    "model.save_model(datapath+'../spock/models/megno.json')"
   ]
  },
  {
   "cell_type": "code",
   "execution_count": 11,
   "metadata": {},
   "outputs": [],
   "source": [
    "model = XGBClassifier()\n",
    "model.load_model(datapath+'../spock/models/megno.json')"
   ]
  },
  {
   "cell_type": "code",
   "execution_count": 12,
   "metadata": {},
   "outputs": [
    {
     "data": {
      "text/plain": [
       "Text(0.5, 1.0, 'ROC curve (AUC = 0.865)')"
      ]
     },
     "execution_count": 12,
     "metadata": {},
     "output_type": "execute_result"
    },
    {
     "data": {
      "image/png": "[encoded data removed]",
      "text/plain": [
       "<Figure size 432x288 with 1 Axes>"
      ]
     },
     "metadata": {
      "needs_background": "light"
     },
     "output_type": "display_data"
    }
   ],
   "source": [
    "roc_auc, fpr, tpr, ROCthresholds = ROC_curve(trainingdatafolder, model, features)\n",
    "\n",
    "fig, ax = plt.subplots()\n",
    "ax.plot(fpr, tpr)\n",
    "ax.plot([0, 1], [0, 1], 'k--')\n",
    "ax.set_xlim([0.0, 1.0])\n",
    "ax.set_ylim([0.0, 1.0])\n",
    "ax.set_xlabel('False Positive Rate')\n",
    "ax.set_ylabel('True Positive Rate')\n",
    "ax.set_title('ROC curve (AUC = {0:.3f})'.format(roc_auc))"
   ]
  },
  {
   "cell_type": "code",
   "execution_count": 13,
   "metadata": {},
   "outputs": [
    {
     "name": "stdout",
     "output_type": "stream",
     "text": [
      "Threshold 1.6084637641906738, TPR = 0.0, FPR = 0.0\n",
      "Threshold 0.5910564064979553, TPR = 0.19599697885196374, FPR = 0.03227473726526159\n",
      "Threshold 0.5714583396911621, TPR = 0.30400302114803623, FPR = 0.053638086487107335\n",
      "Threshold 0.5500101447105408, TPR = 0.4127643504531722, FPR = 0.07821742376385458\n",
      "Threshold 0.5141627788543701, TPR = 0.5156722054380665, FPR = 0.10853959685292597\n",
      "Threshold 0.4925251603126526, TPR = 0.5898791540785498, FPR = 0.13306150577155\n",
      "Threshold 0.4808478355407715, TPR = 0.6214123867069486, FPR = 0.1446046057543215\n",
      "Threshold 0.46680909395217896, TPR = 0.6686178247734139, FPR = 0.16062711767070578\n",
      "Threshold 0.4594636559486389, TPR = 0.6846676737160121, FPR = 0.16728880721300177\n",
      "Threshold 0.44455602765083313, TPR = 0.6908987915407855, FPR = 0.16970079825417791\n",
      "Threshold 0.43263840675354004, TPR = 0.7647280966767371, FPR = 0.19944868776201688\n",
      "Threshold 0.41932740807533264, TPR = 0.7828549848942599, FPR = 0.20777579968988685\n",
      "Threshold 0.4061310589313507, TPR = 0.7979607250755287, FPR = 0.21460977430655256\n",
      "Threshold 0.39104875922203064, TPR = 0.801737160120846, FPR = 0.21696433698960546\n",
      "Threshold 0.3771369457244873, TPR = 0.8136329305135952, FPR = 0.22264974444380636\n",
      "Threshold 0.3722536563873291, TPR = 0.8225075528700906, FPR = 0.22776086831677483\n",
      "Threshold 0.3659919202327728, TPR = 0.8276057401812689, FPR = 0.23040257279044393\n",
      "Threshold 0.3539193570613861, TPR = 0.8447885196374623, FPR = 0.23827025785332798\n",
      "Threshold 0.34466707706451416, TPR = 0.8665030211480362, FPR = 0.25256991902601506\n",
      "Threshold 0.3370220959186554, TPR = 0.881797583081571, FPR = 0.2640555906506633\n",
      "Threshold 0.32271304726600647, TPR = 0.8970921450151057, FPR = 0.2761729742146672\n",
      "Threshold 0.31096962094306946, TPR = 0.9014350453172205, FPR = 0.2810543846551427\n",
      "Threshold 0.29867279529571533, TPR = 0.9123867069486404, FPR = 0.28943892494113593\n",
      "Threshold 0.27503693103790283, TPR = 0.9154078549848943, FPR = 0.2916786309079423\n",
      "Threshold 0.26399359107017517, TPR = 0.9203172205438066, FPR = 0.29667489806466435\n",
      "Threshold 0.24779903888702393, TPR = 0.9316465256797583, FPR = 0.3091368517774077\n",
      "Threshold 0.23761393129825592, TPR = 0.933345921450151, FPR = 0.31252512490667894\n",
      "Threshold 0.21860294044017792, TPR = 0.9386329305135952, FPR = 0.3203353816114397\n",
      "Threshold 0.19539515674114227, TPR = 0.9473187311178247, FPR = 0.3372767472577959\n",
      "Threshold 0.17584937810897827, TPR = 0.9531722054380665, FPR = 0.3510021248492506\n",
      "Threshold 0.1687978059053421, TPR = 0.9603474320241692, FPR = 0.37879745018089933\n",
      "Threshold 0.15888293087482452, TPR = 0.9648791540785498, FPR = 0.3985528053752943\n",
      "Threshold 0.14257925748825073, TPR = 0.967333836858006, FPR = 0.41015333371618906\n",
      "Threshold 0.13350678980350494, TPR = 0.9726208459214502, FPR = 0.4449549187388733\n",
      "Threshold 0.12822891771793365, TPR = 0.9794184290030211, FPR = 0.49072532016309656\n",
      "Threshold 0.11929276585578918, TPR = 0.9852719033232629, FPR = 0.5487853902256934\n",
      "Threshold 0.11215417087078094, TPR = 0.9901812688821753, FPR = 0.6021937632803078\n",
      "Threshold 0.10087019205093384, TPR = 1.0, FPR = 1.0\n"
     ]
    }
   ],
   "source": [
    "for i in range(0,len(tpr), 5):\n",
    "    print(\"Threshold {0}, TPR = {1}, FPR = {2}\".format(ROCthresholds[i], tpr[i], fpr[i]))"
   ]
  },
  {
   "cell_type": "markdown",
   "metadata": {},
   "source": [
    "# AMD"
   ]
  },
  {
   "cell_type": "code",
   "execution_count": 14,
   "metadata": {},
   "outputs": [],
   "source": [
    "features = ['AMDfracnear', 'AMDfracfar']\n",
    "\n",
    "trainX, trainY, testX, testY = train_test_split(trainingdatafolder, features, filter=False)\n",
    "\n",
    "dtrain = xgb.DMatrix(trainX, trainY)\n",
    "dtest = xgb.DMatrix(testX, testY)"
   ]
  },
  {
   "cell_type": "code",
   "execution_count": 15,
   "metadata": {},
   "outputs": [
    {
     "name": "stdout",
     "output_type": "stream",
     "text": [
      "SCORE:                                              \n",
      "0.5                                                 \n",
      "ERROR                                               \n",
      "0.0                                                 \n",
      "SCORE:                                                        \n",
      "0.5                                                           \n",
      "ERROR                                                         \n",
      "0.0                                                           \n",
      "SCORE:                                                        \n",
      "0.74174504                                                    \n",
      "ERROR                                                         \n",
      "0.0016936597914949622                                         \n",
      "SCORE:                                                                        \n",
      "0.5                                                                           \n",
      "ERROR                                                                         \n",
      "0.0                                                                           \n",
      "SCORE:                                                                        \n",
      "0.74153786                                                                    \n",
      "ERROR                                                                         \n",
      "0.0016358765655620875                                                         \n",
      "SCORE:                                                                        \n",
      "0.7416061399999998                                                            \n",
      "ERROR                                                                         \n",
      "0.0013967820335829939                                                         \n",
      "SCORE:                                                                        \n",
      "0.7387445                                                                     \n",
      "ERROR                                                                         \n",
      "0.001754940801697097                                                          \n",
      "SCORE:                                                                        \n",
      "0.74114258                                                                    \n",
      "ERROR                                                                         \n",
      "0.0015627993348929132                                                         \n",
      "SCORE:                                                                        \n",
      "0.7404009200000001                                                            \n",
      "ERROR                                                                         \n",
      "0.0011700753230873405                                                         \n",
      "SCORE:                                                                        \n",
      "0.73992762                                                                    \n",
      "ERROR                                                                         \n",
      "0.0013249460717149083                                                         \n",
      "SCORE:                                                                         \n",
      "0.7287531200000001                                                             \n",
      "ERROR                                                                          \n",
      "0.0023950388271218232                                                          \n",
      "SCORE:                                                                         \n",
      "0.7411292599999999                                                             \n",
      "ERROR                                                                          \n",
      "0.0011073255167784659                                                          \n",
      "SCORE:                                                                         \n",
      "0.70248356                                                                     \n",
      "ERROR                                                                          \n",
      "0.003693594153891446                                                           \n",
      "SCORE:                                                                         \n",
      "0.7406233799999999                                                             \n",
      "ERROR                                                                          \n",
      "0.001080304367265756                                                           \n",
      "SCORE:                                                                         \n",
      "0.74139016                                                                     \n",
      "ERROR                                                                          \n",
      "0.0016096992164506153                                                          \n",
      "SCORE:                                                                         \n",
      "0.740378                                                                       \n",
      "ERROR                                                                          \n",
      "0.0012129350091271561                                                          \n",
      "SCORE:                                                                         \n",
      "0.7392360800000001                                                             \n",
      "ERROR                                                                          \n",
      "0.0015005493631455307                                                          \n",
      "SCORE:                                                                         \n",
      "0.74033388                                                                     \n",
      "ERROR                                                                          \n",
      "0.0018158788246814346                                                          \n",
      "SCORE:                                                                         \n",
      "0.71450142                                                                     \n",
      "ERROR                                                                          \n",
      "0.004404006092740637                                                           \n",
      "SCORE:                                                                         \n",
      "0.74011318                                                                     \n",
      "ERROR                                                                          \n",
      "0.0013680253638011068                                                          \n",
      "SCORE:                                                                         \n",
      "0.7416826200000001                                                             \n",
      "ERROR                                                                          \n",
      "0.0013718787195275983                                                          \n",
      "SCORE:                                                                         \n",
      "0.7417100999999999                                                             \n",
      "ERROR                                                                          \n",
      "0.0013372220010460685                                                          \n",
      "SCORE:                                                                         \n",
      "0.7417907                                                                      \n",
      "ERROR                                                                          \n",
      "0.001503457214258121                                                           \n",
      "SCORE:                                                                         \n",
      "0.7362960399999999                                                   \n",
      "ERROR                                                                \n",
      "0.0018979749152239485                                                \n",
      "SCORE:                                                               \n",
      "0.74174396                                                           \n",
      "ERROR                                                                \n",
      "0.0017002874293056123                                                \n",
      "SCORE:                                                               \n",
      "0.73694298                                                           \n",
      "ERROR                                                                \n",
      "0.0017225003363322902                                                \n",
      "SCORE:                                                               \n",
      "0.70220498                                                           \n",
      "ERROR                                                                \n"
     ]
    },
    {
     "name": "stdout",
     "output_type": "stream",
     "text": [
      "0.003770073837261973                                                 \n",
      "SCORE:                                                               \n",
      "0.7415885799999999                                                   \n",
      "ERROR                                                                \n",
      "0.0012872376093800157                                                \n",
      "SCORE:                                                               \n",
      "0.7396634799999999                                                   \n",
      "ERROR                                                                \n",
      "0.0014454968611370567                                                \n",
      "SCORE:                                                               \n",
      "0.74162344                                                           \n",
      "ERROR                                                                \n",
      "0.001700139085728572                                                 \n",
      "SCORE:                                                               \n",
      "0.74176338                                                           \n",
      "ERROR                                                                \n",
      "0.0013649627221460315                                                \n",
      "SCORE:                                                               \n",
      "0.7417933800000001                                                   \n",
      "ERROR                                                                \n",
      "0.0012543370416061616                                                \n",
      "SCORE:                                                                         \n",
      "0.7416349                                                                      \n",
      "ERROR                                                                          \n",
      "0.0012562106411845172                                                          \n",
      "SCORE:                                                                         \n",
      "0.5                                                                            \n",
      "ERROR                                                                          \n",
      "0.0                                                                            \n",
      "SCORE:                                                                         \n",
      "0.74162974                                                                     \n",
      "ERROR                                                                          \n",
      "0.0018026097981284166                                                          \n",
      "SCORE:                                                                         \n",
      "0.5                                                                            \n",
      "ERROR                                                                          \n",
      "0.0                                                                            \n",
      "SCORE:                                                                         \n",
      "0.74179624                                                                     \n",
      "ERROR                                                                          \n",
      "0.0014478705973925104                                                          \n",
      "SCORE:                                                                         \n",
      "0.73949928                                                            \n",
      "ERROR                                                                 \n",
      "0.0015732955259708155                                                 \n",
      "SCORE:                                                                \n",
      "0.72743722                                                            \n",
      "ERROR                                                                 \n",
      "0.0025775705237301915                                                 \n",
      "SCORE:                                                                \n",
      "0.7365384199999999                                                    \n",
      "ERROR                                                                 \n",
      "0.0019157839859561651                                                 \n",
      "SCORE:                                                                \n",
      "0.7416153600000001                                                    \n",
      "ERROR                                                                 \n",
      "0.0012617986799785986                                                 \n",
      "SCORE:                                                                \n",
      "0.7016978199999999                                                    \n",
      "ERROR                                                                 \n",
      "0.00368180372573177                                                   \n",
      "SCORE:                                                                \n",
      "0.74149658                                                            \n",
      "ERROR                                                                 \n",
      "0.0014940733973715721                                                 \n",
      "SCORE:                                                                \n",
      "0.7401167                                                             \n",
      "ERROR                                                                 \n",
      "0.0008041825866265262                                                 \n",
      "SCORE:                                                                \n",
      "0.5                                                                   \n",
      "ERROR                                                                 \n",
      "0.0                                                                   \n",
      "SCORE:                                                                \n",
      "0.7417792799999999                                                    \n",
      "ERROR                                                                 \n",
      "0.0011462377169668928                                                 \n",
      "SCORE:                                                                \n",
      "0.74120812                                                            \n",
      "ERROR                                                                 \n",
      "0.0011525589391786636                                                 \n",
      "SCORE:                                                                \n",
      "0.7410379                                                             \n",
      "ERROR                                                                 \n",
      "0.001302401006746998                                                  \n",
      "SCORE:                                                                \n",
      "0.7399662599999999                                                    \n",
      "ERROR                                                                 \n",
      "0.0016922555141768666                                                 \n",
      "SCORE:                                                                \n",
      "0.72508576                                                            \n",
      "ERROR                                                                 \n",
      "0.002452943872333029                                                  \n",
      "100%|██████████| 50/50 [03:50<00:00,  4.60s/it, best loss: 0.25820376]\n",
      "Optimization Time: %f seconds 230.16095089912415\n",
      "CPU times: user 1h 12min 20s, sys: 3min 21s, total: 1h 15min 41s\n",
      "Wall time: 3min 50s\n"
     ]
    }
   ],
   "source": [
    "%%time\n",
    "trials = Trials()\n",
    "import time\n",
    "start = time.time()\n",
    "best = fmin(fn=objective, space = space, algo = tpe.suggest, max_evals = 50, trials = trials, rstate=np.random.RandomState(seed=0))\n",
    "end = time.time()\n",
    "print(\"Optimization Time: %f seconds\", (end  -start))"
   ]
  },
  {
   "cell_type": "code",
   "execution_count": 16,
   "metadata": {},
   "outputs": [
    {
     "data": {
      "text/plain": [
       "{'x_learning_rate': 0.15541049571307483,\n",
       " 'x_max_depth': 6,\n",
       " 'x_min_child': 17,\n",
       " 'x_subsample': 0.9288754386902216}"
      ]
     },
     "execution_count": 16,
     "metadata": {},
     "output_type": "execute_result"
    }
   ],
   "source": [
    "best"
   ]
  },
  {
   "cell_type": "code",
   "execution_count": 17,
   "metadata": {},
   "outputs": [
    {
     "name": "stdout",
     "output_type": "stream",
     "text": [
      "[0]\ttrain-auc:0.74506+0.00031\ttest-auc:0.73947+0.00185\n",
      "[1]\ttrain-auc:0.74656+0.00046\ttest-auc:0.74056+0.00159\n",
      "[2]\ttrain-auc:0.74747+0.00058\ttest-auc:0.74165+0.00138\n",
      "[3]\ttrain-auc:0.74799+0.00043\ttest-auc:0.74171+0.00140\n",
      "[4]\ttrain-auc:0.74847+0.00038\ttest-auc:0.74210+0.00138\n",
      "[5]\ttrain-auc:0.74882+0.00037\ttest-auc:0.74236+0.00133\n",
      "[6]\ttrain-auc:0.74928+0.00040\ttest-auc:0.74243+0.00131\n",
      "[7]\ttrain-auc:0.74967+0.00041\ttest-auc:0.74252+0.00140\n",
      "[8]\ttrain-auc:0.74993+0.00046\ttest-auc:0.74260+0.00141\n",
      "[9]\ttrain-auc:0.75028+0.00044\ttest-auc:0.74257+0.00143\n",
      "[10]\ttrain-auc:0.75057+0.00051\ttest-auc:0.74272+0.00149\n",
      "[11]\ttrain-auc:0.75080+0.00056\ttest-auc:0.74277+0.00153\n",
      "[12]\ttrain-auc:0.75103+0.00056\ttest-auc:0.74282+0.00152\n",
      "[13]\ttrain-auc:0.75120+0.00054\ttest-auc:0.74274+0.00150\n",
      "[14]\ttrain-auc:0.75150+0.00056\ttest-auc:0.74285+0.00146\n",
      "[15]\ttrain-auc:0.75169+0.00057\ttest-auc:0.74280+0.00148\n",
      "[16]\ttrain-auc:0.75190+0.00061\ttest-auc:0.74291+0.00147\n",
      "[17]\ttrain-auc:0.75216+0.00062\ttest-auc:0.74295+0.00150\n",
      "[18]\ttrain-auc:0.75236+0.00064\ttest-auc:0.74295+0.00157\n",
      "[19]\ttrain-auc:0.75252+0.00064\ttest-auc:0.74305+0.00154\n",
      "[20]\ttrain-auc:0.75278+0.00058\ttest-auc:0.74309+0.00153\n",
      "[21]\ttrain-auc:0.75301+0.00059\ttest-auc:0.74310+0.00153\n",
      "[22]\ttrain-auc:0.75326+0.00058\ttest-auc:0.74306+0.00157\n",
      "[23]\ttrain-auc:0.75344+0.00056\ttest-auc:0.74306+0.00158\n",
      "[24]\ttrain-auc:0.75371+0.00053\ttest-auc:0.74308+0.00158\n",
      "[25]\ttrain-auc:0.75391+0.00051\ttest-auc:0.74308+0.00162\n",
      "[26]\ttrain-auc:0.75403+0.00051\ttest-auc:0.74310+0.00161\n",
      "[27]\ttrain-auc:0.75422+0.00051\ttest-auc:0.74312+0.00162\n",
      "[28]\ttrain-auc:0.75443+0.00043\ttest-auc:0.74308+0.00163\n",
      "[29]\ttrain-auc:0.75462+0.00042\ttest-auc:0.74308+0.00166\n",
      "[30]\ttrain-auc:0.75475+0.00041\ttest-auc:0.74303+0.00165\n",
      "[31]\ttrain-auc:0.75489+0.00044\ttest-auc:0.74303+0.00163\n",
      "[32]\ttrain-auc:0.75505+0.00046\ttest-auc:0.74304+0.00166\n",
      "[33]\ttrain-auc:0.75520+0.00040\ttest-auc:0.74307+0.00168\n",
      "[34]\ttrain-auc:0.75535+0.00047\ttest-auc:0.74305+0.00170\n",
      "[35]\ttrain-auc:0.75549+0.00045\ttest-auc:0.74306+0.00164\n",
      "[36]\ttrain-auc:0.75574+0.00059\ttest-auc:0.74301+0.00165\n",
      "[37]\ttrain-auc:0.75586+0.00059\ttest-auc:0.74302+0.00165\n",
      "[38]\ttrain-auc:0.75602+0.00047\ttest-auc:0.74308+0.00170\n",
      "[39]\ttrain-auc:0.75626+0.00042\ttest-auc:0.74304+0.00166\n",
      "[40]\ttrain-auc:0.75633+0.00043\ttest-auc:0.74305+0.00168\n",
      "[41]\ttrain-auc:0.75646+0.00044\ttest-auc:0.74303+0.00169\n",
      "[42]\ttrain-auc:0.75655+0.00040\ttest-auc:0.74304+0.00170\n",
      "[43]\ttrain-auc:0.75673+0.00043\ttest-auc:0.74308+0.00171\n",
      "[44]\ttrain-auc:0.75686+0.00049\ttest-auc:0.74305+0.00172\n",
      "[45]\ttrain-auc:0.75706+0.00043\ttest-auc:0.74304+0.00174\n",
      "[46]\ttrain-auc:0.75715+0.00037\ttest-auc:0.74301+0.00173\n",
      "[47]\ttrain-auc:0.75734+0.00027\ttest-auc:0.74302+0.00173\n",
      "[48]\ttrain-auc:0.75747+0.00025\ttest-auc:0.74302+0.00175\n",
      "[49]\ttrain-auc:0.75751+0.00028\ttest-auc:0.74302+0.00178\n"
     ]
    }
   ],
   "source": [
    "model = XGBClassifier(learning_rate = best[\"x_learning_rate\"], \n",
    "                         max_depth = int(best[\"x_max_depth\"]), \n",
    "                         subsample = best[\"x_subsample\"],\n",
    "                         min_child_weight = best['x_min_child'])\n",
    "\n",
    "score = xgb.cv(model.get_xgb_params(), dtrain, nfold = 5, metrics = \"auc\", verbose_eval=True, num_boost_round=50)"
   ]
  },
  {
   "cell_type": "code",
   "execution_count": 18,
   "metadata": {},
   "outputs": [
    {
     "data": {
      "text/plain": [
       "Text(0, 0.5, 'CV AUC score')"
      ]
     },
     "execution_count": 18,
     "metadata": {},
     "output_type": "execute_result"
    },
    {
     "data": {
      "image/png": "[encoded data removed]",
      "text/plain": [
       "<Figure size 432x288 with 1 Axes>"
      ]
     },
     "metadata": {
      "needs_background": "light"
     },
     "output_type": "display_data"
    }
   ],
   "source": [
    "n_estimators = 6\n",
    "fig, ax = plt.subplots()\n",
    "ax.plot(score.index, score['train-auc-mean'], label='Train')\n",
    "ax.plot(score.index, score['test-auc-mean'], label='Test')\n",
    "ax.axvline(n_estimators, linestyle='--')\n",
    "ax.legend()\n",
    "ax.set_xlabel('n_estimators (num trees)')\n",
    "ax.set_ylabel('CV AUC score')"
   ]
  },
  {
   "cell_type": "code",
   "execution_count": 19,
   "metadata": {},
   "outputs": [
    {
     "data": {
      "text/plain": [
       "XGBClassifier(base_score=0.5, booster=None, colsample_bylevel=1,\n",
       "              colsample_bynode=1, colsample_bytree=1, gamma=0, gpu_id=-1,\n",
       "              importance_type='gain', interaction_constraints=None,\n",
       "              learning_rate=0.15541049571307483, max_delta_step=0, max_depth=6,\n",
       "              min_child_weight=17, missing=nan, monotone_constraints=None,\n",
       "              n_estimators=6, n_jobs=0, num_parallel_tree=1,\n",
       "              objective='binary:logistic', random_state=0, reg_alpha=0,\n",
       "              reg_lambda=1, scale_pos_weight=1, subsample=0.9288754386902216,\n",
       "              tree_method=None, validate_parameters=False, verbosity=None)"
      ]
     },
     "execution_count": 19,
     "metadata": {},
     "output_type": "execute_result"
    }
   ],
   "source": [
    "model.set_params(n_estimators = n_estimators)\n",
    "model.fit(trainX, trainY)"
   ]
  },
  {
   "cell_type": "code",
   "execution_count": 20,
   "metadata": {},
   "outputs": [],
   "source": [
    "model.save_model(datapath+'../spock/models/AMD.json')"
   ]
  },
  {
   "cell_type": "code",
   "execution_count": 21,
   "metadata": {},
   "outputs": [],
   "source": [
    "model = XGBClassifier()\n",
    "model.load_model(datapath+'../spock/models/AMD.json')"
   ]
  },
  {
   "cell_type": "code",
   "execution_count": 22,
   "metadata": {},
   "outputs": [
    {
     "data": {
      "text/plain": [
       "Text(0.5, 1.0, 'ROC curve (AUC = 0.738)')"
      ]
     },
     "execution_count": 22,
     "metadata": {},
     "output_type": "execute_result"
    },
    {
     "data": {
      "image/png": "[encoded data removed]",
      "text/plain": [
       "<Figure size 432x288 with 1 Axes>"
      ]
     },
     "metadata": {
      "needs_background": "light"
     },
     "output_type": "display_data"
    }
   ],
   "source": [
    "roc_auc, fpr, tpr, ROCthresholds = ROC_curve(trainingdatafolder, model, features)\n",
    "\n",
    "fig, ax = plt.subplots()\n",
    "ax.plot(fpr, tpr)\n",
    "ax.plot([0, 1], [0, 1], 'k--')\n",
    "ax.set_xlim([0.0, 1.0])\n",
    "ax.set_ylim([0.0, 1.0])\n",
    "ax.set_xlabel('False Positive Rate')\n",
    "ax.set_ylabel('True Positive Rate')\n",
    "ax.set_title('ROC curve (AUC = {0:.3f})'.format(roc_auc))"
   ]
  },
  {
   "cell_type": "markdown",
   "metadata": {},
   "source": [
    "# Hill"
   ]
  },
  {
   "cell_type": "code",
   "execution_count": 23,
   "metadata": {},
   "outputs": [],
   "source": [
    "features = ['betanear', 'betafar']\n",
    "\n",
    "trainX, trainY, testX, testY = train_test_split(trainingdatafolder, features, filter=False)\n",
    "\n",
    "dtrain = xgb.DMatrix(trainX, trainY)\n",
    "dtest = xgb.DMatrix(testX, testY)"
   ]
  },
  {
   "cell_type": "code",
   "execution_count": 24,
   "metadata": {},
   "outputs": [
    {
     "name": "stdout",
     "output_type": "stream",
     "text": [
      "SCORE:                                              \n",
      "0.5                                                 \n",
      "ERROR                                               \n",
      "0.0                                                 \n",
      "SCORE:                                                        \n",
      "0.5                                                           \n",
      "ERROR                                                         \n",
      "0.0                                                           \n",
      "SCORE:                                                        \n",
      "0.72115924                                                    \n",
      "ERROR                                                         \n",
      "0.0008330271555922819                                         \n",
      "SCORE:                                                               \n",
      "0.5                                                                  \n",
      "ERROR                                                                \n",
      "0.0                                                                  \n",
      "SCORE:                                                               \n",
      "0.7211864600000001                                                   \n",
      "ERROR                                                                \n",
      "0.001024247562633356                                                 \n",
      "SCORE:                                                                       \n",
      "0.7210152                                                                    \n",
      "ERROR                                                                        \n",
      "0.0012891295435311686                                                        \n",
      "SCORE:                                                                       \n",
      "0.7189844400000001                                                           \n",
      "ERROR                                                                        \n",
      "0.0008143293245667666                                                        \n",
      "SCORE:                                                                       \n",
      "0.72107388                                                                   \n",
      "ERROR                                                                        \n",
      "0.001112584275036845                                                         \n",
      "SCORE:                                                                       \n",
      "0.71979868                                                                   \n",
      "ERROR                                                                        \n",
      "0.0010952097519445502                                                        \n",
      "SCORE:                                                                       \n",
      "0.7199796                                                                    \n",
      "ERROR                                                                        \n",
      "0.0010404163974605351                                                        \n",
      "SCORE:                                                                        \n",
      "0.7089640800000001                                                            \n",
      "ERROR                                                                         \n",
      "0.0014402606669414485                                                         \n",
      "SCORE:                                                                        \n",
      "0.7207006                                                                     \n",
      "ERROR                                                                         \n",
      "0.0010152414469969413                                                         \n",
      "SCORE:                                                                        \n",
      "0.68089504                                                                    \n",
      "ERROR                                                                         \n",
      "0.0026050810899064824                                                         \n",
      "SCORE:                                                                        \n",
      "0.72049582                                                                    \n",
      "ERROR                                                                         \n",
      "0.0009098410985073568                                                         \n",
      "SCORE:                                                                        \n",
      "0.7205538600000001                                                            \n",
      "ERROR                                                                         \n",
      "0.0007410438626102028                                                         \n",
      "SCORE:                                                                        \n",
      "0.72053148                                                                    \n",
      "ERROR                                                                         \n",
      "0.001445681865042224                                                          \n",
      "SCORE:                                                                        \n",
      "0.7188296399999999                                                            \n",
      "ERROR                                                                         \n",
      "0.0011989258430910841                                                         \n",
      "SCORE:                                                                        \n",
      "0.71962054                                                                    \n",
      "ERROR                                                                         \n",
      "0.0008076262383091932                                                         \n",
      "SCORE:                                                                        \n",
      "0.6985823                                                                     \n",
      "ERROR                                                                         \n",
      "0.001738956564336629                                                          \n",
      "SCORE:                                                                        \n",
      "0.72051068                                                                    \n",
      "ERROR                                                                         \n",
      "0.0012489087705798388                                                         \n",
      "SCORE:                                                                        \n",
      "0.72109424                                                                    \n",
      "ERROR                                                                         \n",
      "0.0011109970010328607                                                         \n",
      "SCORE:                                                                        \n",
      "0.71725764                                                                    \n",
      "ERROR                                                                         \n",
      "0.00082641215826986                                                           \n",
      "SCORE:                                                                        \n",
      "0.7212747800000001                                                            \n",
      "ERROR                                                                         \n",
      "0.001114904812316702                                                          \n",
      "SCORE:                                                                        \n",
      "0.72133394                                                                    \n",
      "ERROR                                                                         \n",
      "0.0009019527712142642                                                         \n",
      "SCORE:                                                                         \n",
      "0.7212724199999999                                                             \n",
      "ERROR                                                                          \n",
      "0.0009558868990680239                                                          \n",
      "SCORE:                                                                         \n",
      "0.72158404                                                                     \n",
      "ERROR                                                                          \n",
      "0.0008107659980416453                                                          \n",
      "SCORE:                                                                         \n",
      "0.72119314                                                            \n",
      "ERROR                                                                 \n"
     ]
    },
    {
     "name": "stdout",
     "output_type": "stream",
     "text": [
      "0.0008770154764299766                                                 \n",
      "SCORE:                                                                \n",
      "0.7212758399999999                                                    \n",
      "ERROR                                                                 \n",
      "0.0008108366953093547                                                 \n",
      "SCORE:                                                                \n",
      "0.7210861800000001                                                    \n",
      "ERROR                                                                 \n",
      "0.0005725149122170598                                                 \n",
      "SCORE:                                                                \n",
      "0.72109016                                                            \n",
      "ERROR                                                                 \n",
      "0.000879679060593273                                                  \n",
      "SCORE:                                                                \n",
      "0.7173930399999999                                                    \n",
      "ERROR                                                                 \n",
      "0.0008221982687751008                                                 \n",
      "SCORE:                                                                \n",
      "0.71997958                                                            \n",
      "ERROR                                                                 \n",
      "0.0011113375058739165                                                 \n",
      "SCORE:                                                                \n",
      "0.6885393200000001                                                    \n",
      "ERROR                                                                 \n",
      "0.002640524509581291                                                  \n",
      "SCORE:                                                                \n",
      "0.5                                                                   \n",
      "ERROR                                                                 \n",
      "0.0                                                                   \n",
      "SCORE:                                                                \n",
      "0.72091792                                                            \n",
      "ERROR                                                                 \n",
      "0.0009510455401694392                                                 \n",
      "SCORE:                                                                \n",
      "0.5                                                                   \n",
      "ERROR                                                                 \n",
      "0.0                                                                   \n",
      "SCORE:                                                                \n",
      "0.72072866                                                            \n",
      "ERROR                                                                 \n",
      "0.000931131784169702                                                  \n",
      "SCORE:                                                                \n",
      "0.71954356                                                            \n",
      "ERROR                                                                 \n",
      "0.0009872628702215166                                                 \n",
      "SCORE:                                                                \n",
      "0.70661626                                                            \n",
      "ERROR                                                                 \n",
      "0.0021679984378099064                                                 \n",
      "SCORE:                                                                \n",
      "0.72135774                                                            \n",
      "ERROR                                                                 \n",
      "0.0007750064814435017                                                 \n",
      "SCORE:                                                                \n",
      "0.7211977                                                             \n",
      "ERROR                                                                 \n",
      "0.0011103171668392846                                                 \n",
      "SCORE:                                                                \n",
      "0.67456664                                                            \n",
      "ERROR                                                                 \n",
      "0.004705430803925409                                                  \n",
      "SCORE:                                                                \n",
      "0.7152885                                                             \n",
      "ERROR                                                                 \n",
      "0.001052259416516652                                                  \n",
      "SCORE:                                                                \n",
      "0.7193781                                                             \n",
      "ERROR                                                                 \n",
      "0.0012145389904772773                                                 \n",
      "SCORE:                                                                \n",
      "0.5                                                                   \n",
      "ERROR                                                                 \n",
      "0.0                                                                   \n",
      "SCORE:                                                                \n",
      "0.7205851400000001                                                    \n",
      "ERROR                                                                 \n",
      "0.000983265924767079                                                  \n",
      "SCORE:                                                                \n",
      "0.7209937                                                             \n",
      "ERROR                                                                 \n",
      "0.0010679364567604246                                                 \n",
      "SCORE:                                                                \n",
      "0.7209426200000001                                                    \n",
      "ERROR                                                                 \n",
      "0.0009546660090808664                                                 \n",
      "SCORE:                                                                \n",
      "0.7181739                                                             \n",
      "ERROR                                                                 \n",
      "0.0007590271457591988                                                 \n",
      "SCORE:                                                                \n",
      "0.70821692                                                            \n",
      "ERROR                                                                 \n",
      "0.0019920445357001016                                                 \n",
      "100%|██████████| 50/50 [03:01<00:00,  3.64s/it, best loss: 0.27841596]\n",
      "Optimization Time: %f seconds 181.9397931098938\n",
      "CPU times: user 53min 17s, sys: 2min 28s, total: 55min 46s\n",
      "Wall time: 3min 1s\n"
     ]
    }
   ],
   "source": [
    "%%time\n",
    "trials = Trials()\n",
    "import time\n",
    "start = time.time()\n",
    "best = fmin(fn=objective, space = space, algo = tpe.suggest, max_evals = 50, trials = trials, rstate=np.random.RandomState(seed=0))\n",
    "end = time.time()\n",
    "print(\"Optimization Time: %f seconds\", (end  -start))"
   ]
  },
  {
   "cell_type": "code",
   "execution_count": 25,
   "metadata": {},
   "outputs": [
    {
     "data": {
      "text/plain": [
       "{'x_learning_rate': 0.19849685217702318,\n",
       " 'x_max_depth': 6,\n",
       " 'x_min_child': 4,\n",
       " 'x_subsample': 0.8001495134481562}"
      ]
     },
     "execution_count": 25,
     "metadata": {},
     "output_type": "execute_result"
    }
   ],
   "source": [
    "best"
   ]
  },
  {
   "cell_type": "code",
   "execution_count": 26,
   "metadata": {},
   "outputs": [
    {
     "name": "stdout",
     "output_type": "stream",
     "text": [
      "[0]\ttrain-auc:0.72514+0.00062\ttest-auc:0.71680+0.00182\n",
      "[1]\ttrain-auc:0.72853+0.00052\ttest-auc:0.71992+0.00052\n",
      "[2]\ttrain-auc:0.72994+0.00040\ttest-auc:0.72115+0.00077\n",
      "[3]\ttrain-auc:0.73103+0.00019\ttest-auc:0.72169+0.00089\n",
      "[4]\ttrain-auc:0.73185+0.00026\ttest-auc:0.72200+0.00081\n",
      "[5]\ttrain-auc:0.73251+0.00015\ttest-auc:0.72236+0.00066\n",
      "[6]\ttrain-auc:0.73300+0.00030\ttest-auc:0.72268+0.00063\n",
      "[7]\ttrain-auc:0.73343+0.00023\ttest-auc:0.72294+0.00067\n",
      "[8]\ttrain-auc:0.73384+0.00024\ttest-auc:0.72305+0.00068\n",
      "[9]\ttrain-auc:0.73432+0.00033\ttest-auc:0.72324+0.00067\n",
      "[10]\ttrain-auc:0.73468+0.00033\ttest-auc:0.72319+0.00077\n",
      "[11]\ttrain-auc:0.73501+0.00030\ttest-auc:0.72321+0.00082\n",
      "[12]\ttrain-auc:0.73531+0.00028\ttest-auc:0.72326+0.00083\n",
      "[13]\ttrain-auc:0.73569+0.00035\ttest-auc:0.72328+0.00076\n",
      "[14]\ttrain-auc:0.73607+0.00032\ttest-auc:0.72327+0.00082\n",
      "[15]\ttrain-auc:0.73636+0.00034\ttest-auc:0.72332+0.00091\n",
      "[16]\ttrain-auc:0.73671+0.00026\ttest-auc:0.72337+0.00088\n",
      "[17]\ttrain-auc:0.73711+0.00035\ttest-auc:0.72335+0.00088\n",
      "[18]\ttrain-auc:0.73737+0.00037\ttest-auc:0.72339+0.00086\n",
      "[19]\ttrain-auc:0.73773+0.00023\ttest-auc:0.72343+0.00087\n",
      "[20]\ttrain-auc:0.73801+0.00025\ttest-auc:0.72345+0.00090\n",
      "[21]\ttrain-auc:0.73836+0.00028\ttest-auc:0.72347+0.00087\n",
      "[22]\ttrain-auc:0.73860+0.00025\ttest-auc:0.72346+0.00090\n",
      "[23]\ttrain-auc:0.73893+0.00034\ttest-auc:0.72350+0.00088\n",
      "[24]\ttrain-auc:0.73933+0.00023\ttest-auc:0.72353+0.00082\n",
      "[25]\ttrain-auc:0.73965+0.00026\ttest-auc:0.72352+0.00090\n",
      "[26]\ttrain-auc:0.73987+0.00022\ttest-auc:0.72353+0.00090\n",
      "[27]\ttrain-auc:0.74027+0.00021\ttest-auc:0.72351+0.00086\n",
      "[28]\ttrain-auc:0.74051+0.00019\ttest-auc:0.72353+0.00097\n",
      "[29]\ttrain-auc:0.74098+0.00009\ttest-auc:0.72353+0.00103\n",
      "[30]\ttrain-auc:0.74131+0.00005\ttest-auc:0.72357+0.00109\n",
      "[31]\ttrain-auc:0.74144+0.00014\ttest-auc:0.72353+0.00107\n",
      "[32]\ttrain-auc:0.74180+0.00013\ttest-auc:0.72361+0.00112\n",
      "[33]\ttrain-auc:0.74213+0.00018\ttest-auc:0.72361+0.00110\n",
      "[34]\ttrain-auc:0.74240+0.00028\ttest-auc:0.72357+0.00106\n",
      "[35]\ttrain-auc:0.74281+0.00040\ttest-auc:0.72369+0.00096\n",
      "[36]\ttrain-auc:0.74318+0.00044\ttest-auc:0.72370+0.00100\n",
      "[37]\ttrain-auc:0.74344+0.00040\ttest-auc:0.72369+0.00095\n",
      "[38]\ttrain-auc:0.74378+0.00030\ttest-auc:0.72363+0.00095\n",
      "[39]\ttrain-auc:0.74413+0.00031\ttest-auc:0.72365+0.00092\n",
      "[40]\ttrain-auc:0.74458+0.00024\ttest-auc:0.72368+0.00090\n",
      "[41]\ttrain-auc:0.74498+0.00029\ttest-auc:0.72362+0.00089\n",
      "[42]\ttrain-auc:0.74531+0.00042\ttest-auc:0.72353+0.00095\n",
      "[43]\ttrain-auc:0.74571+0.00046\ttest-auc:0.72340+0.00091\n",
      "[44]\ttrain-auc:0.74607+0.00054\ttest-auc:0.72336+0.00092\n",
      "[45]\ttrain-auc:0.74649+0.00052\ttest-auc:0.72332+0.00098\n",
      "[46]\ttrain-auc:0.74674+0.00057\ttest-auc:0.72333+0.00095\n",
      "[47]\ttrain-auc:0.74698+0.00046\ttest-auc:0.72337+0.00096\n",
      "[48]\ttrain-auc:0.74727+0.00049\ttest-auc:0.72335+0.00095\n",
      "[49]\ttrain-auc:0.74757+0.00047\ttest-auc:0.72334+0.00100\n"
     ]
    }
   ],
   "source": [
    "model = XGBClassifier(learning_rate = best[\"x_learning_rate\"], \n",
    "                         max_depth = int(best[\"x_max_depth\"]), \n",
    "                         subsample = best[\"x_subsample\"],\n",
    "                         min_child_weight = best['x_min_child'])\n",
    "\n",
    "score = xgb.cv(model.get_xgb_params(), dtrain, nfold = 5, metrics = \"auc\", verbose_eval=True, num_boost_round=50)"
   ]
  },
  {
   "cell_type": "code",
   "execution_count": 27,
   "metadata": {},
   "outputs": [
    {
     "data": {
      "text/plain": [
       "Text(0, 0.5, 'CV AUC score')"
      ]
     },
     "execution_count": 27,
     "metadata": {},
     "output_type": "execute_result"
    },
    {
     "data": {
      "image/png": "[encoded data removed]",
      "text/plain": [
       "<Figure size 432x288 with 1 Axes>"
      ]
     },
     "metadata": {
      "needs_background": "light"
     },
     "output_type": "display_data"
    }
   ],
   "source": [
    "n_estimators = 8\n",
    "fig, ax = plt.subplots()\n",
    "ax.plot(score.index, score['train-auc-mean'], label='Train')\n",
    "ax.plot(score.index, score['test-auc-mean'], label='Test')\n",
    "ax.axvline(n_estimators, linestyle='--')\n",
    "ax.legend()\n",
    "ax.set_xlabel('n_estimators (num trees)')\n",
    "ax.set_ylabel('CV AUC score')"
   ]
  },
  {
   "cell_type": "code",
   "execution_count": 28,
   "metadata": {},
   "outputs": [
    {
     "data": {
      "text/plain": [
       "XGBClassifier(base_score=0.5, booster=None, colsample_bylevel=1,\n",
       "              colsample_bynode=1, colsample_bytree=1, gamma=0, gpu_id=-1,\n",
       "              importance_type='gain', interaction_constraints=None,\n",
       "              learning_rate=0.19849685217702318, max_delta_step=0, max_depth=6,\n",
       "              min_child_weight=4, missing=nan, monotone_constraints=None,\n",
       "              n_estimators=8, n_jobs=0, num_parallel_tree=1,\n",
       "              objective='binary:logistic', random_state=0, reg_alpha=0,\n",
       "              reg_lambda=1, scale_pos_weight=1, subsample=0.8001495134481562,\n",
       "              tree_method=None, validate_parameters=False, verbosity=None)"
      ]
     },
     "execution_count": 28,
     "metadata": {},
     "output_type": "execute_result"
    }
   ],
   "source": [
    "model.set_params(n_estimators = n_estimators)\n",
    "model.fit(trainX, trainY)"
   ]
  },
  {
   "cell_type": "code",
   "execution_count": 29,
   "metadata": {},
   "outputs": [],
   "source": [
    "model.save_model(datapath+'../spock/models/hill.json')"
   ]
  },
  {
   "cell_type": "code",
   "execution_count": 30,
   "metadata": {},
   "outputs": [],
   "source": [
    "model = XGBClassifier()\n",
    "model.load_model(datapath+'../spock/models/hill.json')"
   ]
  },
  {
   "cell_type": "code",
   "execution_count": 31,
   "metadata": {},
   "outputs": [
    {
     "data": {
      "text/plain": [
       "Text(0.5, 1.0, 'ROC curve (AUC = 0.725)')"
      ]
     },
     "execution_count": 31,
     "metadata": {},
     "output_type": "execute_result"
    },
    {
     "data": {
      "image/png": "[encoded data removed]",
      "text/plain": [
       "<Figure size 432x288 with 1 Axes>"
      ]
     },
     "metadata": {
      "needs_background": "light"
     },
     "output_type": "display_data"
    }
   ],
   "source": [
    "roc_auc, fpr, tpr, ROCthresholds = ROC_curve(trainingdatafolder, model, features)\n",
    "\n",
    "fig, ax = plt.subplots()\n",
    "ax.plot(fpr, tpr)\n",
    "ax.plot([0, 1], [0, 1], 'k--')\n",
    "ax.set_xlim([0.0, 1.0])\n",
    "ax.set_ylim([0.0, 1.0])\n",
    "ax.set_xlabel('False Positive Rate')\n",
    "ax.set_ylabel('True Positive Rate')\n",
    "ax.set_title('ROC curve (AUC = {0:.3f})'.format(roc_auc))"
   ]
  },
  {
   "cell_type": "markdown",
   "metadata": {},
   "source": [
    "# N-body"
   ]
  },
  {
   "cell_type": "code",
   "execution_count": 32,
   "metadata": {},
   "outputs": [],
   "source": [
    "datapath = '../training_data/'\n",
    "dset = 'resonant/'\n",
    "featurefolder = 'shadowtimes/'\n",
    "trainingdatafolder = datapath+dset+featurefolder\n",
    "features=None"
   ]
  },
  {
   "cell_type": "code",
   "execution_count": 33,
   "metadata": {},
   "outputs": [],
   "source": [
    "trainingdatafolder = datapath+dset+featurefolder\n",
    "trainX, trainY, testX, testY = train_test_split(trainingdatafolder, features)\n",
    "dtrain = xgb.DMatrix(trainX, trainY)\n",
    "dtest = xgb.DMatrix(testX, testY)"
   ]
  },
  {
   "cell_type": "code",
   "execution_count": 34,
   "metadata": {},
   "outputs": [],
   "source": [
    "shadowstable = trainX['shadow_instability_time'] > 8.99e8"
   ]
  },
  {
   "cell_type": "markdown",
   "metadata": {},
   "source": [
    "2% had stability in shadow integration disagree with nominal integration"
   ]
  },
  {
   "cell_type": "code",
   "execution_count": 35,
   "metadata": {},
   "outputs": [
    {
     "data": {
      "text/plain": [
       "0.016084285619922055"
      ]
     },
     "execution_count": 35,
     "metadata": {},
     "output_type": "execute_result"
    }
   ],
   "source": [
    "(trainY != shadowstable).sum()/trainY.shape[0]"
   ]
  },
  {
   "cell_type": "code",
   "execution_count": 36,
   "metadata": {},
   "outputs": [
    {
     "name": "stdout",
     "output_type": "stream",
     "text": [
      "SCORE:                                              \n",
      "0.5                                                 \n",
      "ERROR                                               \n",
      "0.0                                                 \n",
      "SCORE:                                                        \n",
      "0.5                                                           \n",
      "ERROR                                                         \n",
      "0.0                                                           \n",
      "SCORE:                                                        \n",
      "0.9899057600000001                                            \n",
      "ERROR                                                         \n",
      "0.0009376993960080948                                         \n",
      "SCORE:                                                                         \n",
      "0.5                                                                            \n",
      "ERROR                                                                          \n",
      "0.0                                                                            \n",
      "SCORE:                                                                         \n",
      "0.9898858599999999                                                             \n",
      "ERROR                                                                          \n",
      "0.0009516791514549225                                                          \n",
      "SCORE:                                                                         \n",
      "0.98990026                                                                     \n",
      "ERROR                                                                          \n",
      "0.0008937830586308495                                                          \n",
      "SCORE:                                                                         \n",
      "0.9897368199999999                                                             \n",
      "ERROR                                                                          \n",
      "0.0009409367912025743                                                          \n",
      "SCORE:                                                                         \n",
      "0.9897491199999999                                                             \n",
      "ERROR                                                                          \n",
      "0.0009547241731571534                                                          \n",
      "SCORE:                                                                         \n",
      "0.9898876399999998                                                             \n",
      "ERROR                                                                          \n",
      "0.0009009479151591794                                                          \n",
      "SCORE:                                                                         \n",
      "0.98986778                                                                     \n",
      "ERROR                                                                          \n",
      "0.0009311332212106702                                                          \n",
      "SCORE:                                                                          \n",
      "0.9897356                                                                       \n",
      "ERROR                                                                           \n",
      "0.0009456350918178183                                                           \n",
      "SCORE:                                                                          \n",
      "0.9897232199999999                                                              \n",
      "ERROR                                                                           \n",
      "0.0009484507085598823                                                           \n",
      "SCORE:                                                                          \n",
      "0.9881220000000001                                                              \n",
      "ERROR                                                                           \n",
      "0.0011532366626152662                                                           \n",
      "SCORE:                                                                          \n",
      "0.9899751599999999                                                              \n",
      "ERROR                                                                           \n",
      "0.0008564570350484286                                                           \n",
      "SCORE:                                                                          \n",
      "0.9897918800000001                                                              \n",
      "ERROR                                                                           \n",
      "0.0009611569148808308                                                           \n",
      "SCORE:                                                                          \n",
      "0.98973128                                                                      \n",
      "ERROR                                                                           \n",
      "0.0009367474675693339                                                           \n",
      "SCORE:                                                                          \n",
      "0.98971014                                                                      \n",
      "ERROR                                                                           \n",
      "0.0009511135240529726                                                           \n",
      "SCORE:                                                                          \n",
      "0.98971626                                                                      \n",
      "ERROR                                                                           \n",
      "0.0009552063409640711                                                           \n",
      "SCORE:                                                                          \n",
      "0.9897283400000001                                                              \n",
      "ERROR                                                                           \n",
      "0.0009375650693181567                                                           \n",
      "SCORE:                                                                          \n",
      "0.9898516599999999                                                              \n",
      "ERROR                                                                           \n",
      "0.0009218500648548345                                                           \n",
      "SCORE:                                                                          \n",
      "0.9899754399999999                                                              \n",
      "ERROR                                                                           \n",
      "0.0008562495756658864                                                           \n",
      "SCORE:                                                                          \n",
      "0.98999182                                                                      \n",
      "ERROR                                                                           \n",
      "0.0008793487497272114                                                           \n",
      "SCORE:                                                                          \n",
      "0.98987722                                                                      \n",
      "ERROR                                                                           \n",
      "0.0009340664504815004                                                           \n",
      "SCORE:                                                                          \n",
      "0.98992184                                                                      \n",
      "ERROR                                                                           \n",
      "0.00088557732102171                                                             \n",
      "SCORE:                                                                          \n",
      "0.9899926999999998                                                              \n",
      "ERROR                                                                           \n",
      "0.0008645418319643356                                                           \n",
      "SCORE:                                                                          \n",
      "0.98986606                                                                      \n",
      "ERROR                                                                           \n",
      "0.0009374957227487416                                                           \n"
     ]
    },
    {
     "name": "stdout",
     "output_type": "stream",
     "text": [
      "SCORE:                                                                          \n",
      "0.98985794                                                                      \n",
      "ERROR                                                                           \n",
      "0.0009625295810771201                                                           \n",
      "SCORE:                                                                          \n",
      "0.98991662                                                                      \n",
      "ERROR                                                                           \n",
      "0.0009513533163838133                                                           \n",
      "SCORE:                                                                          \n",
      "0.98992822                                                                      \n",
      "ERROR                                                                           \n",
      "0.0009353138350319997                                                           \n",
      "SCORE:                                                                          \n",
      "0.98980614                                                                      \n",
      "ERROR                                                                           \n",
      "0.000964679120342907                                                            \n",
      "SCORE:                                                                          \n",
      "0.9881220000000001                                                              \n",
      "ERROR                                                                           \n",
      "0.0011532366626152662                                                           \n",
      "SCORE:                                                                          \n",
      "0.9898801599999999                                                              \n",
      "ERROR                                                                           \n",
      "0.0009356252645491637                                                           \n",
      "SCORE:                                                                          \n",
      "0.98998086                                                                      \n",
      "ERROR                                                                           \n",
      "0.0008388640146675863                                                           \n",
      "SCORE:                                                                          \n",
      "0.5                                                                             \n",
      "ERROR                                                                           \n",
      "0.0                                                                             \n",
      "SCORE:                                                                          \n",
      "0.9899900799999999                                                              \n",
      "ERROR                                                                           \n",
      "0.0008819421855967692                                                           \n",
      "SCORE:                                                                          \n",
      "0.5                                                                             \n",
      "ERROR                                                                           \n",
      "0.0                                                                             \n",
      "SCORE:                                                                          \n",
      "0.9881220000000001                                                              \n",
      "ERROR                                                                           \n",
      "0.0011532366626152662                                                           \n",
      "SCORE:                                                                          \n",
      "0.9897982599999999                                                              \n",
      "ERROR                                                                           \n",
      "0.0009534945523385852                                                           \n",
      "SCORE:                                                                          \n",
      "0.98991518                                                                      \n",
      "ERROR                                                                           \n",
      "0.0009041790752006174                                                           \n",
      "SCORE:                                                                          \n",
      "0.98976202                                                                      \n",
      "ERROR                                                                           \n",
      "0.000929444786952722                                                            \n",
      "SCORE:                                                                          \n",
      "0.9897390799999999                                                              \n",
      "ERROR                                                                           \n",
      "0.0009455822254550385                                                           \n",
      "SCORE:                                                                          \n",
      "0.98986314                                                                      \n",
      "ERROR                                                                           \n",
      "0.0009655243253015135                                                           \n",
      "SCORE:                                                                          \n",
      "0.989851                                                                        \n",
      "ERROR                                                                           \n",
      "0.0009562163659239958                                                           \n",
      "SCORE:                                                                          \n",
      "0.9897297400000001                                                              \n",
      "ERROR                                                                           \n",
      "0.0009458188969626695                                                           \n",
      "SCORE:                                                                          \n",
      "0.98990362                                                                      \n",
      "ERROR                                                                           \n",
      "0.0009264027502950068                                                           \n",
      "SCORE:                                                                          \n",
      "0.5                                                                             \n",
      "ERROR                                                                           \n",
      "0.0                                                                             \n",
      "SCORE:                                                                          \n",
      "0.9899711999999999                                                              \n",
      "ERROR                                                                           \n",
      "0.0008847046897596395                                                           \n",
      "SCORE:                                                                          \n",
      "0.9897875199999999                                                              \n",
      "ERROR                                                                           \n",
      "0.0009406165251166943                                                           \n",
      "SCORE:                                                                          \n",
      "0.98989192                                                                      \n",
      "ERROR                                                                           \n",
      "0.0009408677047183931                                                           \n",
      "SCORE:                                                                          \n",
      "0.9897289599999999                                                              \n",
      "ERROR                                                                           \n",
      "0.0009421796132161092                                                           \n",
      "100%|██████████| 50/50 [01:07<00:00,  1.35s/it, best loss: 0.010007300000000163]\n",
      "Optimization Time: %f seconds 67.44519352912903\n",
      "CPU times: user 30min 59s, sys: 51.9 s, total: 31min 50s\n",
      "Wall time: 1min 7s\n"
     ]
    }
   ],
   "source": [
    "%%time\n",
    "trials = Trials()\n",
    "import time\n",
    "start = time.time()\n",
    "best = fmin(fn=objective, space = space, algo = tpe.suggest, max_evals = 50, trials = trials, rstate=np.random.RandomState(seed=0))\n",
    "end = time.time()\n",
    "print(\"Optimization Time: %f seconds\", (end  -start))"
   ]
  },
  {
   "cell_type": "code",
   "execution_count": 37,
   "metadata": {},
   "outputs": [
    {
     "data": {
      "text/plain": [
       "{'x_learning_rate': 0.19797937959730308,\n",
       " 'x_max_depth': 3,\n",
       " 'x_min_child': 5,\n",
       " 'x_subsample': 0.945591939597905}"
      ]
     },
     "execution_count": 37,
     "metadata": {},
     "output_type": "execute_result"
    }
   ],
   "source": [
    "best"
   ]
  },
  {
   "cell_type": "code",
   "execution_count": 38,
   "metadata": {},
   "outputs": [
    {
     "name": "stdout",
     "output_type": "stream",
     "text": [
      "[0]\ttrain-auc:0.98973+0.00022\ttest-auc:0.98960+0.00099\n",
      "[1]\ttrain-auc:0.98982+0.00021\ttest-auc:0.98974+0.00094\n",
      "[2]\ttrain-auc:0.98988+0.00024\ttest-auc:0.98976+0.00093\n",
      "[3]\ttrain-auc:0.98989+0.00024\ttest-auc:0.98976+0.00093\n",
      "[4]\ttrain-auc:0.99008+0.00030\ttest-auc:0.99003+0.00090\n",
      "[5]\ttrain-auc:0.99027+0.00024\ttest-auc:0.99013+0.00089\n",
      "[6]\ttrain-auc:0.99028+0.00024\ttest-auc:0.99010+0.00087\n",
      "[7]\ttrain-auc:0.99040+0.00017\ttest-auc:0.99027+0.00073\n",
      "[8]\ttrain-auc:0.99040+0.00016\ttest-auc:0.99027+0.00073\n",
      "[9]\ttrain-auc:0.99040+0.00016\ttest-auc:0.99027+0.00073\n",
      "[10]\ttrain-auc:0.99041+0.00017\ttest-auc:0.99029+0.00071\n",
      "[11]\ttrain-auc:0.99041+0.00017\ttest-auc:0.99029+0.00071\n",
      "[12]\ttrain-auc:0.99042+0.00018\ttest-auc:0.99033+0.00069\n",
      "[13]\ttrain-auc:0.99042+0.00018\ttest-auc:0.99033+0.00069\n",
      "[14]\ttrain-auc:0.99047+0.00022\ttest-auc:0.99039+0.00065\n",
      "[15]\ttrain-auc:0.99047+0.00021\ttest-auc:0.99041+0.00069\n",
      "[16]\ttrain-auc:0.99052+0.00024\ttest-auc:0.99042+0.00068\n",
      "[17]\ttrain-auc:0.99057+0.00023\ttest-auc:0.99047+0.00062\n",
      "[18]\ttrain-auc:0.99063+0.00022\ttest-auc:0.99052+0.00065\n",
      "[19]\ttrain-auc:0.99063+0.00022\ttest-auc:0.99052+0.00065\n",
      "[20]\ttrain-auc:0.99064+0.00022\ttest-auc:0.99052+0.00065\n",
      "[21]\ttrain-auc:0.99064+0.00022\ttest-auc:0.99052+0.00065\n",
      "[22]\ttrain-auc:0.99067+0.00018\ttest-auc:0.99059+0.00077\n",
      "[23]\ttrain-auc:0.99073+0.00016\ttest-auc:0.99064+0.00079\n",
      "[24]\ttrain-auc:0.99076+0.00018\ttest-auc:0.99068+0.00076\n",
      "[25]\ttrain-auc:0.99076+0.00018\ttest-auc:0.99067+0.00077\n",
      "[26]\ttrain-auc:0.99076+0.00018\ttest-auc:0.99067+0.00077\n",
      "[27]\ttrain-auc:0.99078+0.00019\ttest-auc:0.99068+0.00076\n",
      "[28]\ttrain-auc:0.99078+0.00019\ttest-auc:0.99068+0.00076\n",
      "[29]\ttrain-auc:0.99079+0.00018\ttest-auc:0.99068+0.00076\n",
      "[30]\ttrain-auc:0.99079+0.00018\ttest-auc:0.99068+0.00075\n",
      "[31]\ttrain-auc:0.99079+0.00018\ttest-auc:0.99070+0.00074\n",
      "[32]\ttrain-auc:0.99079+0.00018\ttest-auc:0.99070+0.00075\n",
      "[33]\ttrain-auc:0.99079+0.00018\ttest-auc:0.99069+0.00075\n",
      "[34]\ttrain-auc:0.99079+0.00018\ttest-auc:0.99069+0.00075\n",
      "[35]\ttrain-auc:0.99080+0.00018\ttest-auc:0.99069+0.00075\n",
      "[36]\ttrain-auc:0.99081+0.00019\ttest-auc:0.99069+0.00075\n",
      "[37]\ttrain-auc:0.99081+0.00019\ttest-auc:0.99068+0.00076\n",
      "[38]\ttrain-auc:0.99082+0.00019\ttest-auc:0.99070+0.00075\n",
      "[39]\ttrain-auc:0.99082+0.00019\ttest-auc:0.99068+0.00076\n",
      "[40]\ttrain-auc:0.99082+0.00019\ttest-auc:0.99068+0.00076\n",
      "[41]\ttrain-auc:0.99083+0.00019\ttest-auc:0.99067+0.00076\n",
      "[42]\ttrain-auc:0.99083+0.00019\ttest-auc:0.99067+0.00076\n",
      "[43]\ttrain-auc:0.99084+0.00018\ttest-auc:0.99067+0.00075\n",
      "[44]\ttrain-auc:0.99084+0.00018\ttest-auc:0.99067+0.00076\n",
      "[45]\ttrain-auc:0.99084+0.00018\ttest-auc:0.99068+0.00075\n",
      "[46]\ttrain-auc:0.99084+0.00018\ttest-auc:0.99068+0.00075\n",
      "[47]\ttrain-auc:0.99084+0.00018\ttest-auc:0.99068+0.00075\n",
      "[48]\ttrain-auc:0.99084+0.00018\ttest-auc:0.99068+0.00075\n",
      "[49]\ttrain-auc:0.99084+0.00018\ttest-auc:0.99068+0.00075\n"
     ]
    }
   ],
   "source": [
    "model = XGBClassifier(learning_rate = best[\"x_learning_rate\"], \n",
    "                         max_depth = int(best[\"x_max_depth\"]), \n",
    "                         subsample = best[\"x_subsample\"],\n",
    "                         min_child_weight = best['x_min_child'])\n",
    "\n",
    "score = xgb.cv(model.get_xgb_params(), dtrain, nfold = 5, metrics = \"auc\", verbose_eval=True, num_boost_round=50)"
   ]
  },
  {
   "cell_type": "code",
   "execution_count": 39,
   "metadata": {},
   "outputs": [
    {
     "data": {
      "text/plain": [
       "Text(0, 0.5, 'CV AUC score')"
      ]
     },
     "execution_count": 39,
     "metadata": {},
     "output_type": "execute_result"
    },
    {
     "data": {
      "image/png": "[encoded data removed]",
      "text/plain": [
       "<Figure size 432x288 with 1 Axes>"
      ]
     },
     "metadata": {
      "needs_background": "light"
     },
     "output_type": "display_data"
    }
   ],
   "source": [
    "n_estimators = 25\n",
    "fig, ax = plt.subplots()\n",
    "ax.plot(score.index, score['train-auc-mean'], label='Train')\n",
    "ax.plot(score.index, score['test-auc-mean'], label='Test')\n",
    "ax.axvline(n_estimators, linestyle='--')\n",
    "ax.legend()\n",
    "ax.set_xlabel('n_estimators (num trees)')\n",
    "ax.set_ylabel('CV AUC score')"
   ]
  },
  {
   "cell_type": "code",
   "execution_count": 40,
   "metadata": {},
   "outputs": [
    {
     "data": {
      "text/plain": [
       "XGBClassifier(base_score=0.5, booster=None, colsample_bylevel=1,\n",
       "              colsample_bynode=1, colsample_bytree=1, gamma=0, gpu_id=-1,\n",
       "              importance_type='gain', interaction_constraints=None,\n",
       "              learning_rate=0.19797937959730308, max_delta_step=0, max_depth=3,\n",
       "              min_child_weight=5, missing=nan, monotone_constraints=None,\n",
       "              n_estimators=25, n_jobs=0, num_parallel_tree=1,\n",
       "              objective='binary:logistic', random_state=0, reg_alpha=0,\n",
       "              reg_lambda=1, scale_pos_weight=1, subsample=0.945591939597905,\n",
       "              tree_method=None, validate_parameters=False, verbosity=None)"
      ]
     },
     "execution_count": 40,
     "metadata": {},
     "output_type": "execute_result"
    }
   ],
   "source": [
    "model.set_params(n_estimators = n_estimators)\n",
    "model.fit(trainX, trainY)"
   ]
  },
  {
   "cell_type": "code",
   "execution_count": 41,
   "metadata": {},
   "outputs": [],
   "source": [
    "model.save_model(datapath+'../spock/models/nbody.json')"
   ]
  },
  {
   "cell_type": "code",
   "execution_count": 42,
   "metadata": {},
   "outputs": [],
   "source": [
    "model = XGBClassifier()\n",
    "model.load_model(datapath+'../spock/models/nbody.json')"
   ]
  },
  {
   "cell_type": "code",
   "execution_count": 43,
   "metadata": {},
   "outputs": [
    {
     "data": {
      "text/plain": [
       "Text(0.5, 1.0, 'ROC curve (AUC = 0.991)')"
      ]
     },
     "execution_count": 43,
     "metadata": {},
     "output_type": "execute_result"
    },
    {
     "data": {
      "image/png": "[encoded data removed]",
      "text/plain": [
       "<Figure size 432x288 with 1 Axes>"
      ]
     },
     "metadata": {
      "needs_background": "light"
     },
     "output_type": "display_data"
    }
   ],
   "source": [
    "roc_auc, fpr, tpr, ROCthresholds = ROC_curve(trainingdatafolder, model, features)\n",
    "\n",
    "fig, ax = plt.subplots()\n",
    "ax.plot(fpr, tpr)\n",
    "ax.plot([0, 1], [0, 1], 'k--')\n",
    "ax.set_xlim([0.0, 1.0])\n",
    "ax.set_ylim([0.0, 1.0])\n",
    "ax.set_xlabel('False Positive Rate')\n",
    "ax.set_ylabel('True Positive Rate')\n",
    "ax.set_title('ROC curve (AUC = {0:.3f})'.format(roc_auc))"
   ]
  },
  {
   "cell_type": "code",
   "execution_count": null,
   "metadata": {},
   "outputs": [],
   "source": []
  }
 ],
 "metadata": {
  "anaconda-cloud": {},
  "kernelspec": {
   "display_name": "Python 3",
   "language": "python",
   "name": "python3"
  },
  "language_info": {
   "codemirror_mode": {
    "name": "ipython",
    "version": 3
   },
   "file_extension": ".py",
   "mimetype": "text/x-python",
   "name": "python",
   "nbconvert_exporter": "python",
   "pygments_lexer": "ipython3",
   "version": "3.7.3"
  }
 },
 "nbformat": 4,
 "nbformat_minor": 2
}

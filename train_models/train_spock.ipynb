{
 "cells": [
  {
   "cell_type": "markdown",
   "metadata": {},
   "source": [
    "# Dont' use features that require transform to res variables with celmech in tseries. Almost as good as models that include them"
   ]
  },
  {
   "cell_type": "code",
   "execution_count": 1,
   "metadata": {},
   "outputs": [],
   "source": [
    "import numpy as np\n",
    "import matplotlib.pyplot as plt\n",
    "%matplotlib inline\n",
    "import pandas as pd\n",
    "from sklearn import metrics\n",
    "import xgboost as xgb\n",
    "from xgboost.sklearn import XGBClassifier\n",
    "from hyperopt import hp, fmin, tpe, STATUS_OK, Trials\n",
    "import hyperopt\n",
    "import dill\n",
    "import sys\n",
    "sys.path.append('../spock/')\n",
    "from modelfitting import train_test_split, ROC_curve, stable_unstable_hist, calibration_plot, unstable_error_fraction"
   ]
  },
  {
   "cell_type": "code",
   "execution_count": 2,
   "metadata": {},
   "outputs": [],
   "source": [
    "datapath = '../training_data/'\n",
    "dset = 'resonant/'\n",
    "Norbits = 1e4\n",
    "Nout = 80\n",
    "featureargs = (Norbits, Nout) # params to pass feature function\n",
    "featurefolder = 'featuresNorbits{0:.1f}Nout{1}trio/'.format(Norbits, Nout)\n",
    "trainingdatafolder = datapath+dset+featurefolder"
   ]
  },
  {
   "cell_type": "code",
   "execution_count": 3,
   "metadata": {},
   "outputs": [],
   "source": [
    "space ={\n",
    "        'max_depth': hp.randint('x_max_depth',  20),\n",
    "        'min_child_weight': hp.quniform ('x_min_child', 1, 10, 1),\n",
    "        'subsample': hp.uniform ('x_subsample', 0.8, 1),\n",
    "        'scale_pos_weight': hp.uniform(\"x_pos_weight\", 1, 50),\n",
    "        \"learning_rate\":hp.uniform(\"x_learning_rate\",0.01,0.2),\n",
    "        'colsample_bytree': hp.uniform ('x_tree_colsample', 0.5,1),\n",
    "}\n",
    "\n",
    "def objective(params):\n",
    "    clf = XGBClassifier(n_estimators = 100,\n",
    "                            max_depth = params['max_depth'], \n",
    "                            min_child_weight = params['min_child_weight'],\n",
    "                            subsample = params['subsample'],\n",
    "                            colsample_bytree = params['colsample_bytree'],\n",
    "                            learning_rate = params['learning_rate'], seed = 0)\n",
    "    \n",
    "    score = xgb.cv(clf.get_xgb_params(), dtrain, nfold = 5, metrics = \"auc\", early_stopping_rounds=10)\n",
    "    avg_score =  np.mean(score[\"test-auc-mean\"])\n",
    "    error = np.mean(score[\"test-auc-std\"])\n",
    "    \n",
    "    print(\"SCORE:\", avg_score, \"ERROR\", error)#, \"HOLDOUT SCORE\", test_score)\n",
    "    return{'loss':1-avg_score, 'status': STATUS_OK, \"cv_score\":avg_score , \"cv_error\":error}"
   ]
  },
  {
   "cell_type": "code",
   "execution_count": 4,
   "metadata": {},
   "outputs": [],
   "source": [
    "near = ['EMcrossnear', 'EMfracstdnear', 'EPstdnear', 'MMRstrengthnear']\n",
    "far = ['EMcrossfar', 'EMfracstdfar', 'EPstdfar', 'MMRstrengthfar']\n",
    "megno = ['MEGNO', 'MEGNOstd']\n",
    "\n",
    "features = near + far + megno\n",
    "\n",
    "trainX, trainY, testX, testY = train_test_split(trainingdatafolder, features, filter=False)\n",
    "\n",
    "dtrain = xgb.DMatrix(trainX, trainY)\n",
    "dtest = xgb.DMatrix(testX, testY)"
   ]
  },
  {
   "cell_type": "code",
   "execution_count": 5,
   "metadata": {},
   "outputs": [
    {
     "name": "stdout",
     "output_type": "stream",
     "text": [
      "SCORE:                                              \n",
      "0.93030846                                          \n",
      "ERROR                                               \n",
      "0.0032105404317541732                               \n",
      "SCORE:                                                               \n",
      "0.9370764800000002                                                   \n",
      "ERROR                                                                \n",
      "0.0024428951008617535                                                \n",
      "SCORE:                                                                        \n",
      "0.8553223799999999                                                            \n",
      "ERROR                                                                         \n",
      "0.013509800928361935                                                          \n",
      "SCORE:                                                                        \n",
      "0.9119639399999999                                                            \n",
      "ERROR                                                                         \n",
      "0.003091596256638572                                                          \n",
      "SCORE:                                                                        \n",
      "0.9344360400000001                                                            \n",
      "ERROR                                                                         \n",
      "0.002164651305655176                                                          \n",
      "SCORE:                                                                        \n",
      "0.93430302                                                                    \n",
      "ERROR                                                                         \n",
      "0.0025720566696039275                                                         \n",
      "SCORE:                                                                        \n",
      "0.93543632                                                                    \n",
      "ERROR                                                                         \n",
      "0.0022372319221794076                                                         \n",
      "SCORE:                                                                        \n",
      "0.5                                                                           \n",
      "ERROR                                                                         \n",
      "0.0                                                                           \n",
      "SCORE:                                                                        \n",
      "0.9339352200000001                                                            \n",
      "ERROR                                                                         \n",
      "0.00237122549485557                                                           \n",
      "SCORE:                                                                        \n",
      "0.9348448000000001                                                            \n",
      "ERROR                                                                         \n",
      "0.002637433651870558                                                          \n",
      "SCORE:                                                                         \n",
      "0.93598634                                                                     \n",
      "ERROR                                                                          \n",
      "0.00261471942547127                                                            \n",
      "SCORE:                                                                         \n",
      "0.85648742                                                                     \n",
      "ERROR                                                                          \n",
      "0.014128606781951403                                                           \n",
      "SCORE:                                                                         \n",
      "0.9362646800000001                                                             \n",
      "ERROR                                                                          \n",
      "0.0022573245205707825                                                          \n",
      "SCORE:                                                                         \n",
      "0.9337027000000001                                                             \n",
      "ERROR                                                                          \n",
      "0.002750734314440913                                                           \n",
      "SCORE:                                                                         \n",
      "0.9339055199999999                                                             \n",
      "ERROR                                                                          \n",
      "0.0021599824376956267                                                          \n",
      "SCORE:                                                                         \n",
      "0.9336274400000001                                                             \n",
      "ERROR                                                                          \n",
      "0.001908911581866375                                                           \n",
      "SCORE:                                                                         \n",
      "0.9143772599999999                                                             \n",
      "ERROR                                                                          \n",
      "0.002207518919051405                                                           \n",
      "SCORE:                                                                         \n",
      "0.9289087                                                                      \n",
      "ERROR                                                                          \n",
      "0.0022117554855146234                                                          \n",
      "SCORE:                                                                         \n",
      "0.93506094                                                                     \n",
      "ERROR                                                                          \n",
      "0.0024431233199411332                                                          \n",
      "SCORE:                                                                         \n",
      "0.8986055799999999                                                             \n",
      "ERROR                                                                          \n",
      "0.003933680359306751                                                           \n",
      "SCORE:                                                                         \n",
      "0.9372830600000001                                                             \n",
      "ERROR                                                                          \n",
      "0.001961574103237688                                                           \n",
      "SCORE:                                                                         \n",
      "0.9320117                                                                      \n",
      "ERROR                                                                          \n",
      "0.0023085758177206353                                                          \n",
      "SCORE:                                                                         \n",
      "0.9252656                                                                      \n",
      "ERROR                                                                          \n",
      "0.0023952376387377334                                                          \n",
      "SCORE:                                                                         \n",
      "0.93657028                                                                     \n",
      "ERROR                                                                          \n",
      "0.0021511871720578005                                                          \n",
      "SCORE:                                                                         \n",
      "0.93554188                                                                     \n",
      "ERROR                                                                          \n",
      "0.002265099737680001                                                           \n",
      "SCORE:                                                                         \n",
      "0.93726402                                                                     \n",
      "ERROR                                                                          \n",
      "0.0024460857884679964                                                          \n"
     ]
    },
    {
     "name": "stdout",
     "output_type": "stream",
     "text": [
      "SCORE:                                                                         \n",
      "0.9372911400000001                                                             \n",
      "ERROR                                                                          \n",
      "0.002437331098987682                                                           \n",
      "SCORE:                                                                         \n",
      "0.9366116200000001                                                             \n",
      "ERROR                                                                          \n",
      "0.0022002063293593806                                                          \n",
      "SCORE:                                                                         \n",
      "0.9305171399999999                                                             \n",
      "ERROR                                                                          \n",
      "0.0023075157199616437                                                          \n",
      "SCORE:                                                                         \n",
      "0.93729662                                                                     \n",
      "ERROR                                                                          \n",
      "0.002387113079173578                                                           \n",
      "SCORE:                                                                         \n",
      "0.9367729                                                                      \n",
      "ERROR                                                                          \n",
      "0.002302202049537242                                                           \n",
      "SCORE:                                                                         \n",
      "0.9371033799999999                                                             \n",
      "ERROR                                                                          \n",
      "0.0019812596170291756                                                          \n",
      "SCORE:                                                                         \n",
      "0.9357879600000001                                                             \n",
      "ERROR                                                                          \n",
      "0.0023764819944225163                                                          \n",
      "SCORE:                                                                         \n",
      "0.90747926                                                                     \n",
      "ERROR                                                                          \n",
      "0.0017346314043711428                                                          \n",
      "SCORE:                                                                         \n",
      "0.9292503                                                                      \n",
      "ERROR                                                                          \n",
      "0.0018797957610595395                                                          \n",
      "SCORE:                                                                         \n",
      "0.9353566000000001                                                             \n",
      "ERROR                                                                          \n",
      "0.002162462654978287                                                           \n",
      "SCORE:                                                                         \n",
      "0.9356438                                                                      \n",
      "ERROR                                                                          \n",
      "0.0023245564463570453                                                          \n",
      "SCORE:                                                                         \n",
      "0.9368906600000001                                                             \n",
      "ERROR                                                                          \n",
      "0.002297503841422642                                                           \n",
      "SCORE:                                                                         \n",
      "0.5                                                                            \n",
      "ERROR                                                                          \n",
      "0.0                                                                            \n",
      "SCORE:                                                                         \n",
      "0.89248166                                                                     \n",
      "ERROR                                                                          \n",
      "0.0019336737811097976                                                          \n",
      "SCORE:                                                                         \n",
      "0.9351502599999998                                                             \n",
      "ERROR                                                                          \n",
      "0.002459429606082999                                                           \n",
      "SCORE:                                                                         \n",
      "0.9361452                                                                      \n",
      "ERROR                                                                          \n",
      "0.002358234334728046                                                           \n",
      "SCORE:                                                                         \n",
      "0.9338832800000001                                                             \n",
      "ERROR                                                                          \n",
      "0.0021258951639497774                                                          \n",
      "SCORE:                                                                         \n",
      "0.9360176200000001                                                             \n",
      "ERROR                                                                          \n",
      "0.0020041364449074573                                                          \n",
      "SCORE:                                                                         \n",
      "0.8758547                                                                      \n",
      "ERROR                                                                          \n",
      "0.006217215149800665                                                           \n",
      "SCORE:                                                                         \n",
      "0.9170294800000001                                                             \n",
      "ERROR                                                                          \n",
      "0.001933639963098456                                                           \n",
      "SCORE:                                                                         \n",
      "0.9251809400000001                                                             \n",
      "ERROR                                                                          \n",
      "0.002811084210108191                                                           \n",
      "SCORE:                                                                         \n",
      "0.93672968                                                                     \n",
      "ERROR                                                                          \n",
      "0.0022476399484378565                                                          \n",
      "SCORE:                                                                         \n",
      "0.93077004                                                                     \n",
      "ERROR                                                                          \n",
      "0.0030958789342782353                                                          \n",
      "SCORE:                                                                         \n",
      "0.90871192                                                                     \n",
      "ERROR                                                                          \n",
      "0.0028555551215748917                                                          \n",
      "100%|██████████| 50/50 [09:59<00:00,  7.84s/it, best loss: 0.06270337999999998]\n",
      "Optimization Time: %f seconds 599.3699743747711\n",
      "CPU times: user 4h 17min 33s, sys: 9min 38s, total: 4h 27min 11s\n",
      "Wall time: 9min 59s\n"
     ]
    }
   ],
   "source": [
    "%%time\n",
    "trials = Trials()\n",
    "import time\n",
    "start = time.time()\n",
    "best = fmin(fn=objective, space = space, algo = tpe.suggest, max_evals = 50, trials = trials, rstate=np.random.RandomState(seed=0))\n",
    "end = time.time()\n",
    "print(\"Optimization Time: %f seconds\", (end  -start))"
   ]
  },
  {
   "cell_type": "code",
   "execution_count": 6,
   "metadata": {},
   "outputs": [
    {
     "data": {
      "text/plain": [
       "{'x_learning_rate': 0.16159424030448688,\n",
       " 'x_max_depth': 16,\n",
       " 'x_min_child': 8.0,\n",
       " 'x_pos_weight': 15.85087174258454,\n",
       " 'x_subsample': 0.8871786307932479,\n",
       " 'x_tree_colsample': 0.8839869651229835}"
      ]
     },
     "execution_count": 6,
     "metadata": {},
     "output_type": "execute_result"
    }
   ],
   "source": [
    "best"
   ]
  },
  {
   "cell_type": "markdown",
   "metadata": {},
   "source": [
    "# Would have to set num_boost_round=100 to see the same CV score as in our final fitted model\n",
    "\n",
    "We're setting n_estimators=100 in model, which is the equivalent of num_boost_round in CV, so if we use the default in CV (10), we will get slightly lower powerformance"
   ]
  },
  {
   "cell_type": "code",
   "execution_count": 7,
   "metadata": {},
   "outputs": [
    {
     "name": "stdout",
     "output_type": "stream",
     "text": [
      "[0]\ttrain-auc:0.94864+0.00075\ttest-auc:0.91939+0.00168\n",
      "[1]\ttrain-auc:0.96152+0.00273\ttest-auc:0.92730+0.00360\n",
      "[2]\ttrain-auc:0.96890+0.00101\ttest-auc:0.93272+0.00279\n",
      "[3]\ttrain-auc:0.97229+0.00083\ttest-auc:0.93609+0.00255\n",
      "[4]\ttrain-auc:0.97435+0.00075\ttest-auc:0.93765+0.00206\n",
      "[5]\ttrain-auc:0.97632+0.00062\ttest-auc:0.93900+0.00187\n",
      "[6]\ttrain-auc:0.97839+0.00063\ttest-auc:0.94053+0.00192\n",
      "[7]\ttrain-auc:0.97981+0.00055\ttest-auc:0.94114+0.00159\n",
      "[8]\ttrain-auc:0.98139+0.00074\ttest-auc:0.94231+0.00180\n",
      "[9]\ttrain-auc:0.98281+0.00046\ttest-auc:0.94325+0.00161\n"
     ]
    },
    {
     "data": {
      "text/plain": [
       "XGBClassifier(base_score=0.5, booster=None, colsample_bylevel=1,\n",
       "              colsample_bynode=1, colsample_bytree=0.8839869651229835, gamma=0,\n",
       "              gpu_id=-1, importance_type='gain', interaction_constraints=None,\n",
       "              learning_rate=0.16159424030448688, max_delta_step=0, max_depth=16,\n",
       "              min_child_weight=8.0, missing=nan, monotone_constraints=None,\n",
       "              n_estimators=100, n_jobs=0, num_parallel_tree=1,\n",
       "              objective='binary:logistic', random_state=0, reg_alpha=0,\n",
       "              reg_lambda=1, scale_pos_weight=15.85087174258454,\n",
       "              subsample=0.8871786307932479, tree_method=None,\n",
       "              validate_parameters=False, verbosity=None)"
      ]
     },
     "execution_count": 7,
     "metadata": {},
     "output_type": "execute_result"
    }
   ],
   "source": [
    "model = XGBClassifier(n_estimators=100, scale_pos_weight=best[\"x_pos_weight\"],\n",
    "                         learning_rate = best[\"x_learning_rate\"], \n",
    "                         max_depth = int(best[\"x_max_depth\"]), \n",
    "                         min_child_weight = best[\"x_min_child\"],\n",
    "                         subsample = best[\"x_subsample\"], \n",
    "                         colsample_bytree = best[\"x_tree_colsample\"])\n",
    "\n",
    "score = xgb.cv(model.get_xgb_params(), dtrain, nfold = 5, metrics = \"auc\", verbose_eval=True, num_boost_round=10)\n",
    "model.fit(trainX, trainY)"
   ]
  },
  {
   "cell_type": "code",
   "execution_count": 8,
   "metadata": {},
   "outputs": [],
   "source": [
    "model.save_model(datapath+'../spock/models/spock.json')"
   ]
  },
  {
   "cell_type": "code",
   "execution_count": 11,
   "metadata": {},
   "outputs": [],
   "source": [
    "model = XGBClassifier()\n",
    "model.load_model(datapath+'../spock/models/spock.json')"
   ]
  },
  {
   "cell_type": "markdown",
   "metadata": {},
   "source": [
    "# SPOCK"
   ]
  },
  {
   "cell_type": "code",
   "execution_count": 12,
   "metadata": {},
   "outputs": [
    {
     "data": {
      "text/plain": [
       "Text(0.5, 1.0, 'ROC curve (AUC = 0.955)')"
      ]
     },
     "execution_count": 12,
     "metadata": {},
     "output_type": "execute_result"
    },
    {
     "data": {
      "image/png": "[encoded data removed]",
      "text/plain": [
       "<Figure size 432x288 with 1 Axes>"
      ]
     },
     "metadata": {
      "needs_background": "light"
     },
     "output_type": "display_data"
    }
   ],
   "source": [
    "#model, features, featurefolder = dill.load(open(modelpath+filename+'.pkl', \"rb\"))\n",
    "#testingdatafolder = datapath+testing_dataset+'/'+featurefolder\n",
    "#roc_auc, fpr, tpr, ROCthresholds = ROC_curve(testingdatafolder, model, features, filtertimes=True)\n",
    "\n",
    "roc_auc, fpr, tpr, ROCthresholds = ROC_curve(trainingdatafolder, model, features)\n",
    "\n",
    "fig, ax = plt.subplots()\n",
    "ax.plot(fpr, tpr)\n",
    "ax.plot([0, 1], [0, 1], 'k--')\n",
    "ax.set_xlim([0.0, 1.0])\n",
    "ax.set_ylim([0.0, 1.0])\n",
    "ax.set_xlabel('False Positive Rate')\n",
    "ax.set_ylabel('True Positive Rate')\n",
    "ax.set_title('ROC curve (AUC = {0:.3f})'.format(roc_auc))"
   ]
  },
  {
   "cell_type": "code",
   "execution_count": 13,
   "metadata": {},
   "outputs": [
    {
     "name": "stdout",
     "output_type": "stream",
     "text": [
      "Threshold 1.9999192953109741, TPR = 0.0, FPR = 0.0\n",
      "Threshold 0.9993033409118652, TPR = 0.03965256797583082, FPR = 5.742835812324125e-05\n",
      "Threshold 0.9987364411354065, TPR = 0.07949395770392749, FPR = 0.000229713432492965\n",
      "Threshold 0.9985067248344421, TPR = 0.09459969788519637, FPR = 0.0005742835812324125\n",
      "Threshold 0.9979015588760376, TPR = 0.12953172205438065, FPR = 0.0008614253718486188\n",
      "Threshold 0.9972278475761414, TPR = 0.1614425981873112, FPR = 0.0012059955205880664\n",
      "Threshold 0.9966657757759094, TPR = 0.18731117824773413, FPR = 0.0014357089530810314\n",
      "Threshold 0.9958083629608154, TPR = 0.21676737160120846, FPR = 0.00183770745994372\n",
      "Threshold 0.9949290752410889, TPR = 0.24339123867069487, FPR = 0.0023545626830528913\n",
      "Threshold 0.99436354637146, TPR = 0.26076283987915405, FPR = 0.0027565611899155805\n",
      "Threshold 0.9937962293624878, TPR = 0.2794561933534743, FPR = 0.0031011313386550277\n",
      "Threshold 0.9935228824615479, TPR = 0.286631419939577, FPR = 0.0034457014873944753\n",
      "Threshold 0.9930436611175537, TPR = 0.2990936555891239, FPR = 0.0039051283523804056\n",
      "Threshold 0.9920409321784973, TPR = 0.32118580060422963, FPR = 0.004249698501119853\n",
      "Threshold 0.9914724826812744, TPR = 0.33024924471299094, FPR = 0.004709125366105783\n",
      "Threshold 0.9905539155006409, TPR = 0.34384441087613293, FPR = 0.005111123872968472\n",
      "Threshold 0.990216851234436, TPR = 0.3523413897280967, FPR = 0.005513122379831161\n",
      "Threshold 0.9896935820579529, TPR = 0.36367069486404835, FPR = 0.005857692528570609\n",
      "Threshold 0.9890962243080139, TPR = 0.37424471299093653, FPR = 0.006317119393556538\n",
      "Threshold 0.988345742225647, TPR = 0.3808534743202417, FPR = 0.006719117900419227\n",
      "Threshold 0.9872984290122986, TPR = 0.3923716012084592, FPR = 0.007235973123528398\n",
      "Threshold 0.9863194227218628, TPR = 0.40577794561933533, FPR = 0.007695399988514328\n",
      "Threshold 0.9855753183364868, TPR = 0.4148413897280967, FPR = 0.008154826853500259\n",
      "Threshold 0.9849694967269897, TPR = 0.42371601208459214, FPR = 0.008614253718486188\n",
      "Threshold 0.9844873547554016, TPR = 0.42938066465256797, FPR = 0.00913110894159536\n",
      "Threshold 0.9830471873283386, TPR = 0.4427870090634441, FPR = 0.009647964164704531\n",
      "Threshold 0.9821715950965881, TPR = 0.4516616314199396, FPR = 0.010164819387813702\n",
      "Threshold 0.980719268321991, TPR = 0.4663897280966767, FPR = 0.010566817894676391\n",
      "Threshold 0.9797009229660034, TPR = 0.4735649546827795, FPR = 0.011141101475908804\n",
      "Threshold 0.9788637757301331, TPR = 0.4820619335347432, FPR = 0.011600528340894733\n",
      "Threshold 0.9779656529426575, TPR = 0.4907477341389728, FPR = 0.012117383564003905\n",
      "Threshold 0.9768556356430054, TPR = 0.49905589123867067, FPR = 0.012691667145236318\n",
      "Threshold 0.9757825136184692, TPR = 0.5064199395770392, FPR = 0.01320852236834549\n",
      "Threshold 0.9751866459846497, TPR = 0.5105740181268882, FPR = 0.013667949233331419\n",
      "Threshold 0.974262535572052, TPR = 0.5151057401812689, FPR = 0.014242232814563832\n",
      "Threshold 0.9731853008270264, TPR = 0.5234138972809668, FPR = 0.014873944753919486\n",
      "Threshold 0.9724546670913696, TPR = 0.5268126888217523, FPR = 0.015563085051398381\n",
      "Threshold 0.9716675281524658, TPR = 0.5330438066465257, FPR = 0.016079940274507553\n",
      "Threshold 0.970294713973999, TPR = 0.5430513595166163, FPR = 0.016539367139493482\n",
      "Threshold 0.9693903923034668, TPR = 0.5487160120845922, FPR = 0.017056222362602652\n",
      "Threshold 0.9682173728942871, TPR = 0.5541918429003021, FPR = 0.017630505943835067\n",
      "Threshold 0.9670175313949585, TPR = 0.5604229607250756, FPR = 0.018089932808820996\n",
      "Threshold 0.9658851027488708, TPR = 0.566654078549849, FPR = 0.018606788031930166\n",
      "Threshold 0.9645441770553589, TPR = 0.5745845921450151, FPR = 0.019238499971285822\n",
      "Threshold 0.9635027050971985, TPR = 0.5789274924471299, FPR = 0.019927640268764715\n",
      "Threshold 0.9621372222900391, TPR = 0.5866691842900302, FPR = 0.020329638775627403\n",
      "Threshold 0.9608069062232971, TPR = 0.5921450151057401, FPR = 0.020903922356859818\n",
      "Threshold 0.9594138264656067, TPR = 0.5974320241691843, FPR = 0.021420777579968988\n",
      "Threshold 0.9583306908607483, TPR = 0.6012084592145015, FPR = 0.022052489519324644\n",
      "Threshold 0.9568796753883362, TPR = 0.6072507552870091, FPR = 0.022569344742433814\n",
      "Threshold 0.9554906487464905, TPR = 0.6129154078549849, FPR = 0.023143628323666225\n",
      "Threshold 0.9536169767379761, TPR = 0.6193353474320241, FPR = 0.02377534026302188\n",
      "Threshold 0.9524601697921753, TPR = 0.6236782477341389, FPR = 0.02423476712800781\n",
      "Threshold 0.9511408805847168, TPR = 0.6274546827794562, FPR = 0.02480905070924022\n",
      "Threshold 0.9500025510787964, TPR = 0.6297205438066465, FPR = 0.025383334290472636\n",
      "Threshold 0.9480758309364319, TPR = 0.6350075528700906, FPR = 0.025842761155458565\n",
      "Threshold 0.947053074836731, TPR = 0.6380287009063444, FPR = 0.026359616378567735\n",
      "Threshold 0.9447386860847473, TPR = 0.645392749244713, FPR = 0.027048756676046632\n",
      "Threshold 0.9424217343330383, TPR = 0.6510574018126888, FPR = 0.027680468615402284\n",
      "Threshold 0.9400601387023926, TPR = 0.6582326283987915, FPR = 0.028197323838511458\n",
      "Threshold 0.9381001591682434, TPR = 0.6635196374622356, FPR = 0.028656750703497387\n",
      "Threshold 0.9361811280250549, TPR = 0.6682401812688822, FPR = 0.029231034284729798\n",
      "Threshold 0.9339630007743835, TPR = 0.6716389728096677, FPR = 0.029920174582208695\n",
      "Threshold 0.9316498637199402, TPR = 0.6771148036253777, FPR = 0.030437029805317865\n",
      "Threshold 0.9291500449180603, TPR = 0.6812688821752266, FPR = 0.03095388502842704\n",
      "Threshold 0.9276549220085144, TPR = 0.6852341389728097, FPR = 0.031470740251536206\n",
      "Threshold 0.9259858727455139, TPR = 0.6875, FPR = 0.032045023832768624\n",
      "Threshold 0.9230377078056335, TPR = 0.6914652567975831, FPR = 0.032849020846494\n",
      "Threshold 0.9210838079452515, TPR = 0.6946752265861027, FPR = 0.03353816114397289\n",
      "Threshold 0.9185736179351807, TPR = 0.6986404833836858, FPR = 0.03439958651582151\n",
      "Threshold 0.915684163570404, TPR = 0.7016616314199395, FPR = 0.035375868603916616\n",
      "Threshold 0.9132623672485352, TPR = 0.7056268882175226, FPR = 0.036007580543272265\n",
      "Threshold 0.9103507399559021, TPR = 0.7103474320241692, FPR = 0.03681157755699765\n",
      "Threshold 0.9077956080436707, TPR = 0.7135574018126888, FPR = 0.037730431286969505\n",
      "Threshold 0.9065138101577759, TPR = 0.7158232628398792, FPR = 0.038591856658818126\n",
      "Threshold 0.9040948748588562, TPR = 0.7177114803625377, FPR = 0.03968299546315971\n",
      "Threshold 0.9017179608345032, TPR = 0.7205438066465257, FPR = 0.040544420835008324\n",
      "Threshold 0.899639368057251, TPR = 0.7226208459214502, FPR = 0.04111870441624074\n",
      "Threshold 0.8969502449035645, TPR = 0.7258308157099698, FPR = 0.041807844713719636\n",
      "Threshold 0.8939353227615356, TPR = 0.7286631419939577, FPR = 0.04243955665307529\n",
      "Threshold 0.8900690674781799, TPR = 0.7326283987915407, FPR = 0.04347326709929363\n",
      "Threshold 0.8882986903190613, TPR = 0.7347054380664653, FPR = 0.04421983575489577\n",
      "Threshold 0.8851385116577148, TPR = 0.7375377643504532, FPR = 0.04485154769425142\n",
      "Threshold 0.8829795122146606, TPR = 0.7407477341389728, FPR = 0.04542583127548384\n",
      "Threshold 0.8794764280319214, TPR = 0.743202416918429, FPR = 0.04622982828920921\n",
      "Threshold 0.8750343918800354, TPR = 0.7462235649546828, FPR = 0.04714868201918107\n",
      "Threshold 0.8723628520965576, TPR = 0.7505664652567976, FPR = 0.047665537242290244\n",
      "Threshold 0.867402970790863, TPR = 0.7547205438066465, FPR = 0.04841210589789238\n",
      "Threshold 0.8637672066688538, TPR = 0.7577416918429003, FPR = 0.04921610291161776\n",
      "Threshold 0.8602908253669739, TPR = 0.759629909365559, FPR = 0.05030724171595934\n",
      "Threshold 0.8575259447097778, TPR = 0.7617069486404834, FPR = 0.05082409693906851\n",
      "Threshold 0.8546445369720459, TPR = 0.7645392749244713, FPR = 0.05203009245965658\n",
      "Threshold 0.8520938754081726, TPR = 0.7668051359516617, FPR = 0.05266180439901223\n",
      "Threshold 0.8481900691986084, TPR = 0.769070996978852, FPR = 0.05398265663584678\n",
      "Threshold 0.8431621193885803, TPR = 0.771714501510574, FPR = 0.054958938723941884\n",
      "Threshold 0.8406755924224854, TPR = 0.7736027190332326, FPR = 0.055705507379544016\n",
      "Threshold 0.8353553414344788, TPR = 0.7764350453172205, FPR = 0.05714121633262505\n",
      "Threshold 0.8314464688301086, TPR = 0.7792673716012085, FPR = 0.05806007006259691\n",
      "Threshold 0.8263269066810608, TPR = 0.7824773413897281, FPR = 0.05926606558318498\n",
      "Threshold 0.8219990730285645, TPR = 0.7851208459214502, FPR = 0.06001263423878711\n",
      "Threshold 0.817423939704895, TPR = 0.7888972809667674, FPR = 0.061103773043128695\n",
      "Threshold 0.8125392198562622, TPR = 0.7913519637462235, FPR = 0.06230976856371676\n",
      "Threshold 0.8082851767539978, TPR = 0.793429003021148, FPR = 0.06317119393556538\n",
      "Threshold 0.804338276386261, TPR = 0.7951283987915407, FPR = 0.06414747602366049\n",
      "Threshold 0.7987397909164429, TPR = 0.7983383685800605, FPR = 0.0650089013955091\n",
      "Threshold 0.7940217852592468, TPR = 0.801737160120846, FPR = 0.06575547005111124\n",
      "Threshold 0.7908648252487183, TPR = 0.8038141993957704, FPR = 0.06632975363234365\n",
      "Threshold 0.7853411436080933, TPR = 0.8066465256797583, FPR = 0.06724860736231551\n",
      "Threshold 0.781600832939148, TPR = 0.8092900302114804, FPR = 0.06782289094354792\n",
      "Threshold 0.7763055562973022, TPR = 0.8115558912386707, FPR = 0.06902888646413599\n",
      "Threshold 0.7710487842559814, TPR = 0.8138217522658611, FPR = 0.07012002526847758\n",
      "Threshold 0.7664132714271545, TPR = 0.8162764350453172, FPR = 0.07121116407281916\n",
      "Threshold 0.7609308362007141, TPR = 0.8183534743202417, FPR = 0.07247458795153047\n",
      "Threshold 0.7545777559280396, TPR = 0.8204305135951662, FPR = 0.07356572675587204\n",
      "Threshold 0.7478697896003723, TPR = 0.8230740181268882, FPR = 0.07477172227646012\n",
      "Threshold 0.740023672580719, TPR = 0.8276057401812689, FPR = 0.0758628610808017\n",
      "Threshold 0.7342728972434998, TPR = 0.8293051359516617, FPR = 0.07712628495951301\n",
      "Threshold 0.7283604145050049, TPR = 0.8313821752265861, FPR = 0.07793028197323838\n",
      "Threshold 0.7232892513275146, TPR = 0.8351586102719033, FPR = 0.07925113421007293\n",
      "Threshold 0.7155314087867737, TPR = 0.837046827794562, FPR = 0.08034227301441452\n",
      "Threshold 0.7090173959732056, TPR = 0.8389350453172205, FPR = 0.08166312525124907\n",
      "Threshold 0.6981486678123474, TPR = 0.8419561933534743, FPR = 0.08292654912996038\n",
      "Threshold 0.6934874057769775, TPR = 0.8442220543806647, FPR = 0.08390283121805547\n",
      "Threshold 0.6844200491905212, TPR = 0.8457326283987915, FPR = 0.08545339688738299\n",
      "Threshold 0.6789507865905762, TPR = 0.847809667673716, FPR = 0.08648710733360133\n",
      "Threshold 0.6730526685714722, TPR = 0.8496978851963746, FPR = 0.0876931028541894\n",
      "Threshold 0.6675706505775452, TPR = 0.851963746223565, FPR = 0.08849709986791478\n",
      "Threshold 0.65931236743927, TPR = 0.8542296072507553, FPR = 0.09010509389536553\n",
      "Threshold 0.6511565446853638, TPR = 0.8561178247734139, FPR = 0.09217251478780222\n",
      "Threshold 0.6422418355941772, TPR = 0.8585725075528701, FPR = 0.0939527938896227\n",
      "Threshold 0.6334540247917175, TPR = 0.861404833836858, FPR = 0.0949290759777178\n",
      "Threshold 0.6262532472610474, TPR = 0.8632930513595166, FPR = 0.09613507149830586\n",
      "Threshold 0.6175629496574402, TPR = 0.8655589123867069, FPR = 0.09803020731637282\n",
      "Threshold 0.6091979742050171, TPR = 0.868202416918429, FPR = 0.09940848791133061\n",
      "Threshold 0.6019757390022278, TPR = 0.8697129909365559, FPR = 0.10101648193878136\n",
      "Threshold 0.5959746241569519, TPR = 0.8717900302114804, FPR = 0.10182047895250675\n",
      "Threshold 0.5872184634208679, TPR = 0.8738670694864048, FPR = 0.10325618790558778\n",
      "Threshold 0.5804601907730103, TPR = 0.8765105740181269, FPR = 0.10434732670992937\n",
      "Threshold 0.570260226726532, TPR = 0.8780211480362538, FPR = 0.10629989088611956\n",
      "Threshold 0.5640681385993958, TPR = 0.8797205438066465, FPR = 0.10710388789984494\n",
      "Threshold 0.5555657744407654, TPR = 0.8814199395770392, FPR = 0.10859702521104922\n",
      "Threshold 0.5491243600845337, TPR = 0.8829305135951662, FPR = 0.11009016252225348\n",
      "Threshold 0.5381678342819214, TPR = 0.8855740181268882, FPR = 0.11198529834032045\n",
      "Threshold 0.5273016095161438, TPR = 0.8874622356495468, FPR = 0.11411014759088038\n",
      "Threshold 0.5191171169281006, TPR = 0.8893504531722054, FPR = 0.11520128639522197\n",
      "Threshold 0.5100296139717102, TPR = 0.8910498489425982, FPR = 0.11738356400390512\n",
      "Threshold 0.5010660886764526, TPR = 0.8929380664652568, FPR = 0.11876184459886292\n",
      "Threshold 0.49496445059776306, TPR = 0.8946374622356495, FPR = 0.12025498191006719\n",
      "Threshold 0.4918001592159271, TPR = 0.8969033232628398, FPR = 0.12065698041692988\n",
      "Threshold 0.48224934935569763, TPR = 0.8991691842900302, FPR = 0.12243725951875035\n",
      "Threshold 0.47500455379486084, TPR = 0.9004909365558912, FPR = 0.12473439384368001\n",
      "Threshold 0.46563172340393066, TPR = 0.9018126888217523, FPR = 0.1266869580198702\n",
      "Threshold 0.4572775363922119, TPR = 0.9037009063444109, FPR = 0.1287543789123069\n",
      "Threshold 0.44517797231674194, TPR = 0.9052114803625377, FPR = 0.13151094010222247\n",
      "Threshold 0.434801310300827, TPR = 0.9070996978851964, FPR = 0.1333486475621662\n",
      "Threshold 0.42021796107292175, TPR = 0.9086102719033232, FPR = 0.13656463561706772\n",
      "Threshold 0.4080018699169159, TPR = 0.9106873111782477, FPR = 0.13914891173261357\n",
      "Threshold 0.39835843443870544, TPR = 0.9120090634441088, FPR = 0.1419629012806524\n",
      "Threshold 0.39159101247787476, TPR = 0.9137084592145015, FPR = 0.1438006087405961\n",
      "Threshold 0.38055187463760376, TPR = 0.9154078549848943, FPR = 0.14621259978177223\n",
      "Threshold 0.3675457537174225, TPR = 0.9174848942598187, FPR = 0.14896916097168783\n",
      "Threshold 0.3598068952560425, TPR = 0.9191842900302115, FPR = 0.15086429678975477\n",
      "Threshold 0.3502250015735626, TPR = 0.9210725075528701, FPR = 0.152816860965945\n",
      "Threshold 0.33641690015792847, TPR = 0.922583081570997, FPR = 0.15580313558835354\n",
      "Threshold 0.3205707371234894, TPR = 0.9244712990936556, FPR = 0.16011026244759663\n",
      "Threshold 0.31204211711883545, TPR = 0.9259818731117825, FPR = 0.1620053982656636\n",
      "Threshold 0.3007275462150574, TPR = 0.9271148036253777, FPR = 0.1652213863205651\n",
      "Threshold 0.29575061798095703, TPR = 0.9286253776435045, FPR = 0.16705909378050882\n",
      "Threshold 0.28908592462539673, TPR = 0.9303247734138973, FPR = 0.16935622810543846\n",
      "Threshold 0.2760494351387024, TPR = 0.93202416918429, FPR = 0.1728593579509562\n",
      "Threshold 0.2685292661190033, TPR = 0.9335347432024169, FPR = 0.17544363406650204\n",
      "Threshold 0.258478045463562, TPR = 0.9354229607250756, FPR = 0.17894676391201975\n",
      "Threshold 0.25058987736701965, TPR = 0.9375, FPR = 0.18147361166944237\n",
      "Threshold 0.24265973269939423, TPR = 0.9393882175226587, FPR = 0.18411531614311147\n",
      "Threshold 0.23127634823322296, TPR = 0.9407099697885196, FPR = 0.18836501464423133\n",
      "Threshold 0.21790245175361633, TPR = 0.9420317220543807, FPR = 0.19387813702406248\n",
      "Threshold 0.21190245449543, TPR = 0.9433534743202417, FPR = 0.19686441164647103\n",
      "Threshold 0.2011713683605194, TPR = 0.9452416918429003, FPR = 0.200424969850112\n",
      "Threshold 0.19853395223617554, TPR = 0.9465634441087614, FPR = 0.20186067880319303\n",
      "Threshold 0.19250139594078064, TPR = 0.948262839879154, FPR = 0.2049043817837248\n",
      "Threshold 0.18722255527973175, TPR = 0.9499622356495468, FPR = 0.20714408775053123\n",
      "Threshold 0.17803001403808594, TPR = 0.951095166163142, FPR = 0.21127892953540459\n",
      "Threshold 0.16829626262187958, TPR = 0.952416918429003, FPR = 0.21650491012461953\n",
      "Threshold 0.15467248857021332, TPR = 0.9541163141993958, FPR = 0.22328145638316202\n",
      "Threshold 0.14824678003787994, TPR = 0.9554380664652568, FPR = 0.22712915637741918\n",
      "Threshold 0.14191001653671265, TPR = 0.9571374622356495, FPR = 0.2298282892092115\n",
      "Threshold 0.13397665321826935, TPR = 0.9588368580060423, FPR = 0.2348245563659335\n",
      "Threshold 0.12798912823200226, TPR = 0.9603474320241692, FPR = 0.23758111755584907\n",
      "Threshold 0.119682177901268, TPR = 0.9616691842900302, FPR = 0.24240509963820134\n",
      "Threshold 0.11311814188957214, TPR = 0.9633685800604229, FPR = 0.2472290817205536\n",
      "Threshold 0.10686933249235153, TPR = 0.9648791540785498, FPR = 0.25136392350542697\n",
      "Threshold 0.09931983053684235, TPR = 0.966012084592145, FPR = 0.25779589961523\n",
      "Threshold 0.09526451677083969, TPR = 0.9677114803625377, FPR = 0.2615287428932407\n",
      "Threshold 0.08584484457969666, TPR = 0.9690332326283988, FPR = 0.27008556825360364\n",
      "Threshold 0.07914981245994568, TPR = 0.9707326283987915, FPR = 0.2771492563027623\n",
      "Threshold 0.07175867259502411, TPR = 0.9718655589123867, FPR = 0.2853615115143858\n",
      "Threshold 0.06723198294639587, TPR = 0.9731873111782477, FPR = 0.29081720553609375\n",
      "Threshold 0.06355426460504532, TPR = 0.974320241691843, FPR = 0.29500947567909036\n",
      "Threshold 0.05923174321651459, TPR = 0.9758308157099698, FPR = 0.3009820249239074\n",
      "Threshold 0.05586310103535652, TPR = 0.9771525679758308, FPR = 0.305174295066904\n",
      "Threshold 0.046596184372901917, TPR = 0.9784743202416919, FPR = 0.32016309653707\n",
      "Threshold 0.043635159730911255, TPR = 0.9797960725075529, FPR = 0.3256187905587779\n",
      "Threshold 0.04116831347346306, TPR = 0.9813066465256798, FPR = 0.33124676965485556\n",
      "Threshold 0.038135774433612823, TPR = 0.9826283987915407, FPR = 0.3375638890484121\n",
      "Threshold 0.03542337939143181, TPR = 0.9841389728096677, FPR = 0.34238787113076435\n",
      "Threshold 0.03282034769654274, TPR = 0.9852719033232629, FPR = 0.3503704129098949\n",
      "Threshold 0.02822849527001381, TPR = 0.9867824773413897, FPR = 0.3644977890082123\n",
      "Threshold 0.0264644306153059, TPR = 0.9881042296072508, FPR = 0.3713891919830012\n",
      "Threshold 0.024368999525904655, TPR = 0.9894259818731118, FPR = 0.3802905874921036\n",
      "Threshold 0.021558813750743866, TPR = 0.9907477341389728, FPR = 0.39258025613047726\n",
      "Threshold 0.019087817519903183, TPR = 0.9920694864048338, FPR = 0.40486992476885086\n",
      "Threshold 0.01644599251449108, TPR = 0.9930135951661632, FPR = 0.4189973008671682\n",
      "Threshold 0.01328445877879858, TPR = 0.9943353474320241, FPR = 0.4404180784471372\n",
      "Threshold 0.011075214482843876, TPR = 0.9954682779456193, FPR = 0.46057543214839486\n",
      "Threshold 0.009442027658224106, TPR = 0.9966012084592145, FPR = 0.47596623212542355\n",
      "Threshold 0.007027779705822468, TPR = 0.9971676737160121, FPR = 0.5085281111813014\n",
      "Threshold 0.004856866784393787, TPR = 0.9979229607250756, FPR = 0.549646815597542\n",
      "Threshold 0.003827656852081418, TPR = 0.9984894259818731, FPR = 0.578188709584793\n",
      "Threshold 0.002889723749831319, TPR = 0.9988670694864048, FPR = 0.6126457244587378\n",
      "Threshold 0.0017024882836267352, TPR = 0.9992447129909365, FPR = 0.6749554930224545\n",
      "Threshold 0.001165201305411756, TPR = 1.0, FPR = 0.722678458622868\n",
      "Threshold 0.0005067755118943751, TPR = 1.0, FPR = 0.8212255211623499\n",
      "Threshold 0.0001825578074203804, TPR = 1.0, FPR = 0.927410555332223\n",
      "Threshold 0.00011196525883860886, TPR = 1.0, FPR = 0.9653132716935623\n"
     ]
    }
   ],
   "source": [
    "for i in range(0,len(tpr), 15):\n",
    "    print(\"Threshold {0}, TPR = {1}, FPR = {2}\".format(ROCthresholds[i], tpr[i], fpr[i]))"
   ]
  },
  {
   "cell_type": "code",
   "execution_count": 14,
   "metadata": {},
   "outputs": [
    {
     "data": {
      "image/png": "[encoded data removed]",
      "text/plain": [
       "<Figure size 864x576 with 1 Axes>"
      ]
     },
     "metadata": {
      "needs_background": "light"
     },
     "output_type": "display_data"
    }
   ],
   "source": [
    "# feature importances\n",
    "feat_imp = pd.Series(model.get_booster().get_fscore()).sort_values(ascending=False)\n",
    "ax = feat_imp.plot.barh(figsize=(12,8), fontsize=24)\n",
    "ax.set_xlabel('Feature Importance Score', fontsize=24)\n",
    "ax.invert_yaxis()\n",
    "plt.savefig('featureimportances.pdf', bbox_inches='tight')"
   ]
  },
  {
   "cell_type": "code",
   "execution_count": 15,
   "metadata": {},
   "outputs": [
    {
     "data": {
      "text/plain": [
       "(0, 2550.9)"
      ]
     },
     "execution_count": 15,
     "metadata": {},
     "output_type": "execute_result"
    },
    {
     "data": {
      "image/png": "[encoded data removed]",
      "text/plain": [
       "<Figure size 432x288 with 2 Axes>"
      ]
     },
     "metadata": {
      "needs_background": "light"
     },
     "output_type": "display_data"
    }
   ],
   "source": [
    "# Histogram:\n",
    "bins = 50\n",
    "Stable, Unstable = stable_unstable_hist(trainingdatafolder, model, features)\n",
    "\n",
    "fig, ax1 = plt.subplots()\n",
    "n, bins, pathces = ax1.hist(Unstable, bins, alpha=0.5, label='No', color='blue', edgecolor = \"black\")\n",
    "#print(n)\n",
    "ax1.set_xlabel('Predicted Probability', fontsize=14)\n",
    "ax1.set_ylabel('Unstable',  fontsize=14, color='blue')\n",
    "for tl in ax1.get_yticklabels():\n",
    "    tl.set_color('blue')\n",
    "    \n",
    "\n",
    "\n",
    "ax2 = ax1.twinx()\n",
    "n, bins , patches = ax2.hist(Stable, bins, alpha=0.5, label='Yes',color='green', edgecolor = \"black\")\n",
    "#print(n.astype(int))\n",
    "ax2.set_ylabel('Stable', fontsize=14, color='green')\n",
    "for tl in ax2.get_yticklabels():\n",
    "    tl.set_color('green')\n",
    "    \n",
    "    \n",
    "#ax1.set_ylim(ax2.get_ylim())\n",
    "ax1.set_ylim([0,20.1*n[-1]]) # goes up to ~4300\n",
    "ax2.set_ylim([0,1.1*n[-1]]) # goes up to ~2100"
   ]
  },
  {
   "cell_type": "code",
   "execution_count": 16,
   "metadata": {},
   "outputs": [
    {
     "data": {
      "text/plain": [
       "Text(0, 0.5, 'Fraction actually stable')"
      ]
     },
     "execution_count": 16,
     "metadata": {},
     "output_type": "execute_result"
    },
    {
     "data": {
      "image/png": "[encoded data removed]",
      "text/plain": [
       "<Figure size 576x432 with 1 Axes>"
      ]
     },
     "metadata": {
      "needs_background": "light"
     },
     "output_type": "display_data"
    }
   ],
   "source": [
    "bincenters, fracstable, errorbars = calibration_plot(trainingdatafolder, model, features, bins=8)\n",
    "fig, ax = plt.subplots(figsize=(8,6))\n",
    "ax.plot(np.linspace(0,1,100), np.linspace(0,1,100), '--')\n",
    "ax.errorbar(bincenters, fracstable, errorbars)\n",
    "ax.set_xlim([0,1])\n",
    "ax.set_ylim([0,1])\n",
    "ax.set_xlabel('Predicted Probability of Stability')\n",
    "ax.set_ylabel('Fraction actually stable')"
   ]
  },
  {
   "cell_type": "code",
   "execution_count": 17,
   "metadata": {},
   "outputs": [
    {
     "data": {
      "text/plain": [
       "Text(0.5, 1.0, 'Fraction of unstable systems mislabeled as stable')"
      ]
     },
     "execution_count": 17,
     "metadata": {},
     "output_type": "execute_result"
    },
    {
     "data": {
      "image/png": "[encoded data removed]",
      "text/plain": [
       "<Figure size 576x432 with 1 Axes>"
      ]
     },
     "metadata": {
      "needs_background": "light"
     },
     "output_type": "display_data"
    }
   ],
   "source": [
    "bincenters, errorfracs, errorbars = unstable_error_fraction(trainingdatafolder, model, features, bins=10)\n",
    "fig, ax = plt.subplots(figsize=(8,6))\n",
    "ax.errorbar(bincenters, errorfracs, errorbars)\n",
    "ax.set_ylim([0,1])\n",
    "ax.set_xlabel('Log Instability Time')\n",
    "ax.set_ylabel('Error Fraction')\n",
    "ax.set_title('Fraction of unstable systems mislabeled as stable')"
   ]
  },
  {
   "cell_type": "code",
   "execution_count": null,
   "metadata": {},
   "outputs": [],
   "source": []
  }
 ],
 "metadata": {
  "anaconda-cloud": {},
  "kernelspec": {
   "display_name": "Python 3",
   "language": "python",
   "name": "python3"
  },
  "language_info": {
   "codemirror_mode": {
    "name": "ipython",
    "version": 3
   },
   "file_extension": ".py",
   "mimetype": "text/x-python",
   "name": "python",
   "nbconvert_exporter": "python",
   "pygments_lexer": "ipython3",
   "version": "3.7.3"
  }
 },
 "nbformat": 4,
 "nbformat_minor": 2
}

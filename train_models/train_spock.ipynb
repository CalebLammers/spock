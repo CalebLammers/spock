{
 "cells": [
  {
   "cell_type": "code",
   "execution_count": 1,
   "metadata": {},
   "outputs": [
    {
     "name": "stderr",
     "output_type": "stream",
     "text": [
      "/mnt/ssd/miniconda3/envs/p3/lib/python3.10/site-packages/xgboost/compat.py:36: FutureWarning: pandas.Int64Index is deprecated and will be removed from pandas in a future version. Use pandas.Index with the appropriate dtype instead.\n",
      "  from pandas import MultiIndex, Int64Index\n"
     ]
    }
   ],
   "source": [
    "import numpy as np\n",
    "import matplotlib.pyplot as plt\n",
    "import pandas as pd\n",
    "from sklearn import metrics\n",
    "import xgboost as xgb\n",
    "from xgboost.sklearn import XGBClassifier\n",
    "from hyperopt import hp, fmin, tpe, STATUS_OK, Trials\n",
    "import hyperopt\n",
    "import sys\n",
    "sys.path.append('../spock/')\n",
    "from simsetup import get_sim\n",
    "from modelfitting import train_test_split, ROC_curve, stable_unstable_hist, calibration_plot, unstable_error_fraction\n",
    "try:\n",
    "    plt.style.use('paper')\n",
    "except:\n",
    "    pass\n",
    "%matplotlib inline"
   ]
  },
  {
   "cell_type": "code",
   "execution_count": 7,
   "metadata": {},
   "outputs": [
    {
     "name": "stdout",
     "output_type": "stream",
     "text": [
      "../training_data/resonant/featuresNorbits10000.0Nout80trio/\n",
      "../csvs/resonant/\n"
     ]
    }
   ],
   "source": [
    "datapath = '../training_data/'\n",
    "csvpath = '../csvs/'\n",
    "dset = 'resonant/'\n",
    "Norbits = 1e4\n",
    "Nout = 80\n",
    "featureargs = (Norbits, Nout) # params to pass feature function\n",
    "featurefolder = 'featuresNorbits{0:.1f}Nout{1}trio/'.format(Norbits, Nout)\n",
    "trainingdatafolder = datapath+dset+featurefolder\n",
    "csvfolder = csvpath+dset\n",
    "print(trainingdatafolder)\n",
    "print(csvfolder)"
   ]
  },
  {
   "cell_type": "code",
   "execution_count": 8,
   "metadata": {},
   "outputs": [],
   "source": [
    "dataset = pd.read_csv(trainingdatafolder+\"trainingdata.csv\", index_col = 0)\n",
    "labels = pd.read_csv(trainingdatafolder+\"labels.csv\", index_col=0)"
   ]
  },
  {
   "cell_type": "code",
   "execution_count": 9,
   "metadata": {},
   "outputs": [],
   "source": [
    "def hasnull(row):\n",
    "    numnulls = row.isnull().sum()\n",
    "    if numnulls == 0:\n",
    "        return 0\n",
    "    else:\n",
    "        return 1\n",
    "\n",
    "def tmax(row):\n",
    "    sim = get_sim(row, csvfolder)\n",
    "    tmax = 1e4 # replace with a calculation of tmax\n",
    "    return tmax"
   ]
  },
  {
   "cell_type": "code",
   "execution_count": 10,
   "metadata": {},
   "outputs": [],
   "source": [
    "near = ['EMcrossnear', 'EMfracstdnear', 'EPstdnear', 'MMRstrengthnear']\n",
    "far = ['EMcrossfar', 'EMfracstdfar', 'EPstdfar', 'MMRstrengthfar']\n",
    "megno = ['MEGNO', 'MEGNOstd']\n",
    "\n",
    "features = near + far + megno"
   ]
  },
  {
   "cell_type": "code",
   "execution_count": null,
   "metadata": {},
   "outputs": [],
   "source": [
    "%%time\n",
    "dataset['hasnull'] = dataset.apply(hasnull, axis=1)\n",
    "dataset['tmax'] = dataset.apply(tmax, axis=1)\n",
    "# dataset['tmax'] = dataset.apply(lambda x:1e4, axis=1) # this version would just set tmax=1e4 for all of them"
   ]
  },
  {
   "cell_type": "markdown",
   "metadata": {},
   "source": [
    "Now we do the filtering manually. This is taking only systems with instability times > 1e4 AND no NaNs. Would adjust this for each case. \n",
    "\n",
    "We were worried that we were using filter=..., which was filtering out any rows that had any NaNs in them. We wanted to compare results when we don't include that filter, and only filtered for instability_time."
   ]
  },
  {
   "cell_type": "code",
   "execution_count": 12,
   "metadata": {},
   "outputs": [
    {
     "data": {
      "text/html": [
       "<div>\n",
       "<style scoped>\n",
       "    .dataframe tbody tr th:only-of-type {\n",
       "        vertical-align: middle;\n",
       "    }\n",
       "\n",
       "    .dataframe tbody tr th {\n",
       "        vertical-align: top;\n",
       "    }\n",
       "\n",
       "    .dataframe thead th {\n",
       "        text-align: right;\n",
       "    }\n",
       "</style>\n",
       "<table border=\"1\" class=\"dataframe\">\n",
       "  <thead>\n",
       "    <tr style=\"text-align: right;\">\n",
       "      <th></th>\n",
       "      <th>EMcrossnear</th>\n",
       "      <th>EMfracstdnear</th>\n",
       "      <th>EPstdnear</th>\n",
       "      <th>MMRstrengthnear</th>\n",
       "      <th>EMcrossfar</th>\n",
       "      <th>EMfracstdfar</th>\n",
       "      <th>EPstdfar</th>\n",
       "      <th>MMRstrengthfar</th>\n",
       "      <th>MEGNO</th>\n",
       "      <th>MEGNOstd</th>\n",
       "      <th>hasnull</th>\n",
       "    </tr>\n",
       "  </thead>\n",
       "  <tbody>\n",
       "    <tr>\n",
       "      <th>113538</th>\n",
       "      <td>0.082222</td>\n",
       "      <td>0.049940</td>\n",
       "      <td>0.016289</td>\n",
       "      <td>0.614960</td>\n",
       "      <td>0.664222</td>\n",
       "      <td>0.031330</td>\n",
       "      <td>0.003745</td>\n",
       "      <td>NaN</td>\n",
       "      <td>76.212769</td>\n",
       "      <td>21.217672</td>\n",
       "      <td>1</td>\n",
       "    </tr>\n",
       "    <tr>\n",
       "      <th>113539</th>\n",
       "      <td>0.251338</td>\n",
       "      <td>0.016063</td>\n",
       "      <td>0.002925</td>\n",
       "      <td>0.250122</td>\n",
       "      <td>0.272822</td>\n",
       "      <td>0.002159</td>\n",
       "      <td>0.000486</td>\n",
       "      <td>0.016374</td>\n",
       "      <td>61.260204</td>\n",
       "      <td>9.154976</td>\n",
       "      <td>0</td>\n",
       "    </tr>\n",
       "    <tr>\n",
       "      <th>113540</th>\n",
       "      <td>0.131799</td>\n",
       "      <td>0.027693</td>\n",
       "      <td>0.001458</td>\n",
       "      <td>0.660450</td>\n",
       "      <td>0.366664</td>\n",
       "      <td>0.067472</td>\n",
       "      <td>0.020413</td>\n",
       "      <td>0.005440</td>\n",
       "      <td>62.894058</td>\n",
       "      <td>20.937465</td>\n",
       "      <td>0</td>\n",
       "    </tr>\n",
       "    <tr>\n",
       "      <th>113541</th>\n",
       "      <td>0.209454</td>\n",
       "      <td>0.090838</td>\n",
       "      <td>0.010214</td>\n",
       "      <td>1.438882</td>\n",
       "      <td>0.395073</td>\n",
       "      <td>0.102280</td>\n",
       "      <td>0.038515</td>\n",
       "      <td>0.041145</td>\n",
       "      <td>63.330790</td>\n",
       "      <td>17.316868</td>\n",
       "      <td>0</td>\n",
       "    </tr>\n",
       "    <tr>\n",
       "      <th>113542</th>\n",
       "      <td>0.182523</td>\n",
       "      <td>0.129844</td>\n",
       "      <td>0.040866</td>\n",
       "      <td>0.052307</td>\n",
       "      <td>0.430482</td>\n",
       "      <td>0.050120</td>\n",
       "      <td>0.010405</td>\n",
       "      <td>NaN</td>\n",
       "      <td>NaN</td>\n",
       "      <td>NaN</td>\n",
       "      <td>1</td>\n",
       "    </tr>\n",
       "  </tbody>\n",
       "</table>\n",
       "</div>"
      ],
      "text/plain": [
       "        EMcrossnear  EMfracstdnear  EPstdnear  MMRstrengthnear  EMcrossfar  \\\n",
       "113538     0.082222       0.049940   0.016289         0.614960    0.664222   \n",
       "113539     0.251338       0.016063   0.002925         0.250122    0.272822   \n",
       "113540     0.131799       0.027693   0.001458         0.660450    0.366664   \n",
       "113541     0.209454       0.090838   0.010214         1.438882    0.395073   \n",
       "113542     0.182523       0.129844   0.040866         0.052307    0.430482   \n",
       "\n",
       "        EMfracstdfar  EPstdfar  MMRstrengthfar      MEGNO   MEGNOstd  hasnull  \n",
       "113538      0.031330  0.003745             NaN  76.212769  21.217672        1  \n",
       "113539      0.002159  0.000486        0.016374  61.260204   9.154976        0  \n",
       "113540      0.067472  0.020413        0.005440  62.894058  20.937465        0  \n",
       "113541      0.102280  0.038515        0.041145  63.330790  17.316868        0  \n",
       "113542      0.050120  0.010405             NaN        NaN        NaN        1  "
      ]
     },
     "execution_count": 12,
     "metadata": {},
     "output_type": "execute_result"
    }
   ],
   "source": [
    "dataset.tail()"
   ]
  },
  {
   "cell_type": "code",
   "execution_count": null,
   "metadata": {},
   "outputs": [],
   "source": [
    "y = labels[(labels['instability_time'] > 1.e4) & (dataset['hasnull'] == 0)][labelname]\n",
    "X = dataset[(labels['instability_time'] > 1.e4) & (dataset['hasnull'] == 0)][features]"
   ]
  },
  {
   "cell_type": "markdown",
   "metadata": {},
   "source": [
    "Now we do the train test split manually. We take 80\\% of the rows for training, 20\\% for testing (this is what we were doing before too)"
   ]
  },
  {
   "cell_type": "code",
   "execution_count": null,
   "metadata": {},
   "outputs": [],
   "source": [
    "Nrows = int(0.8*X.shape[0])\n",
    "trainX = X.iloc[:Nrows, :]\n",
    "trainY = y.iloc[:Nrows]\n",
    "testX = X.iloc[Nrows:, :]\n",
    "testY = y.iloc[Nrows:]\n",
    "\n",
    "dtrain = xgb.DMatrix(trainX, trainY)\n",
    "dtest = xgb.DMatrix(testX, testY)"
   ]
  },
  {
   "cell_type": "markdown",
   "metadata": {},
   "source": [
    "Need to go into spock/modelfitting.py, remove train_test_split, and rewrite the other testing functions to only take the arrays they need"
   ]
  },
  {
   "cell_type": "code",
   "execution_count": 4,
   "metadata": {},
   "outputs": [],
   "source": [
    "space ={'max_depth': hp.qloguniform('x_max_depth', np.log(5), np.log(20), 1),\n",
    "        'min_child_weight': hp.loguniform('x_min_child', 0, np.log(20)),\n",
    "        'subsample': hp.uniform ('x_subsample', 0.8, 1),\n",
    "}\n",
    "\n",
    "def objective(params):\n",
    "    clf = XGBClassifier(n_jobs=16, n_estimators = 50,\n",
    "                            max_depth = int(params['max_depth']), \n",
    "                            min_child_weight = params['min_child_weight'],\n",
    "                            subsample = params['subsample'],\n",
    "                            learning_rate = 0.15, seed = 0)\n",
    "    \n",
    "    score = xgb.cv(clf.get_xgb_params(), dtrain, nfold = 5, metrics = \"auc\", early_stopping_rounds=10)\n",
    "    avg_score =  np.mean(score[\"test-auc-mean\"])\n",
    "    error = np.mean(score[\"test-auc-std\"])\n",
    "    \n",
    "    print(\"SCORE:\", avg_score, \"ERROR\", error)#, \"HOLDOUT SCORE\", test_score)\n",
    "    return{'loss':1-avg_score, 'status': STATUS_OK, \"cv_score\":avg_score , \"cv_error\":error}\n"
   ]
  },
  {
   "cell_type": "code",
   "execution_count": 6,
   "metadata": {},
   "outputs": [
    {
     "name": "stdout",
     "output_type": "stream",
     "text": [
      "SCORE:                                                                          \n",
      "0.90542088                                                                      \n",
      "ERROR                                                                           \n",
      "0.001481973009736162                                                            \n",
      "SCORE:                                                                          \n",
      "0.9059759399999999                                                              \n",
      "ERROR                                                                           \n",
      "0.0013567907806720256                                                           \n",
      "SCORE:                                                                          \n",
      "0.90302234                                                                      \n",
      "ERROR                                                                           \n",
      "0.001918144211492776                                                            \n",
      "SCORE:                                                                          \n",
      "0.89952754                                                                      \n",
      "ERROR                                                                           \n",
      "0.001446293197415849                                                            \n",
      "SCORE:                                                                          \n",
      "0.9028426399999999                                                              \n",
      "ERROR                                                                           \n",
      "0.001085862755721679                                                            \n",
      "SCORE:                                                                          \n",
      "0.90593404                                                                      \n",
      "ERROR                                                                           \n",
      "0.0028145130911312534                                                           \n",
      "SCORE:                                                                          \n",
      "0.9028149800000002                                                              \n",
      "ERROR                                                                           \n",
      "0.001550604316517885                                                            \n",
      "SCORE:                                                                          \n",
      "0.90205682                                                                      \n",
      "ERROR                                                                           \n",
      "0.0012496711575970744                                                           \n",
      "SCORE:                                                                          \n",
      "0.9055699                                                                       \n",
      "ERROR                                                                           \n",
      "0.001588936512724675                                                            \n",
      "SCORE:                                                                          \n",
      "0.9027179999999999                                                              \n",
      "ERROR                                                                           \n",
      "0.0015791685810075226                                                           \n",
      "SCORE:                                                                          \n",
      "0.8959832000000001                                                              \n",
      "ERROR                                                                           \n",
      "0.0018523314033103717                                                           \n",
      "SCORE:                                                                          \n",
      "0.8911303199999999                                                              \n",
      "ERROR                                                                           \n",
      "0.002000210409097318                                                            \n",
      "SCORE:                                                                          \n",
      "0.9056481599999999                                                              \n",
      "ERROR                                                                           \n",
      "0.0019341804779755916                                                           \n",
      "SCORE:                                                                          \n",
      "0.90541108                                                                      \n",
      "ERROR                                                                           \n",
      "0.002211853465314844                                                            \n",
      "SCORE:                                                                          \n",
      "0.90501796                                                                      \n",
      "ERROR                                                                           \n",
      "0.0019927254689658504                                                           \n",
      "SCORE:                                                                          \n",
      "0.9041211399999998                                                              \n",
      "ERROR                                                                           \n",
      "0.0020667271232771506                                                           \n",
      "SCORE:                                                                          \n",
      "0.8842241                                                                       \n",
      "ERROR                                                                           \n",
      "0.002019340181539689                                                            \n",
      "SCORE:                                                                          \n",
      "0.8847244400000001                                                              \n",
      "ERROR                                                                           \n",
      "0.0015330557146520586                                                           \n",
      "SCORE:                                                                          \n",
      "0.8903023999999998                                                              \n",
      "ERROR                                                                           \n",
      "0.0017389297330025482                                                           \n",
      "SCORE:                                                                          \n",
      "0.8960322                                                                       \n",
      "ERROR                                                                           \n",
      "0.0016680015866393527                                                           \n",
      "SCORE:                                                                          \n",
      "0.9057116000000001                                                              \n",
      "ERROR                                                                           \n",
      "0.001956593700414763                                                            \n",
      "SCORE:                                                                          \n",
      "0.9051348800000001                                                              \n",
      "ERROR                                                                           \n",
      "0.002318644542494139                                                            \n",
      "SCORE:                                                                          \n",
      "0.9051109400000001                                                              \n",
      "ERROR                                                                           \n",
      "0.0016409114886002762                                                           \n",
      "SCORE:                                                                          \n",
      "0.9058420999999999                                                              \n",
      "ERROR                                                                           \n",
      "0.002257152753981104                                                            \n",
      "SCORE:                                                                          \n",
      "0.90362936                                                                      \n",
      "ERROR                                                                           \n",
      "0.0019328812498776858                                                           \n",
      "SCORE:                                                                          \n",
      "0.9017628200000001                                                              \n",
      "ERROR                                                                           \n",
      "0.0014351576694344587                                                           \n",
      "SCORE:                                                                          \n",
      "0.9044197800000001                                                              \n",
      "ERROR                                                                           \n",
      "0.0013850494692394407                                                           \n",
      "SCORE:                                                                          \n",
      "0.90431004                                                                      \n",
      "ERROR                                                                           \n",
      "0.0023752649418970844                                                           \n",
      "SCORE:                                                                          \n",
      "0.90590174                                                                      \n",
      "ERROR                                                                           \n",
      "0.0010955729578135994                                                           \n",
      "SCORE:                                                                          \n",
      "0.9059503799999999                                                              \n",
      "ERROR                                                                           \n",
      "0.0019038473626149317                                                           \n",
      "SCORE:                                                                          \n",
      "0.906044                                                                        \n",
      "ERROR                                                                           \n",
      "0.0012560679468582429                                                           \n",
      "SCORE:                                                                          \n",
      "0.9041354399999999                                                              \n",
      "ERROR                                                                           \n",
      "0.0012178393277357234                                                           \n",
      "SCORE:                                                                          \n",
      "0.9023305799999999                                                              \n",
      "ERROR                                                                           \n",
      "0.001472608245470013                                                            \n",
      "SCORE:                                                                          \n",
      "0.9047285                                                                       \n",
      "ERROR                                                                           \n",
      "0.001772703223723139                                                            \n",
      "SCORE:                                                                          \n",
      "0.9033992999999999                                                              \n",
      "ERROR                                                                           \n",
      "0.0017298974730367                                                              \n",
      "SCORE:                                                                          \n",
      "0.8993977599999999                                                              \n",
      "ERROR                                                                           \n",
      "0.0011515335943647566                                                           \n",
      "SCORE:                                                                          \n",
      "0.9056978600000001                                                              \n",
      "ERROR                                                                           \n",
      "0.001254814692152825                                                            \n",
      "SCORE:                                                                          \n",
      "0.90342828                                                                      \n",
      "ERROR                                                                           \n",
      "0.001346845726632418                                                            \n",
      "SCORE:                                                                          \n",
      "0.9064808000000001                                                              \n",
      "ERROR                                                                           \n",
      "0.0017391531930526544                                                           \n",
      "SCORE:                                                                          \n",
      "0.9063219400000001                                                              \n",
      "ERROR                                                                           \n",
      "0.0022138464874516253                                                           \n",
      "SCORE:                                                                          \n",
      "0.90638626                                                                      \n",
      "ERROR                                                                           \n",
      "0.0021053328621942124                                                           \n",
      "SCORE:                                                                          \n",
      "0.9055837800000001                                                              \n",
      "ERROR                                                                           \n",
      "0.0016376120629687063                                                           \n",
      "SCORE:                                                                          \n",
      "0.9062222199999999                                                              \n",
      "ERROR                                                                           \n",
      "0.001546642082598211                                                            \n",
      "SCORE:                                                                          \n",
      "0.90591244                                                                      \n",
      "ERROR                                                                           \n",
      "0.0021063960673200844                                                           \n",
      "SCORE:                                                                          \n",
      "0.90597154                                                                      \n",
      "ERROR                                                                           \n",
      "0.0014180818447463385                                                           \n",
      "SCORE:                                                                          \n",
      "0.9055249599999999                                                              \n",
      "ERROR                                                                           \n",
      "0.001884669875357697                                                            \n",
      "SCORE:                                                                          \n",
      "0.9053727800000001                                                              \n",
      "ERROR                                                                           \n",
      "0.0015327565943745068                                                           \n",
      "SCORE:                                                                          \n",
      "0.9054988799999999                                                              \n",
      "ERROR                                                                           \n",
      "0.0015645001851482486                                                           \n",
      "SCORE:                                                                          \n",
      "0.89972458                                                                      \n",
      "ERROR                                                                           \n",
      "0.0017722886763946882                                                           \n",
      "SCORE:                                                                          \n",
      "0.8959608600000001                                                              \n",
      "ERROR                                                                           \n",
      "0.0011017180691052775                                                           \n",
      "SCORE:                                                                          \n",
      "0.9044076799999999                                                              \n"
     ]
    },
    {
     "name": "stdout",
     "output_type": "stream",
     "text": [
      "ERROR                                                                           \n",
      "0.001915222475052318                                                            \n",
      "SCORE:                                                                          \n",
      "0.89073832                                                                      \n",
      "ERROR                                                                           \n",
      "0.0019098584071966154                                                           \n",
      "SCORE:                                                                          \n",
      "0.9057089600000001                                                              \n",
      "ERROR                                                                           \n",
      "0.0018541559813218776                                                           \n",
      "SCORE:                                                                          \n",
      "0.9057634                                                                       \n",
      "ERROR                                                                           \n",
      "0.001913451021593376                                                            \n",
      "SCORE:                                                                          \n",
      "0.9059548799999998                                                              \n",
      "ERROR                                                                           \n",
      "0.0015478024420173726                                                           \n",
      "SCORE:                                                                          \n",
      "0.90521126                                                                      \n",
      "ERROR                                                                           \n",
      "0.001988980532392862                                                            \n",
      "SCORE:                                                                          \n",
      "0.90662822                                                                      \n",
      "ERROR                                                                           \n",
      "0.0017270057834717525                                                           \n",
      "SCORE:                                                                          \n",
      "0.9038381399999998                                                              \n",
      "ERROR                                                                           \n",
      "0.0015443162329192885                                                           \n",
      "SCORE:                                                                          \n",
      "0.9018442                                                                       \n",
      "ERROR                                                                           \n",
      "0.0015298366404419752                                                           \n",
      "SCORE:                                                                          \n",
      "0.90645872                                                                      \n",
      "ERROR                                                                           \n",
      "0.0019530706788209742                                                           \n",
      "SCORE:                                                                          \n",
      "0.9050949600000001                                                              \n",
      "ERROR                                                                           \n",
      "0.0014497309211530614                                                           \n",
      "SCORE:                                                                          \n",
      "0.9041583                                                                       \n",
      "ERROR                                                                           \n",
      "0.001514052237074241                                                            \n",
      "SCORE:                                                                          \n",
      "0.8995943400000002                                                              \n",
      "ERROR                                                                           \n",
      "0.0013735344775601614                                                           \n",
      "SCORE:                                                                          \n",
      "0.9049623200000001                                                              \n",
      "ERROR                                                                           \n",
      "0.0023069677702566614                                                           \n",
      "SCORE:                                                                          \n",
      "0.90351064                                                                      \n",
      "ERROR                                                                           \n",
      "0.0015142456643397995                                                           \n",
      "SCORE:                                                                          \n",
      "0.90642678                                                                      \n",
      "ERROR                                                                           \n",
      "0.001648431858884412                                                            \n",
      "SCORE:                                                                          \n",
      "0.9057948                                                                       \n",
      "ERROR                                                                           \n",
      "0.0017014308273688727                                                           \n",
      "SCORE:                                                                          \n",
      "0.9055585599999999                                                              \n",
      "ERROR                                                                           \n",
      "0.0014962884826540562                                                           \n",
      "SCORE:                                                                          \n",
      "0.90579384                                                                      \n",
      "ERROR                                                                           \n",
      "0.0012468445546153903                                                           \n",
      "SCORE:                                                                          \n",
      "0.9053878200000002                                                              \n",
      "ERROR                                                                           \n",
      "0.00170115168777207                                                             \n",
      "SCORE:                                                                          \n",
      "0.90515536                                                                      \n",
      "ERROR                                                                           \n",
      "0.001185422647697216                                                            \n",
      "SCORE:                                                                          \n",
      "0.90203238                                                                      \n",
      "ERROR                                                                           \n",
      "0.002544157227951627                                                            \n",
      "SCORE:                                                                          \n",
      "0.9063523200000001                                                              \n",
      "ERROR                                                                           \n",
      "0.0011968925058567646                                                           \n",
      "SCORE:                                                                          \n",
      "0.9042606799999999                                                              \n",
      "ERROR                                                                           \n",
      "0.0013813945358832794                                                           \n",
      "SCORE:                                                                          \n",
      "0.905852                                                                        \n",
      "ERROR                                                                           \n",
      "0.001387543825927455                                                            \n",
      "SCORE:                                                                          \n",
      "0.9054337200000001                                                              \n",
      "ERROR                                                                           \n",
      "0.0019898924182059144                                                           \n",
      "SCORE:                                                                          \n",
      "0.90526032                                                                      \n",
      "ERROR                                                                           \n",
      "0.0015447194156462502                                                           \n",
      "SCORE:                                                                          \n",
      "0.9052739600000003                                                              \n",
      "ERROR                                                                           \n",
      "0.0013103494223384883                                                           \n",
      "SCORE:                                                                          \n",
      "0.9047422999999999                                                              \n",
      "ERROR                                                                           \n",
      "0.001832262682125026                                                            \n",
      "SCORE:                                                                          \n",
      "0.9058444399999999                                                              \n",
      "ERROR                                                                           \n",
      "0.0018863728935621764                                                           \n",
      "SCORE:                                                                          \n",
      "0.88476006                                                                      \n",
      "ERROR                                                                           \n",
      "0.0015315777408520291                                                           \n",
      "SCORE:                                                                          \n",
      "0.90520678                                                                      \n",
      "ERROR                                                                           \n",
      "0.0013450980630060486                                                           \n",
      "SCORE:                                                                          \n",
      "0.9048131399999999                                                              \n",
      "ERROR                                                                           \n",
      "0.0016409491200790594                                                           \n",
      "SCORE:                                                                          \n",
      "0.90593408                                                                      \n",
      "ERROR                                                                           \n",
      "0.0018362639798542673                                                           \n",
      "SCORE:                                                                          \n",
      "0.9000867999999999                                                              \n",
      "ERROR                                                                           \n",
      "0.001461074971644025                                                            \n",
      "SCORE:                                                                          \n",
      "0.9054659599999999                                                              \n",
      "ERROR                                                                           \n",
      "0.002150351934027856                                                            \n",
      "SCORE:                                                                          \n",
      "0.9063128599999999                                                              \n",
      "ERROR                                                                           \n",
      "0.001175076957216166                                                            \n",
      "SCORE:                                                                          \n",
      "0.9013401200000001                                                              \n",
      "ERROR                                                                           \n",
      "0.0013412155072026093                                                           \n",
      "SCORE:                                                                          \n",
      "0.9029855400000001                                                              \n",
      "ERROR                                                                           \n",
      "0.0008909256511532713                                                           \n",
      "SCORE:                                                                          \n",
      "0.90546224                                                                      \n",
      "ERROR                                                                           \n",
      "0.0017768949114559782                                                           \n",
      "SCORE:                                                                          \n",
      "0.8962232799999998                                                              \n",
      "ERROR                                                                           \n",
      "0.0013780468640730045                                                           \n",
      "SCORE:                                                                          \n",
      "0.90459216                                                                      \n",
      "ERROR                                                                           \n",
      "0.001983688188835489                                                            \n",
      "SCORE:                                                                          \n",
      "0.90649952                                                                      \n",
      "ERROR                                                                           \n",
      "0.0018500380497203316                                                           \n",
      "SCORE:                                                                          \n",
      "0.9055980800000001                                                              \n",
      "ERROR                                                                           \n",
      "0.0017954009731996317                                                           \n",
      "SCORE:                                                                          \n",
      "0.9039070800000001                                                              \n",
      "ERROR                                                                           \n",
      "0.0014572569947019737                                                           \n",
      "SCORE:                                                                          \n",
      "0.90559276                                                                      \n",
      "ERROR                                                                           \n",
      "0.0016395724478203324                                                           \n",
      "SCORE:                                                                          \n",
      "0.9059659                                                                       \n",
      "ERROR                                                                           \n",
      "0.0014043258319901303                                                           \n",
      "SCORE:                                                                          \n",
      "0.9025984399999999                                                              \n",
      "ERROR                                                                           \n",
      "0.0013328446659270686                                                           \n",
      "SCORE:                                                                          \n",
      "0.90556974                                                                      \n",
      "ERROR                                                                           \n",
      "0.002375170311180794                                                            \n",
      "SCORE:                                                                          \n",
      "0.90606592                                                                      \n",
      "ERROR                                                                           \n",
      "0.0011931971824703173                                                           \n",
      "100%|██████| 100/100 [02:44<00:00,  1.65s/trial, best loss: 0.09337178000000002]\n",
      "Optimization Time: %f seconds 164.82414627075195\n",
      "CPU times: user 42min 44s, sys: 1.84 s, total: 42min 46s\n",
      "Wall time: 2min 44s\n"
     ]
    }
   ],
   "source": [
    "%%time\n",
    "trials = Trials()\n",
    "import time\n",
    "start = time.time()\n",
    "best = fmin(fn=objective, space = space, algo = tpe.suggest, max_evals = 100, trials = trials, rstate=np.random.RandomState(seed=0))\n",
    "end = time.time()\n",
    "print(\"Optimization Time: %f seconds\", (end  -start))"
   ]
  },
  {
   "cell_type": "markdown",
   "metadata": {},
   "source": [
    "# max_depth controls depth of trees\n",
    "\n",
    "12 lets the model use all the features and improvements seem minor beyond that"
   ]
  },
  {
   "cell_type": "code",
   "execution_count": 7,
   "metadata": {},
   "outputs": [
    {
     "data": {
      "text/plain": [
       "Text(0, 0.5, 'CV AUC')"
      ]
     },
     "execution_count": 7,
     "metadata": {},
     "output_type": "execute_result"
    },
    {
     "data": {
      "image/png": "[encoded data removed]",
      "text/plain": [
       "<Figure size 640x480 with 1 Axes>"
      ]
     },
     "metadata": {},
     "output_type": "display_data"
    }
   ],
   "source": [
    "depths = trials.vals['x_max_depth']\n",
    "min_childs = trials.vals['x_min_child']\n",
    "aucs = np.array([1-x['loss'] for x in trials.results])\n",
    "\n",
    "fig, ax = plt.subplots()\n",
    "ax.plot(depths, aucs, '.')\n",
    "ax.set_xlabel('max_depth')\n",
    "ax.set_ylabel('CV AUC')"
   ]
  },
  {
   "cell_type": "markdown",
   "metadata": {},
   "source": [
    "# min child weight acts as a regularizer, penalizing complex models. Larger min_child_weight = larger penalization"
   ]
  },
  {
   "cell_type": "code",
   "execution_count": 8,
   "metadata": {},
   "outputs": [
    {
     "data": {
      "text/plain": [
       "Text(0, 0.5, 'CV AUC')"
      ]
     },
     "execution_count": 8,
     "metadata": {},
     "output_type": "execute_result"
    },
    {
     "data": {
      "image/png": "[encoded data removed]",
      "text/plain": [
       "<Figure size 640x480 with 1 Axes>"
      ]
     },
     "metadata": {},
     "output_type": "display_data"
    }
   ],
   "source": [
    "fig, ax = plt.subplots()\n",
    "ax.plot(min_childs, aucs, '.')\n",
    "ax.set_xlabel('min_child_weight')\n",
    "ax.set_ylabel('CV AUC')"
   ]
  },
  {
   "cell_type": "code",
   "execution_count": 9,
   "metadata": {},
   "outputs": [
    {
     "data": {
      "text/plain": [
       "Text(0, 0.5, 'min_child_weight')"
      ]
     },
     "execution_count": 9,
     "metadata": {},
     "output_type": "execute_result"
    },
    {
     "data": {
      "image/png": "[encoded data removed]",
      "text/plain": [
       "<Figure size 640x480 with 2 Axes>"
      ]
     },
     "metadata": {},
     "output_type": "display_data"
    }
   ],
   "source": [
    "fig, ax = plt.subplots()\n",
    "cb = ax.scatter(depths, min_childs, c=aucs-0.93)\n",
    "plt.colorbar(cb, label='CV AUC - 0.93')\n",
    "ax.set_xlabel('max_depth')\n",
    "ax.set_ylabel('min_child_weight')"
   ]
  },
  {
   "cell_type": "markdown",
   "metadata": {},
   "source": [
    "# Marginal improvements beyond max_depth of 13, so choose the least complex model"
   ]
  },
  {
   "cell_type": "code",
   "execution_count": null,
   "metadata": {},
   "outputs": [
    {
     "name": "stdout",
     "output_type": "stream",
     "text": [
      "[0]\ttrain-auc:0.92870+0.00059\ttest-auc:0.88488+0.00278\n",
      "[1]\ttrain-auc:0.93896+0.00087\ttest-auc:0.89418+0.00231\n",
      "[2]\ttrain-auc:0.94342+0.00027\ttest-auc:0.89854+0.00281\n",
      "[3]\ttrain-auc:0.94616+0.00031\ttest-auc:0.90112+0.00194\n",
      "[4]\ttrain-auc:0.94785+0.00030\ttest-auc:0.90249+0.00251\n",
      "[5]\ttrain-auc:0.94941+0.00063\ttest-auc:0.90382+0.00232\n",
      "[6]\ttrain-auc:0.95066+0.00076\ttest-auc:0.90522+0.00265\n",
      "[7]\ttrain-auc:0.95183+0.00071\ttest-auc:0.90596+0.00223\n",
      "[8]\ttrain-auc:0.95304+0.00068\ttest-auc:0.90704+0.00224\n",
      "[9]\ttrain-auc:0.95397+0.00064\ttest-auc:0.90770+0.00218\n",
      "[10]\ttrain-auc:0.95470+0.00057\ttest-auc:0.90801+0.00210\n"
     ]
    }
   ],
   "source": [
    "model = XGBClassifier(learning_rate = 0.03, \n",
    "                         max_depth = 20, \n",
    "                         subsample = 0.95,\n",
    "                         min_child_weight = 5)\n",
    "\n",
    "score = xgb.cv(model.get_xgb_params(), dtrain, nfold = 5, metrics = \"auc\", verbose_eval=True, num_boost_round=400)"
   ]
  },
  {
   "cell_type": "markdown",
   "metadata": {},
   "source": [
    "# Going beyond ~100 trees does not improve CV, so cut off training there to avoid overfitting"
   ]
  },
  {
   "cell_type": "code",
   "execution_count": null,
   "metadata": {},
   "outputs": [],
   "source": [
    "n_estimators = 100\n",
    "fig, ax = plt.subplots()\n",
    "ax.plot(score.index, score['train-auc-mean'], label='Train')\n",
    "ax.plot(score.index, score['test-auc-mean'], label='Test')\n",
    "ax.axvline(n_estimators, linestyle='--')\n",
    "ax.legend()\n",
    "ax.set_xlabel('n_estimators (num trees)')\n",
    "ax.set_ylabel('CV AUC score')"
   ]
  },
  {
   "cell_type": "code",
   "execution_count": null,
   "metadata": {},
   "outputs": [],
   "source": [
    "model.set_params(n_estimators = n_estimators)\n",
    "model.fit(trainX, trainY)"
   ]
  },
  {
   "cell_type": "code",
   "execution_count": null,
   "metadata": {},
   "outputs": [],
   "source": [
    "model.save_model(datapath+'../spock/models/spock_fixtmax_filterTmax.json')"
   ]
  },
  {
   "cell_type": "code",
   "execution_count": null,
   "metadata": {},
   "outputs": [],
   "source": [
    "model = XGBClassifier()\n",
    "model.load_model(datapath+'../spock/models/spock_fixtmax_filterTmax.json')"
   ]
  },
  {
   "cell_type": "markdown",
   "metadata": {},
   "source": [
    "# SPOCK"
   ]
  },
  {
   "cell_type": "code",
   "execution_count": 15,
   "metadata": {},
   "outputs": [
    {
     "name": "stderr",
     "output_type": "stream",
     "text": [
      "/mnt/ssd/miniconda3/envs/yba/lib/python3.10/site-packages/xgboost/data.py:262: FutureWarning: pandas.Int64Index is deprecated and will be removed from pandas in a future version. Use pandas.Index with the appropriate dtype instead.\n",
      "  elif isinstance(data.columns, (pd.Int64Index, pd.RangeIndex)):\n"
     ]
    },
    {
     "data": {
      "text/plain": [
       "Text(0.5, 1.0, 'ROC curve (AUC = 0.928)')"
      ]
     },
     "execution_count": 15,
     "metadata": {},
     "output_type": "execute_result"
    },
    {
     "data": {
      "image/png": "[encoded data removed]",
      "text/plain": [
       "<Figure size 640x480 with 1 Axes>"
      ]
     },
     "metadata": {},
     "output_type": "display_data"
    }
   ],
   "source": [
    "roc_auc, fpr, tpr, ROCthresholds = ROC_curve(trainingdatafolder, model, features,filter = 'tmax')\n",
    "\n",
    "fig, ax = plt.subplots()\n",
    "ax.plot(fpr, tpr)\n",
    "ax.plot([0, 1], [0, 1], 'k--')\n",
    "ax.set_xlim([0.0, 1.0])\n",
    "ax.set_ylim([0.0, 1.0])\n",
    "ax.set_xlabel('False Positive Rate')\n",
    "ax.set_ylabel('True Positive Rate')\n",
    "ax.set_title('ROC curve (AUC = {0:.3f})'.format(roc_auc))"
   ]
  },
  {
   "cell_type": "code",
   "execution_count": null,
   "metadata": {},
   "outputs": [],
   "source": [
    "stride = 10\n",
    "np.savetxt('../spock/models/resROC.txt', (ROCthresholds[::stride], tpr[::stride], fpr[::stride]))"
   ]
  },
  {
   "cell_type": "code",
   "execution_count": null,
   "metadata": {},
   "outputs": [],
   "source": [
    "ROCthresholds, tpr, fpr = np.loadtxt('../spock/models/resROC.txt')\n",
    "for i in range(0,len(tpr), 15):\n",
    "    print(\"Threshold {0}, TPR = {1}, FPR = {2}\".format(ROCthresholds[i], tpr[i], fpr[i]))"
   ]
  },
  {
   "cell_type": "code",
   "execution_count": null,
   "metadata": {},
   "outputs": [],
   "source": [
    "# feature importances\n",
    "feat_imp = pd.Series(model.get_booster().get_fscore()).sort_values(ascending=False)\n",
    "ax = feat_imp.plot.barh(figsize=(12,8), fontsize=24)\n",
    "ax.set_xlabel('Feature Importance Score', fontsize=24)\n",
    "ax.invert_yaxis()\n",
    "plt.savefig('featureimportances.pdf', bbox_inches='tight')"
   ]
  },
  {
   "cell_type": "code",
   "execution_count": null,
   "metadata": {},
   "outputs": [],
   "source": [
    "feat_imp"
   ]
  },
  {
   "cell_type": "code",
   "execution_count": null,
   "metadata": {},
   "outputs": [],
   "source": [
    "from sklearn.metrics import precision_recall_curve\n",
    "from sklearn.metrics import roc_curve, confusion_matrix, auc\n",
    "from sklearn import metrics"
   ]
  },
  {
   "cell_type": "code",
   "execution_count": null,
   "metadata": {},
   "outputs": [],
   "source": [
    "def hasnull(row):\n",
    "    numnulls = row.isnull().sum()\n",
    "    if numnulls == 0:\n",
    "        return 0\n",
    "    else:\n",
    "        return 1"
   ]
  },
  {
   "cell_type": "code",
   "execution_count": null,
   "metadata": {},
   "outputs": [],
   "source": [
    "def test_split(trainingdatafolder, features=None, labelname='Stable', filter=False, filtertimes=False):\n",
    "    dataset = pd.read_csv(trainingdatafolder+\"trainingdata.csv\", index_col = 0)\n",
    "    if features is None:\n",
    "        features = dataset.columns.values\n",
    "    dataset['hasnull'] = dataset.apply(hasnull, axis=1)\n",
    "\n",
    "    labels = pd.read_csv(trainingdatafolder+\"labels.csv\", index_col=0)\n",
    "    if filter:\n",
    "        y = labels[(labels['instability_time'] > 1.e4) & (dataset['hasnull'] == 0)][labelname]\n",
    "        X = dataset[(labels['instability_time'] > 1.e4) & (dataset['hasnull'] == 0)][features]\n",
    "        tmax = labels['tmax']\n",
    "    elif filtertimes:\n",
    "        y = labels[labels['instability_time'] > 1.e4][labelname]\n",
    "        X = dataset[labels['instability_time'] > 1.e4][features]\n",
    "        tmax = labels['tmax']\n",
    "    else:\n",
    "        y = labels[labelname]\n",
    "        X = dataset[features]\n",
    "        tmax = labels['tmax']\n",
    "    return X,y,tmax"
   ]
  },
  {
   "cell_type": "code",
   "execution_count": null,
   "metadata": {},
   "outputs": [],
   "source": [
    "def train_test_split(trainingdatafolder, features=None, labelname='Stable', filter=False, filtertimes=False):\n",
    "    dataset = pd.read_csv(trainingdatafolder+\"trainingdata.csv\", index_col = 0)\n",
    "    if features is None:\n",
    "        features = dataset.columns.values\n",
    "    dataset['hasnull'] = dataset.apply(hasnull, axis=1)\n",
    "    labels = pd.read_csv(trainingdatafolder+\"labels.csv\", index_col=0)\n",
    "    if filter:\n",
    "        y = labels[(labels['instability_time'] > 1.e4) & (dataset['hasnull'] == 0)][labelname]\n",
    "        X = dataset[(labels['instability_time'] > 1.e4) & (dataset['hasnull'] == 0)][features]\n",
    "        tmax = labels[(labels['instability_time'] > 1.e4) & (dataset['hasnull'] == 0)]['tmax']\n",
    "    elif filtertimes:\n",
    "        y = labels[labels['instability_time'] > 1.e4][labelname]\n",
    "        X = dataset[labels['instability_time'] > 1.e4][features]\n",
    "        tmax = labels[labels['instability_time'] > 1.e4]['tmax']\n",
    "    else:\n",
    "        y = labels[labelname]\n",
    "        X = dataset[features]\n",
    "        tmax = labels['tmax']\n",
    "    Nrows = int(0.8*X.shape[0])\n",
    "    print(Nrows)\n",
    "    trainX = X.iloc[:Nrows, :]\n",
    "    trainy = y.iloc[:Nrows]\n",
    "    train_tmax = tmax.iloc[:Nrows]\n",
    "    testX = X.iloc[Nrows:, :]\n",
    "    testy = y.iloc[Nrows:]\n",
    "    test_tmax = tmax.iloc[Nrows:]\n",
    "    return trainX, trainy, testX, testy, train_tmax, test_tmax"
   ]
  },
  {
   "cell_type": "code",
   "execution_count": null,
   "metadata": {},
   "outputs": [],
   "source": [
    "#print everything (Don't change it)\n",
    "train_test_split(trainingdatafolder, features, filter=filter, filtertimes=False)"
   ]
  },
  {
   "cell_type": "code",
   "execution_count": null,
   "metadata": {},
   "outputs": [],
   "source": [
    "#print tmax\n",
    "trainX, trainy, testX, testy, train_tmax, test_tmax =train_test_split(trainingdatafolder, features, filter=True, filtertimes=False)"
   ]
  },
  {
   "cell_type": "code",
   "execution_count": null,
   "metadata": {},
   "outputs": [],
   "source": [
    "trainX"
   ]
  },
  {
   "cell_type": "code",
   "execution_count": null,
   "metadata": {},
   "outputs": [],
   "source": [
    "trainX.info()"
   ]
  },
  {
   "cell_type": "code",
   "execution_count": null,
   "metadata": {},
   "outputs": [],
   "source": [
    "trainY"
   ]
  },
  {
   "cell_type": "code",
   "execution_count": null,
   "metadata": {},
   "outputs": [],
   "source": [
    "train_tmax"
   ]
  },
  {
   "cell_type": "code",
   "execution_count": null,
   "metadata": {},
   "outputs": [],
   "source": [
    "testX"
   ]
  },
  {
   "cell_type": "code",
   "execution_count": null,
   "metadata": {},
   "outputs": [],
   "source": [
    "if 110000 in testX.index:\n",
    "    # Retrieve the row with index 11000\n",
    "    row_11000 = testX.loc[110000]\n",
    "    print(row_11000)\n"
   ]
  },
  {
   "cell_type": "code",
   "execution_count": null,
   "metadata": {},
   "outputs": [],
   "source": [
    "testX.iloc[11000][1]\n",
    "preds = model.predict_proba(testX)[:,1]\n",
    "print(preds)"
   ]
  },
  {
   "cell_type": "code",
   "execution_count": null,
   "metadata": {},
   "outputs": [],
   "source": [
    "testY"
   ]
  },
  {
   "cell_type": "code",
   "execution_count": null,
   "metadata": {},
   "outputs": [],
   "source": [
    "test_tmax"
   ]
  },
  {
   "cell_type": "code",
   "execution_count": null,
   "metadata": {},
   "outputs": [],
   "source": [
    "test_tmax[110000]"
   ]
  },
  {
   "cell_type": "code",
   "execution_count": null,
   "metadata": {},
   "outputs": [],
   "source": [
    "type(testX)"
   ]
  },
  {
   "cell_type": "code",
   "execution_count": null,
   "metadata": {},
   "outputs": [],
   "source": [
    "trainX, trainy, testX, testy, train_tmax, test_tmax = train_test_split(trainingdatafolder, features, filter=False, filtertimes=False)"
   ]
  },
  {
   "cell_type": "code",
   "execution_count": null,
   "metadata": {},
   "outputs": [],
   "source": [
    "preds = model.predict_proba(testX)[:,1]\n",
    "stablepreds = preds[np.where(testy==1)]\n",
    "tmax_stable = np.array(test_tmax)[np.where(testy==1)]\n",
    "unstablepreds = preds[np.where(testy==0)]\n",
    "tmax_unstable = np.array(test_tmax)[np.where(testy==0)]"
   ]
  },
  {
   "cell_type": "code",
   "execution_count": null,
   "metadata": {},
   "outputs": [],
   "source": [
    "preds[11000]"
   ]
  },
  {
   "cell_type": "code",
   "execution_count": null,
   "metadata": {},
   "outputs": [],
   "source": []
  },
  {
   "cell_type": "code",
   "execution_count": null,
   "metadata": {},
   "outputs": [],
   "source": [
    "type(tmax)"
   ]
  },
  {
   "cell_type": "code",
   "execution_count": null,
   "metadata": {},
   "outputs": [],
   "source": [
    "type(preds)"
   ]
  },
  {
   "cell_type": "code",
   "execution_count": null,
   "metadata": {},
   "outputs": [],
   "source": [
    "fig, ax = plt.subplots()\n",
    "ax.scatter(stablepreds,np.log10(tmax_stable),s=1)"
   ]
  },
  {
   "cell_type": "code",
   "execution_count": null,
   "metadata": {},
   "outputs": [],
   "source": [
    "!pip install seaborn"
   ]
  },
  {
   "cell_type": "code",
   "execution_count": null,
   "metadata": {},
   "outputs": [],
   "source": [
    "plt.scatter(stablepreds, np.log10(tmax_stable), alpha=0.1)  # Adjust alpha for transparency\n",
    "plt.xlabel('Probability (stable_preds)')\n",
    "plt.ylabel('log10(tmax)')\n",
    "plt.title('Scatter Plot of stable_preds vs log10(tmax) with Transparency')\n",
    "plt.show()"
   ]
  },
  {
   "cell_type": "code",
   "execution_count": null,
   "metadata": {},
   "outputs": [],
   "source": [
    "fig, ax = plt.subplots()\n",
    "ax.scatter(unstablepreds,np.log10(tmax_unstable),s=1)"
   ]
  },
  {
   "cell_type": "code",
   "execution_count": null,
   "metadata": {},
   "outputs": [],
   "source": [
    "preds = model.predict_proba(trainX)[:,1]\n",
    "stablepreds = preds[np.where(trainy==1)]\n",
    "tmax_stable = np.array(train_tmax)[np.where(trainy==1)]\n",
    "unstablepreds = preds[np.where(trainy==0)]\n",
    "tmax_unstable = np.array(train_tmax)[np.where(trainy==0)]"
   ]
  },
  {
   "cell_type": "code",
   "execution_count": null,
   "metadata": {},
   "outputs": [],
   "source": [
    "fig, ax = plt.subplots()\n",
    "ax.scatter(stablepreds,np.log10(tmax_stable),s=1)"
   ]
  },
  {
   "cell_type": "code",
   "execution_count": null,
   "metadata": {},
   "outputs": [],
   "source": [
    "preds.shape"
   ]
  },
  {
   "cell_type": "code",
   "execution_count": null,
   "metadata": {},
   "outputs": [],
   "source": [
    "# Histogram:\n",
    "bins = 50\n",
    "Stable, Unstable = stable_unstable_hist(trainingdatafolder, model, features)\n",
    "print(Unstable)\n",
    "\n",
    "fig, ax1 = plt.subplots()\n",
    "n, bins, patches = ax1.hist(Unstable, bins, alpha=0.5, label='No', color='blue', edgecolor = \"black\")\n",
    "ax1.set_xlabel('Predicted Probability', fontsize=14)\n",
    "ax1.set_ylabel('Unstable',  fontsize=14, color='blue')\n",
    "for tl in ax1.get_yticklabels():\n",
    "    tl.set_color('blue')\n",
    "    \n",
    "ax2 = ax1.twinx()\n",
    "n, bins , patches = ax2.hist(Stable, bins, alpha=0.5, label='Yes',color='green', edgecolor = \"black\")\n",
    "ax2.set_ylabel('Stable', fontsize=14, color='green')\n",
    "for tl in ax2.get_yticklabels():\n",
    "    tl.set_color('green')\n",
    "       \n",
    "ax1.set_ylim([0,35*n[-1]]) # goes up to ~4300\n",
    "ax2.set_ylim([0,1.1*n[-1]]) # goes up to ~2100\n",
    "fig.savefig('stable_unstable_comparison.png')"
   ]
  },
  {
   "cell_type": "code",
   "execution_count": null,
   "metadata": {},
   "outputs": [],
   "source": [
    "# Assuming stable_unstable_hist is modified to return test_tmax\n",
    "Stable, Unstable, test_tmax = stable_unstable_hist(trainingdatafolder, model, features)\n",
    "print(Unstable)\n",
    "\n",
    "fig, ax1 = plt.subplots()\n",
    "\n",
    "# Plotting the Unstable histogram\n",
    "n, bins, patches = ax1.hist(Unstable, bins, alpha=0.5, label='No', color='blue', edgecolor=\"black\")\n",
    "ax1.set_xlabel('Predicted Probability', fontsize=14)\n",
    "ax1.set_ylabel('Unstable', fontsize=14, color='blue')\n",
    "for tl in ax1.get_yticklabels():\n",
    "    tl.set_color('blue')\n",
    "\n",
    "# Plotting the Stable histogram\n",
    "ax2 = ax1.twinx()\n",
    "n, bins, patches = ax2.hist(Stable, bins, alpha=0.5, label='Yes', color='green', edgecolor=\"black\")\n",
    "ax2.set_ylabel('Stable', fontsize=14, color='green')\n",
    "for tl in ax2.get_yticklabels():\n",
    "    tl.set_color('green')\n",
    "\n",
    "# Adding the test_tmax vs stablepreds line plot\n",
    "sorted_indices = np.argsort(test_tmax)\n",
    "sorted_tmax = test_tmax[sorted_indices]\n",
    "sorted_stablepreds = Stable[sorted_indices]\n",
    "ax2.plot(sorted_tmax, sorted_stablepreds, label='Test Tmax vs Spock Prob', color='red', linewidth=2)\n",
    "\n",
    "# Setting the limits for the y-axis\n",
    "ax1.set_ylim([0, 35 * n[-1]])\n",
    "ax2.set_ylim([0, 1.1 * n[-1]])\n",
    "\n",
    "# Adding a legend\n",
    "ax1.legend(loc='upper left')\n",
    "ax2.legend(loc='upper right')\n",
    "\n",
    "fig.savefig('stable_unstable_comparison.png')\n"
   ]
  },
  {
   "cell_type": "code",
   "execution_count": null,
   "metadata": {},
   "outputs": [],
   "source": [
    "trainX, trainy, testX, testy, train_tmax, test_tmax = train_test_split(trainingdatafolder, features, filter=filter, filtertimes=False)"
   ]
  },
  {
   "cell_type": "code",
   "execution_count": null,
   "metadata": {},
   "outputs": [],
   "source": [
    "bincenters, fracstable, errorbars = calibration_plot(trainingdatafolder, model, features, bins=8)\n",
    "fig, ax = plt.subplots(figsize=(8,6))\n",
    "ax.plot(np.linspace(0,1,100), np.linspace(0,1,100), '--')\n",
    "ax.errorbar(bincenters, fracstable, errorbars)\n",
    "ax.set_xlim([0,1])\n",
    "ax.set_ylim([0,1])\n",
    "ax.set_xlabel('Predicted Probability of Stability')\n",
    "ax.set_ylabel('Fraction actually stable')"
   ]
  },
  {
   "cell_type": "code",
   "execution_count": null,
   "metadata": {},
   "outputs": [],
   "source": [
    "thresh = 0.34 # for 10% FPR\n",
    "bincenters, errorfracs, errorbars = unstable_error_fraction(trainingdatafolder, model, thresh, features, bins=10)\n",
    "fig, ax = plt.subplots(figsize=(8,6))\n",
    "ax.errorbar(bincenters, errorfracs, errorbars)\n",
    "ax.set_ylim([0,1])\n",
    "ax.set_xlabel('Log Instability Time')\n",
    "ax.set_ylabel('Error Fraction')\n",
    "ax.set_title('Fraction of unstable systems mislabeled as stable')"
   ]
  },
  {
   "cell_type": "code",
   "execution_count": null,
   "metadata": {},
   "outputs": [],
   "source": []
  }
 ],
 "metadata": {
  "anaconda-cloud": {},
  "kernelspec": {
   "display_name": "Python 3 (ipykernel)",
   "language": "python",
   "name": "python3"
  },
  "language_info": {
   "codemirror_mode": {
    "name": "ipython",
    "version": 3
   },
   "file_extension": ".py",
   "mimetype": "text/x-python",
   "name": "python",
   "nbconvert_exporter": "python",
   "pygments_lexer": "ipython3",
   "version": "3.10.6"
  }
 },
 "nbformat": 4,
 "nbformat_minor": 2
}

{
 "cells": [
  {
   "cell_type": "markdown",
   "metadata": {},
   "source": [
    "# Comparing to N-body integrations\n",
    "\n",
    "To facilitate comparison to N-body integrations, we have made a simple `NbodyRegressor` wrapper class, which simply initializes a `REBOUND` N-body integration. It uses the same parameters and interface as our `FeatureClassifier`.\n",
    "\n",
    "Let's set up the same Simulation as in the Quickstart example:"
   ]
  },
  {
   "cell_type": "code",
   "execution_count": 1,
   "metadata": {},
   "outputs": [
    {
     "name": "stderr",
     "output_type": "stream",
     "text": [
      "findfont: Font family ['serif'] not found. Falling back to DejaVu Sans.\n"
     ]
    },
    {
     "data": {
      "image/png": "[encoded data removed]",
      "text/plain": [
       "<Figure size 360x360 with 1 Axes>"
      ]
     },
     "metadata": {
      "needs_background": "light"
     },
     "output_type": "display_data"
    }
   ],
   "source": [
    "import rebound\n",
    "%matplotlib inline\n",
    "\n",
    "sim = rebound.Simulation()\n",
    "sim.add(m=1.)\n",
    "sim.add(m=1.e-4, P=3.14, e=0.03, l=0.3)\n",
    "sim.add(m=1.e-4, P=4.396, e=0.03, l=2.8)\n",
    "sim.add(m=1.e-4, P=6.28, e=0.03, l=4.2)\n",
    "sim.add(m=1.e-4, P=10.99, e=0.03, l=2.1)\n",
    "sim.move_to_com()\n",
    "fig = rebound.OrbitPlot(sim)"
   ]
  },
  {
   "cell_type": "markdown",
   "metadata": {},
   "source": [
    "The interface is the same:"
   ]
  },
  {
   "cell_type": "markdown",
   "metadata": {},
   "source": [
    "We begin by making instances of the models we want to compare:"
   ]
  },
  {
   "cell_type": "code",
   "execution_count": 2,
   "metadata": {},
   "outputs": [],
   "source": [
    "from spock import FeatureClassifier\n",
    "fmodel = FeatureClassifier()\n",
    "\n",
    "from spock import NbodyRegressor\n",
    "nbody = NbodyRegressor()\n",
    "\n",
    "from spock import DeepRegressor\n",
    "dmodel = DeepRegressor()"
   ]
  },
  {
   "cell_type": "markdown",
   "metadata": {},
   "source": [
    "# Binary Classification of Stability"
   ]
  },
  {
   "cell_type": "markdown",
   "metadata": {},
   "source": [
    "The interface is the same. By default, all our models evaluate stability over $10^9$ orbits of the innermost planet. We can use our feature-based model SPOCK"
   ]
  },
  {
   "cell_type": "code",
   "execution_count": 3,
   "metadata": {},
   "outputs": [
    {
     "name": "stdout",
     "output_type": "stream",
     "text": [
      "CPU times: user 537 ms, sys: 3.07 ms, total: 540 ms\n",
      "Wall time: 538 ms\n"
     ]
    },
    {
     "data": {
      "text/plain": [
       "0.0061098333"
      ]
     },
     "execution_count": 3,
     "metadata": {},
     "output_type": "execute_result"
    }
   ],
   "source": [
    "%%time\n",
    "fmodel.predict_stable(sim)"
   ]
  },
  {
   "cell_type": "markdown",
   "metadata": {},
   "source": [
    "Or our deep model (takes a bit longer to evaluate)"
   ]
  },
  {
   "cell_type": "code",
   "execution_count": 4,
   "metadata": {},
   "outputs": [
    {
     "name": "stdout",
     "output_type": "stream",
     "text": [
      "CPU times: user 25 s, sys: 45.4 s, total: 1min 10s\n",
      "Wall time: 17.7 s\n"
     ]
    },
    {
     "data": {
      "text/plain": [
       "0.002"
      ]
     },
     "execution_count": 4,
     "metadata": {},
     "output_type": "execute_result"
    }
   ],
   "source": [
    "%%time\n",
    "dmodel.predict_stable(sim)"
   ]
  },
  {
   "cell_type": "markdown",
   "metadata": {},
   "source": [
    "Or direct Nbody:"
   ]
  },
  {
   "cell_type": "code",
   "execution_count": 5,
   "metadata": {},
   "outputs": [
    {
     "name": "stdout",
     "output_type": "stream",
     "text": [
      "CPU times: user 1.25 s, sys: 1.64 ms, total: 1.26 s\n",
      "Wall time: 1.26 s\n"
     ]
    },
    {
     "data": {
      "text/plain": [
       "0"
      ]
     },
     "execution_count": 5,
     "metadata": {},
     "output_type": "execute_result"
    }
   ],
   "source": [
    "%%time\n",
    "nbody.predict_stable(sim)"
   ]
  },
  {
   "cell_type": "markdown",
   "metadata": {},
   "source": [
    "nbody returns a simple stable (1) or unstable (0), while our other models return an estimated probability of stability (unless it goes unstable within the first $10^4$ orbits used for the short N-body integration to generate features, in which case it returns exactly zero). We see both the FeatureClassifier and DeepClassifier return sensible estimates.\n",
    "\n",
    "Note that the nbody cell above does not take long because the system only took about 60,000 orbits of the innermost planet to go unstable (see below how to get actual instability times).\n",
    "\n",
    "By default, these functions will integrate for a billion orbits of the planet with the shortest orbital period (the same threshold used by the FeatureClassifier). So if you set up a stable system, these will take several hours to evaluate with Nbody! The other model evaluations will remain just as fast.\n",
    "\n",
    "You can also set a different maximum integration time (in simulation time units). Let's ask whether the system is stable over the first 10,000 orbits of the innermost planet:"
   ]
  },
  {
   "cell_type": "code",
   "execution_count": 6,
   "metadata": {},
   "outputs": [
    {
     "data": {
      "text/plain": [
       "1"
      ]
     },
     "execution_count": 6,
     "metadata": {},
     "output_type": "execute_result"
    }
   ],
   "source": [
    "nbody.predict_stable(sim, tmax=1e4*sim.particles[1].P)"
   ]
  },
  {
   "cell_type": "markdown",
   "metadata": {},
   "source": [
    "Note that the above prediction is no longer a one-to-one comparison with our `FeatureClassifier`, which has been trained on a dataset integrated for a billion orbits of the innermost planet. \n",
    "\n",
    "Because our `DeepRegressor` goes beyond simply classifying stability over $10^9$ orbits to predicting instability times, it can evaluate stability over other timescales like Nbody:"
   ]
  },
  {
   "cell_type": "code",
   "execution_count": 7,
   "metadata": {},
   "outputs": [
    {
     "data": {
      "text/plain": [
       "0.603"
      ]
     },
     "execution_count": 7,
     "metadata": {},
     "output_type": "execute_result"
    }
   ],
   "source": [
    "dmodel.predict_stable(sim, tmax=1e4*sim.particles[1].P)"
   ]
  },
  {
   "cell_type": "markdown",
   "metadata": {},
   "source": [
    "# Predicting Instability Times\n",
    "\n",
    "It looks like the DeepRegressor might have been a bit off on the case above, but this is likely a reasonable estimate. Because these compact systems are chaotic, there isn't a single instability time for a given configuration. Instead, different equally valid chaotic realizations of that initial configuration's trajectory will yield a distribution of instability times. Since Nbody integrations are typically too expensive to run several realizations, we provide approximate error bars on Nbody instability times as estimated in [Hussain & Tamayo 2020](https://arxiv.org/abs/2001.04606) "
   ]
  },
  {
   "cell_type": "code",
   "execution_count": 8,
   "metadata": {},
   "outputs": [
    {
     "name": "stdout",
     "output_type": "stream",
     "text": [
      "Went unstable after 60661.3 orbits of the inner planet. 68% confidence interval = [14955, 246050] orbits.\n"
     ]
    }
   ],
   "source": [
    "t_inst, lower, upper = nbody.predict_instability_time(sim) # instability time in time units used when setting up the Simulation\n",
    "print('Went unstable after {0:.1f} orbits of the inner planet. 68% confidence interval = [{1:.0f}, {2:.0f}] orbits.'.format(t_inst/sim.particles[1].P, lower/sim.particles[1].P, upper/sim.particles[1].P))"
   ]
  },
  {
   "cell_type": "markdown",
   "metadata": {},
   "source": [
    "The `DeepRegressor` has the same interface. In this case the error bars correspond to the model's uncertainty including both the above unceratinty due to the chaos, and the uncertainties on the models' internal parameters (see paper)."
   ]
  },
  {
   "cell_type": "code",
   "execution_count": 9,
   "metadata": {},
   "outputs": [
    {
     "name": "stdout",
     "output_type": "stream",
     "text": [
      "Estimated instability time: 17325.8 orbits of the inner planet. 68% confidence interval = [5095, 132323] orbits.\n"
     ]
    }
   ],
   "source": [
    "t_inst, lower, upper = dmodel.predict_instability_time(sim) # instability time in time units used when setting up the Simulation\n",
    "print('Estimated instability time: {0:.1f} orbits of the inner planet. 68% confidence interval = [{1:.0f}, {2:.0f}] orbits.'.format(t_inst/sim.particles[1].P, lower/sim.particles[1].P, upper/sim.particles[1].P))"
   ]
  },
  {
   "cell_type": "markdown",
   "metadata": {},
   "source": [
    "Note that even a perfect model would only be able to provide estimates approximately within the uncertainties returned by `NbodyRegressor`.\n",
    "\n",
    "If `predict_instability_time` reaches tmax, it will just return tmax as the \"instability time\":"
   ]
  },
  {
   "cell_type": "code",
   "execution_count": 10,
   "metadata": {},
   "outputs": [
    {
     "name": "stdout",
     "output_type": "stream",
     "text": [
      "31400.00000000001\n"
     ]
    }
   ],
   "source": [
    "t_inst, lower, upper = nbody.predict_instability_time(sim, tmax=1e4*sim.particles[1].P)\n",
    "print(t_inst)"
   ]
  },
  {
   "cell_type": "markdown",
   "metadata": {},
   "source": [
    "Note that this can look like an arbitrary number! It's a good idea to check whether it's a real instability time, or whether you've just hit tmax. If you've hit tmax, the lower and upper confidence intervals will both be set to zero"
   ]
  },
  {
   "cell_type": "code",
   "execution_count": 11,
   "metadata": {},
   "outputs": [
    {
     "name": "stdout",
     "output_type": "stream",
     "text": [
      "10000.0\n"
     ]
    }
   ],
   "source": [
    "print(t_inst/sim.particles[1].P)"
   ]
  },
  {
   "cell_type": "code",
   "execution_count": 12,
   "metadata": {},
   "outputs": [
    {
     "name": "stdout",
     "output_type": "stream",
     "text": [
      "0 0\n"
     ]
    }
   ],
   "source": [
    "print(lower, upper)"
   ]
  },
  {
   "cell_type": "markdown",
   "metadata": {},
   "source": [
    "# Parallelization\n",
    "\n",
    "All models can also take a list of Simulations, in which case you get back a list of results. By default, the model will use all available cores. You can set a smaller number of cores with `n_jobs`"
   ]
  },
  {
   "cell_type": "code",
   "execution_count": 18,
   "metadata": {},
   "outputs": [],
   "source": [
    "def sim(mass):\n",
    "    sim = rebound.Simulation()\n",
    "    sim.add(m=1)\n",
    "    sim.add(m=mass, P=1.)\n",
    "    sim.add(m=mass, P=1.3)\n",
    "    sim.add(m=mass, P=1.6)\n",
    "    return sim\n",
    "\n",
    "sims = [sim(mass) for mass in [1e-4, 3e-4, 1e-3]]"
   ]
  },
  {
   "cell_type": "code",
   "execution_count": 19,
   "metadata": {},
   "outputs": [
    {
     "ename": "AttributeError",
     "evalue": "'list' object has no attribute 'particles'",
     "output_type": "error",
     "traceback": [
      "\u001b[0;31m---------------------------------------------------------------------------\u001b[0m",
      "\u001b[0;31mAttributeError\u001b[0m                            Traceback (most recent call last)",
      "\u001b[0;32m<ipython-input-19-6197065d8b7d>\u001b[0m in \u001b[0;36m<module>\u001b[0;34m\u001b[0m\n\u001b[0;32m----> 1\u001b[0;31m \u001b[0mnbody\u001b[0m\u001b[0;34m.\u001b[0m\u001b[0mpredict_stable\u001b[0m\u001b[0;34m(\u001b[0m\u001b[0msims\u001b[0m\u001b[0;34m)\u001b[0m\u001b[0;34m\u001b[0m\u001b[0;34m\u001b[0m\u001b[0m\n\u001b[0m",
      "\u001b[0;32m~/Documents/workspace/spock/spock/nbodyregressor.py\u001b[0m in \u001b[0;36mpredict_stable\u001b[0;34m(self, sim, tmax, archive_filename, archive_interval, n_jobs, match_training)\u001b[0m\n\u001b[1;32m    100\u001b[0m         \"\"\"\n\u001b[1;32m    101\u001b[0m \u001b[0;34m\u001b[0m\u001b[0m\n\u001b[0;32m--> 102\u001b[0;31m         \u001b[0mminP\u001b[0m \u001b[0;34m=\u001b[0m \u001b[0mnp\u001b[0m\u001b[0;34m.\u001b[0m\u001b[0mmin\u001b[0m\u001b[0;34m(\u001b[0m\u001b[0;34m[\u001b[0m\u001b[0mp\u001b[0m\u001b[0;34m.\u001b[0m\u001b[0mP\u001b[0m \u001b[0;32mfor\u001b[0m \u001b[0mp\u001b[0m \u001b[0;32min\u001b[0m \u001b[0msim\u001b[0m\u001b[0;34m.\u001b[0m\u001b[0mparticles\u001b[0m\u001b[0;34m[\u001b[0m\u001b[0;36m1\u001b[0m\u001b[0;34m:\u001b[0m\u001b[0msim\u001b[0m\u001b[0;34m.\u001b[0m\u001b[0mN_real\u001b[0m\u001b[0;34m]\u001b[0m\u001b[0;34m]\u001b[0m\u001b[0;34m)\u001b[0m\u001b[0;34m\u001b[0m\u001b[0;34m\u001b[0m\u001b[0m\n\u001b[0m\u001b[1;32m    103\u001b[0m         \u001b[0;32mif\u001b[0m \u001b[0mtmax\u001b[0m \u001b[0;32mis\u001b[0m \u001b[0;32mNone\u001b[0m\u001b[0;34m:\u001b[0m\u001b[0;34m\u001b[0m\u001b[0;34m\u001b[0m\u001b[0m\n\u001b[1;32m    104\u001b[0m             \u001b[0mtmax\u001b[0m \u001b[0;34m=\u001b[0m \u001b[0;36m1e9\u001b[0m\u001b[0;34m*\u001b[0m\u001b[0mminP\u001b[0m\u001b[0;34m\u001b[0m\u001b[0;34m\u001b[0m\u001b[0m\n",
      "\u001b[0;31mAttributeError\u001b[0m: 'list' object has no attribute 'particles'"
     ]
    }
   ],
   "source": [
    "nbody.predict_stable(sims)"
   ]
  },
  {
   "cell_type": "markdown",
   "metadata": {},
   "source": [
    "# Simulation Archives\n",
    "\n",
    "Because the N-body integrations can take several hours of computation time, we provide an option to save `SimulationArchives`, binary snapshots which you can later examine or reload to run further. These make it easy to reproducibly share N-body integrations (see Rein & Tamayo 2017).\n",
    "\n",
    "You specify the filename (and path), and the time between snapshots (in Simulation time units). The latter defaults to a value that will give you 1000 snapshots if the integration remains stable the entire time. This way archives don't take up too much space, but here we hardcode a short interval since the system has a short survival time. 1000 snapshots corresponds to a few MB.\n",
    "\n",
    "__Note that this function will overwrite if the same filename already exists.__"
   ]
  },
  {
   "cell_type": "code",
   "execution_count": 9,
   "metadata": {},
   "outputs": [
    {
     "data": {
      "text/plain": [
       "90806.15665630097"
      ]
     },
     "execution_count": 9,
     "metadata": {},
     "output_type": "execute_result"
    }
   ],
   "source": [
    "nbody.predict_instability_time(sim, archive_filename='test.bin', archive_interval=1e2)"
   ]
  },
  {
   "cell_type": "markdown",
   "metadata": {},
   "source": [
    "We can now reopen and inspect for example the eccentricities of the second planet at each snapshot. "
   ]
  },
  {
   "cell_type": "code",
   "execution_count": 10,
   "metadata": {},
   "outputs": [
    {
     "data": {
      "text/plain": [
       "Text(0, 0.5, 'Planet 2 Eccentricity')"
      ]
     },
     "execution_count": 10,
     "metadata": {},
     "output_type": "execute_result"
    },
    {
     "data": {
      "image/png": "[encoded data removed]",
      "text/plain": [
       "<Figure size 432x288 with 1 Axes>"
      ]
     },
     "metadata": {
      "needs_background": "light"
     },
     "output_type": "display_data"
    }
   ],
   "source": [
    "import rebound\n",
    "import matplotlib.pyplot as plt\n",
    "%matplotlib inline\n",
    "\n",
    "sa = rebound.SimulationArchive('test.bin')\n",
    "times, e = [], []\n",
    "for sim in sa:\n",
    "    times.append(sim.t)\n",
    "    e.append(sim.particles[2].e)\n",
    "    \n",
    "fig, ax =plt.subplots()\n",
    "ax.plot(times, e, '.')\n",
    "ax.set_xlabel('Time (Orbits)')\n",
    "ax.set_ylabel('Planet 2 Eccentricity')"
   ]
  },
  {
   "cell_type": "markdown",
   "metadata": {},
   "source": [
    "In the case of a collision, the archive also contains a final snapshot of the state at the time the collision was detected:"
   ]
  },
  {
   "cell_type": "code",
   "execution_count": 11,
   "metadata": {},
   "outputs": [
    {
     "data": {
      "text/plain": [
       "(<Figure size 360x360 with 1 Axes>,\n",
       " <matplotlib.axes._subplots.AxesSubplot at 0x7fcbf0c4c7d0>)"
      ]
     },
     "execution_count": 11,
     "metadata": {},
     "output_type": "execute_result"
    },
    {
     "data": {
      "image/png": "[encoded data removed]",
      "text/plain": [
       "<Figure size 360x360 with 1 Axes>"
      ]
     },
     "metadata": {
      "needs_background": "light"
     },
     "output_type": "display_data"
    }
   ],
   "source": [
    "rebound.OrbitPlot(sa[-1])"
   ]
  },
  {
   "cell_type": "markdown",
   "metadata": {},
   "source": [
    "For more information on the SimulationArchive, see https://github.com/hannorein/rebound/blob/master/ipython_examples/SimulationArchive.ipynb and https://github.com/hannorein/rebound/blob/master/ipython_examples/SimulationArchiveRestart.ipynb for more details."
   ]
  },
  {
   "cell_type": "markdown",
   "metadata": {},
   "source": [
    "# Going Further\n",
    "\n",
    "The `NbodyRegressor` wrapper provides minimal functionality for easy comparisons to N-body integrations. If you want to go further you can always set integration parameters and run it yourself. \n",
    "\n",
    "For reference, all classes in SPOCK initialize simulation parameters with the `init_sim_parameters` function in spock/spock/simsetup.py. It:\n",
    "\n",
    "* sets the timestep to 5% of the shortest pericenter passage time among all planets (Wisdom 2015)\n",
    "* sets the integrator to WHFast (switches to IAS15 if e > 0.99, avoiding prohibitively short WHFast timestep)\n",
    "* initializes MEGNO and sets collision detection\n",
    "* overwrites any existing particle radii with their individual Hill radii for collision detection\n",
    "* moves to the center-of-mass frame\n",
    "* sets ri_whfast.safe_mode to 1\n",
    "\n",
    "In particular, if you don't want to calculate the MEGNO and understand the consequences (https://github.com/hannorein/rebound/blob/master/ipython_examples/AdvWHFast.ipynb), you can skip `sim.init_megno()` and set `ri_whfast.safe_mode` to 0 to gain > a factor of two in computation time.\n",
    "\n",
    "However, planetary systems are generally chaotic. If you do this (or change other parameters), you will not get the same chaotic realization of the trajectory as `FeatureClassifier` and `NbodyRegressor`. In principle this is not a problem, since each chaotic realization is equally valid, but it is something to keep in mind when wondering why one Nbody integration collides at 1e4 orbits and another at 5e4 (see Hussain & Tamayo 2019 for how instability times are typically distributed). \n",
    "\n",
    "We have tested in particular that the `FeatureClassifier` trained with a slightly different timestep than our N-body integrations (thus sampling different chaotic realizations) has the same performance as one trained using the exact same timestep and trajectories."
   ]
  },
  {
   "cell_type": "code",
   "execution_count": null,
   "metadata": {},
   "outputs": [],
   "source": []
  }
 ],
 "metadata": {
  "kernelspec": {
   "display_name": "Python 3",
   "language": "python",
   "name": "python3"
  },
  "language_info": {
   "codemirror_mode": {
    "name": "ipython",
    "version": 3
   },
   "file_extension": ".py",
   "mimetype": "text/x-python",
   "name": "python",
   "nbconvert_exporter": "python",
   "pygments_lexer": "ipython3",
   "version": "3.7.9"
  }
 },
 "nbformat": 4,
 "nbformat_minor": 4
}

{
 "cells": [
  {
   "cell_type": "markdown",
   "id": "c9a1a462",
   "metadata": {},
   "source": [
    "# Classification and regression models"
   ]
  },
  {
   "cell_type": "code",
   "execution_count": 1,
   "id": "462ae48d",
   "metadata": {},
   "outputs": [
    {
     "name": "stdout",
     "output_type": "stream",
     "text": [
      "0.06591137\n"
     ]
    }
   ],
   "source": [
    "import rebound\n",
    "from spock import FeatureClassifier\n",
    "feature_model = FeatureClassifier()\n",
    "\n",
    "sim = rebound.Simulation()\n",
    "sim.add(m=1.)\n",
    "sim.add(m=1.e-5, P=1., e=0.03, pomega=2., l=0.5)\n",
    "sim.add(m=1.e-5, P=1.2, e=0.03, pomega=3., l=3.)\n",
    "sim.add(m=1.e-5, P=1.5, e=0.03, pomega=1.5, l=2.)\n",
    "sim.move_to_com()\n",
    "\n",
    "print(feature_model.predict_stable(sim))"
   ]
  },
  {
   "cell_type": "code",
   "execution_count": 2,
   "id": "18b0b455",
   "metadata": {},
   "outputs": [
    {
     "name": "stdout",
     "output_type": "stream",
     "text": [
      "231647\n"
     ]
    }
   ],
   "source": [
    "from spock import DeepRegressor\n",
    "deep_model = DeepRegressor()\n",
    "\n",
    "median, lower, upper = deep_model.predict_instability_time(sim, samples=10000)\n",
    "print(int(median))"
   ]
  },
  {
   "cell_type": "code",
   "execution_count": 3,
   "id": "69afe34b",
   "metadata": {},
   "outputs": [
    {
     "name": "stdout",
     "output_type": "stream",
     "text": [
      "Probability planet 1 collides with 2: 0.2738345\n",
      "Probability planet 2 collides with 3: 0.49277353\n",
      "Probability planet 1 collides with 3: 0.23339202\n"
     ]
    }
   ],
   "source": [
    "from spock import CollisionMergerClassifier\n",
    "class_model = CollisionMergerClassifier()\n",
    "\n",
    "prob_12, prob_23, prob_13 = class_model.predict_collision_probs(sim)\n",
    "\n",
    "print('Probability planet 1 collides with 2:', prob_12)\n",
    "print('Probability planet 2 collides with 3:', prob_23)\n",
    "print('Probability planet 1 collides with 3:', prob_13)"
   ]
  },
  {
   "cell_type": "code",
   "execution_count": 4,
   "id": "9dce35cd",
   "metadata": {},
   "outputs": [
    {
     "name": "stdout",
     "output_type": "stream",
     "text": [
      "Predicted P1: 1.2250376725562897\n",
      "Predicted e1: 0.058889485476765806 \n",
      "\n",
      "Predicted P2: 1.412646240582396\n",
      "Predicted e2: 0.029298374243317323\n"
     ]
    }
   ],
   "source": [
    "from spock import CollisionOrbitalOutcomeRegressor\n",
    "reg_model = CollisionOrbitalOutcomeRegressor()\n",
    "\n",
    "new_sim = reg_model.predict_collision_outcome(sim, collision_inds=[2, 3])\n",
    "\n",
    "print('Predicted P1:', new_sim.particles[1].P)\n",
    "print('Predicted e1:', new_sim.particles[1].e, '\\n')\n",
    "print('Predicted P2:', new_sim.particles[2].P)\n",
    "print('Predicted e2:', new_sim.particles[2].e)"
   ]
  },
  {
   "cell_type": "markdown",
   "id": "c9b47359",
   "metadata": {},
   "source": [
    "# Giant impact emulator"
   ]
  },
  {
   "cell_type": "code",
   "execution_count": 1,
   "id": "31c42e0b",
   "metadata": {},
   "outputs": [],
   "source": [
    "import rebound\n",
    "sim = rebound.Simulation()\n",
    "sim.add(m=1.)\n",
    "sim.add(m=1.e-5, P=1, e=0.03, pomega=2., l=0.5)\n",
    "sim.add(m=1.e-5, P=1.2, e=0.03, pomega=3., l=3.)\n",
    "sim.add(m=1.e-5, P=1.5, e=0.03, pomega=1.5, l=2.)\n",
    "sim.add(m=1.e-5, P=2.2, e=0.03, pomega=0.5, l=5.0)\n",
    "sim.add(m=1.e-5, P=2.5, e=0.03, pomega=5.0, l=1.5)\n",
    "sim.move_to_com()"
   ]
  },
  {
   "cell_type": "code",
   "execution_count": 2,
   "id": "7ee40783-9d4f-403e-abf9-541b9a49875c",
   "metadata": {},
   "outputs": [],
   "source": [
    "from spock import GiantImpactPhaseEmulator\n",
    "emulator = GiantImpactPhaseEmulator(seed=42)"
   ]
  },
  {
   "cell_type": "code",
   "execution_count": 7,
   "id": "fef2b0bb",
   "metadata": {},
   "outputs": [
    {
     "name": "stdout",
     "output_type": "stream",
     "text": [
      "CPU times: user 1.34 s, sys: 713 ms, total: 2.05 s\n",
      "Wall time: 1.1 s\n"
     ]
    }
   ],
   "source": [
    "%%time\n",
    "pred_sim = emulator.predict(sim)"
   ]
  },
  {
   "cell_type": "code",
   "execution_count": 3,
   "id": "0e665e39",
   "metadata": {},
   "outputs": [
    {
     "name": "stdout",
     "output_type": "stream",
     "text": [
      "0\n",
      "1\n",
      "2\n",
      "3\n",
      "4\n",
      "5\n",
      "6\n",
      "7\n",
      "8\n",
      "9\n",
      "10\n",
      "11\n",
      "12\n",
      "13\n",
      "14\n",
      "15\n",
      "16\n",
      "17\n",
      "18\n",
      "19\n",
      "20\n",
      "21\n",
      "22\n",
      "23\n",
      "24\n",
      "25\n",
      "26\n",
      "27\n",
      "28\n",
      "29\n",
      "30\n",
      "31\n",
      "32\n",
      "33\n",
      "34\n",
      "35\n",
      "36\n",
      "37\n",
      "38\n",
      "39\n",
      "40\n",
      "41\n",
      "42\n",
      "43\n",
      "44\n",
      "45\n",
      "46\n",
      "47\n",
      "48\n",
      "49\n",
      "50\n",
      "51\n",
      "52\n",
      "53\n",
      "54\n",
      "55\n",
      "56\n",
      "57\n",
      "58\n",
      "59\n",
      "60\n",
      "61\n",
      "62\n",
      "63\n",
      "64\n",
      "65\n",
      "66\n",
      "67\n",
      "68\n",
      "69\n",
      "70\n",
      "71\n",
      "72\n",
      "73\n",
      "74\n",
      "75\n",
      "76\n",
      "77\n",
      "78\n",
      "79\n",
      "80\n",
      "81\n",
      "82\n",
      "83\n",
      "84\n",
      "85\n",
      "86\n",
      "87\n",
      "88\n",
      "89\n",
      "90\n",
      "91\n",
      "92\n",
      "93\n",
      "94\n",
      "95\n",
      "96\n",
      "97\n",
      "98\n",
      "99\n",
      "CPU times: user 1min 45s, sys: 1min 4s, total: 2min 49s\n",
      "Wall time: 1min 26s\n"
     ]
    }
   ],
   "source": [
    "%%time\n",
    "for i in range(100):\n",
    "    print(i)\n",
    "    emulator = GiantImpactPhaseEmulator(seed=0)\n",
    "    pred_sim = emulator.predict(sim)"
   ]
  },
  {
   "cell_type": "code",
   "execution_count": 4,
   "id": "0604d5bb",
   "metadata": {},
   "outputs": [
    {
     "data": {
      "text/plain": [
       "'0.6.0'"
      ]
     },
     "execution_count": 4,
     "metadata": {},
     "output_type": "execute_result"
    }
   ],
   "source": [
    "import einops\n",
    "einops.__version__"
   ]
  },
  {
   "cell_type": "code",
   "execution_count": 8,
   "id": "6e02e3c8",
   "metadata": {},
   "outputs": [
    {
     "name": "stdout",
     "output_type": "stream",
     "text": [
      "t = 999999999.9999985 \n",
      "\n",
      "Predicted m1 = 3.0000000000000004e-05\n",
      "Predicted P1 = 1.4789032321188267\n",
      "Predicted e1 = 0.027463762835280816 \n",
      "\n",
      "Predicted m2 = 2e-05\n",
      "Predicted P2 = 3.519481719959543\n",
      "Predicted e2 = 0.02516227040146231 \n",
      "\n"
     ]
    }
   ],
   "source": [
    "ps = pred_sim.particles\n",
    "print('t =', pred_sim.t, '\\n')\n",
    "for i in range(1, len(ps)):\n",
    "    print('Predicted m' + str(i), '=', ps[i].m)\n",
    "    print('Predicted P' + str(i), '=', ps[i].P)\n",
    "    print('Predicted e' + str(i), '=', ps[i].e, '\\n')"
   ]
  }
 ],
 "metadata": {
  "kernelspec": {
   "display_name": "Python 3 (ipykernel)",
   "language": "python",
   "name": "python3"
  },
  "language_info": {
   "codemirror_mode": {
    "name": "ipython",
    "version": 3
   },
   "file_extension": ".py",
   "mimetype": "text/x-python",
   "name": "python",
   "nbconvert_exporter": "python",
   "pygments_lexer": "ipython3",
   "version": "3.10.4"
  }
 },
 "nbformat": 4,
 "nbformat_minor": 5
}

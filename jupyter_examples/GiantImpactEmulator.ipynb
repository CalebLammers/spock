{
 "cells": [
  {
   "cell_type": "markdown",
   "id": "c9a1a462",
   "metadata": {},
   "source": [
    "# Classification and regression models"
   ]
  },
  {
   "cell_type": "code",
   "execution_count": 1,
   "id": "462ae48d",
   "metadata": {},
   "outputs": [
    {
     "name": "stdout",
     "output_type": "stream",
     "text": [
      "0.06591137\n"
     ]
    }
   ],
   "source": [
    "import rebound\n",
    "from spock import FeatureClassifier\n",
    "feature_model = FeatureClassifier()\n",
    "\n",
    "sim = rebound.Simulation()\n",
    "sim.add(m=1.)\n",
    "sim.add(m=1.e-5, P=1., e=0.03, pomega=2., l=0.5)\n",
    "sim.add(m=1.e-5, P=1.2, e=0.03, pomega=3., l=3.)\n",
    "sim.add(m=1.e-5, P=1.5, e=0.03, pomega=1.5, l=2.)\n",
    "sim.move_to_com()\n",
    "\n",
    "print(feature_model.predict_stable(sim))"
   ]
  },
  {
   "cell_type": "code",
   "execution_count": 2,
   "id": "18b0b455",
   "metadata": {},
   "outputs": [
    {
     "name": "stdout",
     "output_type": "stream",
     "text": [
      "98722\n"
     ]
    }
   ],
   "source": [
    "from spock import DeepRegressor\n",
    "deep_model = DeepRegressor()\n",
    "\n",
    "median, lower, upper = deep_model.predict_instability_time(sim, samples=10000)\n",
    "print(int(median))"
   ]
  },
  {
   "cell_type": "code",
   "execution_count": 3,
   "id": "69afe34b",
   "metadata": {},
   "outputs": [
    {
     "name": "stdout",
     "output_type": "stream",
     "text": [
      "Probability planet 1 collides with 2: 0.27385116\n",
      "Probability planet 2 collides with 3: 0.49274087\n",
      "Probability planet 1 collides with 3: 0.23340799\n"
     ]
    }
   ],
   "source": [
    "from spock import class_MLP, CollisionMergerClassifier\n",
    "class_model = CollisionMergerClassifier()\n",
    "\n",
    "prob_12, prob_23, prob_13 = class_model.predict_collision_probs(sim)\n",
    "\n",
    "print('Probability planet 1 collides with 2:', prob_12)\n",
    "print('Probability planet 2 collides with 3:', prob_23)\n",
    "print('Probability planet 1 collides with 3:', prob_13)"
   ]
  },
  {
   "cell_type": "code",
   "execution_count": 4,
   "id": "9dce35cd",
   "metadata": {},
   "outputs": [
    {
     "name": "stdout",
     "output_type": "stream",
     "text": [
      "Predicted a1: 0.3362391024283648\n",
      "Predicted e1: 0.05889093054898315 \n",
      "\n",
      "Predicted a1: 0.3697486909196322\n",
      "Predicted e1: 0.029298967242682977\n"
     ]
    }
   ],
   "source": [
    "from spock import reg_MLP, CollisionOrbitalOutcomeRegressor\n",
    "reg_model = CollisionOrbitalOutcomeRegressor()\n",
    "\n",
    "a1, a2, e1, e2, inc1, inc2 = reg_model.predict_collision_outcome(sim, collision_inds=[2, 3])\n",
    "\n",
    "print('Predicted a1:', a1)\n",
    "print('Predicted e1:', e1, '\\n')\n",
    "print('Predicted a1:', a2)\n",
    "print('Predicted e1:', e2)"
   ]
  },
  {
   "cell_type": "markdown",
   "id": "c9b47359",
   "metadata": {},
   "source": [
    "# Giant impact emulator"
   ]
  },
  {
   "cell_type": "code",
   "execution_count": 3,
   "id": "7ee40783-9d4f-403e-abf9-541b9a49875c",
   "metadata": {},
   "outputs": [],
   "source": [
    "from spock import GiantImpactPhaseEmulator\n",
    "from spock import reg_MLP, CollisionOrbitalOutcomeRegressor\n",
    "from spock import class_MLP, CollisionMergerClassifier\n",
    "import rebound"
   ]
  },
  {
   "cell_type": "code",
   "execution_count": 4,
   "id": "f76cedb1",
   "metadata": {},
   "outputs": [],
   "source": [
    "sim = rebound.Simulation()\n",
    "sim.add(m=1.)\n",
    "sim.add(m=1.e-5, P=1., e=0.03, pomega=2., l=0.5)\n",
    "sim.add(m=1.e-5, P=1.2, e=0.03, pomega=3., l=3.)\n",
    "sim.add(m=1.e-5, P=1.5, e=0.03, pomega=1.5, l=2.)\n",
    "sim.add(m=1.e-5, P=2.2, e=0.03, pomega=0.5, l=5.0)\n",
    "sim.add(m=1.e-5, P=2.5, e=0.03, pomega=5.0, l=1.5)\n",
    "sim.move_to_com()"
   ]
  },
  {
   "cell_type": "code",
   "execution_count": 5,
   "id": "e9c911ba-4969-4159-9580-40f6f34a9e1c",
   "metadata": {},
   "outputs": [],
   "source": [
    "emulator = GiantImpactPhaseEmulator(sim)"
   ]
  },
  {
   "cell_type": "code",
   "execution_count": 6,
   "id": "0b5ae266-38ac-4a0c-b315-5da5a1a2c31c",
   "metadata": {},
   "outputs": [
    {
     "name": "stdout",
     "output_type": "stream",
     "text": [
      "CPU times: user 1.74 s, sys: 1.29 s, total: 3.03 s\n",
      "Wall time: 979 ms\n"
     ]
    },
    {
     "data": {
      "text/plain": [
       "[<rebound.simulation.Simulation object at 0x2a75acb50, N=4, t=999999999.9999993>]"
      ]
     },
     "execution_count": 6,
     "metadata": {},
     "output_type": "execute_result"
    }
   ],
   "source": [
    "%%time\n",
    "emulator.predict()"
   ]
  },
  {
   "cell_type": "code",
   "execution_count": 6,
   "id": "8ad023d1-d4e3-4cdd-b555-e8a2e63e40c0",
   "metadata": {},
   "outputs": [
    {
     "name": "stdout",
     "output_type": "stream",
     "text": [
      "t = 1000000000.0 \n",
      "\n",
      "Predicted m1 = 2e-05\n",
      "Predicted a1 = 1.060172215402669\n",
      "Predicted e1 = 0.03857233228628879 \n",
      "\n",
      "Predicted m2 = 3.000000000000001e-05\n",
      "Predicted a2 = 1.7177339319633245\n",
      "Predicted e2 = 0.03134212650283301 \n",
      "\n"
     ]
    }
   ],
   "source": [
    "ps = emulator.sims[0].particles\n",
    "print('t =', emulator.sims[0].t, '\\n')\n",
    "for i in range(1, len(ps)):\n",
    "    print('Predicted m' + str(i), '=', ps[i].m)\n",
    "    print('Predicted a' + str(i), '=', ps[i].a)\n",
    "    print('Predicted e' + str(i), '=', ps[i].e, '\\n')"
   ]
  }
 ],
 "metadata": {
  "kernelspec": {
   "display_name": "Python 3 (ipykernel)",
   "language": "python",
   "name": "python3"
  },
  "language_info": {
   "codemirror_mode": {
    "name": "ipython",
    "version": 3
   },
   "file_extension": ".py",
   "mimetype": "text/x-python",
   "name": "python",
   "nbconvert_exporter": "python",
   "pygments_lexer": "ipython3",
   "version": "3.12.3"
  }
 },
 "nbformat": 4,
 "nbformat_minor": 5
}

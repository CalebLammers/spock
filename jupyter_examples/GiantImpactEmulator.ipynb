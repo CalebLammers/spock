{
 "cells": [
  {
   "cell_type": "markdown",
   "id": "7617c345",
   "metadata": {},
   "source": [
    "# Classification and regression models"
   ]
  },
  {
   "cell_type": "code",
   "execution_count": 1,
   "id": "5e2a2949",
   "metadata": {
    "scrolled": true
   },
   "outputs": [
    {
     "name": "stdout",
     "output_type": "stream",
     "text": [
      "0.06591137\n"
     ]
    }
   ],
   "source": [
    "import rebound\n",
    "from spock import FeatureClassifier\n",
    "feature_model = FeatureClassifier()\n",
    "\n",
    "sim = rebound.Simulation()\n",
    "sim.add(m=1.)\n",
    "sim.add(m=1.e-5, P=1., e=0.03, pomega=2., l=0.5)\n",
    "sim.add(m=1.e-5, P=1.2, e=0.03, pomega=3., l=3.)\n",
    "sim.add(m=1.e-5, P=1.5, e=0.03, pomega=1.5, l=2.)\n",
    "sim.move_to_com()\n",
    "\n",
    "print(feature_model.predict_stable(sim))"
   ]
  },
  {
   "cell_type": "code",
   "execution_count": 2,
   "id": "2a8128ac",
   "metadata": {},
   "outputs": [
    {
     "name": "stdout",
     "output_type": "stream",
     "text": [
      "230067\n"
     ]
    }
   ],
   "source": [
    "from spock import DeepRegressor\n",
    "deep_model = DeepRegressor()\n",
    "\n",
    "median, lower, upper = deep_model.predict_instability_time(sim, samples=10000)\n",
    "print(int(median))"
   ]
  },
  {
   "cell_type": "code",
   "execution_count": 3,
   "id": "70ecb954",
   "metadata": {},
   "outputs": [
    {
     "name": "stdout",
     "output_type": "stream",
     "text": [
      "0.27385116 0.49274087 0.23340799\n"
     ]
    }
   ],
   "source": [
    "from spock import class_MLP, CollisionMergerClassifier #for some reason, you need to import class_MLP here\n",
    "class_model = CollisionMergerClassifier()\n",
    "\n",
    "prob_12, prob_23, prob_13 = class_model.predict_collision_probs(sim)\n",
    "print(prob_12, prob_23, prob_13)"
   ]
  },
  {
   "cell_type": "code",
   "execution_count": 4,
   "id": "41338c4f",
   "metadata": {},
   "outputs": [
    {
     "name": "stdout",
     "output_type": "stream",
     "text": [
      "0.3362391024283648 0.3697486909196322 0.05889093054898315 0.029298967242682977 0.007076251680723447 0.0033700382462669653\n"
     ]
    }
   ],
   "source": [
    "from spock import reg_MLP, CollisionOrbitalOutcomeRegressor #for some reason, you need to import reg_MLP here\n",
    "reg_model = CollisionOrbitalOutcomeRegressor()\n",
    "\n",
    "a1, a2, e1, e2, inc1, inc2 = reg_model.predict_collision_outcome(sim, collision_inds=[2, 3]) #inclinations are measured wrt to L axis (coplanar is maybe a bad example...)\n",
    "print(a1, a2, e1, e2, inc1, inc2)"
   ]
  },
  {
   "cell_type": "markdown",
   "id": "ee60bb78",
   "metadata": {},
   "source": [
    "# Iterative planet formation predictions"
   ]
  },
  {
   "cell_type": "code",
   "execution_count": 5,
   "id": "2f5d932f",
   "metadata": {},
   "outputs": [],
   "source": [
    "sim = rebound.Simulation()\n",
    "sim.add(m=1.)\n",
    "sim.add(m=1.e-5, P=1., e=0.03, pomega=2., l=0.5)\n",
    "sim.add(m=1.e-5, P=1.2, e=0.03, pomega=3., l=3.)\n",
    "sim.add(m=1.e-5, P=1.5, e=0.03, pomega=1.5, l=2.)\n",
    "sim.add(m=1.e-5, P=2.2, e=0.03, pomega=0.5, l=5.0)\n",
    "sim.add(m=1.e-5, P=2.5, e=0.03, pomega=5.0, l=1.5)\n",
    "sim.move_to_com()"
   ]
  },
  {
   "cell_type": "code",
   "execution_count": 6,
   "id": "3c544d9a",
   "metadata": {},
   "outputs": [],
   "source": [
    "from spock import GiantImpactPhaseEmulator\n",
    "PF_map = GiantImpactPhaseEmulator(sim)"
   ]
  },
  {
   "cell_type": "code",
   "execution_count": 7,
   "id": "232d15d2",
   "metadata": {},
   "outputs": [
    {
     "name": "stderr",
     "output_type": "stream",
     "text": [
      "/Users/dtamayo/Documents/workspace/rebound/rebound/simulation.py:187: RuntimeWarning: You have to reset function pointers after creating a reb_simulation struct with a binary file.\n",
      "  warnings.warn(message, RuntimeWarning)\n"
     ]
    }
   ],
   "source": [
    "PF_map.integrate(tmax=1e9)"
   ]
  },
  {
   "cell_type": "code",
   "execution_count": 8,
   "id": "e9bd71cc",
   "metadata": {},
   "outputs": [
    {
     "name": "stdout",
     "output_type": "stream",
     "text": [
      "t = 1.000e+09\n",
      "m1: 2e-05\n",
      "a1: 0.3112136278298844\n",
      "e1: 0.03093264341963369\n",
      "inc1: 0.0070101769480813 \n",
      "\n",
      "m2: 2e-05\n",
      "a2: 0.4880364030604697\n",
      "e2: 0.034490932791509124\n",
      "inc2: 0.006926028429325754 \n",
      "\n",
      "m3: 1e-05\n",
      "a3: 0.5421164942778747\n",
      "e3: 0.08152518382882633\n",
      "inc3: 0.01113457404599528 \n",
      "\n"
     ]
    }
   ],
   "source": [
    "ps = PF_map.sims[0].particles\n",
    "print('t = {0:.3e}'.format(PF_map.sims[0].t))\n",
    "for i in range(1, len(ps)):\n",
    "    print('m' + str(i) + ':', ps[i].m)\n",
    "    print('a' + str(i) + ':', ps[i].a)\n",
    "    print('e' + str(i) + ':', ps[i].e)\n",
    "    print('inc' + str(i) + ':', ps[i].inc, '\\n')"
   ]
  },
  {
   "cell_type": "code",
   "execution_count": 9,
   "id": "5cf3d7d0",
   "metadata": {
    "scrolled": false
   },
   "outputs": [],
   "source": [
    "PF_map = GiantImpactPhaseEmulator(sim)"
   ]
  },
  {
   "cell_type": "code",
   "execution_count": 10,
   "id": "cd4929d6",
   "metadata": {},
   "outputs": [
    {
     "name": "stdout",
     "output_type": "stream",
     "text": [
      "t = 6.053e+03\n",
      "m1: 1e-05\n",
      "a1: 0.29384466869379183\n",
      "e1: 0.018660525240299743\n",
      "inc1: 0.0 \n",
      "\n",
      "m2: 1e-05\n",
      "a2: 0.3311137797188888\n",
      "e2: 0.015069371836333275\n",
      "inc2: 0.0 \n",
      "\n",
      "m3: 1e-05\n",
      "a3: 0.41477098209911\n",
      "e3: 0.07030338667500642\n",
      "inc3: 0.007388432373373112 \n",
      "\n",
      "m4: 2e-05\n",
      "a4: 0.5341822242074192\n",
      "e4: 0.04038593252748187\n",
      "inc4: 0.0032553387241999973 \n",
      "\n"
     ]
    }
   ],
   "source": [
    "PF_map.step(tmax=1e9)\n",
    "\n",
    "ps = PF_map.sims[0].particles\n",
    "print('t = {0:.3e}'.format(PF_map.sims[0].t))\n",
    "for i in range(1, len(ps)):\n",
    "    print('m' + str(i) + ':', ps[i].m)\n",
    "    print('a' + str(i) + ':', ps[i].a)\n",
    "    print('e' + str(i) + ':', ps[i].e)\n",
    "    print('inc' + str(i) + ':', ps[i].inc, '\\n')"
   ]
  },
  {
   "cell_type": "code",
   "execution_count": 11,
   "id": "7e08e916",
   "metadata": {},
   "outputs": [
    {
     "name": "stdout",
     "output_type": "stream",
     "text": [
      "t = 1.032e+05\n",
      "m1: 1e-05\n",
      "a1: 0.34798915210454434\n",
      "e1: 0.07969488749916456\n",
      "inc1: 0.01580783201914728 \n",
      "\n",
      "m2: 2e-05\n",
      "a2: 0.35596325787231936\n",
      "e2: 0.04497444740072609\n",
      "inc2: 0.01168554540492039 \n",
      "\n",
      "m3: 2e-05\n",
      "a3: 0.5342033102297162\n",
      "e3: 0.04040796704239456\n",
      "inc3: 0.003659581515768927 \n",
      "\n"
     ]
    }
   ],
   "source": [
    "PF_map.step(tmax=1e9)\n",
    "\n",
    "ps = PF_map.sims[0].particles\n",
    "print('t = {0:.3e}'.format(PF_map.sims[0].t))\n",
    "for i in range(1, len(ps)):\n",
    "    print('m' + str(i) + ':', ps[i].m)\n",
    "    print('a' + str(i) + ':', ps[i].a)\n",
    "    print('e' + str(i) + ':', ps[i].e)\n",
    "    print('inc' + str(i) + ':', ps[i].inc, '\\n')"
   ]
  },
  {
   "cell_type": "code",
   "execution_count": 12,
   "id": "435de42f",
   "metadata": {},
   "outputs": [
    {
     "name": "stdout",
     "output_type": "stream",
     "text": [
      "t = 1.032e+05\n",
      "m1: 3.0000000000000004e-05\n",
      "a1: 0.35240813574579705\n",
      "e1: 0.02813760286684362\n",
      "inc1: 0.0091836591117473 \n",
      "\n",
      "m2: 2e-05\n",
      "a2: 0.5341137727017606\n",
      "e2: 0.04243638194357955\n",
      "inc2: 0.004252430119921911 \n",
      "\n"
     ]
    }
   ],
   "source": [
    "PF_map.step(tmax=1e9)\n",
    "\n",
    "ps = PF_map.sims[0].particles\n",
    "print('t = {0:.3e}'.format(PF_map.sims[0].t))\n",
    "for i in range(1, len(ps)):\n",
    "    print('m' + str(i) + ':', ps[i].m)\n",
    "    print('a' + str(i) + ':', ps[i].a)\n",
    "    print('e' + str(i) + ':', ps[i].e)\n",
    "    print('inc' + str(i) + ':', ps[i].inc, '\\n')"
   ]
  },
  {
   "cell_type": "code",
   "execution_count": null,
   "id": "e00cd19c",
   "metadata": {},
   "outputs": [],
   "source": []
  }
 ],
 "metadata": {
  "kernelspec": {
   "display_name": "Python 3 (ipykernel)",
   "language": "python",
   "name": "python3"
  },
  "language_info": {
   "codemirror_mode": {
    "name": "ipython",
    "version": 3
   },
   "file_extension": ".py",
   "mimetype": "text/x-python",
   "name": "python",
   "nbconvert_exporter": "python",
   "pygments_lexer": "ipython3",
   "version": "3.10.4"
  }
 },
 "nbformat": 4,
 "nbformat_minor": 5
}

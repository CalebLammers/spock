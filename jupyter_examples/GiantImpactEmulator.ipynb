{
 "cells": [
  {
   "cell_type": "markdown",
   "id": "c9a1a462",
   "metadata": {},
   "source": [
    "# Classification and regression models"
   ]
  },
  {
   "cell_type": "code",
   "execution_count": 1,
   "id": "462ae48d",
   "metadata": {},
   "outputs": [
    {
     "name": "stdout",
     "output_type": "stream",
     "text": [
      "0.06591137\n"
     ]
    }
   ],
   "source": [
    "import rebound\n",
    "from spock import FeatureClassifier\n",
    "feature_model = FeatureClassifier()\n",
    "\n",
    "sim = rebound.Simulation()\n",
    "sim.add(m=1.)\n",
    "sim.add(m=1.e-5, P=1., e=0.03, pomega=2., l=0.5)\n",
    "sim.add(m=1.e-5, P=1.2, e=0.03, pomega=3., l=3.)\n",
    "sim.add(m=1.e-5, P=1.5, e=0.03, pomega=1.5, l=2.)\n",
    "sim.move_to_com()\n",
    "\n",
    "print(feature_model.predict_stable(sim))"
   ]
  },
  {
   "cell_type": "code",
   "execution_count": 2,
   "id": "18b0b455",
   "metadata": {},
   "outputs": [
    {
     "name": "stdout",
     "output_type": "stream",
     "text": [
      "236297\n"
     ]
    }
   ],
   "source": [
    "from spock import DeepRegressor\n",
    "deep_model = DeepRegressor()\n",
    "\n",
    "median, lower, upper = deep_model.predict_instability_time(sim, samples=10000)\n",
    "print(int(median))"
   ]
  },
  {
   "cell_type": "code",
   "execution_count": 3,
   "id": "69afe34b",
   "metadata": {},
   "outputs": [
    {
     "name": "stdout",
     "output_type": "stream",
     "text": [
      "Probability planet 1 collides with 2: 0.2738345\n",
      "Probability planet 2 collides with 3: 0.49277353\n",
      "Probability planet 1 collides with 3: 0.23339202\n"
     ]
    }
   ],
   "source": [
    "from spock import CollisionMergerClassifier\n",
    "class_model = CollisionMergerClassifier()\n",
    "\n",
    "prob_12, prob_23, prob_13 = class_model.predict_collision_probs(sim)\n",
    "\n",
    "print('Probability planet 1 collides with 2:', prob_12)\n",
    "print('Probability planet 2 collides with 3:', prob_23)\n",
    "print('Probability planet 1 collides with 3:', prob_13)"
   ]
  },
  {
   "cell_type": "code",
   "execution_count": 4,
   "id": "9dce35cd",
   "metadata": {},
   "outputs": [
    {
     "name": "stdout",
     "output_type": "stream",
     "text": [
      "Predicted P1: 1.225037672556297\n",
      "Predicted e1: 0.05888948547676769 \n",
      "\n",
      "Predicted P2: 1.412646240582396\n",
      "Predicted e2: 0.02929837424331723\n"
     ]
    }
   ],
   "source": [
    "from spock import CollisionOrbitalOutcomeRegressor\n",
    "reg_model = CollisionOrbitalOutcomeRegressor()\n",
    "\n",
    "new_sim = reg_model.predict_collision_outcome(sim, collision_inds=[2, 3])\n",
    "\n",
    "print('Predicted P1:', new_sim.particles[1].P)\n",
    "print('Predicted e1:', new_sim.particles[1].e, '\\n')\n",
    "print('Predicted P2:', new_sim.particles[2].P)\n",
    "print('Predicted e2:', new_sim.particles[2].e)"
   ]
  },
  {
   "cell_type": "markdown",
   "id": "c9b47359",
   "metadata": {},
   "source": [
    "# Giant impact emulator"
   ]
  },
  {
   "cell_type": "code",
   "execution_count": 5,
   "id": "31c42e0b",
   "metadata": {},
   "outputs": [],
   "source": [
    "import rebound\n",
    "sim = rebound.Simulation()\n",
    "sim.add(m=1.)\n",
    "sim.add(m=1.e-5, P=1, e=0.03, pomega=2., l=0.5)\n",
    "sim.add(m=1.e-5, P=1.2, e=0.03, pomega=3., l=3.)\n",
    "sim.add(m=1.e-5, P=1.5, e=0.03, pomega=1.5, l=2.)\n",
    "sim.add(m=1.e-5, P=2.2, e=0.03, pomega=0.5, l=5.0)\n",
    "sim.add(m=1.e-5, P=2.5, e=0.03, pomega=5.0, l=1.5)\n",
    "sim.move_to_com()"
   ]
  },
  {
   "cell_type": "code",
   "execution_count": 6,
   "id": "7ee40783-9d4f-403e-abf9-541b9a49875c",
   "metadata": {},
   "outputs": [],
   "source": [
    "from spock import GiantImpactPhaseEmulator\n",
    "emulator = GiantImpactPhaseEmulator(seed=42)"
   ]
  },
  {
   "cell_type": "code",
   "execution_count": 7,
   "id": "fef2b0bb",
   "metadata": {},
   "outputs": [
    {
     "name": "stdout",
     "output_type": "stream",
     "text": [
      "CPU times: user 3.79 s, sys: 10.3 s, total: 14.1 s\n",
      "Wall time: 3.6 s\n"
     ]
    }
   ],
   "source": [
    "%%time\n",
    "pred_sim = emulator.predict(sim)"
   ]
  },
  {
   "cell_type": "code",
   "execution_count": 8,
   "id": "6e02e3c8",
   "metadata": {},
   "outputs": [
    {
     "name": "stdout",
     "output_type": "stream",
     "text": [
      "t = 999999999.9999993 \n",
      "\n",
      "Predicted m1 = 2e-05\n",
      "Predicted P1 = 1.1423167995914096\n",
      "Predicted e1 = 0.024555185595986646 \n",
      "\n",
      "Predicted m2 = 1e-05\n",
      "Predicted P2 = 2.241317603301388\n",
      "Predicted e2 = 0.028255655743078135 \n",
      "\n",
      "Predicted m3 = 2e-05\n",
      "Predicted P3 = 3.514830496498667\n",
      "Predicted e3 = 0.0180188346495417 \n",
      "\n"
     ]
    }
   ],
   "source": [
    "ps = pred_sim.particles\n",
    "print('t =', pred_sim.t, '\\n')\n",
    "for i in range(1, len(ps)):\n",
    "    print('Predicted m' + str(i), '=', ps[i].m)\n",
    "    print('Predicted P' + str(i), '=', ps[i].P)\n",
    "    print('Predicted e' + str(i), '=', ps[i].e, '\\n')"
   ]
  }
 ],
 "metadata": {
  "kernelspec": {
   "display_name": "Python 3 (ipykernel)",
   "language": "python",
   "name": "python3"
  },
  "language_info": {
   "codemirror_mode": {
    "name": "ipython",
    "version": 3
   },
   "file_extension": ".py",
   "mimetype": "text/x-python",
   "name": "python",
   "nbconvert_exporter": "python",
   "pygments_lexer": "ipython3",
   "version": "3.10.4"
  }
 },
 "nbformat": 4,
 "nbformat_minor": 5
}

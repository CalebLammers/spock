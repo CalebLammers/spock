{
 "cells": [
  {
   "cell_type": "markdown",
   "id": "7617c345",
   "metadata": {},
   "source": [
    "# Classification and regression models"
   ]
  },
  {
   "cell_type": "code",
   "execution_count": 7,
   "id": "5e2a2949",
   "metadata": {
    "scrolled": true
   },
   "outputs": [
    {
     "name": "stdout",
     "output_type": "stream",
     "text": [
      "0.065058656\n"
     ]
    }
   ],
   "source": [
    "import rebound\n",
    "from spock import FeatureClassifier\n",
    "feature_model = FeatureClassifier()\n",
    "\n",
    "sim = rebound.Simulation()\n",
    "sim.add(m=1.)\n",
    "sim.add(m=1.e-5, P=1., e=0.03, pomega=2., l=0.5)\n",
    "sim.add(m=1.e-5, P=1.2, e=0.03, pomega=3., l=3.)\n",
    "sim.add(m=1.e-5, P=1.5, e=0.03, pomega=1.5, l=2.)\n",
    "sim.move_to_com()\n",
    "\n",
    "print(feature_model.predict_stable(sim))"
   ]
  },
  {
   "cell_type": "code",
   "execution_count": 8,
   "id": "2a8128ac",
   "metadata": {},
   "outputs": [
    {
     "name": "stdout",
     "output_type": "stream",
     "text": [
      "239635\n"
     ]
    }
   ],
   "source": [
    "from spock import DeepRegressor\n",
    "deep_model = DeepRegressor()\n",
    "\n",
    "median, lower, upper = deep_model.predict_instability_time(sim, samples=10000)\n",
    "print(int(median))"
   ]
  },
  {
   "cell_type": "code",
   "execution_count": 9,
   "id": "70ecb954",
   "metadata": {},
   "outputs": [
    {
     "name": "stdout",
     "output_type": "stream",
     "text": [
      "0.27385116 0.4927408 0.23340799\n"
     ]
    }
   ],
   "source": [
    "from spock import class_MLP, CollisionClassifier #for some reason, you need to import class_MLP here\n",
    "class_model = CollisionClassifier()\n",
    "\n",
    "prob_12, prob_23, prob_13 = class_model.predict_collision_probs(sim)\n",
    "print(prob_12, prob_23, prob_13)"
   ]
  },
  {
   "cell_type": "code",
   "execution_count": 10,
   "id": "41338c4f",
   "metadata": {},
   "outputs": [
    {
     "name": "stdout",
     "output_type": "stream",
     "text": [
      "0.33623911897749165 0.36974867472835465 0.05889095073180708 0.029298967242682977 0.007076251680723447 0.0033700385906401563\n"
     ]
    }
   ],
   "source": [
    "from spock import reg_MLP, CollisionRegressor #for some reason, you need to import reg_MLP here\n",
    "reg_model = CollisionRegressor()\n",
    "\n",
    "a1, a2, e1, e2, inc1, inc2 = reg_model.predict_collision_outcome(sim, collision_inds=[2, 3]) #inclinations are measured wrt to L axis (coplanar is maybe a bad example...)\n",
    "print(a1, a2, e1, e2, inc1, inc2)"
   ]
  },
  {
   "cell_type": "markdown",
   "id": "ee60bb78",
   "metadata": {},
   "source": [
    "# Iterative planet formation predictions"
   ]
  },
  {
   "cell_type": "code",
   "execution_count": 11,
   "id": "2f5d932f",
   "metadata": {},
   "outputs": [],
   "source": [
    "sim = rebound.Simulation()\n",
    "sim.add(m=1.)\n",
    "sim.add(m=1.e-5, P=1., e=0.03, pomega=2., l=0.5)\n",
    "sim.add(m=1.e-5, P=1.2, e=0.03, pomega=3., l=3.)\n",
    "sim.add(m=1.e-5, P=1.5, e=0.03, pomega=1.5, l=2.)\n",
    "sim.add(m=1.e-5, P=2.2, e=0.03, pomega=0.5, l=5.0)\n",
    "sim.add(m=1.e-5, P=2.5, e=0.03, pomega=5.0, l=1.5)\n",
    "sim.move_to_com()"
   ]
  },
  {
   "cell_type": "code",
   "execution_count": 12,
   "id": "3c544d9a",
   "metadata": {},
   "outputs": [],
   "source": [
    "from spock import iterative_model\n",
    "PF_map = iterative_model.PlanetFormationMap()"
   ]
  },
  {
   "cell_type": "code",
   "execution_count": 13,
   "id": "bb1e35a0",
   "metadata": {
    "scrolled": false
   },
   "outputs": [
    {
     "name": "stderr",
     "output_type": "stream",
     "text": [
      "/mnt/ssd/home/dtamayo/workspace/rebound/rebound/simulation.py:866: RuntimeWarning: You have to reset function pointers after creating a reb_simulation struct with a binary file.\n",
      "  warnings.warn(message, RuntimeWarning)\n"
     ]
    },
    {
     "data": {
      "text/plain": [
       "<rebound.simulation.Simulation object at 0x7f4dc3f89fc0, N=3, t=0.0>"
      ]
     },
     "execution_count": 13,
     "metadata": {},
     "output_type": "execute_result"
    }
   ],
   "source": [
    "final_state = PF_map.predict_final_system(sim)\n",
    "final_state"
   ]
  },
  {
   "cell_type": "code",
   "execution_count": 14,
   "id": "e9bd71cc",
   "metadata": {},
   "outputs": [
    {
     "name": "stdout",
     "output_type": "stream",
     "text": [
      "m1: 3.0000000000000004e-05\n",
      "a1: 0.3538033327595468\n",
      "e1: 0.046380959658602845\n",
      "inc1: 0.0012829410195570425 \n",
      "\n",
      "m2: 2e-05\n",
      "a2: 0.5193460096729403\n",
      "e2: 0.01898078654916159\n",
      "inc2: 0.0006575828990977856 \n",
      "\n"
     ]
    }
   ],
   "source": [
    "ps = final_state.particles\n",
    "for i in range(1, len(ps)):\n",
    "    print('m' + str(i) + ':', ps[i].m)\n",
    "    print('a' + str(i) + ':', ps[i].a)\n",
    "    print('e' + str(i) + ':', ps[i].e)\n",
    "    print('inc' + str(i) + ':', ps[i].inc, '\\n')"
   ]
  },
  {
   "cell_type": "code",
   "execution_count": null,
   "id": "cf238dc0",
   "metadata": {},
   "outputs": [],
   "source": []
  }
 ],
 "metadata": {
  "kernelspec": {
   "display_name": "Python 3 (ipykernel)",
   "language": "python",
   "name": "python3"
  },
  "language_info": {
   "codemirror_mode": {
    "name": "ipython",
    "version": 3
   },
   "file_extension": ".py",
   "mimetype": "text/x-python",
   "name": "python",
   "nbconvert_exporter": "python",
   "pygments_lexer": "ipython3",
   "version": "3.10.6"
  }
 },
 "nbformat": 4,
 "nbformat_minor": 5
}

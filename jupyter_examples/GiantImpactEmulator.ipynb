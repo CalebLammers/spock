{
 "cells": [
  {
   "cell_type": "markdown",
   "id": "7617c345",
   "metadata": {},
   "source": [
    "# Classification and regression models"
   ]
  },
  {
   "cell_type": "code",
   "execution_count": 1,
   "id": "5e2a2949",
   "metadata": {
    "scrolled": true
   },
   "outputs": [
    {
     "name": "stderr",
     "output_type": "stream",
     "text": [
      "/Users/dtamayo/opt/miniconda3/envs/p3/lib/python3.10/site-packages/xgboost/core.py:160: UserWarning: [09:58:07] WARNING: /Users/runner/work/xgboost/xgboost/src/learner.cc:873: Found JSON model saved before XGBoost 1.6, please save the model using current version again. The support for old JSON model will be discontinued in XGBoost 2.3.\n",
      "  warnings.warn(smsg, UserWarning)\n"
     ]
    },
    {
     "ename": "AttributeError",
     "evalue": "'Simulation' object has no attribute 'calculate_megno'",
     "output_type": "error",
     "traceback": [
      "\u001b[0;31m---------------------------------------------------------------------------\u001b[0m",
      "\u001b[0;31mAttributeError\u001b[0m                            Traceback (most recent call last)",
      "Input \u001b[0;32mIn [1]\u001b[0m, in \u001b[0;36m<cell line: 12>\u001b[0;34m()\u001b[0m\n\u001b[1;32m      9\u001b[0m sim\u001b[38;5;241m.\u001b[39madd(m\u001b[38;5;241m=\u001b[39m\u001b[38;5;241m1.e-5\u001b[39m, P\u001b[38;5;241m=\u001b[39m\u001b[38;5;241m1.5\u001b[39m, e\u001b[38;5;241m=\u001b[39m\u001b[38;5;241m0.03\u001b[39m, pomega\u001b[38;5;241m=\u001b[39m\u001b[38;5;241m1.5\u001b[39m, l\u001b[38;5;241m=\u001b[39m\u001b[38;5;241m2.\u001b[39m)\n\u001b[1;32m     10\u001b[0m sim\u001b[38;5;241m.\u001b[39mmove_to_com()\n\u001b[0;32m---> 12\u001b[0m \u001b[38;5;28mprint\u001b[39m(\u001b[43mfeature_model\u001b[49m\u001b[38;5;241;43m.\u001b[39;49m\u001b[43mpredict_stable\u001b[49m\u001b[43m(\u001b[49m\u001b[43msim\u001b[49m\u001b[43m)\u001b[49m)\n",
      "File \u001b[0;32m~/Documents/workspace/spock/spock/featureclassifier.py:35\u001b[0m, in \u001b[0;36mFeatureClassifier.predict_stable\u001b[0;34m(self, sim, n_jobs)\u001b[0m\n\u001b[1;32m     20\u001b[0m \u001b[38;5;28;01mdef\u001b[39;00m \u001b[38;5;21mpredict_stable\u001b[39m(\u001b[38;5;28mself\u001b[39m, sim, n_jobs\u001b[38;5;241m=\u001b[39m\u001b[38;5;241m-\u001b[39m\u001b[38;5;241m1\u001b[39m):\n\u001b[1;32m     21\u001b[0m     \u001b[38;5;124;03m\"\"\"\u001b[39;00m\n\u001b[1;32m     22\u001b[0m \u001b[38;5;124;03m    Predict whether passed simulation will be stable over 10^9 orbits of the innermost planet.\u001b[39;00m\n\u001b[1;32m     23\u001b[0m \n\u001b[0;32m   (...)\u001b[0m\n\u001b[1;32m     33\u001b[0m \n\u001b[1;32m     34\u001b[0m \u001b[38;5;124;03m    \"\"\"\u001b[39;00m\n\u001b[0;32m---> 35\u001b[0m     res \u001b[38;5;241m=\u001b[39m \u001b[38;5;28;43mself\u001b[39;49m\u001b[38;5;241;43m.\u001b[39;49m\u001b[43mgenerate_features\u001b[49m\u001b[43m(\u001b[49m\u001b[43msim\u001b[49m\u001b[43m,\u001b[49m\u001b[43m \u001b[49m\u001b[43mn_jobs\u001b[49m\u001b[38;5;241;43m=\u001b[39;49m\u001b[43mn_jobs\u001b[49m\u001b[43m)\u001b[49m\n\u001b[1;32m     37\u001b[0m     \u001b[38;5;28;01mtry\u001b[39;00m: \u001b[38;5;66;03m# separate the feature dictionaries from the bool for whether it was stable over short integration\u001b[39;00m\n\u001b[1;32m     38\u001b[0m         stable \u001b[38;5;241m=\u001b[39m np\u001b[38;5;241m.\u001b[39marray([r[\u001b[38;5;241m1\u001b[39m] \u001b[38;5;28;01mfor\u001b[39;00m r \u001b[38;5;129;01min\u001b[39;00m res])\n",
      "File \u001b[0;32m~/Documents/workspace/spock/spock/featureclassifier.py:101\u001b[0m, in \u001b[0;36mFeatureClassifier.generate_features\u001b[0;34m(self, sim, n_jobs)\u001b[0m\n\u001b[1;32m     98\u001b[0m     \u001b[38;5;28;01mreturn\u001b[39;00m triofeatures, stable\n\u001b[1;32m    100\u001b[0m \u001b[38;5;28;01mif\u001b[39;00m \u001b[38;5;28mlen\u001b[39m(args) \u001b[38;5;241m==\u001b[39m \u001b[38;5;241m1\u001b[39m: \u001b[38;5;66;03m# single sim\u001b[39;00m\n\u001b[0;32m--> 101\u001b[0m     res \u001b[38;5;241m=\u001b[39m \u001b[43mrun\u001b[49m\u001b[43m(\u001b[49m\u001b[43margs\u001b[49m\u001b[43m[\u001b[49m\u001b[38;5;241;43m0\u001b[39;49m\u001b[43m]\u001b[49m\u001b[43m)\u001b[49m    \u001b[38;5;66;03m# stable will be 0 if an orbit is hyperbolic\u001b[39;00m\n\u001b[1;32m    102\u001b[0m \u001b[38;5;28;01melse\u001b[39;00m:\n\u001b[1;32m    103\u001b[0m     \u001b[38;5;28;01mif\u001b[39;00m n_jobs \u001b[38;5;241m==\u001b[39m \u001b[38;5;241m-\u001b[39m\u001b[38;5;241m1\u001b[39m:\n",
      "File \u001b[0;32m~/Documents/workspace/spock/spock/featureclassifier.py:97\u001b[0m, in \u001b[0;36mFeatureClassifier.generate_features.<locals>.run\u001b[0;34m(params)\u001b[0m\n\u001b[1;32m     95\u001b[0m \u001b[38;5;28;01mdef\u001b[39;00m \u001b[38;5;21mrun\u001b[39m(params):\n\u001b[1;32m     96\u001b[0m     sim, featureargs \u001b[38;5;241m=\u001b[39m params\n\u001b[0;32m---> 97\u001b[0m     triofeatures, stable \u001b[38;5;241m=\u001b[39m \u001b[43mfeatures\u001b[49m\u001b[43m(\u001b[49m\u001b[43msim\u001b[49m\u001b[43m,\u001b[49m\u001b[43m \u001b[49m\u001b[43mfeatureargs\u001b[49m\u001b[43m)\u001b[49m\n\u001b[1;32m     98\u001b[0m     \u001b[38;5;28;01mreturn\u001b[39;00m triofeatures, stable\n",
      "File \u001b[0;32m~/Documents/workspace/spock/spock/feature_functions.py:155\u001b[0m, in \u001b[0;36mfeatures\u001b[0;34m(sim, args)\u001b[0m\n\u001b[1;32m    152\u001b[0m     features[\u001b[38;5;124m'\u001b[39m\u001b[38;5;124mMEGNOstd\u001b[39m\u001b[38;5;124m'\u001b[39m] \u001b[38;5;241m=\u001b[39m np\u001b[38;5;241m.\u001b[39mnan\n\u001b[1;32m    153\u001b[0m     triofeatures\u001b[38;5;241m.\u001b[39mappend(features)\n\u001b[0;32m--> 155\u001b[0m triotseries, stable \u001b[38;5;241m=\u001b[39m \u001b[43mget_tseries\u001b[49m\u001b[43m(\u001b[49m\u001b[43msim\u001b[49m\u001b[43m,\u001b[49m\u001b[43m \u001b[49m\u001b[43margs\u001b[49m\u001b[43m)\u001b[49m\n\u001b[1;32m    156\u001b[0m \u001b[38;5;28;01mif\u001b[39;00m stable \u001b[38;5;241m==\u001b[39m \u001b[38;5;28;01mFalse\u001b[39;00m:\n\u001b[1;32m    157\u001b[0m     \u001b[38;5;28;01mreturn\u001b[39;00m triofeatures, stable\n",
      "File \u001b[0;32m~/Documents/workspace/spock/spock/feature_functions.py:130\u001b[0m, in \u001b[0;36mget_tseries\u001b[0;34m(sim, args)\u001b[0m\n\u001b[1;32m    128\u001b[0m         pairs \u001b[38;5;241m=\u001b[39m triopairs[tr]\n\u001b[1;32m    129\u001b[0m         tseries \u001b[38;5;241m=\u001b[39m triotseries[tr] \n\u001b[0;32m--> 130\u001b[0m         \u001b[43mpopulate_trio\u001b[49m\u001b[43m(\u001b[49m\u001b[43msim\u001b[49m\u001b[43m,\u001b[49m\u001b[43m \u001b[49m\u001b[43mtrio\u001b[49m\u001b[43m,\u001b[49m\u001b[43m \u001b[49m\u001b[43mpairs\u001b[49m\u001b[43m,\u001b[49m\u001b[43m \u001b[49m\u001b[43mtseries\u001b[49m\u001b[43m,\u001b[49m\u001b[43m \u001b[49m\u001b[43mi\u001b[49m\u001b[43m)\u001b[49m\n\u001b[1;32m    132\u001b[0m stable \u001b[38;5;241m=\u001b[39m \u001b[38;5;28;01mTrue\u001b[39;00m\n\u001b[1;32m    133\u001b[0m \u001b[38;5;28;01mreturn\u001b[39;00m triotseries, stable\n",
      "File \u001b[0;32m~/Documents/workspace/spock/spock/feature_functions.py:96\u001b[0m, in \u001b[0;36mpopulate_trio\u001b[0;34m(sim, trio, pairs, tseries, i)\u001b[0m\n\u001b[1;32m     93\u001b[0m     tseries[i,Ns\u001b[38;5;241m*\u001b[39mq\u001b[38;5;241m+\u001b[39m\u001b[38;5;241m2\u001b[39m] \u001b[38;5;241m=\u001b[39m np\u001b[38;5;241m.\u001b[39msqrt((m1\u001b[38;5;241m*\u001b[39me1x \u001b[38;5;241m+\u001b[39m m2\u001b[38;5;241m*\u001b[39me2x)\u001b[38;5;241m*\u001b[39m\u001b[38;5;241m*\u001b[39m\u001b[38;5;241m2\u001b[39m \u001b[38;5;241m+\u001b[39m (m1\u001b[38;5;241m*\u001b[39me1y \u001b[38;5;241m+\u001b[39m m2\u001b[38;5;241m*\u001b[39me2y)\u001b[38;5;241m*\u001b[39m\u001b[38;5;241m*\u001b[39m\u001b[38;5;241m2\u001b[39m)\u001b[38;5;241m/\u001b[39m(m1\u001b[38;5;241m+\u001b[39mm2)\n\u001b[1;32m     94\u001b[0m     j, k, tseries[i,Ns\u001b[38;5;241m*\u001b[39mq\u001b[38;5;241m+\u001b[39m\u001b[38;5;241m3\u001b[39m] \u001b[38;5;241m=\u001b[39m find_strongest_MMR(sim, i1, i2) \n\u001b[0;32m---> 96\u001b[0m tseries[i,\u001b[38;5;241m7\u001b[39m] \u001b[38;5;241m=\u001b[39m \u001b[43msim\u001b[49m\u001b[38;5;241;43m.\u001b[39;49m\u001b[43mcalculate_megno\u001b[49m()\n",
      "\u001b[0;31mAttributeError\u001b[0m: 'Simulation' object has no attribute 'calculate_megno'"
     ]
    }
   ],
   "source": [
    "import rebound\n",
    "from spock import FeatureClassifier\n",
    "feature_model = FeatureClassifier()\n",
    "\n",
    "sim = rebound.Simulation()\n",
    "sim.add(m=1.)\n",
    "sim.add(m=1.e-5, P=1., e=0.03, pomega=2., l=0.5)\n",
    "sim.add(m=1.e-5, P=1.2, e=0.03, pomega=3., l=3.)\n",
    "sim.add(m=1.e-5, P=1.5, e=0.03, pomega=1.5, l=2.)\n",
    "sim.move_to_com()\n",
    "\n",
    "print(feature_model.predict_stable(sim))"
   ]
  },
  {
   "cell_type": "code",
   "execution_count": null,
   "id": "2a8128ac",
   "metadata": {},
   "outputs": [],
   "source": [
    "from spock import DeepRegressor\n",
    "deep_model = DeepRegressor()\n",
    "\n",
    "median, lower, upper = deep_model.predict_instability_time(sim, samples=10000)\n",
    "print(int(median))"
   ]
  },
  {
   "cell_type": "code",
   "execution_count": null,
   "id": "70ecb954",
   "metadata": {},
   "outputs": [],
   "source": [
    "from spock import class_MLP, CollisionClassifier #for some reason, you need to import class_MLP here\n",
    "class_model = CollisionClassifier()\n",
    "\n",
    "prob_12, prob_23, prob_13 = class_model.predict_collision_probs(sim)\n",
    "print(prob_12, prob_23, prob_13)"
   ]
  },
  {
   "cell_type": "code",
   "execution_count": null,
   "id": "41338c4f",
   "metadata": {},
   "outputs": [],
   "source": [
    "from spock import reg_MLP, CollisionRegressor #for some reason, you need to import reg_MLP here\n",
    "reg_model = CollisionRegressor()\n",
    "\n",
    "a1, a2, e1, e2, inc1, inc2 = reg_model.predict_collision_outcome(sim, collision_inds=[2, 3]) #inclinations are measured wrt to L axis (coplanar is maybe a bad example...)\n",
    "print(a1, a2, e1, e2, inc1, inc2)"
   ]
  },
  {
   "cell_type": "markdown",
   "id": "ee60bb78",
   "metadata": {},
   "source": [
    "# Iterative planet formation predictions"
   ]
  },
  {
   "cell_type": "code",
   "execution_count": null,
   "id": "2f5d932f",
   "metadata": {},
   "outputs": [],
   "source": [
    "sim = rebound.Simulation()\n",
    "sim.add(m=1.)\n",
    "sim.add(m=1.e-5, P=1., e=0.03, pomega=2., l=0.5)\n",
    "sim.add(m=1.e-5, P=1.2, e=0.03, pomega=3., l=3.)\n",
    "sim.add(m=1.e-5, P=1.5, e=0.03, pomega=1.5, l=2.)\n",
    "sim.add(m=1.e-5, P=2.2, e=0.03, pomega=0.5, l=5.0)\n",
    "sim.add(m=1.e-5, P=2.5, e=0.03, pomega=5.0, l=1.5)\n",
    "sim.move_to_com()"
   ]
  },
  {
   "cell_type": "code",
   "execution_count": null,
   "id": "3c544d9a",
   "metadata": {},
   "outputs": [],
   "source": [
    "from spock import iterative_model\n",
    "PF_map = iterative_model.PlanetFormationMap()"
   ]
  },
  {
   "cell_type": "code",
   "execution_count": null,
   "id": "bb1e35a0",
   "metadata": {
    "scrolled": false
   },
   "outputs": [],
   "source": [
    "final_state = PF_map.predict_final_system(sim)\n",
    "final_state"
   ]
  },
  {
   "cell_type": "code",
   "execution_count": null,
   "id": "e9bd71cc",
   "metadata": {},
   "outputs": [],
   "source": [
    "ps = final_state.particles\n",
    "for i in range(1, len(ps)):\n",
    "    print('m' + str(i) + ':', ps[i].m)\n",
    "    print('a' + str(i) + ':', ps[i].a)\n",
    "    print('e' + str(i) + ':', ps[i].e)\n",
    "    print('inc' + str(i) + ':', ps[i].inc, '\\n')"
   ]
  },
  {
   "cell_type": "code",
   "execution_count": null,
   "id": "cf238dc0",
   "metadata": {},
   "outputs": [],
   "source": []
  }
 ],
 "metadata": {
  "kernelspec": {
   "display_name": "Python 3 (ipykernel)",
   "language": "python",
   "name": "python3"
  },
  "language_info": {
   "codemirror_mode": {
    "name": "ipython",
    "version": 3
   },
   "file_extension": ".py",
   "mimetype": "text/x-python",
   "name": "python",
   "nbconvert_exporter": "python",
   "pygments_lexer": "ipython3",
   "version": "3.10.4"
  }
 },
 "nbformat": 4,
 "nbformat_minor": 5
}

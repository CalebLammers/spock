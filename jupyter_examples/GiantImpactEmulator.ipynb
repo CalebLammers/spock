{
 "cells": [
  {
   "cell_type": "markdown",
   "id": "c9a1a462",
   "metadata": {},
   "source": [
    "# Classification and regression models"
   ]
  },
  {
   "cell_type": "code",
   "execution_count": 1,
   "id": "462ae48d",
   "metadata": {},
   "outputs": [
    {
     "name": "stdout",
     "output_type": "stream",
     "text": [
      "0.06591137\n"
     ]
    }
   ],
   "source": [
    "import rebound\n",
    "from spock import FeatureClassifier\n",
    "feature_model = FeatureClassifier()\n",
    "\n",
    "sim = rebound.Simulation()\n",
    "sim.add(m=1.)\n",
    "sim.add(m=1.e-5, P=1., e=0.03, pomega=2., l=0.5)\n",
    "sim.add(m=1.e-5, P=1.2, e=0.03, pomega=3., l=3.)\n",
    "sim.add(m=1.e-5, P=1.5, e=0.03, pomega=1.5, l=2.)\n",
    "sim.move_to_com()\n",
    "\n",
    "print(feature_model.predict_stable(sim))"
   ]
  },
  {
   "cell_type": "code",
   "execution_count": 2,
   "id": "18b0b455",
   "metadata": {},
   "outputs": [
    {
     "name": "stdout",
     "output_type": "stream",
     "text": [
      "229709\n"
     ]
    }
   ],
   "source": [
    "from spock import DeepRegressor\n",
    "deep_model = DeepRegressor()\n",
    "\n",
    "median, lower, upper = deep_model.predict_instability_time(sim, samples=10000)\n",
    "print(int(median))"
   ]
  },
  {
   "cell_type": "code",
   "execution_count": 3,
   "id": "69afe34b",
   "metadata": {},
   "outputs": [
    {
     "name": "stdout",
     "output_type": "stream",
     "text": [
      "Probability planet 1 collides with 2: 0.27385116\n",
      "Probability planet 2 collides with 3: 0.49274087\n",
      "Probability planet 1 collides with 3: 0.23340799\n"
     ]
    }
   ],
   "source": [
    "from spock import CollisionMergerClassifier\n",
    "class_model = CollisionMergerClassifier()\n",
    "\n",
    "prob_12, prob_23, prob_13 = class_model.predict_collision_probs(sim)\n",
    "\n",
    "print('Probability planet 1 collides with 2:', prob_12)\n",
    "print('Probability planet 2 collides with 3:', prob_23)\n",
    "print('Probability planet 1 collides with 3:', prob_13)"
   ]
  },
  {
   "cell_type": "code",
   "execution_count": 4,
   "id": "9dce35cd",
   "metadata": {},
   "outputs": [
    {
     "name": "stdout",
     "output_type": "stream",
     "text": [
      "Predicted P1: 1.2250393057947184\n",
      "Predicted e1: 0.05889093054898333 \n",
      "\n",
      "Predicted P2: 1.4126459270205634\n",
      "Predicted e2: 0.029298967242683358\n"
     ]
    }
   ],
   "source": [
    "from spock import CollisionOrbitalOutcomeRegressor\n",
    "reg_model = CollisionOrbitalOutcomeRegressor()\n",
    "\n",
    "new_sim = reg_model.predict_collision_outcome(sim, collision_inds=[2, 3])\n",
    "\n",
    "print('Predicted P1:', new_sim.particles[1].P)\n",
    "print('Predicted e1:', new_sim.particles[1].e, '\\n')\n",
    "print('Predicted P2:', new_sim.particles[2].P)\n",
    "print('Predicted e2:', new_sim.particles[2].e)"
   ]
  },
  {
   "cell_type": "markdown",
   "id": "c9b47359",
   "metadata": {},
   "source": [
    "# Giant impact emulator"
   ]
  },
  {
   "cell_type": "code",
   "execution_count": 1,
   "id": "7ee40783-9d4f-403e-abf9-541b9a49875c",
   "metadata": {},
   "outputs": [],
   "source": [
    "import rebound\n",
    "from spock import GiantImpactPhaseEmulator, CollisionOrbitalOutcomeRegressor, CollisionMergerClassifier"
   ]
  },
  {
   "cell_type": "code",
   "execution_count": 2,
   "id": "f76cedb1",
   "metadata": {},
   "outputs": [],
   "source": [
    "sim = rebound.Simulation()\n",
    "sim.add(m=1.)\n",
    "sim.add(m=1.e-5, P=1, e=0.03, pomega=2., l=0.5)\n",
    "sim.add(m=1.e-5, P=1.2, e=0.03, pomega=3., l=3.)\n",
    "sim.add(m=1.e-5, P=1.5, e=0.03, pomega=1.5, l=2.)\n",
    "sim.add(m=1.e-5, P=2.2, e=0.03, pomega=0.5, l=5.0)\n",
    "sim.add(m=1.e-5, P=2.5, e=0.03, pomega=5.0, l=1.5)\n",
    "sim.move_to_com()"
   ]
  },
  {
   "cell_type": "code",
   "execution_count": 18,
   "id": "e9c911ba-4969-4159-9580-40f6f34a9e1c",
   "metadata": {},
   "outputs": [],
   "source": [
    "emulator = GiantImpactPhaseEmulator(seed=6)"
   ]
  },
  {
   "cell_type": "code",
   "execution_count": 19,
   "id": "0b5ae266-38ac-4a0c-b315-5da5a1a2c31c",
   "metadata": {},
   "outputs": [
    {
     "name": "stdout",
     "output_type": "stream",
     "text": [
      "CPU times: user 1.36 s, sys: 683 ms, total: 2.04 s\n",
      "Wall time: 1.13 s\n"
     ]
    }
   ],
   "source": [
    "%%time\n",
    "sims = emulator.predict(sim)"
   ]
  },
  {
   "cell_type": "code",
   "execution_count": 20,
   "id": "8ad023d1-d4e3-4cdd-b555-e8a2e63e40c0",
   "metadata": {},
   "outputs": [
    {
     "name": "stdout",
     "output_type": "stream",
     "text": [
      "t = 999999999.9999993 \n",
      "\n",
      "Predicted m1 = 2e-05\n",
      "Predicted P1 = 1.1406315833630705\n",
      "Predicted e1 = 0.027527879033166853 \n",
      "\n",
      "Predicted m2 = 1e-05\n",
      "Predicted P2 = 2.243560590440474\n",
      "Predicted e2 = 0.03273085504984949 \n",
      "\n",
      "Predicted m3 = 2e-05\n",
      "Predicted P3 = 3.517799251077447\n",
      "Predicted e3 = 0.01492289047762144 \n",
      "\n"
     ]
    }
   ],
   "source": [
    "ps = sims[0].particles\n",
    "print('t =', sims[0].t, '\\n')\n",
    "for i in range(1, len(ps)):\n",
    "    print('Predicted m' + str(i), '=', ps[i].m)\n",
    "    print('Predicted P' + str(i), '=', ps[i].P)\n",
    "    print('Predicted e' + str(i), '=', ps[i].e, '\\n')"
   ]
  },
  {
   "cell_type": "code",
   "execution_count": null,
   "id": "976488b5",
   "metadata": {},
   "outputs": [],
   "source": []
  }
 ],
 "metadata": {
  "kernelspec": {
   "display_name": "Python 3 (ipykernel)",
   "language": "python",
   "name": "python3"
  },
  "language_info": {
   "codemirror_mode": {
    "name": "ipython",
    "version": 3
   },
   "file_extension": ".py",
   "mimetype": "text/x-python",
   "name": "python",
   "nbconvert_exporter": "python",
   "pygments_lexer": "ipython3",
   "version": "3.10.4"
  }
 },
 "nbformat": 4,
 "nbformat_minor": 5
}

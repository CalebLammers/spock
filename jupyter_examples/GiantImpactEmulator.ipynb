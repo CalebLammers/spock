{
 "cells": [
  {
   "cell_type": "markdown",
   "id": "7617c345",
   "metadata": {},
   "source": [
    "# Classification and regression models"
   ]
  },
  {
   "cell_type": "code",
   "execution_count": 1,
   "id": "5e2a2949",
   "metadata": {
    "scrolled": true
   },
   "outputs": [
    {
     "name": "stdout",
     "output_type": "stream",
     "text": [
      "0.06591137\n"
     ]
    }
   ],
   "source": [
    "import rebound\n",
    "from spock import FeatureClassifier\n",
    "feature_model = FeatureClassifier()\n",
    "\n",
    "sim = rebound.Simulation()\n",
    "sim.add(m=1.)\n",
    "sim.add(m=1.e-5, P=1., e=0.03, pomega=2., l=0.5)\n",
    "sim.add(m=1.e-5, P=1.2, e=0.03, pomega=3., l=3.)\n",
    "sim.add(m=1.e-5, P=1.5, e=0.03, pomega=1.5, l=2.)\n",
    "sim.move_to_com()\n",
    "\n",
    "print(feature_model.predict_stable(sim))"
   ]
  },
  {
   "cell_type": "code",
   "execution_count": 2,
   "id": "2a8128ac",
   "metadata": {},
   "outputs": [
    {
     "name": "stdout",
     "output_type": "stream",
     "text": [
      "252078\n"
     ]
    }
   ],
   "source": [
    "from spock import DeepRegressor\n",
    "deep_model = DeepRegressor()\n",
    "\n",
    "median, lower, upper = deep_model.predict_instability_time(sim, samples=10000)\n",
    "print(int(median))"
   ]
  },
  {
   "cell_type": "code",
   "execution_count": 3,
   "id": "70ecb954",
   "metadata": {},
   "outputs": [
    {
     "name": "stdout",
     "output_type": "stream",
     "text": [
      "0.27385116 0.49274087 0.23340799\n"
     ]
    }
   ],
   "source": [
    "from spock import class_MLP, CollisionMergerClassifier #for some reason, you need to import class_MLP here\n",
    "class_model = CollisionMergerClassifier()\n",
    "\n",
    "prob_12, prob_23, prob_13 = class_model.predict_collision_probs(sim)\n",
    "print(prob_12, prob_23, prob_13)"
   ]
  },
  {
   "cell_type": "code",
   "execution_count": 4,
   "id": "41338c4f",
   "metadata": {},
   "outputs": [
    {
     "name": "stdout",
     "output_type": "stream",
     "text": [
      "0.3362391024283648 0.3697486909196322 0.05889093054898315 0.029298967242682977 0.007076251680723447 0.0033700382462669653\n"
     ]
    }
   ],
   "source": [
    "from spock import reg_MLP, CollisionOrbitalOutcomeRegressor #for some reason, you need to import reg_MLP here\n",
    "reg_model = CollisionOrbitalOutcomeRegressor()\n",
    "\n",
    "a1, a2, e1, e2, inc1, inc2 = reg_model.predict_collision_outcome(sim, collision_inds=[2, 3]) #inclinations are measured wrt to L axis (coplanar is maybe a bad example...)\n",
    "print(a1, a2, e1, e2, inc1, inc2)"
   ]
  },
  {
   "cell_type": "markdown",
   "id": "ee60bb78",
   "metadata": {},
   "source": [
    "# Iterative planet formation predictions"
   ]
  },
  {
   "cell_type": "code",
   "execution_count": 5,
   "id": "2f5d932f",
   "metadata": {},
   "outputs": [],
   "source": [
    "sim = rebound.Simulation()\n",
    "sim.add(m=1.)\n",
    "sim.add(m=1.e-5, P=1., e=0.03, pomega=2., l=0.5)\n",
    "sim.add(m=1.e-5, P=1.2, e=0.03, pomega=3., l=3.)\n",
    "sim.add(m=1.e-5, P=1.5, e=0.03, pomega=1.5, l=2.)\n",
    "sim.add(m=1.e-5, P=2.2, e=0.03, pomega=0.5, l=5.0)\n",
    "sim.add(m=1.e-5, P=2.5, e=0.03, pomega=5.0, l=1.5)\n",
    "sim.move_to_com()"
   ]
  },
  {
   "cell_type": "code",
   "execution_count": 6,
   "id": "3c544d9a",
   "metadata": {},
   "outputs": [],
   "source": [
    "from spock import GiantImpactPhaseEmulator\n",
    "PF_map = GiantImpactPhaseEmulator([sim])#, sim, sim]) # add 3 realizations"
   ]
  },
  {
   "cell_type": "code",
   "execution_count": 7,
   "id": "232d15d2",
   "metadata": {},
   "outputs": [
    {
     "ename": "TypeError",
     "evalue": "'float' object is not subscriptable",
     "output_type": "error",
     "traceback": [
      "\u001b[0;31m---------------------------------------------------------------------------\u001b[0m",
      "\u001b[0;31mTypeError\u001b[0m                                 Traceback (most recent call last)",
      "File \u001b[0;32m<timed eval>:1\u001b[0m, in \u001b[0;36m<module>\u001b[0;34m\u001b[0m\n",
      "File \u001b[0;32m~/Documents/workspace/spock/spock/giant_impact_phase_emulator.py:389\u001b[0m, in \u001b[0;36mGiantImpactPhaseEmulator.integrate\u001b[0;34m(self, tmax)\u001b[0m\n\u001b[1;32m    387\u001b[0m \u001b[38;5;28;01mdef\u001b[39;00m \u001b[38;5;21mintegrate\u001b[39m(\u001b[38;5;28mself\u001b[39m, tmax\u001b[38;5;241m=\u001b[39m\u001b[38;5;241m1e9\u001b[39m):\n\u001b[1;32m    388\u001b[0m     \u001b[38;5;28;01mwhile\u001b[39;00m np\u001b[38;5;241m.\u001b[39mmin([sim\u001b[38;5;241m.\u001b[39mt \u001b[38;5;28;01mfor\u001b[39;00m sim \u001b[38;5;129;01min\u001b[39;00m \u001b[38;5;28mself\u001b[39m\u001b[38;5;241m.\u001b[39msims]) \u001b[38;5;241m<\u001b[39m tmax: \u001b[38;5;66;03m# take another step if any sims are still at t<tmax\u001b[39;00m\n\u001b[0;32m--> 389\u001b[0m         \u001b[38;5;28;43mself\u001b[39;49m\u001b[38;5;241;43m.\u001b[39;49m\u001b[43mstep\u001b[49m\u001b[43m(\u001b[49m\u001b[43mtmax\u001b[49m\u001b[43m)\u001b[49m\n",
      "File \u001b[0;32m~/Documents/workspace/spock/spock/giant_impact_phase_emulator.py:409\u001b[0m, in \u001b[0;36mGiantImpactPhaseEmulator.step\u001b[0;34m(self, tmax)\u001b[0m\n\u001b[1;32m    407\u001b[0m \u001b[38;5;28;01mfor\u001b[39;00m i, sim \u001b[38;5;129;01min\u001b[39;00m \u001b[38;5;28menumerate\u001b[39m(sims_to_update):\n\u001b[1;32m    408\u001b[0m     idx \u001b[38;5;241m=\u001b[39m \u001b[38;5;28mself\u001b[39m\u001b[38;5;241m.\u001b[39msims\u001b[38;5;241m.\u001b[39mindex(sim)      \u001b[38;5;66;03m# get index in original list\u001b[39;00m\n\u001b[0;32m--> 409\u001b[0m     time_after_merge \u001b[38;5;241m=\u001b[39m sim\u001b[38;5;241m.\u001b[39mt \u001b[38;5;241m+\u001b[39m \u001b[43mt_insts\u001b[49m\u001b[43m[\u001b[49m\u001b[43mi\u001b[49m\u001b[43m]\u001b[49m\n\u001b[1;32m    410\u001b[0m     \u001b[38;5;28;01mif\u001b[39;00m time_after_merge \u001b[38;5;241m>\u001b[39m tmax:   \u001b[38;5;66;03m# won't merge before tmax, so update to tmax\u001b[39;00m\n\u001b[1;32m    411\u001b[0m         \u001b[38;5;28mself\u001b[39m\u001b[38;5;241m.\u001b[39msims[idx]\u001b[38;5;241m.\u001b[39mt \u001b[38;5;241m=\u001b[39m tmax\n",
      "\u001b[0;31mTypeError\u001b[0m: 'float' object is not subscriptable"
     ]
    }
   ],
   "source": [
    "%%time\n",
    "PF_map.integrate(tmax=1e9)"
   ]
  },
  {
   "cell_type": "code",
   "execution_count": 20,
   "id": "e9bd71cc",
   "metadata": {},
   "outputs": [
    {
     "name": "stdout",
     "output_type": "stream",
     "text": [
      "t = 1.000e+09\n",
      "m1: 1e-05\n",
      "a1: 0.30884464930306393\n",
      "e1: 0.08348373998523444\n",
      "inc1: 0.016061431418397668 \n",
      "\n",
      "m2: 3.0000000000000004e-05\n",
      "a2: 0.40533759006174347\n",
      "e2: 0.035807798937329785\n",
      "inc2: 0.0042127913157672 \n",
      "\n",
      "m3: 1e-05\n",
      "a3: 0.615328376177772\n",
      "e3: 0.06158931733559472\n",
      "inc3: 0.008643987765806067 \n",
      "\n"
     ]
    }
   ],
   "source": [
    "ps = PF_map.sims[0].particles\n",
    "print('t = {0:.3e}'.format(PF_map.sims[0].t))\n",
    "for i in range(1, len(ps)):\n",
    "    print('m' + str(i) + ':', ps[i].m)\n",
    "    print('a' + str(i) + ':', ps[i].a)\n",
    "    print('e' + str(i) + ':', ps[i].e)\n",
    "    print('inc' + str(i) + ':', ps[i].inc, '\\n')"
   ]
  },
  {
   "cell_type": "code",
   "execution_count": 21,
   "id": "558cf5c5",
   "metadata": {},
   "outputs": [
    {
     "name": "stdout",
     "output_type": "stream",
     "text": [
      "t = 1.000e+09\n",
      "m1: 2e-05\n",
      "a1: 0.2965574736680634\n",
      "e1: 0.04867488015721477\n",
      "inc1: 0.010104928301212136 \n",
      "\n",
      "m2: 3.0000000000000004e-05\n",
      "a2: 0.5124500536621529\n",
      "e2: 0.03742784662423185\n",
      "inc2: 0.005218944991968547 \n",
      "\n"
     ]
    }
   ],
   "source": [
    "ps = PF_map.sims[1].particles\n",
    "print('t = {0:.3e}'.format(PF_map.sims[0].t))\n",
    "for i in range(1, len(ps)):\n",
    "    print('m' + str(i) + ':', ps[i].m)\n",
    "    print('a' + str(i) + ':', ps[i].a)\n",
    "    print('e' + str(i) + ':', ps[i].e)\n",
    "    print('inc' + str(i) + ':', ps[i].inc, '\\n')"
   ]
  },
  {
   "cell_type": "code",
   "execution_count": 22,
   "id": "b7241378",
   "metadata": {},
   "outputs": [
    {
     "name": "stdout",
     "output_type": "stream",
     "text": [
      "t = 1.000e+09\n",
      "m1: 1e-05\n",
      "a1: 0.3018202630023906\n",
      "e1: 0.06818261855504561\n",
      "inc1: 0.01397316842654979 \n",
      "\n",
      "m2: 2e-05\n",
      "a2: 0.38184515267778907\n",
      "e2: 0.0410148406728638\n",
      "inc2: 0.005027218298585059 \n",
      "\n",
      "m3: 2e-05\n",
      "a3: 0.5342055140821831\n",
      "e3: 0.04039901823669516\n",
      "inc3: 0.0020612863159267946 \n",
      "\n"
     ]
    }
   ],
   "source": [
    "ps = PF_map.sims[2].particles\n",
    "print('t = {0:.3e}'.format(PF_map.sims[0].t))\n",
    "for i in range(1, len(ps)):\n",
    "    print('m' + str(i) + ':', ps[i].m)\n",
    "    print('a' + str(i) + ':', ps[i].a)\n",
    "    print('e' + str(i) + ':', ps[i].e)\n",
    "    print('inc' + str(i) + ':', ps[i].inc, '\\n')"
   ]
  },
  {
   "cell_type": "code",
   "execution_count": 23,
   "id": "5cf3d7d0",
   "metadata": {
    "scrolled": false
   },
   "outputs": [],
   "source": [
    "PF_map = GiantImpactPhaseEmulator(sim)"
   ]
  },
  {
   "cell_type": "code",
   "execution_count": 24,
   "id": "cd4929d6",
   "metadata": {},
   "outputs": [
    {
     "name": "stdout",
     "output_type": "stream",
     "text": [
      "t = 6.053e+03\n",
      "m1: 1e-05\n",
      "a1: 0.29384466869379183\n",
      "e1: 0.018660525240299743\n",
      "inc1: 0.0 \n",
      "\n",
      "m2: 1e-05\n",
      "a2: 0.3311137797188888\n",
      "e2: 0.015069371836333275\n",
      "inc2: 0.0 \n",
      "\n",
      "m3: 1e-05\n",
      "a3: 0.4147639836309363\n",
      "e3: 0.0702881128955157\n",
      "inc3: 0.007388539213993718 \n",
      "\n",
      "m4: 2e-05\n",
      "a4: 0.5341822242074195\n",
      "e4: 0.040385932527483404\n",
      "inc4: 0.0032553387241999973 \n",
      "\n"
     ]
    }
   ],
   "source": [
    "PF_map.step(tmax=1e9)\n",
    "\n",
    "ps = PF_map.sims[0].particles\n",
    "print('t = {0:.3e}'.format(PF_map.sims[0].t))\n",
    "for i in range(1, len(ps)):\n",
    "    print('m' + str(i) + ':', ps[i].m)\n",
    "    print('a' + str(i) + ':', ps[i].a)\n",
    "    print('e' + str(i) + ':', ps[i].e)\n",
    "    print('inc' + str(i) + ':', ps[i].inc, '\\n')"
   ]
  },
  {
   "cell_type": "code",
   "execution_count": 25,
   "id": "7e08e916",
   "metadata": {},
   "outputs": [
    {
     "name": "stdout",
     "output_type": "stream",
     "text": [
      "t = 2.034e+05\n",
      "m1: 2e-05\n",
      "a1: 0.35579753298812195\n",
      "e1: 0.044863633280496217\n",
      "inc1: 0.009177617757973827 \n",
      "\n",
      "m2: 1e-05\n",
      "a2: 0.35630608980693856\n",
      "e2: 0.07596872977080286\n",
      "inc2: 0.014199140575983272 \n",
      "\n",
      "m3: 2e-05\n",
      "a3: 0.5340823493798511\n",
      "e3: 0.04032369967801774\n",
      "inc3: 0.005707415011835588 \n",
      "\n"
     ]
    }
   ],
   "source": [
    "PF_map.step(tmax=1e9)\n",
    "\n",
    "ps = PF_map.sims[0].particles\n",
    "print('t = {0:.3e}'.format(PF_map.sims[0].t))\n",
    "for i in range(1, len(ps)):\n",
    "    print('m' + str(i) + ':', ps[i].m)\n",
    "    print('a' + str(i) + ':', ps[i].a)\n",
    "    print('e' + str(i) + ':', ps[i].e)\n",
    "    print('inc' + str(i) + ':', ps[i].inc, '\\n')"
   ]
  },
  {
   "cell_type": "code",
   "execution_count": 26,
   "id": "435de42f",
   "metadata": {},
   "outputs": [
    {
     "name": "stdout",
     "output_type": "stream",
     "text": [
      "t = 2.286e+05\n",
      "m1: 1e-05\n",
      "a1: 0.3925317667862876\n",
      "e1: 0.13465081841183277\n",
      "inc1: 0.028102185550548536 \n",
      "\n",
      "m2: 4e-05\n",
      "a2: 0.4460821741460833\n",
      "e2: 0.040824800547423754\n",
      "inc2: 0.006470574842037422 \n",
      "\n"
     ]
    }
   ],
   "source": [
    "PF_map.step(tmax=1e9)\n",
    "\n",
    "ps = PF_map.sims[0].particles\n",
    "print('t = {0:.3e}'.format(PF_map.sims[0].t))\n",
    "for i in range(1, len(ps)):\n",
    "    print('m' + str(i) + ':', ps[i].m)\n",
    "    print('a' + str(i) + ':', ps[i].a)\n",
    "    print('e' + str(i) + ':', ps[i].e)\n",
    "    print('inc' + str(i) + ':', ps[i].inc, '\\n')"
   ]
  },
  {
   "cell_type": "code",
   "execution_count": 27,
   "id": "0e89526a",
   "metadata": {},
   "outputs": [
    {
     "name": "stdout",
     "output_type": "stream",
     "text": [
      "t = 1.000e+09\n",
      "m1: 1e-05\n",
      "a1: 0.3925317667862876\n",
      "e1: 0.13465081841183277\n",
      "inc1: 0.028102185550548536 \n",
      "\n",
      "m2: 4e-05\n",
      "a2: 0.4460821741460833\n",
      "e2: 0.040824800547423754\n",
      "inc2: 0.006470574842037422 \n",
      "\n"
     ]
    }
   ],
   "source": [
    "PF_map.step(tmax=1e9)\n",
    "\n",
    "ps = PF_map.sims[0].particles\n",
    "print('t = {0:.3e}'.format(PF_map.sims[0].t))\n",
    "for i in range(1, len(ps)):\n",
    "    print('m' + str(i) + ':', ps[i].m)\n",
    "    print('a' + str(i) + ':', ps[i].a)\n",
    "    print('e' + str(i) + ':', ps[i].e)\n",
    "    print('inc' + str(i) + ':', ps[i].inc, '\\n')"
   ]
  },
  {
   "cell_type": "code",
   "execution_count": null,
   "id": "e00cd19c",
   "metadata": {},
   "outputs": [],
   "source": []
  }
 ],
 "metadata": {
  "kernelspec": {
   "display_name": "Python 3 (ipykernel)",
   "language": "python",
   "name": "python3"
  },
  "language_info": {
   "codemirror_mode": {
    "name": "ipython",
    "version": 3
   },
   "file_extension": ".py",
   "mimetype": "text/x-python",
   "name": "python",
   "nbconvert_exporter": "python",
   "pygments_lexer": "ipython3",
   "version": "3.10.4"
  }
 },
 "nbformat": 4,
 "nbformat_minor": 5
}
